{
  "nbformat": 4,
  "nbformat_minor": 0,
  "metadata": {
    "colab": {
      "provenance": [],
      "mount_file_id": "1OBhNj4M-mtf0L8nGWRw6a88egRVc85Ay",
      "authorship_tag": "ABX9TyMKyluz+/UyoeOT0XPpU8bk",
      "include_colab_link": true
    },
    "kernelspec": {
      "name": "python3",
      "display_name": "Python 3"
    },
    "language_info": {
      "name": "python"
    }
  },
  "cells": [
    {
      "cell_type": "markdown",
      "metadata": {
        "id": "view-in-github",
        "colab_type": "text"
      },
      "source": [
        "<a href=\"https://colab.research.google.com/github/Ariara61/ESAA/blob/main/%ED%8C%8C%EC%9D%B4%EC%8D%AC_%EB%A8%B8%EC%8B%A0%EB%9F%AC%EB%8B%9D_%EC%99%84%EB%B2%BD%EA%B0%80%EC%9D%B4%EB%93%9C_512~516%2C_529~543.ipynb\" target=\"_parent\"><img src=\"https://colab.research.google.com/assets/colab-badge.svg\" alt=\"Open In Colab\"/></a>"
      ]
    },
    {
      "cell_type": "markdown",
      "source": [
        "## 06. 토픽 모델링(Topic Modeling) - 20 뉴스그룹\n",
        "* 토픽 모델링: 문서 집합에 숨어 있는 주제를 찾아내는 것. 숨어 있는 중요 주제를 효과적으로 찾아낼 수 있음.\n",
        "* 사람이 수행하는 토픽 모델링은 더 함축적인 의미로 문장을 요약하는 것에 반해, 머신러닝 기반의 토픽 모델은 숨겨진 주제를 효과적으로 표현할 수 있는 중심 단어를 함축적으로 추출\n",
        ">\n",
        "* 머신러닝 기반의 토픽 모델링에 자주 사용되는 기법은 LSA\n",
        "* 사이킷런은 LDA 기반의 토픽 모델링을 LatentDirichletAllocation 클래스로 제공."
      ],
      "metadata": {
        "id": "6HL6uPD1EZmH"
      }
    },
    {
      "cell_type": "code",
      "execution_count": 1,
      "metadata": {
        "colab": {
          "base_uri": "https://localhost:8080/"
        },
        "id": "8H6RwnVyEFBE",
        "outputId": "e4575e5a-ba90-4aef-e883-f3003754c33a"
      },
      "outputs": [
        {
          "output_type": "stream",
          "name": "stdout",
          "text": [
            "CountVectorizer Shape:  (7862, 1000)\n"
          ]
        }
      ],
      "source": [
        "from sklearn.datasets import fetch_20newsgroups\n",
        "from sklearn.feature_extraction.text import CountVectorizer\n",
        "from sklearn.decomposition import LatentDirichletAllocation\n",
        "\n",
        "# 모토사이클, 야구, 그래픽스, 윈도우즈, 중동, 기독교, 전자공학, 의학 8개 주제를 추출.\n",
        "cats = [\"rec.motorcycles\", \"rec.sport.baseball\", \"comp.graphics\", \"comp.windows.x\",\n",
        "        \"talk.politics.mideast\", \"soc.religion.christian\", \"sci.electronics\", \"sci.med\"]\n",
        "\n",
        "# 위에서 cats 변수로 기재된 카테고리만 추출. fetch_20newsgroups()의 categories에 cats 입력\n",
        "news_df = fetch_20newsgroups(subset = \"all\", remove = (\"headers\", \"footers\", \"quotes\"),\n",
        "                             categories = cats, random_state = 0)\n",
        "\n",
        "# LDA는 Count기반의 벡터화만 적용합니다.\n",
        "count_vect = CountVectorizer(max_df = 0.95, max_features = 1000, min_df = 2, stop_words = \"english\",\n",
        "                             ngram_range = (1, 2))\n",
        "feat_vect = count_vect.fit_transform(news_df.data)\n",
        "print(\"CountVectorizer Shape: \", feat_vect.shape)"
      ]
    },
    {
      "cell_type": "markdown",
      "source": [
        "* CountVectorizer 객체 변수인 feat_vect 모두 7862개의 문서가 1000개의 피처로 구성된 행렬 데이터\n",
        "* 피처 벡터화된 데이터 세트를 기반으로 LDA 토픽 모델링을 수행\n",
        "* LatentDirichletAllocation 클래스의 n_components 파라미터를 이용해 이 토픽 개수를 조정"
      ],
      "metadata": {
        "id": "6hhtfR39Fr-P"
      }
    },
    {
      "cell_type": "code",
      "source": [
        "lda = LatentDirichletAllocation(n_components = 8, random_state = 0)\n",
        "lda.fit(feat_vect)"
      ],
      "metadata": {
        "colab": {
          "base_uri": "https://localhost:8080/",
          "height": 74
        },
        "id": "OKnVOxlTF5Ii",
        "outputId": "3c738f85-b252-4780-9db8-85605aec3230"
      },
      "execution_count": 2,
      "outputs": [
        {
          "output_type": "execute_result",
          "data": {
            "text/plain": [
              "LatentDirichletAllocation(n_components=8, random_state=0)"
            ],
            "text/html": [
              "<style>#sk-container-id-1 {color: black;background-color: white;}#sk-container-id-1 pre{padding: 0;}#sk-container-id-1 div.sk-toggleable {background-color: white;}#sk-container-id-1 label.sk-toggleable__label {cursor: pointer;display: block;width: 100%;margin-bottom: 0;padding: 0.3em;box-sizing: border-box;text-align: center;}#sk-container-id-1 label.sk-toggleable__label-arrow:before {content: \"▸\";float: left;margin-right: 0.25em;color: #696969;}#sk-container-id-1 label.sk-toggleable__label-arrow:hover:before {color: black;}#sk-container-id-1 div.sk-estimator:hover label.sk-toggleable__label-arrow:before {color: black;}#sk-container-id-1 div.sk-toggleable__content {max-height: 0;max-width: 0;overflow: hidden;text-align: left;background-color: #f0f8ff;}#sk-container-id-1 div.sk-toggleable__content pre {margin: 0.2em;color: black;border-radius: 0.25em;background-color: #f0f8ff;}#sk-container-id-1 input.sk-toggleable__control:checked~div.sk-toggleable__content {max-height: 200px;max-width: 100%;overflow: auto;}#sk-container-id-1 input.sk-toggleable__control:checked~label.sk-toggleable__label-arrow:before {content: \"▾\";}#sk-container-id-1 div.sk-estimator input.sk-toggleable__control:checked~label.sk-toggleable__label {background-color: #d4ebff;}#sk-container-id-1 div.sk-label input.sk-toggleable__control:checked~label.sk-toggleable__label {background-color: #d4ebff;}#sk-container-id-1 input.sk-hidden--visually {border: 0;clip: rect(1px 1px 1px 1px);clip: rect(1px, 1px, 1px, 1px);height: 1px;margin: -1px;overflow: hidden;padding: 0;position: absolute;width: 1px;}#sk-container-id-1 div.sk-estimator {font-family: monospace;background-color: #f0f8ff;border: 1px dotted black;border-radius: 0.25em;box-sizing: border-box;margin-bottom: 0.5em;}#sk-container-id-1 div.sk-estimator:hover {background-color: #d4ebff;}#sk-container-id-1 div.sk-parallel-item::after {content: \"\";width: 100%;border-bottom: 1px solid gray;flex-grow: 1;}#sk-container-id-1 div.sk-label:hover label.sk-toggleable__label {background-color: #d4ebff;}#sk-container-id-1 div.sk-serial::before {content: \"\";position: absolute;border-left: 1px solid gray;box-sizing: border-box;top: 0;bottom: 0;left: 50%;z-index: 0;}#sk-container-id-1 div.sk-serial {display: flex;flex-direction: column;align-items: center;background-color: white;padding-right: 0.2em;padding-left: 0.2em;position: relative;}#sk-container-id-1 div.sk-item {position: relative;z-index: 1;}#sk-container-id-1 div.sk-parallel {display: flex;align-items: stretch;justify-content: center;background-color: white;position: relative;}#sk-container-id-1 div.sk-item::before, #sk-container-id-1 div.sk-parallel-item::before {content: \"\";position: absolute;border-left: 1px solid gray;box-sizing: border-box;top: 0;bottom: 0;left: 50%;z-index: -1;}#sk-container-id-1 div.sk-parallel-item {display: flex;flex-direction: column;z-index: 1;position: relative;background-color: white;}#sk-container-id-1 div.sk-parallel-item:first-child::after {align-self: flex-end;width: 50%;}#sk-container-id-1 div.sk-parallel-item:last-child::after {align-self: flex-start;width: 50%;}#sk-container-id-1 div.sk-parallel-item:only-child::after {width: 0;}#sk-container-id-1 div.sk-dashed-wrapped {border: 1px dashed gray;margin: 0 0.4em 0.5em 0.4em;box-sizing: border-box;padding-bottom: 0.4em;background-color: white;}#sk-container-id-1 div.sk-label label {font-family: monospace;font-weight: bold;display: inline-block;line-height: 1.2em;}#sk-container-id-1 div.sk-label-container {text-align: center;}#sk-container-id-1 div.sk-container {/* jupyter's `normalize.less` sets `[hidden] { display: none; }` but bootstrap.min.css set `[hidden] { display: none !important; }` so we also need the `!important` here to be able to override the default hidden behavior on the sphinx rendered scikit-learn.org. See: https://github.com/scikit-learn/scikit-learn/issues/21755 */display: inline-block !important;position: relative;}#sk-container-id-1 div.sk-text-repr-fallback {display: none;}</style><div id=\"sk-container-id-1\" class=\"sk-top-container\"><div class=\"sk-text-repr-fallback\"><pre>LatentDirichletAllocation(n_components=8, random_state=0)</pre><b>In a Jupyter environment, please rerun this cell to show the HTML representation or trust the notebook. <br />On GitHub, the HTML representation is unable to render, please try loading this page with nbviewer.org.</b></div><div class=\"sk-container\" hidden><div class=\"sk-item\"><div class=\"sk-estimator sk-toggleable\"><input class=\"sk-toggleable__control sk-hidden--visually\" id=\"sk-estimator-id-1\" type=\"checkbox\" checked><label for=\"sk-estimator-id-1\" class=\"sk-toggleable__label sk-toggleable__label-arrow\">LatentDirichletAllocation</label><div class=\"sk-toggleable__content\"><pre>LatentDirichletAllocation(n_components=8, random_state=0)</pre></div></div></div></div></div>"
            ]
          },
          "metadata": {},
          "execution_count": 2
        }
      ]
    },
    {
      "cell_type": "markdown",
      "source": [
        "* LatentDirichletAllocation.fit(데이터 세트)을 수행하면 LatentDirichletAllocation 객체는 components_ 속성값을 가지게 됨.\n",
        "* components_는 개별 토픽별로 각 word 피처가 얼마나 많이 그 토픽에 할당됐는지에 대한 수치를 가지고 있음.\n",
        "* 높은 값일수록 해당 word 피처는 그 토픽의 중심 word가 됨."
      ],
      "metadata": {
        "id": "kcfMTOF6F-bJ"
      }
    },
    {
      "cell_type": "code",
      "source": [
        "print(lda.components_.shape)\n",
        "lda.components_"
      ],
      "metadata": {
        "colab": {
          "base_uri": "https://localhost:8080/"
        },
        "id": "0sH4_BJYGLug",
        "outputId": "c2e4d5e0-07e7-4091-90d2-4afbe5a1fce9"
      },
      "execution_count": 3,
      "outputs": [
        {
          "output_type": "stream",
          "name": "stdout",
          "text": [
            "(8, 1000)\n"
          ]
        },
        {
          "output_type": "execute_result",
          "data": {
            "text/plain": [
              "array([[3.60992018e+01, 1.35626798e+02, 2.15751867e+01, ...,\n",
              "        3.02911688e+01, 8.66830093e+01, 6.79285199e+01],\n",
              "       [1.25199920e-01, 1.44401815e+01, 1.25045596e-01, ...,\n",
              "        1.81506995e+02, 1.25097844e-01, 9.39593286e+01],\n",
              "       [3.34762663e+02, 1.25176265e-01, 1.46743299e+02, ...,\n",
              "        1.25105772e-01, 3.63689741e+01, 1.25025218e-01],\n",
              "       ...,\n",
              "       [3.60204965e+01, 2.08640688e+01, 4.29606813e+00, ...,\n",
              "        1.45056650e+01, 8.33854413e+00, 1.55690009e+01],\n",
              "       [1.25128711e-01, 1.25247756e-01, 1.25005143e-01, ...,\n",
              "        9.17278769e+01, 1.25177668e-01, 3.74575887e+01],\n",
              "       [5.49258690e+01, 4.47009532e+00, 9.88524814e+00, ...,\n",
              "        4.87048440e+01, 1.25034678e-01, 1.25074632e-01]])"
            ]
          },
          "metadata": {},
          "execution_count": 3
        }
      ]
    },
    {
      "cell_type": "markdown",
      "source": [
        "* 8개의 토픽별로 1000개의 word 피처가 해당 토픽별로 연관도 값을 가지고 있음.\n",
        "* 즉, components_array의 0번째 row, 10번째 col에 있는 값은 Topic #0에 대해서 벡터화된 행렬에서 10번째 칼럼에 해당하는 피처가 Topic #0에 연관되는 수치 값을 가지고 있음.\n",
        "* lda_model.components_ 값만으로는 각 토픽별 word 연관도를 보기가 어려움."
      ],
      "metadata": {
        "id": "iNiG795sGQPX"
      }
    },
    {
      "cell_type": "code",
      "source": [
        "def display_topics(model, feature_names, no_top_words):\n",
        "  for topic_index, topic in enumerate(model.components_):\n",
        "    print(\"Topic #\", topic_index)\n",
        "\n",
        "    # components_array에서 가장 값이 큰 순으로 정렬했을 때, 그 값의 array 인덱스를 반환.\n",
        "    topic_word_indexes = topic.argsort()[::-1]\n",
        "    top_indexes = topic_word_indexes[:no_top_words]\n",
        "\n",
        "    # top_indexes 대상인 인덱스별로 feature_names에 해당하는 word features 추출 후 join으로 concat\n",
        "    feature_concat = \" \".join([feature_names[i] for i in top_indexes])\n",
        "    print(feature_concat)\n",
        "\n",
        "# CountVectorizer 객체 내의 전체 word의 명칭을 get_feature_names()를 통해 추출\n",
        "feature_names = count_vect.get_feature_names_out()\n",
        "\n",
        "# 토픽별 가장 연관도가 높은 word를 15개만 추출\n",
        "display_topics(lda, feature_names, 15)"
      ],
      "metadata": {
        "colab": {
          "base_uri": "https://localhost:8080/"
        },
        "id": "kcvIn5bgGe8o",
        "outputId": "49aac2ed-7e6a-4f21-b508-f27f6493513f"
      },
      "execution_count": 4,
      "outputs": [
        {
          "output_type": "stream",
          "name": "stdout",
          "text": [
            "Topic # 0\n",
            "year 10 game medical health team 12 20 disease cancer 1993 games years patients good\n",
            "Topic # 1\n",
            "don just like know people said think time ve didn right going say ll way\n",
            "Topic # 2\n",
            "image file jpeg program gif images output format files color entry 00 use bit 03\n",
            "Topic # 3\n",
            "like know don think use does just good time book read information people used post\n",
            "Topic # 4\n",
            "armenian israel armenians jews turkish people israeli jewish government war dos dos turkey arab armenia 000\n",
            "Topic # 5\n",
            "edu com available graphics ftp data pub motif mail widget software mit information version sun\n",
            "Topic # 6\n",
            "god people jesus church believe christ does christian say think christians bible faith sin life\n",
            "Topic # 7\n",
            "use dos thanks windows using window does display help like problem server need know run\n"
          ]
        }
      ]
    },
    {
      "cell_type": "markdown",
      "source": [
        "* Topic #0: 명혹하지 않고 일반적인 단어가 주를 이루고 있음\n",
        "* Topic #1: 명확하게 컴퓨터 그래픽스 영역의 주제어가 추출됨\n",
        "* Topic #2: 기독교에 관련된 주제어\n",
        "* Topic #3: 의학에 관련된 주제어\n",
        "* Topic #4: 윈도우 운영체제와 관련도니 주제어\n",
        "* Topic #5: 일반적인 단어로 주제어 추출\n",
        "* Topic #6: 중동 분쟁 등에 관련된 주제어\n",
        "* Topic #7: 애매하지만 윈도우 운영체제와 관련된 주제어 일부 추출\n",
        "* Topic #0, Topic #5, Topic #7이 애매한 주제어가 추출됨."
      ],
      "metadata": {
        "id": "_aK5wr85II8w"
      }
    },
    {
      "cell_type": "markdown",
      "source": [
        "## 08. 문서 유사도\n",
        "### 문서 유사도 측정 방법 - 코사인 유사도\n",
        "* 문서와 문서 간의 유사도 비교는 일반적으로 코사인 유사도를 사용\n",
        "* 코사인 유사도: 벡터와 벡터 간의 유사도를 비교할 때 벡터의 크기보다는 벡터의 상호 방향성이 얼마나 유사한지에 기반. 두 벡터 사이의 사잇각을 구해서 얼마나 유사한지 수치로 적용한 것\n",
        "\n",
        "![코사인 유사도.jpeg](data:image/jpeg;base64,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)"
      ],
      "metadata": {
        "id": "ZLrubci9Irwr"
      }
    },
    {
      "cell_type": "markdown",
      "source": [
        "### 두 벡터 사잇각\n",
        "* 두 벡터의 사잇각에 따라서 상호 관계는 다음과 같이 유사하거나 관련이 없거나 아예 반대 관계가 될 수 있음\n",
        "![벡터 사잇각.jpeg](data:image/jpeg;base64,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)"
      ],
      "metadata": {
        "id": "y93G65blJCaa"
      }
    },
    {
      "cell_type": "markdown",
      "source": [
        "* 두 벡터 A와 B의 내적 값은 두 벡터의 크기를 곱한 값의 코사인 각도 값을 곱한 것\n",
        "\n",
        "$A * B =  \\parallel A \\parallel  \\parallel B \\parallel cos\\theta$\n",
        "\n",
        "* 따라서 유사도 $cos\\theta$는 두 벡터의 내적을 총 벡터 크기의 합으로 나눈 것\n",
        "![유사도.jpeg](data:image/jpeg;base64,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)\n"
      ],
      "metadata": {
        "id": "-b4mlwRGJNzr"
      }
    },
    {
      "cell_type": "markdown",
      "source": [
        "* 코사인 유사도가 문서의 유사도 비교에 가장 많이 이용되는 이유\n",
        " * 문서를 피처 벡터화 변환하면 차원이 매우 많은 희소 행렬이 되기 쉬움. 희소 행렬 기반에서 문서와 문서 벡터간의 크기에 기반한 유사도 지표는 정확도가 떨어지기 쉬움.\n",
        " * 문서가 매우 긴 경우 단어의 빈도수도 더 많을 것이기 때문에 이러한 빈도수에만 기반해서는 공정한 비교를 할 수 없음."
      ],
      "metadata": {
        "id": "gbmD_TLpJly0"
      }
    },
    {
      "cell_type": "code",
      "source": [
        "import numpy as np\n",
        "\n",
        "def cos_similarity(v1, v2):\n",
        "  dot_product = np.dot(v1, v2)\n",
        "  l2_norm = (np.sqrt(sum(np.square(v1))) * np.sqrt(sum(np.square(v2))))\n",
        "  similarity = dot_product / l2_norm\n",
        "\n",
        "  return similarity"
      ],
      "metadata": {
        "id": "ioyi_bJW6skd"
      },
      "execution_count": 5,
      "outputs": []
    },
    {
      "cell_type": "markdown",
      "source": [
        "* doc_list로 정의된 3개의 간단한 문서의 유사도를 비교하기 위해 이 문서를 TF-IDF로 벡터화된 행렬로 변환"
      ],
      "metadata": {
        "id": "cfE1qupr67bA"
      }
    },
    {
      "cell_type": "code",
      "source": [
        "from sklearn.feature_extraction.text import TfidfVectorizer\n",
        "\n",
        "doc_list = [\"if you take the blue pill, the story ends\",\n",
        "            \"if you take the red pill, you stay in Wonderland\",\n",
        "            \"if you take the red pill, I show you how deep the rabbit hole goes\"]\n",
        "\n",
        "tfidf_vect_simple = TfidfVectorizer()\n",
        "feature_vect_simple = tfidf_vect_simple.fit_transform(doc_list)\n",
        "print(feature_vect_simple.shape)"
      ],
      "metadata": {
        "colab": {
          "base_uri": "https://localhost:8080/"
        },
        "id": "I7a2PDt47BV9",
        "outputId": "c2797f29-14ae-4a59-8a65-e777fce829e0"
      },
      "execution_count": 6,
      "outputs": [
        {
          "output_type": "stream",
          "name": "stdout",
          "text": [
            "(3, 18)\n"
          ]
        }
      ]
    },
    {
      "cell_type": "markdown",
      "source": [
        "* 반환된 행렬은 희소 행렬이므로 앞에서 작성한 cos_similarity() 함수의 인자인 array로 만들기 위해 밀집 행렬로 변환한 뒤 다시 각각을 배열로 변환\n",
        "* feature_vect_dense[0]은 doc_list 첫 번째 문서의 피처 벡터화이며, feature_vect_dense[1]은 doc_list 두 번째 문서의 피처 벡터화.\n"
      ],
      "metadata": {
        "id": "SUkO4sQn7ZEf"
      }
    },
    {
      "cell_type": "code",
      "source": [
        "# TFidfVectorizer로 transform()한 결과는 희소 행렬이므로 밀집 행렬로 변환.\n",
        "feature_vect_dense = feature_vect_simple.todense()\n",
        "\n",
        "# 첫 번째 문장과 두 번째 문장의 피처 벡터 추출\n",
        "vect1 = np.array(feature_vect_dense[0]).reshape(-1, )\n",
        "vect2 = np.array(feature_vect_dense[1]).reshape(-1, )\n",
        "\n",
        "# 첫 번째 문장과 두 번째 문장의 피처 벡터로 두 개 문장의 코사인 유사도 추출\n",
        "similarity_simple = cos_similarity(vect1, vect2)\n",
        "print(\"문장 1, 문장 2 Cosine 유사도: {0:.3f}\".format(similarity_simple))"
      ],
      "metadata": {
        "colab": {
          "base_uri": "https://localhost:8080/"
        },
        "id": "AiBkry7G7mBv",
        "outputId": "c6b720b5-c78c-44d3-f3c5-e1fb4b496244"
      },
      "execution_count": 7,
      "outputs": [
        {
          "output_type": "stream",
          "name": "stdout",
          "text": [
            "문장 1, 문장 2 Cosine 유사도: 0.402\n"
          ]
        }
      ]
    },
    {
      "cell_type": "code",
      "source": [
        "vect1 = np.array(feature_vect_dense[0]).reshape(-1, )\n",
        "vect3 = np.array(feature_vect_dense[2]).reshape(-1, )\n",
        "similarity_simple = cos_similarity(vect1, vect3)\n",
        "print(\"문장 1, 문장 3 Cosine 유사도: {0:.3f}\".format(similarity_simple))\n",
        "\n",
        "vect2 = np.array(feature_vect_dense[1]).reshape(-1, )\n",
        "vect3 = np.array(feature_vect_dense[2]).reshape(-1, )\n",
        "similarity_simple = cos_similarity(vect2, vect3)\n",
        "print(\"문장 2, 문장 3 Cosine 유사도: {0:.3f}\".format(similarity_simple))"
      ],
      "metadata": {
        "colab": {
          "base_uri": "https://localhost:8080/"
        },
        "id": "ZxKFIhM97-v3",
        "outputId": "ec429ec8-636c-4933-aa9c-3c8120721e01"
      },
      "execution_count": 8,
      "outputs": [
        {
          "output_type": "stream",
          "name": "stdout",
          "text": [
            "문장 1, 문장 3 Cosine 유사도: 0.404\n",
            "문장 2, 문장 3 Cosine 유사도: 0.456\n"
          ]
        }
      ]
    },
    {
      "cell_type": "markdown",
      "source": [
        "* 사이킷런은 코사인 유사도를 측정하기 위해 sklearn.metrics.pairwise.cosine_similarity API를 제공\n",
        "* cosine_similarity()는 희소 행렬, 밀집 행렬 모두가 가능하며, 행렬 또는 배열 모두 가능."
      ],
      "metadata": {
        "id": "Vp9ZQzdt8RKt"
      }
    },
    {
      "cell_type": "code",
      "source": [
        "from sklearn.metrics.pairwise import cosine_similarity\n",
        "\n",
        "similarity_simple_pair = cosine_similarity(feature_vect_simple[0], feature_vect_simple)\n",
        "print(similarity_simple_pair)"
      ],
      "metadata": {
        "colab": {
          "base_uri": "https://localhost:8080/"
        },
        "id": "NNyQbGHA8cVZ",
        "outputId": "1c27575c-4b40-4947-de79-9bde7b04d063"
      },
      "execution_count": 9,
      "outputs": [
        {
          "output_type": "stream",
          "name": "stdout",
          "text": [
            "[[1.         0.40207758 0.40425045]]\n"
          ]
        }
      ]
    },
    {
      "cell_type": "markdown",
      "source": [
        "* 첫 번째 유사도 값인 1은 비교 기준인 첫 번째 문서 자신에 대한 유사도 측정\n",
        "* 두 번째 유사도 값인 0.40207758은 첫 번째 문서와 두 번째 문서의 유사도\n",
        "* 0.40425045는 첫 번째 문서와 세 번째 문서의 유사도 값"
      ],
      "metadata": {
        "id": "SKuIVc-o8mbZ"
      }
    },
    {
      "cell_type": "code",
      "source": [
        "from sklearn.metrics.pairwise import cosine_similarity\n",
        "\n",
        "similarity_simple_pair = cosine_similarity(feature_vect_simple[0], feature_vect_simple[1:])\n",
        "print(similarity_simple_pair)"
      ],
      "metadata": {
        "colab": {
          "base_uri": "https://localhost:8080/"
        },
        "id": "pXS2p0vE8z7b",
        "outputId": "875032fe-fdff-40e0-9891-136e45e92462"
      },
      "execution_count": 10,
      "outputs": [
        {
          "output_type": "stream",
          "name": "stdout",
          "text": [
            "[[0.40207758 0.40425045]]\n"
          ]
        }
      ]
    },
    {
      "cell_type": "markdown",
      "source": [
        "* cosine_similarity()는 쌍으로 코사인 유사도 값을 제공할 수 있음\n",
        "* 1번째 문서와 2, 3번째 문서의 코사인 유사도, 2번째 문서와 1, 3번째 문서의 코사인 유사도, 3번째 문서와 1, 2번쨰 문서의 코사인 유사도를 ndarray 형태로 제공"
      ],
      "metadata": {
        "id": "S7MHaFep89k1"
      }
    },
    {
      "cell_type": "code",
      "source": [
        "similarity_simple_pair = cosine_similarity(feature_vect_simple, feature_vect_simple)\n",
        "print(similarity_simple_pair)\n",
        "print(\"shape: \", similarity_simple_pair.shape)"
      ],
      "metadata": {
        "colab": {
          "base_uri": "https://localhost:8080/"
        },
        "id": "7hjHMBHx9HkH",
        "outputId": "839a5b2b-d97c-4bde-ebb5-10e68287d3fc"
      },
      "execution_count": 11,
      "outputs": [
        {
          "output_type": "stream",
          "name": "stdout",
          "text": [
            "[[1.         0.40207758 0.40425045]\n",
            " [0.40207758 1.         0.45647296]\n",
            " [0.40425045 0.45647296 1.        ]]\n",
            "shape:  (3, 3)\n"
          ]
        }
      ]
    },
    {
      "cell_type": "markdown",
      "source": [
        "* 첫 번째 로우는 1번 문서와 2, 3번째 문서의 코사인 유사도, 두 번째 로우는 2번 문서와 1, 3번째 문서의 코사인 유사도, 세 번째 로우는 3번 문서와 1, 2번째 문서의 코사인 유사도를 나타냄"
      ],
      "metadata": {
        "id": "p2ca0zpK9RAQ"
      }
    },
    {
      "cell_type": "markdown",
      "source": [
        "### Opinion Review 데이터 세트를 이용한 문서 유사도 측정"
      ],
      "metadata": {
        "id": "CXsvTe7F9ZFr"
      }
    },
    {
      "cell_type": "code",
      "source": [
        "from google.colab import drive\n",
        "drive.mount(\"/content/drive\")\n",
        "\n",
        "# 경로 이동\n",
        "%cd /content/drive/MyDrive/opinosis+opinion+frasl+review/OpinosisDataset1.0/topics"
      ],
      "metadata": {
        "colab": {
          "base_uri": "https://localhost:8080/"
        },
        "id": "VvfVWcwhAJwM",
        "outputId": "b387dd7c-54b3-4feb-e8b3-2736f2550ed1"
      },
      "execution_count": 12,
      "outputs": [
        {
          "output_type": "stream",
          "name": "stdout",
          "text": [
            "Drive already mounted at /content/drive; to attempt to forcibly remount, call drive.mount(\"/content/drive\", force_remount=True).\n",
            "/content/drive/MyDrive/opinosis+opinion+frasl+review/OpinosisDataset1.0/topics\n"
          ]
        }
      ]
    },
    {
      "cell_type": "code",
      "source": [
        "from nltk.stem import WordNetLemmatizer\n",
        "import nltk\n",
        "import string\n",
        "\n",
        "nltk.download('punkt')\n",
        "nltk.download('wordnet')\n",
        "\n",
        "# 단어 원형 추출 함수\n",
        "lemmar = WordNetLemmatizer()\n",
        "def LemTokens(tokens):\n",
        "    return [lemmar.lemmatize(token) for token in tokens]\n",
        "\n",
        "# 특수 문자 사전 생성: {33: None ...}\n",
        "# ord(): 아스키 코드 생성\n",
        "remove_punct_dict = dict((ord(punct), None) for punct in string.punctuation)\n",
        "\n",
        "# 특수 문자 제거 및 단어 원형 추출\n",
        "def LemNormalize(text):\n",
        "    # 텍스트 소문자 변경 후 특수 문자 제거\n",
        "    text_new = text.lower().translate(remove_punct_dict)\n",
        "\n",
        "    # 단어 토큰화\n",
        "    word_tokens = nltk.word_tokenize(text_new)\n",
        "\n",
        "    # 단어 원형 추출\n",
        "    return LemTokens(word_tokens)"
      ],
      "metadata": {
        "colab": {
          "base_uri": "https://localhost:8080/"
        },
        "id": "NaNY0gIw1TU-",
        "outputId": "55ff3a8a-3b72-4c38-959c-b5fda48c7ca0"
      },
      "execution_count": 13,
      "outputs": [
        {
          "output_type": "stream",
          "name": "stderr",
          "text": [
            "[nltk_data] Downloading package punkt to /root/nltk_data...\n",
            "[nltk_data]   Unzipping tokenizers/punkt.zip.\n",
            "[nltk_data] Downloading package wordnet to /root/nltk_data...\n"
          ]
        }
      ]
    },
    {
      "cell_type": "code",
      "source": [
        "import pandas as pd\n",
        "import glob\n",
        "from sklearn.feature_extraction.text import TfidfVectorizer\n",
        "from sklearn.cluster import KMeans\n",
        "\n",
        "all_files = glob.glob('*.data')\n",
        "filename_list = []\n",
        "opinion_text = []\n",
        "\n",
        "for file_ in all_files:\n",
        "  df = pd.read_table(file_, index_col=None, header=0, encoding='latin1')\n",
        "  filename_ = file_.split('\\\\')[-1]\n",
        "  filename = filename_.split('.')[0]\n",
        "  filename_list.append(filename)\n",
        "  opinion_text.append(df.to_string())\n",
        "\n",
        "document_df = pd.DataFrame({'filename':filename_list, 'opinion_text':opinion_text})\n",
        "\n",
        "tfidf_vect = TfidfVectorizer(tokenizer=LemNormalize, stop_words='english',\n",
        "                             ngram_range=(1,2), min_df=0.05, max_df=0.85)\n",
        "feature_vect = tfidf_vect.fit_transform(document_df['opinion_text'])\n",
        "\n",
        "km_cluster = KMeans(n_clusters=3, max_iter=10000, random_state=0)\n",
        "km_cluster.fit(feature_vect)\n",
        "cluster_label = km_cluster.labels_\n",
        "cluster_centers = km_cluster.cluster_centers_\n",
        "document_df['cluster_label'] = cluster_label"
      ],
      "metadata": {
        "colab": {
          "base_uri": "https://localhost:8080/"
        },
        "id": "TQhZ-1mM1Vr0",
        "outputId": "23677aa1-4bc6-4398-a952-98c1890eaac8"
      },
      "execution_count": 14,
      "outputs": [
        {
          "output_type": "stream",
          "name": "stderr",
          "text": [
            "/usr/local/lib/python3.10/dist-packages/sklearn/feature_extraction/text.py:528: UserWarning: The parameter 'token_pattern' will not be used since 'tokenizer' is not None'\n",
            "  warnings.warn(\n",
            "/usr/local/lib/python3.10/dist-packages/sklearn/feature_extraction/text.py:409: UserWarning: Your stop_words may be inconsistent with your preprocessing. Tokenizing the stop words generated tokens ['ha', 'le', 'u', 'wa'] not in stop_words.\n",
            "  warnings.warn(\n",
            "/usr/local/lib/python3.10/dist-packages/sklearn/cluster/_kmeans.py:870: FutureWarning: The default value of `n_init` will change from 10 to 'auto' in 1.4. Set the value of `n_init` explicitly to suppress the warning\n",
            "  warnings.warn(\n"
          ]
        }
      ]
    },
    {
      "cell_type": "markdown",
      "source": [
        "* 호텔을 주제로 군집화된 문서를 이용해 특정 문서와 다른 문서 간의 유사도를 알아보도록 함\n",
        "* 각 문서가 피처 벡터화된 데이터를 cosine_simularity()를 이용해 상호 비교해 유사도 확인\n",
        "* 이를 위해 호텔을 주제로 군집화된 데이터를 먼저 추출하고 이 데이터에 해당하는 TfidfVectorizer의 데이터를 추출\n",
        "* DataFrame 객체 변수인 document_df에서 먼저 호텔로 군집화된 문서의 인덱스를 추출한 후, 이 인덱스를 그대로 이용해 TfidfVectorizer 객체 변수인 feature_vect에서 호텔로 군집화된 문서의 피처 벡터를 추출"
      ],
      "metadata": {
        "id": "Lcpr3SZA1aKe"
      }
    },
    {
      "cell_type": "code",
      "source": [
        "from sklearn.metrics.pairwise import cosine_similarity\n",
        "\n",
        "# cluster_label = 1인 데이터는 호텔로 군집화된 데이터임. DataFrame에서 해당 인덱스를 추출\n",
        "hotel_indexes = document_df[document_df[\"cluster_label\"] == 1].index\n",
        "print(\"호텔로 군집화 된 문서들의 DataFrame Index: \", hotel_indexes)\n",
        "\n",
        "# 호텔로 군집화된 데이터 중 첫 번째 문서를 추출해 파일명 표시.\n",
        "comparison_docname = document_df.iloc[hotel_indexes[0]][\"filename\"]\n",
        "print(\"#### 비교 기준 문서명 \", comparison_docname, \"와 타 문서 유사도####\")\n",
        "\n",
        "\"\"\"document_df에서 추출한 Index 객체를 feature_vect로 입력해 호텔 군집화된 feature_vect 추출\n",
        "이를 이용해 호텔로 군집화된 문서 중 첫 번째 문서와 다른 문서 간의 코사인 유사도 측정.\"\"\"\n",
        "similarity_pair = cosine_similarity(feature_vect[hotel_indexes[0]], feature_vect[hotel_indexes])\n",
        "print(similarity_pair)"
      ],
      "metadata": {
        "colab": {
          "base_uri": "https://localhost:8080/"
        },
        "id": "JX2eZOhn1y_J",
        "outputId": "157b51b8-3656-4f2e-9e69-876a31ff3a6f"
      },
      "execution_count": 15,
      "outputs": [
        {
          "output_type": "stream",
          "name": "stdout",
          "text": [
            "호텔로 군집화 된 문서들의 DataFrame Index:  Int64Index([1, 10, 14, 16, 17, 22, 25, 26, 30, 32, 35, 42, 44, 46, 47, 48], dtype='int64')\n",
            "#### 비교 기준 문서명  bathroom_bestwestern_hotel_sfo 와 타 문서 유사도####\n",
            "[[1.         0.06189595 0.0430688  0.05221059 0.05846178 0.03638665\n",
            "  0.06193118 0.32619948 0.38038865 0.11742762 0.51442299 0.11282857\n",
            "  0.07049362 0.1386783  0.13989623 0.09518068]]\n"
          ]
        }
      ]
    },
    {
      "cell_type": "markdown",
      "source": [
        "* 첫 번째 문서와 다른 문서 간에 유사도가 높은 순으로 이를 정렬하고 시각화"
      ],
      "metadata": {
        "id": "IXWt-TvQ2ex4"
      }
    },
    {
      "cell_type": "code",
      "source": [
        "import seaborn as sns\n",
        "import numpy as np\n",
        "import matplotlib.pyplot as plt\n",
        "%matplotlib inline\n",
        "\n",
        "# 첫 번째 문서와 타 문서 간 유사도가 큰 순으로 정렬한 인덱스를 추출하되 자기 자신은 제외.\n",
        "sorted_index = similarity_pair.argsort()[:, ::-1]\n",
        "sorted_index = sorted_index[:, 1:]\n",
        "\n",
        "# 유사도가 큰 순으로 hotel_indexes를 추출해 재정렬\n",
        "hotel_sorted_indexes = hotel_indexes[sorted_index.reshape(-1)]\n",
        "\n",
        "# 유사도가 큰 순으로 유사도 값을 재정렬하되 자기 자신은 제외\n",
        "hotel_1_sim_value = np.sort(similarity_pair.reshape(-1))[::-1]\n",
        "hotel_1_sim_value = hotel_1_sim_value[1:]\n",
        "\n",
        "# 유사도가 큰 순으로 정렬된 인덱스와 유사도 값을 이용해 파일명과 유사도 값을 막대 그래프로 시각화\n",
        "hotel_1_sim_df = pd.DataFrame()\n",
        "hotel_1_sim_df[\"filename\"] = document_df.iloc[hotel_sorted_indexes][\"filename\"]\n",
        "hotel_1_sim_df[\"similarity\"] = hotel_1_sim_value\n",
        "\n",
        "sns.barplot(x = \"similarity\", y = \"filename\", data = hotel_1_sim_df)\n",
        "plt.title(comparison_docname)"
      ],
      "metadata": {
        "colab": {
          "base_uri": "https://localhost:8080/",
          "height": 490
        },
        "id": "VF7Dk3ua2iLU",
        "outputId": "d6a16e61-e437-4d15-87d6-9e3f5f3c689f"
      },
      "execution_count": 16,
      "outputs": [
        {
          "output_type": "execute_result",
          "data": {
            "text/plain": [
              "Text(0.5, 1.0, 'bathroom_bestwestern_hotel_sfo')"
            ]
          },
          "metadata": {},
          "execution_count": 16
        },
        {
          "output_type": "display_data",
          "data": {
            "text/plain": [
              "<Figure size 640x480 with 1 Axes>"
            ],
            "image/png": "[encoded data removed]"
          },
          "metadata": {}
        }
      ]
    },
    {
      "cell_type": "markdown",
      "source": [
        "* 첫 번째 문서와 가장 비슷한 문서는 room_holiday_inn_london. 약 0.572의 코사인 유사도를 나타냄."
      ],
      "metadata": {
        "id": "VIxBhyzG3SOO"
      }
    },
    {
      "cell_type": "markdown",
      "source": [
        "## 09. 한글 텍스트 처리 - 네이버 영화 평점 감성 분석\n"
      ],
      "metadata": {
        "id": "3OEot8X_3bRa"
      }
    },
    {
      "cell_type": "markdown",
      "source": [
        "### 한글 NLP 처리의 어려움\n",
        "* 한글 언어 처리가 영어 등의 라틴어 처리보다 어려운 원인은 \"띄어쓰기\"와 \"다양한 조사\" 떄문.\n",
        "* 한글은 띄어쓰기를 잘못하면 의미가 왜곡되어 전달될 수 있음.\n",
        "* 영어의 경우 띄어쓰기를 잘못하면 의미가 왜곡되는게 아니라 잘못된 또는 없는 단어로 인식됨.\n",
        ">\n",
        "* 조사는 주어나 목적어를 위해 추가되며, 워낙 경우의 수가 많기 때문에 어근 추출 등의 전처리 시 제거하기가 까다로움.\n"
      ],
      "metadata": {
        "id": "_6JewBOf3fol"
      }
    },
    {
      "cell_type": "markdown",
      "source": [
        "### KoNLPy 소개\n",
        "* KoNLPy는 파이썬의 대표적인 한글 형태소 패키지\n",
        "* 형태소: 단어로서 의미를 가지는 최소 단위\n",
        "* 형태소 분석: 말뭉치를 이러한 형태소 어근 단위로 쪼개고 각 형태소에 품사 태깅을 부착하는 작업\n",
        "* KoNLPy 이전에는 파이썬 기반의 형태소 분석 프로그램이 거의 없었으며, 대부분의 형태소 분석은 C/C++과 Java 기반 패키지로 개발됨\n",
        "* KoNLPy는 기존의 C/C++, Java로 잘 만들어진 한글 형태소 엔진을 파이썬 래퍼 기반으로 재작성한 패키지\n",
        "* 기존의 엔진은 그대로 유지한 채 파이썬 기반에서 인터페이스를 제공하기 때문에 검증된 패키지의 안정성을 유지할 수 있음\n",
        "* 꼬꼬마, 한나눔, Komoran, 은전한닢 프로젝트, Twitter와 같이 5개의 형태소 분석 모듈을 KoNLPy에서 모두 사용할 수 있음.\n",
        "* 뛰어난 형태소 분석으로 인정받고 있는 Mecab의 경우는 윈도우 환경에서는 구동되지 않음.\n"
      ],
      "metadata": {
        "id": "gHHvAK7fpFDw"
      }
    },
    {
      "cell_type": "code",
      "source": [
        "pip install konlpy"
      ],
      "metadata": {
        "colab": {
          "base_uri": "https://localhost:8080/"
        },
        "id": "4q8x2zbAptxZ",
        "outputId": "2053e179-1298-4847-8922-d783c5fa5f2d"
      },
      "execution_count": 17,
      "outputs": [
        {
          "output_type": "stream",
          "name": "stdout",
          "text": [
            "Collecting konlpy\n",
            "  Downloading konlpy-0.6.0-py2.py3-none-any.whl (19.4 MB)\n",
            "\u001b[2K     \u001b[90m━━━━━━━━━━━━━━━━━━━━━━━━━━━━━━━━━━━━━━━━\u001b[0m \u001b[32m19.4/19.4 MB\u001b[0m \u001b[31m24.3 MB/s\u001b[0m eta \u001b[36m0:00:00\u001b[0m\n",
            "\u001b[?25hCollecting JPype1>=0.7.0 (from konlpy)\n",
            "  Downloading JPype1-1.4.1-cp310-cp310-manylinux_2_12_x86_64.manylinux2010_x86_64.whl (465 kB)\n",
            "\u001b[2K     \u001b[90m━━━━━━━━━━━━━━━━━━━━━━━━━━━━━━━━━━━━━━━━\u001b[0m \u001b[32m465.3/465.3 kB\u001b[0m \u001b[31m30.5 MB/s\u001b[0m eta \u001b[36m0:00:00\u001b[0m\n",
            "\u001b[?25hRequirement already satisfied: lxml>=4.1.0 in /usr/local/lib/python3.10/dist-packages (from konlpy) (4.9.3)\n",
            "Requirement already satisfied: numpy>=1.6 in /usr/local/lib/python3.10/dist-packages (from konlpy) (1.23.5)\n",
            "Requirement already satisfied: packaging in /usr/local/lib/python3.10/dist-packages (from JPype1>=0.7.0->konlpy) (23.2)\n",
            "Installing collected packages: JPype1, konlpy\n",
            "Successfully installed JPype1-1.4.1 konlpy-0.6.0\n"
          ]
        }
      ]
    },
    {
      "cell_type": "markdown",
      "source": [
        "### 데이터 로딩\n"
      ],
      "metadata": {
        "id": "KkH3eNVMp9eL"
      }
    },
    {
      "cell_type": "code",
      "source": [
        "import os\n",
        "os.chdir('/content')"
      ],
      "metadata": {
        "id": "WmFJQT47serP"
      },
      "execution_count": 31,
      "outputs": []
    },
    {
      "cell_type": "code",
      "source": [
        "import pandas as pd\n",
        "train_df = pd.read_csv(\"ratings_train.txt\", sep = \"\\t\")\n",
        "train_df.head(3)"
      ],
      "metadata": {
        "colab": {
          "base_uri": "https://localhost:8080/",
          "height": 143
        },
        "id": "_4mIAGKgqYm7",
        "outputId": "87481339-ea95-4022-e7ff-eef410721136"
      },
      "execution_count": 32,
      "outputs": [
        {
          "output_type": "execute_result",
          "data": {
            "text/plain": [
              "         id                           document  label\n",
              "0   9976970                아 더빙.. 진짜 짜증나네요 목소리      0\n",
              "1   3819312  흠...포스터보고 초딩영화줄....오버연기조차 가볍지 않구나      1\n",
              "2  10265843                  너무재밓었다그래서보는것을추천한다      0"
            ],
            "text/html": [
              "\n",
              "  <div id=\"df-c1ef886f-78a2-4e49-985b-96fb7c68b1e2\" class=\"colab-df-container\">\n",
              "    <div>\n",
              "<style scoped>\n",
              "    .dataframe tbody tr th:only-of-type {\n",
              "        vertical-align: middle;\n",
              "    }\n",
              "\n",
              "    .dataframe tbody tr th {\n",
              "        vertical-align: top;\n",
              "    }\n",
              "\n",
              "    .dataframe thead th {\n",
              "        text-align: right;\n",
              "    }\n",
              "</style>\n",
              "<table border=\"1\" class=\"dataframe\">\n",
              "  <thead>\n",
              "    <tr style=\"text-align: right;\">\n",
              "      <th></th>\n",
              "      <th>id</th>\n",
              "      <th>document</th>\n",
              "      <th>label</th>\n",
              "    </tr>\n",
              "  </thead>\n",
              "  <tbody>\n",
              "    <tr>\n",
              "      <th>0</th>\n",
              "      <td>9976970</td>\n",
              "      <td>아 더빙.. 진짜 짜증나네요 목소리</td>\n",
              "      <td>0</td>\n",
              "    </tr>\n",
              "    <tr>\n",
              "      <th>1</th>\n",
              "      <td>3819312</td>\n",
              "      <td>흠...포스터보고 초딩영화줄....오버연기조차 가볍지 않구나</td>\n",
              "      <td>1</td>\n",
              "    </tr>\n",
              "    <tr>\n",
              "      <th>2</th>\n",
              "      <td>10265843</td>\n",
              "      <td>너무재밓었다그래서보는것을추천한다</td>\n",
              "      <td>0</td>\n",
              "    </tr>\n",
              "  </tbody>\n",
              "</table>\n",
              "</div>\n",
              "    <div class=\"colab-df-buttons\">\n",
              "\n",
              "  <div class=\"colab-df-container\">\n",
              "    <button class=\"colab-df-convert\" onclick=\"convertToInteractive('df-c1ef886f-78a2-4e49-985b-96fb7c68b1e2')\"\n",
              "            title=\"Convert this dataframe to an interactive table.\"\n",
              "            style=\"display:none;\">\n",
              "\n",
              "  <svg xmlns=\"http://www.w3.org/2000/svg\" height=\"24px\" viewBox=\"0 -960 960 960\">\n",
              "    <path d=\"M120-120v-720h720v720H120Zm60-500h600v-160H180v160Zm220 220h160v-160H400v160Zm0 220h160v-160H400v160ZM180-400h160v-160H180v160Zm440 0h160v-160H620v160ZM180-180h160v-160H180v160Zm440 0h160v-160H620v160Z\"/>\n",
              "  </svg>\n",
              "    </button>\n",
              "\n",
              "  <style>\n",
              "    .colab-df-container {\n",
              "      display:flex;\n",
              "      gap: 12px;\n",
              "    }\n",
              "\n",
              "    .colab-df-convert {\n",
              "      background-color: #E8F0FE;\n",
              "      border: none;\n",
              "      border-radius: 50%;\n",
              "      cursor: pointer;\n",
              "      display: none;\n",
              "      fill: #1967D2;\n",
              "      height: 32px;\n",
              "      padding: 0 0 0 0;\n",
              "      width: 32px;\n",
              "    }\n",
              "\n",
              "    .colab-df-convert:hover {\n",
              "      background-color: #E2EBFA;\n",
              "      box-shadow: 0px 1px 2px rgba(60, 64, 67, 0.3), 0px 1px 3px 1px rgba(60, 64, 67, 0.15);\n",
              "      fill: #174EA6;\n",
              "    }\n",
              "\n",
              "    .colab-df-buttons div {\n",
              "      margin-bottom: 4px;\n",
              "    }\n",
              "\n",
              "    [theme=dark] .colab-df-convert {\n",
              "      background-color: #3B4455;\n",
              "      fill: #D2E3FC;\n",
              "    }\n",
              "\n",
              "    [theme=dark] .colab-df-convert:hover {\n",
              "      background-color: #434B5C;\n",
              "      box-shadow: 0px 1px 3px 1px rgba(0, 0, 0, 0.15);\n",
              "      filter: drop-shadow(0px 1px 2px rgba(0, 0, 0, 0.3));\n",
              "      fill: #FFFFFF;\n",
              "    }\n",
              "  </style>\n",
              "\n",
              "    <script>\n",
              "      const buttonEl =\n",
              "        document.querySelector('#df-c1ef886f-78a2-4e49-985b-96fb7c68b1e2 button.colab-df-convert');\n",
              "      buttonEl.style.display =\n",
              "        google.colab.kernel.accessAllowed ? 'block' : 'none';\n",
              "\n",
              "      async function convertToInteractive(key) {\n",
              "        const element = document.querySelector('#df-c1ef886f-78a2-4e49-985b-96fb7c68b1e2');\n",
              "        const dataTable =\n",
              "          await google.colab.kernel.invokeFunction('convertToInteractive',\n",
              "                                                    [key], {});\n",
              "        if (!dataTable) return;\n",
              "\n",
              "        const docLinkHtml = 'Like what you see? Visit the ' +\n",
              "          '<a target=\"_blank\" href=https://colab.research.google.com/notebooks/data_table.ipynb>data table notebook</a>'\n",
              "          + ' to learn more about interactive tables.';\n",
              "        element.innerHTML = '';\n",
              "        dataTable['output_type'] = 'display_data';\n",
              "        await google.colab.output.renderOutput(dataTable, element);\n",
              "        const docLink = document.createElement('div');\n",
              "        docLink.innerHTML = docLinkHtml;\n",
              "        element.appendChild(docLink);\n",
              "      }\n",
              "    </script>\n",
              "  </div>\n",
              "\n",
              "\n",
              "<div id=\"df-063c47d8-e6b8-4a0a-bff3-f07a573345c5\">\n",
              "  <button class=\"colab-df-quickchart\" onclick=\"quickchart('df-063c47d8-e6b8-4a0a-bff3-f07a573345c5')\"\n",
              "            title=\"Suggest charts.\"\n",
              "            style=\"display:none;\">\n",
              "\n",
              "<svg xmlns=\"http://www.w3.org/2000/svg\" height=\"24px\"viewBox=\"0 0 24 24\"\n",
              "     width=\"24px\">\n",
              "    <g>\n",
              "        <path d=\"M19 3H5c-1.1 0-2 .9-2 2v14c0 1.1.9 2 2 2h14c1.1 0 2-.9 2-2V5c0-1.1-.9-2-2-2zM9 17H7v-7h2v7zm4 0h-2V7h2v10zm4 0h-2v-4h2v4z\"/>\n",
              "    </g>\n",
              "</svg>\n",
              "  </button>\n",
              "\n",
              "<style>\n",
              "  .colab-df-quickchart {\n",
              "      --bg-color: #E8F0FE;\n",
              "      --fill-color: #1967D2;\n",
              "      --hover-bg-color: #E2EBFA;\n",
              "      --hover-fill-color: #174EA6;\n",
              "      --disabled-fill-color: #AAA;\n",
              "      --disabled-bg-color: #DDD;\n",
              "  }\n",
              "\n",
              "  [theme=dark] .colab-df-quickchart {\n",
              "      --bg-color: #3B4455;\n",
              "      --fill-color: #D2E3FC;\n",
              "      --hover-bg-color: #434B5C;\n",
              "      --hover-fill-color: #FFFFFF;\n",
              "      --disabled-bg-color: #3B4455;\n",
              "      --disabled-fill-color: #666;\n",
              "  }\n",
              "\n",
              "  .colab-df-quickchart {\n",
              "    background-color: var(--bg-color);\n",
              "    border: none;\n",
              "    border-radius: 50%;\n",
              "    cursor: pointer;\n",
              "    display: none;\n",
              "    fill: var(--fill-color);\n",
              "    height: 32px;\n",
              "    padding: 0;\n",
              "    width: 32px;\n",
              "  }\n",
              "\n",
              "  .colab-df-quickchart:hover {\n",
              "    background-color: var(--hover-bg-color);\n",
              "    box-shadow: 0 1px 2px rgba(60, 64, 67, 0.3), 0 1px 3px 1px rgba(60, 64, 67, 0.15);\n",
              "    fill: var(--button-hover-fill-color);\n",
              "  }\n",
              "\n",
              "  .colab-df-quickchart-complete:disabled,\n",
              "  .colab-df-quickchart-complete:disabled:hover {\n",
              "    background-color: var(--disabled-bg-color);\n",
              "    fill: var(--disabled-fill-color);\n",
              "    box-shadow: none;\n",
              "  }\n",
              "\n",
              "  .colab-df-spinner {\n",
              "    border: 2px solid var(--fill-color);\n",
              "    border-color: transparent;\n",
              "    border-bottom-color: var(--fill-color);\n",
              "    animation:\n",
              "      spin 1s steps(1) infinite;\n",
              "  }\n",
              "\n",
              "  @keyframes spin {\n",
              "    0% {\n",
              "      border-color: transparent;\n",
              "      border-bottom-color: var(--fill-color);\n",
              "      border-left-color: var(--fill-color);\n",
              "    }\n",
              "    20% {\n",
              "      border-color: transparent;\n",
              "      border-left-color: var(--fill-color);\n",
              "      border-top-color: var(--fill-color);\n",
              "    }\n",
              "    30% {\n",
              "      border-color: transparent;\n",
              "      border-left-color: var(--fill-color);\n",
              "      border-top-color: var(--fill-color);\n",
              "      border-right-color: var(--fill-color);\n",
              "    }\n",
              "    40% {\n",
              "      border-color: transparent;\n",
              "      border-right-color: var(--fill-color);\n",
              "      border-top-color: var(--fill-color);\n",
              "    }\n",
              "    60% {\n",
              "      border-color: transparent;\n",
              "      border-right-color: var(--fill-color);\n",
              "    }\n",
              "    80% {\n",
              "      border-color: transparent;\n",
              "      border-right-color: var(--fill-color);\n",
              "      border-bottom-color: var(--fill-color);\n",
              "    }\n",
              "    90% {\n",
              "      border-color: transparent;\n",
              "      border-bottom-color: var(--fill-color);\n",
              "    }\n",
              "  }\n",
              "</style>\n",
              "\n",
              "  <script>\n",
              "    async function quickchart(key) {\n",
              "      const quickchartButtonEl =\n",
              "        document.querySelector('#' + key + ' button');\n",
              "      quickchartButtonEl.disabled = true;  // To prevent multiple clicks.\n",
              "      quickchartButtonEl.classList.add('colab-df-spinner');\n",
              "      try {\n",
              "        const charts = await google.colab.kernel.invokeFunction(\n",
              "            'suggestCharts', [key], {});\n",
              "      } catch (error) {\n",
              "        console.error('Error during call to suggestCharts:', error);\n",
              "      }\n",
              "      quickchartButtonEl.classList.remove('colab-df-spinner');\n",
              "      quickchartButtonEl.classList.add('colab-df-quickchart-complete');\n",
              "    }\n",
              "    (() => {\n",
              "      let quickchartButtonEl =\n",
              "        document.querySelector('#df-063c47d8-e6b8-4a0a-bff3-f07a573345c5 button');\n",
              "      quickchartButtonEl.style.display =\n",
              "        google.colab.kernel.accessAllowed ? 'block' : 'none';\n",
              "    })();\n",
              "  </script>\n",
              "</div>\n",
              "    </div>\n",
              "  </div>\n"
            ]
          },
          "metadata": {},
          "execution_count": 32
        }
      ]
    },
    {
      "cell_type": "markdown",
      "source": [
        "* 1이 긍정, 0이 부정 감성"
      ],
      "metadata": {
        "id": "dSgLyz62q2Z1"
      }
    },
    {
      "cell_type": "code",
      "source": [
        "train_df[\"label\"].value_counts()"
      ],
      "metadata": {
        "colab": {
          "base_uri": "https://localhost:8080/"
        },
        "id": "HYa5NbPpq4bE",
        "outputId": "ad9ae450-7172-435b-f2b3-66fda554546b"
      },
      "execution_count": 33,
      "outputs": [
        {
          "output_type": "execute_result",
          "data": {
            "text/plain": [
              "0    75173\n",
              "1    74827\n",
              "Name: label, dtype: int64"
            ]
          },
          "metadata": {},
          "execution_count": 33
        }
      ]
    },
    {
      "cell_type": "markdown",
      "source": [
        "* 0과 1의 비율이 어느 한쪽으로 치우치지 않고 균등한 분포를 나타냄\n",
        "* train_df의 경우 리뷰 텍스트를 가지는 \"document\" 칼럼에 Null이 일부 존재하므로 이 값은 공백으로 변환\n",
        "* 문자가 아닌 숫자의 경우 단어적인 의미로 부족하므로 파이썬의 정규 표현식 모듈인 re를 이용해 이 역시 공백으로 변환\n",
        "* 테스트 데이터 세트의 경우도 파일을 로딩하고 동일한 데이터 가공을 수행"
      ],
      "metadata": {
        "id": "CHYyWbi-s3Ps"
      }
    },
    {
      "cell_type": "code",
      "source": [
        "import re\n",
        "\n",
        "train_df = train_df.fillna(\" \")\n",
        "# 정규 표현식을 이용해 숫자를 공백으로 변경(정규 표현식으로 \\d는 숫자를 의미함.)\n",
        "train_df[\"document\"] = train_df[\"document\"].apply(lambda x: re.sub(r\"\\d+\", \" \", x))\n",
        "\n",
        "# 테스트 데이터 세트를 로딩하고 동일하게 Null 및 숫자를 공백으로 변환\n",
        "test_df = pd.read_csv(\"ratings_test.txt\", sep = \"\\t\")\n",
        "test_df = test_df.fillna(\" \")\n",
        "test_df[\"document\"] = test_df[\"document\"].apply(lambda x: re.sub(r\"\\d\", \" \", x))\n",
        "\n",
        "# id 칼럼 삭제 수행\n",
        "train_df.drop(\"id\", axis = 1, inplace = True)\n",
        "test_df.drop(\"id\", axis = 1, inplace = True)"
      ],
      "metadata": {
        "id": "2DtBghI4q632"
      },
      "execution_count": 34,
      "outputs": []
    },
    {
      "cell_type": "markdown",
      "source": [
        "* TF-IDF 방식으로 단어를 벡터화하기 전, 각 문장을 한글 형태소 분석을 통해 형태소 단어로 토큰화\n",
        "* 한글 형태소 엔진은 SNS 분석에 적합한 Twitter 클래스를 이용\n",
        "* Twitter 객체의 morphs() 메서드를 이용하면 입력 인자로 들어온 문장을 형태소 단어 형태로 토큰화해 list 객체로 반환\n",
        "* 문장을 형태소 단어 형태로 반환하는 별도의 tokenizer 함수를 tw_tokenizer()라는 이름으로 생성"
      ],
      "metadata": {
        "id": "DaeNqMKDtoe4"
      }
    },
    {
      "cell_type": "code",
      "source": [
        "from konlpy.tag import Twitter\n",
        "\n",
        "twitter = Twitter()\n",
        "def tw_tokenizer(text):\n",
        "  # 입력 인자로 들어온 텍스트를 형태소 단어로 토큰화해 리스트 형태로 반환\n",
        "  tokens_ko = twitter.morphs(text)\n",
        "  return tokens_ko"
      ],
      "metadata": {
        "colab": {
          "base_uri": "https://localhost:8080/"
        },
        "id": "DfFgC6qGt6oo",
        "outputId": "4de80c3c-6a12-431d-8505-124bd6061355"
      },
      "execution_count": 35,
      "outputs": [
        {
          "output_type": "stream",
          "name": "stderr",
          "text": [
            "/usr/local/lib/python3.10/dist-packages/konlpy/tag/_okt.py:17: UserWarning: \"Twitter\" has changed to \"Okt\" since KoNLPy v0.4.5.\n",
            "  warn('\"Twitter\" has changed to \"Okt\" since KoNLPy v0.4.5.')\n"
          ]
        }
      ]
    },
    {
      "cell_type": "markdown",
      "source": [
        "* 사이킷런의 TfidfVectorizer를 이용해 TF-IDF 피처 모델을 생성\n",
        "* tokenizer는 위에서 만든 tw_tokenizer() 함수를 이용"
      ],
      "metadata": {
        "id": "xSu9pWrOuD5I"
      }
    },
    {
      "cell_type": "code",
      "source": [
        "from sklearn.feature_extraction.text import TfidfVectorizer\n",
        "from sklearn.linear_model import LogisticRegression\n",
        "from sklearn.model_selection import GridSearchCV\n",
        "\n",
        "# Twitter 객체의 morphs() 객체를 이용한 tokenizer를 사용. ngram_range는 (1, 2)\n",
        "tfidf_vect = TfidfVectorizer(tokenizer = tw_tokenizer, ngram_range = (1, 2), min_df = 3, max_df = 0.9)\n",
        "tfidf_vect.fit(train_df[\"document\"])\n",
        "tfidf_matrix_train = tfidf_vect.transform(train_df[\"document\"])"
      ],
      "metadata": {
        "colab": {
          "base_uri": "https://localhost:8080/"
        },
        "id": "YV1YPmCQuKWn",
        "outputId": "85fd9d85-6a0f-4b87-9ffd-e3f639036c33"
      },
      "execution_count": 36,
      "outputs": [
        {
          "output_type": "stream",
          "name": "stderr",
          "text": [
            "/usr/local/lib/python3.10/dist-packages/sklearn/feature_extraction/text.py:528: UserWarning: The parameter 'token_pattern' will not be used since 'tokenizer' is not None'\n",
            "  warnings.warn(\n"
          ]
        }
      ]
    },
    {
      "cell_type": "markdown",
      "source": [
        "* 로지스틱 회귀를 이용해 분류 기반의 감성 분석을 수행"
      ],
      "metadata": {
        "id": "oTfMFm8Hujt1"
      }
    },
    {
      "cell_type": "code",
      "source": [
        "# 로지스틱 회귀를 이용해 감성 분석 분류 수행.\n",
        "lg_clf = LogisticRegression(random_state = 0)\n",
        "\n",
        "# 파라미터 C 최적화를 위해 GridSearchCV를 이용\n",
        "params = {\"C\": [1, 3.5, 4.5, 5.5, 10]}\n",
        "grid_cv = GridSearchCV(lg_clf, param_grid = params, cv = 3, scoring = \"accuracy\", verbose = 1)\n",
        "grid_cv.fit(tfidf_matrix_train, train_df[\"label\"])\n",
        "print(grid_cv.best_params_, round(grid_cv.best_score_, 4))"
      ],
      "metadata": {
        "colab": {
          "base_uri": "https://localhost:8080/"
        },
        "id": "e42Gppptunno",
        "outputId": "3f776cc0-3a3c-4480-ef21-2c6767cade81"
      },
      "execution_count": 37,
      "outputs": [
        {
          "output_type": "stream",
          "name": "stdout",
          "text": [
            "Fitting 3 folds for each of 5 candidates, totalling 15 fits\n"
          ]
        },
        {
          "output_type": "stream",
          "name": "stderr",
          "text": [
            "/usr/local/lib/python3.10/dist-packages/sklearn/linear_model/_logistic.py:458: ConvergenceWarning: lbfgs failed to converge (status=1):\n",
            "STOP: TOTAL NO. of ITERATIONS REACHED LIMIT.\n",
            "\n",
            "Increase the number of iterations (max_iter) or scale the data as shown in:\n",
            "    https://scikit-learn.org/stable/modules/preprocessing.html\n",
            "Please also refer to the documentation for alternative solver options:\n",
            "    https://scikit-learn.org/stable/modules/linear_model.html#logistic-regression\n",
            "  n_iter_i = _check_optimize_result(\n",
            "/usr/local/lib/python3.10/dist-packages/sklearn/linear_model/_logistic.py:458: ConvergenceWarning: lbfgs failed to converge (status=1):\n",
            "STOP: TOTAL NO. of ITERATIONS REACHED LIMIT.\n",
            "\n",
            "Increase the number of iterations (max_iter) or scale the data as shown in:\n",
            "    https://scikit-learn.org/stable/modules/preprocessing.html\n",
            "Please also refer to the documentation for alternative solver options:\n",
            "    https://scikit-learn.org/stable/modules/linear_model.html#logistic-regression\n",
            "  n_iter_i = _check_optimize_result(\n",
            "/usr/local/lib/python3.10/dist-packages/sklearn/linear_model/_logistic.py:458: ConvergenceWarning: lbfgs failed to converge (status=1):\n",
            "STOP: TOTAL NO. of ITERATIONS REACHED LIMIT.\n",
            "\n",
            "Increase the number of iterations (max_iter) or scale the data as shown in:\n",
            "    https://scikit-learn.org/stable/modules/preprocessing.html\n",
            "Please also refer to the documentation for alternative solver options:\n",
            "    https://scikit-learn.org/stable/modules/linear_model.html#logistic-regression\n",
            "  n_iter_i = _check_optimize_result(\n",
            "/usr/local/lib/python3.10/dist-packages/sklearn/linear_model/_logistic.py:458: ConvergenceWarning: lbfgs failed to converge (status=1):\n",
            "STOP: TOTAL NO. of ITERATIONS REACHED LIMIT.\n",
            "\n",
            "Increase the number of iterations (max_iter) or scale the data as shown in:\n",
            "    https://scikit-learn.org/stable/modules/preprocessing.html\n",
            "Please also refer to the documentation for alternative solver options:\n",
            "    https://scikit-learn.org/stable/modules/linear_model.html#logistic-regression\n",
            "  n_iter_i = _check_optimize_result(\n",
            "/usr/local/lib/python3.10/dist-packages/sklearn/linear_model/_logistic.py:458: ConvergenceWarning: lbfgs failed to converge (status=1):\n",
            "STOP: TOTAL NO. of ITERATIONS REACHED LIMIT.\n",
            "\n",
            "Increase the number of iterations (max_iter) or scale the data as shown in:\n",
            "    https://scikit-learn.org/stable/modules/preprocessing.html\n",
            "Please also refer to the documentation for alternative solver options:\n",
            "    https://scikit-learn.org/stable/modules/linear_model.html#logistic-regression\n",
            "  n_iter_i = _check_optimize_result(\n",
            "/usr/local/lib/python3.10/dist-packages/sklearn/linear_model/_logistic.py:458: ConvergenceWarning: lbfgs failed to converge (status=1):\n",
            "STOP: TOTAL NO. of ITERATIONS REACHED LIMIT.\n",
            "\n",
            "Increase the number of iterations (max_iter) or scale the data as shown in:\n",
            "    https://scikit-learn.org/stable/modules/preprocessing.html\n",
            "Please also refer to the documentation for alternative solver options:\n",
            "    https://scikit-learn.org/stable/modules/linear_model.html#logistic-regression\n",
            "  n_iter_i = _check_optimize_result(\n",
            "/usr/local/lib/python3.10/dist-packages/sklearn/linear_model/_logistic.py:458: ConvergenceWarning: lbfgs failed to converge (status=1):\n",
            "STOP: TOTAL NO. of ITERATIONS REACHED LIMIT.\n",
            "\n",
            "Increase the number of iterations (max_iter) or scale the data as shown in:\n",
            "    https://scikit-learn.org/stable/modules/preprocessing.html\n",
            "Please also refer to the documentation for alternative solver options:\n",
            "    https://scikit-learn.org/stable/modules/linear_model.html#logistic-regression\n",
            "  n_iter_i = _check_optimize_result(\n",
            "/usr/local/lib/python3.10/dist-packages/sklearn/linear_model/_logistic.py:458: ConvergenceWarning: lbfgs failed to converge (status=1):\n",
            "STOP: TOTAL NO. of ITERATIONS REACHED LIMIT.\n",
            "\n",
            "Increase the number of iterations (max_iter) or scale the data as shown in:\n",
            "    https://scikit-learn.org/stable/modules/preprocessing.html\n",
            "Please also refer to the documentation for alternative solver options:\n",
            "    https://scikit-learn.org/stable/modules/linear_model.html#logistic-regression\n",
            "  n_iter_i = _check_optimize_result(\n",
            "/usr/local/lib/python3.10/dist-packages/sklearn/linear_model/_logistic.py:458: ConvergenceWarning: lbfgs failed to converge (status=1):\n",
            "STOP: TOTAL NO. of ITERATIONS REACHED LIMIT.\n",
            "\n",
            "Increase the number of iterations (max_iter) or scale the data as shown in:\n",
            "    https://scikit-learn.org/stable/modules/preprocessing.html\n",
            "Please also refer to the documentation for alternative solver options:\n",
            "    https://scikit-learn.org/stable/modules/linear_model.html#logistic-regression\n",
            "  n_iter_i = _check_optimize_result(\n",
            "/usr/local/lib/python3.10/dist-packages/sklearn/linear_model/_logistic.py:458: ConvergenceWarning: lbfgs failed to converge (status=1):\n",
            "STOP: TOTAL NO. of ITERATIONS REACHED LIMIT.\n",
            "\n",
            "Increase the number of iterations (max_iter) or scale the data as shown in:\n",
            "    https://scikit-learn.org/stable/modules/preprocessing.html\n",
            "Please also refer to the documentation for alternative solver options:\n",
            "    https://scikit-learn.org/stable/modules/linear_model.html#logistic-regression\n",
            "  n_iter_i = _check_optimize_result(\n",
            "/usr/local/lib/python3.10/dist-packages/sklearn/linear_model/_logistic.py:458: ConvergenceWarning: lbfgs failed to converge (status=1):\n",
            "STOP: TOTAL NO. of ITERATIONS REACHED LIMIT.\n",
            "\n",
            "Increase the number of iterations (max_iter) or scale the data as shown in:\n",
            "    https://scikit-learn.org/stable/modules/preprocessing.html\n",
            "Please also refer to the documentation for alternative solver options:\n",
            "    https://scikit-learn.org/stable/modules/linear_model.html#logistic-regression\n",
            "  n_iter_i = _check_optimize_result(\n",
            "/usr/local/lib/python3.10/dist-packages/sklearn/linear_model/_logistic.py:458: ConvergenceWarning: lbfgs failed to converge (status=1):\n",
            "STOP: TOTAL NO. of ITERATIONS REACHED LIMIT.\n",
            "\n",
            "Increase the number of iterations (max_iter) or scale the data as shown in:\n",
            "    https://scikit-learn.org/stable/modules/preprocessing.html\n",
            "Please also refer to the documentation for alternative solver options:\n",
            "    https://scikit-learn.org/stable/modules/linear_model.html#logistic-regression\n",
            "  n_iter_i = _check_optimize_result(\n"
          ]
        },
        {
          "output_type": "stream",
          "name": "stdout",
          "text": [
            "{'C': 3.5} 0.8593\n"
          ]
        },
        {
          "output_type": "stream",
          "name": "stderr",
          "text": [
            "/usr/local/lib/python3.10/dist-packages/sklearn/linear_model/_logistic.py:458: ConvergenceWarning: lbfgs failed to converge (status=1):\n",
            "STOP: TOTAL NO. of ITERATIONS REACHED LIMIT.\n",
            "\n",
            "Increase the number of iterations (max_iter) or scale the data as shown in:\n",
            "    https://scikit-learn.org/stable/modules/preprocessing.html\n",
            "Please also refer to the documentation for alternative solver options:\n",
            "    https://scikit-learn.org/stable/modules/linear_model.html#logistic-regression\n",
            "  n_iter_i = _check_optimize_result(\n"
          ]
        }
      ]
    }
  ]
}