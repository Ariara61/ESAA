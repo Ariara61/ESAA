{
  "cells": [
    {
      "cell_type": "markdown",
      "metadata": {
        "id": "view-in-github",
        "colab_type": "text"
      },
      "source": [
        "<a href=\"https://colab.research.google.com/github/Ariara61/ESAA/blob/main/%ED%95%B8%EC%A6%88%EC%98%A8_%EB%A8%B8%EC%8B%A0%EB%9F%AC%EB%8B%9D_127~154.ipynb\" target=\"_parent\"><img src=\"https://colab.research.google.com/assets/colab-badge.svg\" alt=\"Open In Colab\"/></a>"
      ]
    },
    {
      "cell_type": "markdown",
      "metadata": {
        "id": "eEtwgmg3BtOW"
      },
      "source": [
        "#**Chapter3. 분류**\n",
        "# 3.1 MNIST\n",
        "* MNIST: 고등학생과 미국 인구조사국 직원들이 손으로 쓴 70,000개의 작은 숫자 이미지를 모은 데이터셋"
      ]
    },
    {
      "cell_type": "code",
      "execution_count": 1,
      "metadata": {
        "id": "DyoKDeXWD77s"
      },
      "outputs": [],
      "source": [
        "import numpy as np"
      ]
    },
    {
      "cell_type": "code",
      "execution_count": 2,
      "metadata": {
        "colab": {
          "base_uri": "https://localhost:8080/"
        },
        "id": "MKrEAHZJBREA",
        "outputId": "26357ebf-590f-44ab-ccdf-f5695f840174"
      },
      "outputs": [
        {
          "output_type": "stream",
          "name": "stderr",
          "text": [
            "/usr/local/lib/python3.10/dist-packages/sklearn/datasets/_openml.py:968: FutureWarning: The default value of `parser` will change from `'liac-arff'` to `'auto'` in 1.4. You can set `parser='auto'` to silence this warning. Therefore, an `ImportError` will be raised from 1.4 if the dataset is dense and pandas is not installed. Note that the pandas parser may return different data types. See the Notes Section in fetch_openml's API doc for details.\n",
            "  warn(\n"
          ]
        },
        {
          "output_type": "execute_result",
          "data": {
            "text/plain": [
              "dict_keys(['data', 'target', 'frame', 'categories', 'feature_names', 'target_names', 'DESCR', 'details', 'url'])"
            ]
          },
          "metadata": {},
          "execution_count": 2
        }
      ],
      "source": [
        "from sklearn.datasets import fetch_openml\n",
        "mnist = fetch_openml(\"mnist_784\", version = 1, as_frame = False)\n",
        "mnist.keys()"
      ]
    },
    {
      "cell_type": "markdown",
      "metadata": {
        "id": "NeQR81F5CVBk"
      },
      "source": [
        "* 데이터셋을 설명하는 DESCR 키\n",
        "* 샘플이 하나의 행, 특성이 하나의 열로 구성된 배열을 가진 data 키\n",
        "* 레이블 배열을 담은 target 키"
      ]
    },
    {
      "cell_type": "code",
      "execution_count": 3,
      "metadata": {
        "colab": {
          "base_uri": "https://localhost:8080/"
        },
        "id": "5z1N0el2CbuG",
        "outputId": "ca24046c-f1b7-4184-91b5-5d0f9ff9d6b6"
      },
      "outputs": [
        {
          "output_type": "execute_result",
          "data": {
            "text/plain": [
              "(70000, 784)"
            ]
          },
          "metadata": {},
          "execution_count": 3
        }
      ],
      "source": [
        "X, y = mnist[\"data\"], mnist[\"target\"]\n",
        "X.shape"
      ]
    },
    {
      "cell_type": "code",
      "execution_count": 4,
      "metadata": {
        "colab": {
          "base_uri": "https://localhost:8080/"
        },
        "id": "YNLe7dDICh5J",
        "outputId": "89e00b0a-14c3-4068-d7e2-40a106182537"
      },
      "outputs": [
        {
          "output_type": "execute_result",
          "data": {
            "text/plain": [
              "(70000,)"
            ]
          },
          "metadata": {},
          "execution_count": 4
        }
      ],
      "source": [
        "y.shape"
      ]
    },
    {
      "cell_type": "markdown",
      "metadata": {
        "id": "IArQt4FsCi8B"
      },
      "source": [
        "* 이미지가 70,000개 있고 각 이미지에는 784개의 특성이 있음. (이미지가 28 x 28 픽셀이기 때문.)\n",
        "* 개개의 특성은 단순히 0(흰색)부터 255(검은색)까지의 픽셀 강도를 나타냄."
      ]
    },
    {
      "cell_type": "code",
      "execution_count": 5,
      "metadata": {
        "colab": {
          "base_uri": "https://localhost:8080/",
          "height": 406
        },
        "id": "GsR1R7KECwTg",
        "outputId": "a72189e7-a839-4c90-eae5-148718aa4dd1"
      },
      "outputs": [
        {
          "output_type": "display_data",
          "data": {
            "text/plain": [
              "<Figure size 640x480 with 1 Axes>"
            ],
            "image/png": "[encoded data removed]"
          },
          "metadata": {}
        }
      ],
      "source": [
        "import matplotlib as mpl\n",
        "import matplotlib.pyplot as plt\n",
        "\n",
        "some_digit = X[0]\n",
        "some_digit_image = some_digit.reshape(28, 28)\n",
        "\n",
        "plt.imshow(some_digit_image, cmap = \"binary\")\n",
        "plt.axis(\"off\")\n",
        "plt.show()"
      ]
    },
    {
      "cell_type": "code",
      "execution_count": 6,
      "metadata": {
        "colab": {
          "base_uri": "https://localhost:8080/",
          "height": 35
        },
        "id": "XqTFmOlvD1sp",
        "outputId": "98efcc07-fd57-4c58-9160-1a68bc23a6c3"
      },
      "outputs": [
        {
          "output_type": "execute_result",
          "data": {
            "text/plain": [
              "'5'"
            ],
            "application/vnd.google.colaboratory.intrinsic+json": {
              "type": "string"
            }
          },
          "metadata": {},
          "execution_count": 6
        }
      ],
      "source": [
        "y[0]"
      ]
    },
    {
      "cell_type": "code",
      "execution_count": 7,
      "metadata": {
        "id": "rros1indD21h"
      },
      "outputs": [],
      "source": [
        "# y를 정수로 변환\n",
        "y = y.astype(np.uint8)"
      ]
    },
    {
      "cell_type": "code",
      "execution_count": 8,
      "metadata": {
        "id": "CMLwTp-5ECB_"
      },
      "outputs": [],
      "source": [
        "# 항상 테스트 세트를 만들고 따로 떼어놓아야 함\n",
        "X_train, X_test, y_train, y_test = X[:60000], X[60000:], y[:60000], y[60000:]"
      ]
    },
    {
      "cell_type": "markdown",
      "metadata": {
        "id": "heq2RWgoEO2n"
      },
      "source": [
        "# 3.2 이진 분류기 훈련\n",
        "* 이진 분류기(binary classifier): 두 개의 클래스를 구분할 수 있음"
      ]
    },
    {
      "cell_type": "code",
      "execution_count": 9,
      "metadata": {
        "id": "zRODGNhrEW1r"
      },
      "outputs": [],
      "source": [
        "# 분류 작업을 위해 타깃 벡터 생성\n",
        "y_train_5 = (y_train == 5)    # 5는 True고, 다른 숫자는 모두 False\n",
        "y_test_5 = (y_test == 5)"
      ]
    },
    {
      "cell_type": "markdown",
      "metadata": {
        "id": "HAm_4tFsEed7"
      },
      "source": [
        "* 확률적 경사 하강법(Stochastic Gradient Descent): 한 번에 하나씩 훈련 샘플을 독립적으로 처리하여 매우 큰 데이터셋을 효율적으로 처리하는 장점을 지니고 있음."
      ]
    },
    {
      "cell_type": "code",
      "execution_count": 10,
      "metadata": {
        "colab": {
          "base_uri": "https://localhost:8080/",
          "height": 74
        },
        "id": "dpG88D6XEqe-",
        "outputId": "43ca7614-c305-4d47-de63-391a16dc6cdd"
      },
      "outputs": [
        {
          "output_type": "execute_result",
          "data": {
            "text/plain": [
              "SGDClassifier(random_state=42)"
            ],
            "text/html": [
              "<style>#sk-container-id-1 {color: black;background-color: white;}#sk-container-id-1 pre{padding: 0;}#sk-container-id-1 div.sk-toggleable {background-color: white;}#sk-container-id-1 label.sk-toggleable__label {cursor: pointer;display: block;width: 100%;margin-bottom: 0;padding: 0.3em;box-sizing: border-box;text-align: center;}#sk-container-id-1 label.sk-toggleable__label-arrow:before {content: \"▸\";float: left;margin-right: 0.25em;color: #696969;}#sk-container-id-1 label.sk-toggleable__label-arrow:hover:before {color: black;}#sk-container-id-1 div.sk-estimator:hover label.sk-toggleable__label-arrow:before {color: black;}#sk-container-id-1 div.sk-toggleable__content {max-height: 0;max-width: 0;overflow: hidden;text-align: left;background-color: #f0f8ff;}#sk-container-id-1 div.sk-toggleable__content pre {margin: 0.2em;color: black;border-radius: 0.25em;background-color: #f0f8ff;}#sk-container-id-1 input.sk-toggleable__control:checked~div.sk-toggleable__content {max-height: 200px;max-width: 100%;overflow: auto;}#sk-container-id-1 input.sk-toggleable__control:checked~label.sk-toggleable__label-arrow:before {content: \"▾\";}#sk-container-id-1 div.sk-estimator input.sk-toggleable__control:checked~label.sk-toggleable__label {background-color: #d4ebff;}#sk-container-id-1 div.sk-label input.sk-toggleable__control:checked~label.sk-toggleable__label {background-color: #d4ebff;}#sk-container-id-1 input.sk-hidden--visually {border: 0;clip: rect(1px 1px 1px 1px);clip: rect(1px, 1px, 1px, 1px);height: 1px;margin: -1px;overflow: hidden;padding: 0;position: absolute;width: 1px;}#sk-container-id-1 div.sk-estimator {font-family: monospace;background-color: #f0f8ff;border: 1px dotted black;border-radius: 0.25em;box-sizing: border-box;margin-bottom: 0.5em;}#sk-container-id-1 div.sk-estimator:hover {background-color: #d4ebff;}#sk-container-id-1 div.sk-parallel-item::after {content: \"\";width: 100%;border-bottom: 1px solid gray;flex-grow: 1;}#sk-container-id-1 div.sk-label:hover label.sk-toggleable__label {background-color: #d4ebff;}#sk-container-id-1 div.sk-serial::before {content: \"\";position: absolute;border-left: 1px solid gray;box-sizing: border-box;top: 0;bottom: 0;left: 50%;z-index: 0;}#sk-container-id-1 div.sk-serial {display: flex;flex-direction: column;align-items: center;background-color: white;padding-right: 0.2em;padding-left: 0.2em;position: relative;}#sk-container-id-1 div.sk-item {position: relative;z-index: 1;}#sk-container-id-1 div.sk-parallel {display: flex;align-items: stretch;justify-content: center;background-color: white;position: relative;}#sk-container-id-1 div.sk-item::before, #sk-container-id-1 div.sk-parallel-item::before {content: \"\";position: absolute;border-left: 1px solid gray;box-sizing: border-box;top: 0;bottom: 0;left: 50%;z-index: -1;}#sk-container-id-1 div.sk-parallel-item {display: flex;flex-direction: column;z-index: 1;position: relative;background-color: white;}#sk-container-id-1 div.sk-parallel-item:first-child::after {align-self: flex-end;width: 50%;}#sk-container-id-1 div.sk-parallel-item:last-child::after {align-self: flex-start;width: 50%;}#sk-container-id-1 div.sk-parallel-item:only-child::after {width: 0;}#sk-container-id-1 div.sk-dashed-wrapped {border: 1px dashed gray;margin: 0 0.4em 0.5em 0.4em;box-sizing: border-box;padding-bottom: 0.4em;background-color: white;}#sk-container-id-1 div.sk-label label {font-family: monospace;font-weight: bold;display: inline-block;line-height: 1.2em;}#sk-container-id-1 div.sk-label-container {text-align: center;}#sk-container-id-1 div.sk-container {/* jupyter's `normalize.less` sets `[hidden] { display: none; }` but bootstrap.min.css set `[hidden] { display: none !important; }` so we also need the `!important` here to be able to override the default hidden behavior on the sphinx rendered scikit-learn.org. See: https://github.com/scikit-learn/scikit-learn/issues/21755 */display: inline-block !important;position: relative;}#sk-container-id-1 div.sk-text-repr-fallback {display: none;}</style><div id=\"sk-container-id-1\" class=\"sk-top-container\"><div class=\"sk-text-repr-fallback\"><pre>SGDClassifier(random_state=42)</pre><b>In a Jupyter environment, please rerun this cell to show the HTML representation or trust the notebook. <br />On GitHub, the HTML representation is unable to render, please try loading this page with nbviewer.org.</b></div><div class=\"sk-container\" hidden><div class=\"sk-item\"><div class=\"sk-estimator sk-toggleable\"><input class=\"sk-toggleable__control sk-hidden--visually\" id=\"sk-estimator-id-1\" type=\"checkbox\" checked><label for=\"sk-estimator-id-1\" class=\"sk-toggleable__label sk-toggleable__label-arrow\">SGDClassifier</label><div class=\"sk-toggleable__content\"><pre>SGDClassifier(random_state=42)</pre></div></div></div></div></div>"
            ]
          },
          "metadata": {},
          "execution_count": 10
        }
      ],
      "source": [
        "from sklearn.linear_model import SGDClassifier\n",
        "\n",
        "sgd_clf = SGDClassifier(random_state = 42)\n",
        "sgd_clf.fit(X_train, y_train_5)"
      ]
    },
    {
      "cell_type": "code",
      "execution_count": 11,
      "metadata": {
        "colab": {
          "base_uri": "https://localhost:8080/"
        },
        "id": "qSQnQ-CQEy6v",
        "outputId": "714bf94f-2865-4097-efc3-a2ca88c6b523"
      },
      "outputs": [
        {
          "output_type": "execute_result",
          "data": {
            "text/plain": [
              "array([ True])"
            ]
          },
          "metadata": {},
          "execution_count": 11
        }
      ],
      "source": [
        "sgd_clf.predict([some_digit])"
      ]
    },
    {
      "cell_type": "markdown",
      "metadata": {
        "id": "Iw2TSeSjE3J9"
      },
      "source": [
        "# 3.3 성능 측정\n",
        "**3.3.1 교차 검증을 사용한 정확도 측정**\n",
        "* 교차 검증 구현"
      ]
    },
    {
      "cell_type": "code",
      "execution_count": 12,
      "metadata": {
        "colab": {
          "base_uri": "https://localhost:8080/"
        },
        "id": "D5JAgirFE1vt",
        "outputId": "38018914-8349-4ec1-c93c-437919e0ab30"
      },
      "outputs": [
        {
          "output_type": "stream",
          "name": "stdout",
          "text": [
            "0.9669\n",
            "0.91625\n",
            "0.96785\n"
          ]
        }
      ],
      "source": [
        "from sklearn.model_selection import StratifiedKFold\n",
        "from sklearn.base import clone\n",
        "\n",
        "skfolds = StratifiedKFold(n_splits = 3, random_state = 42, shuffle = True)\n",
        "\n",
        "for train_index, test_index in skfolds.split(X_train, y_train_5):\n",
        "  clone_clf = clone(sgd_clf)\n",
        "  X_train_folds = X_train[train_index]\n",
        "  y_train_folds = y_train_5[train_index]\n",
        "  X_test_fold = X_train[test_index]\n",
        "  y_test_fold = y_train_5[test_index]\n",
        "\n",
        "  clone_clf.fit(X_train_folds, y_train_folds)\n",
        "  y_pred = clone_clf.predict(X_test_fold)\n",
        "  n_correct = sum(y_pred == y_test_fold)\n",
        "  print(n_correct / len(y_pred))"
      ]
    },
    {
      "cell_type": "markdown",
      "metadata": {
        "id": "BEogpLW4F5b4"
      },
      "source": [
        "* StratifiedKFold: 클래스별 비율이 유지되도록 폴드를 만들기 위해 계층적 샘플링을 수행. 매 반복에서 분류기 객체를 복제하여 훈련 폴드로 훈련시키고 테스트 폴드로 예측을 만듦. 그런 다음 올바른 예측의 수를 세어 정확한 예측의 비율을 출력."
      ]
    },
    {
      "cell_type": "code",
      "execution_count": 13,
      "metadata": {
        "colab": {
          "base_uri": "https://localhost:8080/"
        },
        "id": "c6ln2ckoGfSW",
        "outputId": "89a70b4b-dadf-499a-b416-7313a6227f0b"
      },
      "outputs": [
        {
          "output_type": "execute_result",
          "data": {
            "text/plain": [
              "array([0.95035, 0.96035, 0.9604 ])"
            ]
          },
          "metadata": {},
          "execution_count": 13
        }
      ],
      "source": [
        "from sklearn.model_selection import cross_val_score\n",
        "cross_val_score(sgd_clf, X_train, y_train_5, cv = 3, scoring = \"accuracy\")"
      ]
    },
    {
      "cell_type": "markdown",
      "metadata": {
        "id": "mgd8g25jG2aL"
      },
      "source": [
        "* 모든 교차 검증 폴드에 대해 정확도(accuracy)가 95% 이상"
      ]
    },
    {
      "cell_type": "code",
      "execution_count": 14,
      "metadata": {
        "id": "MCPcbRe_G6AO"
      },
      "outputs": [],
      "source": [
        "# 모든 이미지를 \"5 아님\" 클래스로 분류하는 더미 분류기\n",
        "from sklearn.base import BaseEstimator\n",
        "\n",
        "class Never5Classifier(BaseEstimator):\n",
        "  def fit(self, X, y = None):\n",
        "    return self\n",
        "  def predict(self, X):\n",
        "    return np.zeros((len(X), 1), dtype = bool)"
      ]
    },
    {
      "cell_type": "code",
      "execution_count": 15,
      "metadata": {
        "colab": {
          "base_uri": "https://localhost:8080/"
        },
        "id": "Wg88Sba_Hb5-",
        "outputId": "bdfc103c-7d25-4591-bfab-e22e67f0b917"
      },
      "outputs": [
        {
          "output_type": "execute_result",
          "data": {
            "text/plain": [
              "array([0.91125, 0.90855, 0.90915])"
            ]
          },
          "metadata": {},
          "execution_count": 15
        }
      ],
      "source": [
        "never_5_clf = Never5Classifier()\n",
        "cross_val_score(never_5_clf, X_train, y_train_5, cv = 3, scoring = \"accuracy\")"
      ]
    },
    {
      "cell_type": "markdown",
      "metadata": {
        "id": "LW30ATu6Hleh"
      },
      "source": [
        "* 이미지의 10% 정도만 숫자 5이기 때문에 무조건 \"5 아님\"으로 예측하면 정확히 맞출 확률이 90%.\n",
        "* 불균형 데이터셋을 다룰 때 정확도를 분류기의 성능 측정 지표로 선호하지 않는 이유."
      ]
    },
    {
      "cell_type": "markdown",
      "metadata": {
        "id": "g0PVHVRLHwjk"
      },
      "source": [
        "**3.3.2 오차 행렬**\n",
        "* 분류기의 성능을 평가하는 더 좋은 방법은 오차 행렬(confusion matrix)를 조사하는 것"
      ]
    },
    {
      "cell_type": "code",
      "execution_count": 16,
      "metadata": {
        "id": "rx3RCAWiH5xz"
      },
      "outputs": [],
      "source": [
        "from sklearn.model_selection import cross_val_predict\n",
        "\n",
        "y_train_pred = cross_val_predict(sgd_clf, X_train, y_train_5, cv = 3)"
      ]
    },
    {
      "cell_type": "markdown",
      "metadata": {
        "id": "VefFeBw-IMq6"
      },
      "source": [
        "* cross_val_score() 함수처럼 cross_val_predict() 함수는 k-겹 교차 검증을 수행하지만 평가 점수를 반환하지 않고 각 테스트 폴드에서 얻은 예측을 반환함. 즉, 훈련 세트의 모든 샘플에 대해 깨끗한 예측을 얻게 됨"
      ]
    },
    {
      "cell_type": "code",
      "execution_count": 17,
      "metadata": {
        "colab": {
          "base_uri": "https://localhost:8080/"
        },
        "id": "KJYc-6OKIXN6",
        "outputId": "5b9ffa45-ad0c-4bb2-d7f9-73921513048e"
      },
      "outputs": [
        {
          "output_type": "execute_result",
          "data": {
            "text/plain": [
              "array([[53892,   687],\n",
              "       [ 1891,  3530]])"
            ]
          },
          "metadata": {},
          "execution_count": 17
        }
      ],
      "source": [
        "from sklearn.metrics import confusion_matrix\n",
        "confusion_matrix(y_train_5, y_train_pred)"
      ]
    },
    {
      "cell_type": "markdown",
      "metadata": {
        "id": "UIaEOPoKIcYe"
      },
      "source": [
        "* 실제 클래스: 오차 행렬의 행\n",
        "* 예측한 클래스: 오차 행렬의 열\n",
        "* 음성 클래스(negative class): 첫번째 행\n",
        " * 진짜 음성(true negative): 정확하게 분류\n",
        " * 거짓 양성(false positive): 잘못 분류\n",
        "* 양성 클래스(positivie class): 두번째 행\n",
        " * 거짓 음성(false negative): 잘못 분류\n",
        " * 진짜 양성(true positive): 정확하게 분류\n",
        "\n",
        "* 완벽한 분류기라면 진짜 양성과 진짜 음성만 가지고 있을 것이므로 오차 행렬의 주대각선만 0이 아닌 값이 됨"
      ]
    },
    {
      "cell_type": "code",
      "execution_count": 18,
      "metadata": {
        "colab": {
          "base_uri": "https://localhost:8080/"
        },
        "id": "PttGGmwQJAd0",
        "outputId": "96e51c62-6e74-45d5-e886-48dcaf32d74d"
      },
      "outputs": [
        {
          "output_type": "execute_result",
          "data": {
            "text/plain": [
              "array([[54579,     0],\n",
              "       [    0,  5421]])"
            ]
          },
          "metadata": {},
          "execution_count": 18
        }
      ],
      "source": [
        "y_train_perfect_predictions = y_train_5    # 완벽한 분류기일 경우\n",
        "confusion_matrix(y_train_5, y_train_perfect_predictions)"
      ]
    },
    {
      "cell_type": "markdown",
      "metadata": {
        "id": "JE5At_BfJJD9"
      },
      "source": [
        "* 정밀도(precision): $\\frac{TP}{TP + FP}$\n",
        " * TP: 진짜 양성의 수\n",
        " * FP: 거짓 양성의 수\n",
        "\n",
        "* 재현율(recall), 민감도(sensitivity), 진짜 양성 비율(true positive): $\\frac{TP}{TP + FN}$\n",
        " * FN: 거짓 음성의 수"
      ]
    },
    {
      "cell_type": "markdown",
      "metadata": {
        "id": "4G79d5j2KK3p"
      },
      "source": [
        "![웹 캡처_5-9-2023_16447_.jpeg](data:image/jpeg;base64,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)"
      ]
    },
    {
      "cell_type": "markdown",
      "metadata": {
        "id": "-gl3Jw_ZKSsF"
      },
      "source": [
        "**3.3.3 정밀도와 재현율**"
      ]
    },
    {
      "cell_type": "code",
      "execution_count": 19,
      "metadata": {
        "colab": {
          "base_uri": "https://localhost:8080/"
        },
        "id": "j3CKjvC7KUjJ",
        "outputId": "a6797b0a-42f2-4fbc-9de0-ad6d7e41c010"
      },
      "outputs": [
        {
          "output_type": "execute_result",
          "data": {
            "text/plain": [
              "0.8370879772350012"
            ]
          },
          "metadata": {},
          "execution_count": 19
        }
      ],
      "source": [
        "from sklearn.metrics import precision_score, recall_score\n",
        "precision_score(y_train_5, y_train_pred)    # == 4096 / (4096 + 1522)"
      ]
    },
    {
      "cell_type": "code",
      "execution_count": 20,
      "metadata": {
        "colab": {
          "base_uri": "https://localhost:8080/"
        },
        "id": "fTWW0xUHr33N",
        "outputId": "a0c2cccf-0aa3-4d51-c64d-1b98960cb436"
      },
      "outputs": [
        {
          "output_type": "execute_result",
          "data": {
            "text/plain": [
              "0.6511713705958311"
            ]
          },
          "metadata": {},
          "execution_count": 20
        }
      ],
      "source": [
        "recall_score(y_train_5, y_train_pred)    # == 4096 / (4096 + 1325)"
      ]
    },
    {
      "cell_type": "markdown",
      "metadata": {
        "id": "2ghITr4OrTSn"
      },
      "source": [
        "* F1 점수(F1 score): 정밀도와 재현율의 조화 평균(harmonic mean)\n",
        "\n",
        "$F1 =  \\frac{2}{ \\frac{1}{정밀도} +  \\frac{1}{재현율}  } = 2  \\times  \\frac{정밀도  \\times 재현율}{정밀도 + 재현율} =  \\frac{TP}{TP +  \\frac{FN + FP}{2} }   $"
      ]
    },
    {
      "cell_type": "code",
      "execution_count": 21,
      "metadata": {
        "colab": {
          "base_uri": "https://localhost:8080/"
        },
        "id": "lPxLhgayrQgN",
        "outputId": "d86ec18c-fac1-43fe-e164-c16d9dd3f493"
      },
      "outputs": [
        {
          "output_type": "execute_result",
          "data": {
            "text/plain": [
              "0.7325171197343846"
            ]
          },
          "metadata": {},
          "execution_count": 21
        }
      ],
      "source": [
        "from sklearn.metrics import f1_score\n",
        "f1_score(y_train_5, y_train_pred)"
      ]
    },
    {
      "cell_type": "markdown",
      "metadata": {
        "id": "CGaeG5oYsDOn"
      },
      "source": [
        "* F1 점수가 항상 바람직한 것은 아니며, 상황에 따라 정밀도가 중요할 수도 있고 재현율이 중요할 수도 있음.\n",
        "\n",
        "**3.3.4 정밀도/재현율 트레이드오프**\n",
        "* SDGClassifier은 결정 함수(decision function)를 사용하여 각 샘플의 점수를 계산함.\n",
        "* 이 점수가 임계값보다 크면 샘플을 양성 클래스에 할당하고 그렇지 않으면 음성 클래스에 할당함\n",
        "![임계값.jpeg](data:image/jpeg;base64,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)"
      ]
    },
    {
      "cell_type": "markdown",
      "metadata": {
        "id": "BPp9zDfOsw94"
      },
      "source": [
        "* 사이킷런에서 임계값을 직접 지정할 수는 없지만 예측에 사용한 점수는 확인할 수 있음\n",
        "* 분류기의 predict() 메서드 대신 decision_function() 메서드를 호출하면 각 샘플의 점수를 얻을 수 있음. 이 점수를 기반으로 원하는 임계값을 정해 예측을 만들 수 있음."
      ]
    },
    {
      "cell_type": "code",
      "execution_count": 22,
      "metadata": {
        "colab": {
          "base_uri": "https://localhost:8080/"
        },
        "id": "5ThXCX9vtAta",
        "outputId": "3875de27-5750-4f00-95e4-1069b87573c3"
      },
      "outputs": [
        {
          "output_type": "execute_result",
          "data": {
            "text/plain": [
              "array([2164.22030239])"
            ]
          },
          "metadata": {},
          "execution_count": 22
        }
      ],
      "source": [
        "y_scores = sgd_clf.decision_function([some_digit])\n",
        "y_scores"
      ]
    },
    {
      "cell_type": "code",
      "execution_count": 23,
      "metadata": {
        "colab": {
          "base_uri": "https://localhost:8080/"
        },
        "id": "VK-TgOd5tDgF",
        "outputId": "4fa3052b-63bb-40f8-f79f-42c9ad5695b2"
      },
      "outputs": [
        {
          "output_type": "execute_result",
          "data": {
            "text/plain": [
              "array([ True])"
            ]
          },
          "metadata": {},
          "execution_count": 23
        }
      ],
      "source": [
        "threshold = 0\n",
        "y_some_digit_pred = (y_scores > threshold)\n",
        "y_some_digit_pred"
      ]
    },
    {
      "cell_type": "code",
      "execution_count": 24,
      "metadata": {
        "colab": {
          "base_uri": "https://localhost:8080/"
        },
        "id": "lESEvWv_taMl",
        "outputId": "bfcbc65f-a06a-46cd-bdad-21c67d577ab3"
      },
      "outputs": [
        {
          "output_type": "execute_result",
          "data": {
            "text/plain": [
              "array([False])"
            ]
          },
          "metadata": {},
          "execution_count": 24
        }
      ],
      "source": [
        "threshold = 8000\n",
        "y_some_digit_pred = (y_scores > threshold)\n",
        "y_some_digit_pred"
      ]
    },
    {
      "cell_type": "markdown",
      "metadata": {
        "id": "mQ85RF-Jtj2C"
      },
      "source": [
        "* 임곗값을 높이면 재현율이 줄어들음\n",
        "* 적절한 임곗값을 정하기 위해서는 cross_val_predict() 함수를 사용해 훈련 세트에 있는 모든 샘플의 점수를 구해야 함\n",
        "* 하지만 이번에는 예측 결과가 아니라 결정 점수를 반환받도록 지정해야 함"
      ]
    },
    {
      "cell_type": "code",
      "execution_count": 25,
      "metadata": {
        "id": "XqQcxyCdtwEr"
      },
      "outputs": [],
      "source": [
        "y_scores = cross_val_predict(sgd_clf, X_train, y_train_5, cv = 3, method = \"decision_function\")"
      ]
    },
    {
      "cell_type": "code",
      "execution_count": 26,
      "metadata": {
        "id": "5AvupcaXM0K3"
      },
      "outputs": [],
      "source": [
        "from sklearn.metrics import precision_recall_curve\n",
        "\n",
        "precisions, recalls, thresholds = precision_recall_curve(y_train_5, y_scores)"
      ]
    },
    {
      "cell_type": "code",
      "execution_count": 27,
      "metadata": {
        "colab": {
          "base_uri": "https://localhost:8080/",
          "height": 430
        },
        "id": "pJwLSeqiNBxo",
        "outputId": "c52bb589-64d8-444c-f9ad-c229bb5c4633"
      },
      "outputs": [
        {
          "output_type": "display_data",
          "data": {
            "text/plain": [
              "<Figure size 640x480 with 1 Axes>"
            ],
            "image/png": "[encoded data removed]"
          },
          "metadata": {}
        }
      ],
      "source": [
        "def plot_precision_recall_vs_threshold(precisions, recalls, thresholds):\n",
        "  plt.plot(thresholds, precisions[:-1], \"b--\", label = \"정밀도\")\n",
        "  plt.plot(thresholds, recalls[:-1], \"g-\", label = \"재현율\")\n",
        "  [...]    # 임곗값을 표시하고 범례, 축 이름, 그리드를 추가합니다.\n",
        "\n",
        "plot_precision_recall_vs_threshold(precisions, recalls, thresholds)\n",
        "plt.show()"
      ]
    },
    {
      "cell_type": "markdown",
      "metadata": {
        "id": "RTpyYnIZNhsO"
      },
      "source": [
        "* 정밀도가 급격하게 줄어들기 시작하는 점을 정밀도/재현율 트레이드오프로 선택하는 것이 좋음"
      ]
    },
    {
      "cell_type": "code",
      "execution_count": 28,
      "metadata": {
        "colab": {
          "base_uri": "https://localhost:8080/"
        },
        "id": "IEqmuuQFNsKE",
        "outputId": "101bc796-89c0-4873-dce7-c459602989c7"
      },
      "outputs": [
        {
          "output_type": "execute_result",
          "data": {
            "text/plain": [
              "3370.0194991439557"
            ]
          },
          "metadata": {},
          "execution_count": 28
        }
      ],
      "source": [
        "threshold_90_precision = thresholds[np.argmax(precisions >= 0.90)]\n",
        "threshold_90_precision"
      ]
    },
    {
      "cell_type": "code",
      "execution_count": 29,
      "metadata": {
        "id": "wfQerTHRN6UB"
      },
      "outputs": [],
      "source": [
        "y_train_pred_90 = (y_scores >= threshold_90_precision)"
      ]
    },
    {
      "cell_type": "code",
      "execution_count": 30,
      "metadata": {
        "colab": {
          "base_uri": "https://localhost:8080/"
        },
        "id": "WltyLW_COEDe",
        "outputId": "d00e0162-acfb-4528-c645-c68993cff5e8"
      },
      "outputs": [
        {
          "output_type": "execute_result",
          "data": {
            "text/plain": [
              "0.9000345901072293"
            ]
          },
          "metadata": {},
          "execution_count": 30
        }
      ],
      "source": [
        "precision_score(y_train_5, y_train_pred_90)"
      ]
    },
    {
      "cell_type": "code",
      "execution_count": 31,
      "metadata": {
        "colab": {
          "base_uri": "https://localhost:8080/"
        },
        "id": "KsfCVan7OLc_",
        "outputId": "30b4c039-4451-4b41-f55c-3dc207e371b3"
      },
      "outputs": [
        {
          "output_type": "execute_result",
          "data": {
            "text/plain": [
              "0.4799852425751706"
            ]
          },
          "metadata": {},
          "execution_count": 31
        }
      ],
      "source": [
        "recall_score(y_train_5, y_train_pred_90)"
      ]
    },
    {
      "cell_type": "markdown",
      "metadata": {
        "id": "U9LujEHQORJ-"
      },
      "source": [
        "**3.3.5 ROC 곡선**\n",
        "* 수신기 조작 특성(ROC): 정밀도/재현율 곡선과 매우 비슷하지만, 정밀도에 대한 재현율 곡선이 아니고 거짓 양성 비율(FPR)에 대한 진짜 양성 비율(TPR)의 곡선\n",
        "* FPR: 양성으로 잘못 분류된 음성 샘플의 비율. 1에서 음성으로 정확하게 분류한 음성 샘플의 비율인 진짜 음성 비율(TNR, 특이도)을 뺀 값\n",
        "* ROC 곡선: 민감도에 대한 1-특이도 그래프"
      ]
    },
    {
      "cell_type": "code",
      "execution_count": 32,
      "metadata": {
        "id": "4MEV81CdQsxk"
      },
      "outputs": [],
      "source": [
        "from sklearn.metrics import roc_curve\n",
        "\n",
        "fpr, tpr, thresholds = roc_curve(y_train_5, y_scores)"
      ]
    },
    {
      "cell_type": "code",
      "execution_count": 33,
      "metadata": {
        "colab": {
          "base_uri": "https://localhost:8080/",
          "height": 430
        },
        "id": "Q-8oyn_sQxyL",
        "outputId": "5bcf8243-d64d-42d1-cb0e-2af82853fc66"
      },
      "outputs": [
        {
          "output_type": "display_data",
          "data": {
            "text/plain": [
              "<Figure size 640x480 with 1 Axes>"
            ],
            "image/png": "[encoded data removed]"
          },
          "metadata": {}
        }
      ],
      "source": [
        "def plot_roc_curve(fpr, tpr, label = None):\n",
        "  plt.plot(fpr, tpr, linewidth = 2, label = label)\n",
        "  plt.plot([0, 1], [0, 1], \"k--\")    # 대각 점선\n",
        "  [...]    # 축 이름, 그리드 추가\n",
        "\n",
        "plot_roc_curve(fpr, tpr)\n",
        "plt.show()"
      ]
    },
    {
      "cell_type": "markdown",
      "metadata": {
        "id": "vMRrTrYLRBfq"
      },
      "source": [
        "* 재현율(TPR)이 높을수록 분류기가 만드는 거짓 양성(FPR)이 늘어남.\n",
        "* 좋은 분류기는 이 점선에서 최대한 멀리 떨어져 있어야 함. (왼쪽 위 모서리)\n",
        "* 곡선 아래의 면적(AUC)\n",
        " * 완벽한 분류기는 ROC의 AUC가 1이고, 완전한 랜덤 분류기는 0.5임."
      ]
    },
    {
      "cell_type": "code",
      "execution_count": 34,
      "metadata": {
        "colab": {
          "base_uri": "https://localhost:8080/"
        },
        "id": "zinMy6kLRn9_",
        "outputId": "1e0247ca-979f-4b55-d2a2-ef55d1a733bb"
      },
      "outputs": [
        {
          "output_type": "execute_result",
          "data": {
            "text/plain": [
              "0.9604938554008616"
            ]
          },
          "metadata": {},
          "execution_count": 34
        }
      ],
      "source": [
        "from sklearn.metrics import roc_auc_score\n",
        "roc_auc_score(y_train_5, y_scores)"
      ]
    },
    {
      "cell_type": "markdown",
      "metadata": {
        "id": "Jr1Hxg8oRwdP"
      },
      "source": [
        "* 양성 클래스가 드물거나 거짓 음성보다 거짓 성이 더 중요할 때 PR 곡선을 사용하고 그렇지 않으면 ROC 곡선을 사용함\n",
        "\n",
        "* RandomforestClassifier에는 decision_function() 메서드가 없고, 대신 predict_proba() 메서드가 있음\n",
        "* predict_proba() 메서드는 샘플이 행, 클래스가 열이고 샘플이 주어진 클래스에 속할 확률을 담은 배열을 반환함"
      ]
    },
    {
      "cell_type": "code",
      "execution_count": 35,
      "metadata": {
        "id": "PcTiK2R8R374"
      },
      "outputs": [],
      "source": [
        "from sklearn.ensemble import RandomForestClassifier\n",
        "\n",
        "forest_clf = RandomForestClassifier(random_state = 42)\n",
        "y_probas_forest = cross_val_predict(forest_clf, X_train, y_train_5, cv = 3,\n",
        "                                    method = \"predict_proba\")"
      ]
    },
    {
      "cell_type": "markdown",
      "metadata": {
        "id": "4itk8Jh0Sije"
      },
      "source": [
        "* roc_curve() 함수는 레이블과 점수를 기대함. 하지만 점수 대신에 클래스 확률을 전달할 수 있음"
      ]
    },
    {
      "cell_type": "code",
      "execution_count": 36,
      "metadata": {
        "id": "7dGaQ3NQSYXf"
      },
      "outputs": [],
      "source": [
        "y_scores_forest = y_probas_forest[:, 1]    # 양성 클래스에 대한 확률을 점수로 사용합니다.\n",
        "fpr_forest, tpr_forest, thresholds_forest = roc_curve(y_train_5, y_scores_forest)"
      ]
    },
    {
      "cell_type": "code",
      "execution_count": 37,
      "metadata": {
        "colab": {
          "base_uri": "https://localhost:8080/",
          "height": 648
        },
        "id": "Hgqq9aqMSnwE",
        "outputId": "413f4062-9e95-40c0-fc22-b8e7a3d50f22"
      },
      "outputs": [
        {
          "output_type": "stream",
          "name": "stderr",
          "text": [
            "/usr/local/lib/python3.10/dist-packages/IPython/core/pylabtools.py:151: UserWarning: Glyph 47004 (\\N{HANGUL SYLLABLE RAEN}) missing from current font.\n",
            "  fig.canvas.print_figure(bytes_io, **kw)\n",
            "/usr/local/lib/python3.10/dist-packages/IPython/core/pylabtools.py:151: UserWarning: Glyph 45924 (\\N{HANGUL SYLLABLE DEOM}) missing from current font.\n",
            "  fig.canvas.print_figure(bytes_io, **kw)\n",
            "/usr/local/lib/python3.10/dist-packages/IPython/core/pylabtools.py:151: UserWarning: Glyph 54252 (\\N{HANGUL SYLLABLE PO}) missing from current font.\n",
            "  fig.canvas.print_figure(bytes_io, **kw)\n",
            "/usr/local/lib/python3.10/dist-packages/IPython/core/pylabtools.py:151: UserWarning: Glyph 47112 (\\N{HANGUL SYLLABLE RE}) missing from current font.\n",
            "  fig.canvas.print_figure(bytes_io, **kw)\n",
            "/usr/local/lib/python3.10/dist-packages/IPython/core/pylabtools.py:151: UserWarning: Glyph 49828 (\\N{HANGUL SYLLABLE SEU}) missing from current font.\n",
            "  fig.canvas.print_figure(bytes_io, **kw)\n",
            "/usr/local/lib/python3.10/dist-packages/IPython/core/pylabtools.py:151: UserWarning: Glyph 53944 (\\N{HANGUL SYLLABLE TEU}) missing from current font.\n",
            "  fig.canvas.print_figure(bytes_io, **kw)\n"
          ]
        },
        {
          "output_type": "display_data",
          "data": {
            "text/plain": [
              "<Figure size 640x480 with 1 Axes>"
            ],
            "image/png": "[encoded data removed]"
          },
          "metadata": {}
        }
      ],
      "source": [
        "plt.plot(fpr, tpr, \"b:\", label = \"SGD\")\n",
        "plot_roc_curve(fpr_forest, tpr_forest, \"랜덤포레스트\")\n",
        "plt.legend(loc = \"lower right\")\n",
        "plt.show()"
      ]
    },
    {
      "cell_type": "markdown",
      "metadata": {
        "id": "NOq16283SzLL"
      },
      "source": [
        "* RandomForestClassifier의 ROC 곡선이 왼쪽 위 모서리에 더 가까워 SGDClassifier보다 훨씬 좋아보임."
      ]
    },
    {
      "cell_type": "code",
      "execution_count": 38,
      "metadata": {
        "colab": {
          "base_uri": "https://localhost:8080/"
        },
        "id": "uzNaf625E_h6",
        "outputId": "9da61ce6-8477-42c4-f53b-12c0435a84b1"
      },
      "outputs": [
        {
          "output_type": "execute_result",
          "data": {
            "text/plain": [
              "0.9983436731328145"
            ]
          },
          "metadata": {},
          "execution_count": 38
        }
      ],
      "source": [
        "roc_auc_score(y_train_5, y_scores_forest)"
      ]
    },
    {
      "cell_type": "markdown",
      "metadata": {
        "id": "KpPaKyAhFDuW"
      },
      "source": [
        "# 3.4 다중 분류\n",
        "* 이진 분류가 두 개의 클래스를 구별하는 반면 다중 분류기(multiclass classifier)는 둘 이상의 클래스를 구별할 수 있음.\n",
        "* (SGD 분류기, 랜덤 포레스트 분류기, 나이브 베이즈 분류기 같은) 일부 알고리즘은 여러 개의 클래스를 직접 처리할 수 있는 반면, (로지스틱 회귀나 서포트 벡터 머신 분류기 같은) 다른 알고리즘은 이진 분류만 가능함.\n",
        "* OvR(one-versus-the-rest):이미지를 분류할 때 각 분류기의 결정 점수 중에서 가장 높은 것을 클래스로 선택하는것\n",
        "* OvO(one-versus-one): 각 숫자의 조합마다 이진 분류기를 훈련시키는 것. 클래스가 N개라면 분류기는 N x (N-1) / 2개가 필요. 각 분류기의 훈련에 전체 훈련 세트 중 구별할 두 클래스에 해당하는 샘플만 필요하다는 것이 장점.\n",
        "* (서포트 벡터 머신 같은) 일부 알고리즘은 훈련 세트의 크기에 민감해서 큰 훈련 세트에서 몇 개의 분류기를 훈련시키는 것보다 작은 훈련 세트에서 많은 분류기를 훈련시키는 쪽이 빠르므로 OvO를 선호. 하지만 대부분의 이진 분류 알고리즘에서는 OvR을 선호함.\n"
      ]
    },
    {
      "cell_type": "code",
      "execution_count": 39,
      "metadata": {
        "colab": {
          "base_uri": "https://localhost:8080/"
        },
        "id": "VuL1rubtFCoL",
        "outputId": "4e0cb9a2-7a96-4961-cfd9-0efdaefbc09b"
      },
      "outputs": [
        {
          "output_type": "execute_result",
          "data": {
            "text/plain": [
              "array([5], dtype=uint8)"
            ]
          },
          "metadata": {},
          "execution_count": 39
        }
      ],
      "source": [
        "from sklearn.svm import SVC\n",
        "svm_clf = SVC()\n",
        "svm_clf.fit(X_train, y_train)     # y_train_5가 아니고 y_train을 사용합니다.\n",
        "svm_clf.predict([some_digit])"
      ]
    },
    {
      "cell_type": "code",
      "execution_count": 40,
      "metadata": {
        "colab": {
          "base_uri": "https://localhost:8080/"
        },
        "id": "2mQGmVpnGhbz",
        "outputId": "33963bf9-f0be-44df-a60c-eb47a35a2bfc"
      },
      "outputs": [
        {
          "output_type": "execute_result",
          "data": {
            "text/plain": [
              "array([[ 1.72501977,  2.72809088,  7.2510018 ,  8.3076379 , -0.31087254,\n",
              "         9.3132482 ,  1.70975103,  2.76765202,  6.23049537,  4.84771048]])"
            ]
          },
          "metadata": {},
          "execution_count": 40
        }
      ],
      "source": [
        "some_digit_scores = svm_clf.decision_function([some_digit])\n",
        "some_digit_scores"
      ]
    },
    {
      "cell_type": "code",
      "execution_count": 41,
      "metadata": {
        "colab": {
          "base_uri": "https://localhost:8080/"
        },
        "id": "Q1h4s2K0Gvk9",
        "outputId": "2bc47ec6-9c54-4b79-9414-1ed747f2a652"
      },
      "outputs": [
        {
          "output_type": "execute_result",
          "data": {
            "text/plain": [
              "5"
            ]
          },
          "metadata": {},
          "execution_count": 41
        }
      ],
      "source": [
        "np.argmax(some_digit_scores)"
      ]
    },
    {
      "cell_type": "code",
      "execution_count": 42,
      "metadata": {
        "colab": {
          "base_uri": "https://localhost:8080/"
        },
        "id": "67BIqdUnGx15",
        "outputId": "b56c8419-c71f-4232-b395-1fc41aa43161"
      },
      "outputs": [
        {
          "output_type": "execute_result",
          "data": {
            "text/plain": [
              "array([0, 1, 2, 3, 4, 5, 6, 7, 8, 9], dtype=uint8)"
            ]
          },
          "metadata": {},
          "execution_count": 42
        }
      ],
      "source": [
        "svm_clf.classes_"
      ]
    },
    {
      "cell_type": "code",
      "execution_count": 43,
      "metadata": {
        "colab": {
          "base_uri": "https://localhost:8080/"
        },
        "id": "2KPTEtk_GzqG",
        "outputId": "6dc71920-4d79-4e64-b962-95048b7e725d"
      },
      "outputs": [
        {
          "output_type": "execute_result",
          "data": {
            "text/plain": [
              "5"
            ]
          },
          "metadata": {},
          "execution_count": 43
        }
      ],
      "source": [
        "svm_clf.classes_[5]"
      ]
    },
    {
      "cell_type": "markdown",
      "metadata": {
        "id": "82u0j1d5HCmi"
      },
      "source": [
        "* 사이킷런에서 OvO나 OvR을 사용하도록 강제하려면 OneVsOneClassifier나 OneVsRestClassifier를 사용함."
      ]
    },
    {
      "cell_type": "code",
      "execution_count": 44,
      "metadata": {
        "colab": {
          "base_uri": "https://localhost:8080/"
        },
        "id": "8bUygi0pHI8x",
        "outputId": "f91957ed-e685-4946-aec9-781bfaa3200c"
      },
      "outputs": [
        {
          "output_type": "execute_result",
          "data": {
            "text/plain": [
              "10"
            ]
          },
          "metadata": {},
          "execution_count": 44
        }
      ],
      "source": [
        "from sklearn.multiclass import OneVsRestClassifier\n",
        "ovr_clf = OneVsRestClassifier(SVC())\n",
        "ovr_clf.fit(X_train, y_train)\n",
        "ovr_clf.predict([some_digit])\n",
        "len(ovr_clf.estimators_)"
      ]
    },
    {
      "cell_type": "code",
      "execution_count": 45,
      "metadata": {
        "id": "KifIuCaQHuNy",
        "colab": {
          "base_uri": "https://localhost:8080/"
        },
        "outputId": "ff2407fd-8813-4ef7-85e4-6c52d6c6d7e8"
      },
      "outputs": [
        {
          "output_type": "execute_result",
          "data": {
            "text/plain": [
              "array([3], dtype=uint8)"
            ]
          },
          "metadata": {},
          "execution_count": 45
        }
      ],
      "source": [
        "sgd_clf.fit(X_train, y_train)\n",
        "sgd_clf.predict([some_digit])"
      ]
    },
    {
      "cell_type": "markdown",
      "metadata": {
        "id": "17JQi3EwH5z0"
      },
      "source": [
        "* SDG 분류기는 직접 샘플을 다중 클래스로 분류할 수 있기 때문에 별도로 사이킷런의 OvR이나 OvO를 적용할 필요가 없음."
      ]
    },
    {
      "cell_type": "code",
      "execution_count": 46,
      "metadata": {
        "id": "O0rNu7CrH_5b",
        "colab": {
          "base_uri": "https://localhost:8080/"
        },
        "outputId": "d4f71618-9635-4585-999b-8af44e8b2847"
      },
      "outputs": [
        {
          "output_type": "execute_result",
          "data": {
            "text/plain": [
              "array([[-31893.03095419, -34419.69069632,  -9530.63950739,\n",
              "          1823.73154031, -22320.14822878,  -1385.80478895,\n",
              "        -26188.91070951, -16147.51323997,  -4604.35491274,\n",
              "        -12050.767298  ]])"
            ]
          },
          "metadata": {},
          "execution_count": 46
        }
      ],
      "source": [
        "sgd_clf.decision_function([some_digit])"
      ]
    },
    {
      "cell_type": "code",
      "execution_count": 47,
      "metadata": {
        "id": "Mff7j8H0IQrI",
        "colab": {
          "base_uri": "https://localhost:8080/"
        },
        "outputId": "9730570b-cd1a-4033-ed73-b95d28959d02"
      },
      "outputs": [
        {
          "output_type": "execute_result",
          "data": {
            "text/plain": [
              "array([0.87365, 0.85835, 0.8689 ])"
            ]
          },
          "metadata": {},
          "execution_count": 47
        }
      ],
      "source": [
        "cross_val_score(sgd_clf, X_train, y_train, cv = 3, scoring = \"accuracy\")"
      ]
    },
    {
      "cell_type": "code",
      "execution_count": 48,
      "metadata": {
        "id": "Ulm6_ebuIYKL",
        "colab": {
          "base_uri": "https://localhost:8080/"
        },
        "outputId": "24d50490-cfbe-4909-d62d-64201b00097d"
      },
      "outputs": [
        {
          "output_type": "execute_result",
          "data": {
            "text/plain": [
              "array([0.8983, 0.891 , 0.9018])"
            ]
          },
          "metadata": {},
          "execution_count": 48
        }
      ],
      "source": [
        "from sklearn.preprocessing import StandardScaler\n",
        "scaler = StandardScaler()\n",
        "X_train_scaled = scaler.fit_transform(X_train.astype(np.float64))\n",
        "cross_val_score(sgd_clf, X_train_scaled, y_train, cv = 3, scoring = \"accuracy\")"
      ]
    },
    {
      "cell_type": "markdown",
      "metadata": {
        "id": "JnAl-2CaIsPN"
      },
      "source": [
        "# 3.5 에러 분석"
      ]
    },
    {
      "cell_type": "code",
      "execution_count": 49,
      "metadata": {
        "id": "QGWnbjeNItmc",
        "colab": {
          "base_uri": "https://localhost:8080/"
        },
        "outputId": "5b01d0ba-d08f-402a-c9cd-d82f459e9532"
      },
      "outputs": [
        {
          "output_type": "execute_result",
          "data": {
            "text/plain": [
              "array([[5577,    0,   22,    5,    8,   43,   36,    6,  225,    1],\n",
              "       [   0, 6400,   37,   24,    4,   44,    4,    7,  212,   10],\n",
              "       [  27,   27, 5220,   92,   73,   27,   67,   36,  378,   11],\n",
              "       [  22,   17,  117, 5227,    2,  203,   27,   40,  403,   73],\n",
              "       [  12,   14,   41,    9, 5182,   12,   34,   27,  347,  164],\n",
              "       [  27,   15,   30,  168,   53, 4444,   75,   14,  535,   60],\n",
              "       [  30,   15,   42,    3,   44,   97, 5552,    3,  131,    1],\n",
              "       [  21,   10,   51,   30,   49,   12,    3, 5684,  195,  210],\n",
              "       [  17,   63,   48,   86,    3,  126,   25,   10, 5429,   44],\n",
              "       [  25,   18,   30,   64,  118,   36,    1,  179,  371, 5107]])"
            ]
          },
          "metadata": {},
          "execution_count": 49
        }
      ],
      "source": [
        "y_train_pred = cross_val_predict(sgd_clf, X_train_scaled, y_train, cv = 3)\n",
        "conf_mx = confusion_matrix(y_train, y_train_pred)\n",
        "conf_mx"
      ]
    },
    {
      "cell_type": "code",
      "execution_count": 50,
      "metadata": {
        "id": "5DerF290I_E1",
        "colab": {
          "base_uri": "https://localhost:8080/",
          "height": 437
        },
        "outputId": "bdbc9dca-3f4d-4785-9b1f-4b42515809a0"
      },
      "outputs": [
        {
          "output_type": "display_data",
          "data": {
            "text/plain": [
              "<Figure size 480x480 with 1 Axes>"
            ],
            "image/png": "[encoded data removed]"
          },
          "metadata": {}
        }
      ],
      "source": [
        "plt.matshow(conf_mx, cmap = plt.cm.gray)\n",
        "plt.show()"
      ]
    },
    {
      "cell_type": "markdown",
      "metadata": {
        "id": "5Hg8Jj6OJERx"
      },
      "source": [
        "* 대부분의 이미지가 올바르게 분류되었음을 나타내는 주대각선에 있으므로 매우 좋아 조임.\n",
        "* 숫자 5는 다른 숫자보다 조금 더 어두워 보이는데, 이는 데이터셋에 숫자 5의 이미지가 적거나 분류기가 숫자 5를 다른 숫자만큼 잘 분류하지 못한다는 뜻.\n",
        "* 오차 행렬의 각 값을 대응되는 이미지 개수로 나누어 에러 비율을 비교함."
      ]
    },
    {
      "cell_type": "code",
      "execution_count": 51,
      "metadata": {
        "id": "BbSQHZzlJShT"
      },
      "outputs": [],
      "source": [
        "row_sums = conf_mx.sum(axis = 1, keepdims = True)\n",
        "norm_conf_mx = conf_mx / row_sums"
      ]
    },
    {
      "cell_type": "code",
      "execution_count": 52,
      "metadata": {
        "id": "HOmRBJySJxLv",
        "colab": {
          "base_uri": "https://localhost:8080/",
          "height": 437
        },
        "outputId": "c0ede657-9196-40e0-d038-eb9216fdaed2"
      },
      "outputs": [
        {
          "output_type": "display_data",
          "data": {
            "text/plain": [
              "<Figure size 480x480 with 1 Axes>"
            ],
            "image/png": "[encoded data removed]"
          },
          "metadata": {}
        }
      ],
      "source": [
        "np.fill_diagonal(norm_conf_mx, 0)\n",
        "plt.matshow(norm_conf_mx, cmap = plt.cm.gray)\n",
        "plt.show()"
      ]
    },
    {
      "cell_type": "markdown",
      "metadata": {
        "id": "Ouv-TCSZJ5vn"
      },
      "source": [
        "* 클래스의 8열이 상당히 밝으므로 많은 이미지가 8로 잘못 분류되었음을 암시함.\n",
        "* 오차 행렬은 반드시 대칭인 것은 아님.\n",
        "* 오차 행렬을 분석하면 분류기의 성능 향상 방안에 대한 통찰을 얻을 수 있음."
      ]
    },
    {
      "cell_type": "code",
      "source": [
        "# 맷플롯립의 imshow() 사용하는 함수\n",
        "def plot_digits(instances, images_per_row=10, **options):\n",
        "    size = 28\n",
        "    images_per_row = min(len(instances), images_per_row)\n",
        "    images = [instance.reshape(size,size) for instance in instances]\n",
        "    n_rows = (len(instances) - 1) // images_per_row + 1\n",
        "    row_images = []\n",
        "    n_empty = n_rows * images_per_row - len(instances)\n",
        "    images.append(np.zeros((size, size * n_empty)))\n",
        "    for row in range(n_rows):\n",
        "        rimages = images[row * images_per_row : (row + 1) * images_per_row]\n",
        "        row_images.append(np.concatenate(rimages, axis=1))\n",
        "    image = np.concatenate(row_images, axis=0)\n",
        "    plt.imshow(image, cmap = plt.cm.binary, **options)\n",
        "    plt.axis(\"off\")"
      ],
      "metadata": {
        "id": "DxM7iJGAHOnI"
      },
      "execution_count": 54,
      "outputs": []
    },
    {
      "cell_type": "code",
      "source": [
        "cl_a, cl_b = 3, 5\n",
        "X_aa = X_train[(y_train == cl_a) & (y_train_pred == cl_a)]\n",
        "X_ab = X_train[(y_train == cl_a) & (y_train_pred == cl_b)]\n",
        "X_ba = X_train[(y_train == cl_b) & (y_train_pred == cl_a)]\n",
        "X_bb = X_train[(y_train == cl_b) & (y_train_pred == cl_b)]\n",
        "\n",
        "plt.figure(figsize = (8, 8))\n",
        "plt.subplot(221); plot_digits(X_aa[:25], images_per_row = 5)\n",
        "plt.subplot(222); plot_digits(X_aa[:25], images_per_row = 5)\n",
        "plt.subplot(223); plot_digits(X_aa[:25], images_per_row = 5)\n",
        "plt.subplot(224); plot_digits(X_aa[:25], images_per_row = 5)\n",
        "plt.show()"
      ],
      "metadata": {
        "id": "8arvTJF-uzFn",
        "colab": {
          "base_uri": "https://localhost:8080/",
          "height": 653
        },
        "outputId": "c85cd9f9-ba8f-40ba-a416-7586bd55c01f"
      },
      "execution_count": 55,
      "outputs": [
        {
          "output_type": "display_data",
          "data": {
            "text/plain": [
              "<Figure size 800x800 with 4 Axes>"
            ],
            "image/png": "[encoded data removed]"
          },
          "metadata": {}
        }
      ]
    },
    {
      "cell_type": "markdown",
      "source": [
        "* 대부분의 잘못 분류된 이미지는 확실히 에러인것 같고 분류기가 실수한 이유를 이해하기 어려움. 원인은 선형 모델인 SGDClassifier을 사용했기 때문.\n",
        "* 선형 분류기는 클래스마다 픽셀에 가중치를 할당하고 새로운 이미지에 대해 단순히 픽셀 강도의 가중치 합을 클래스의 점수로 계산함. 따라서 3과 5는 몇 개의 픽셀만 다르기 때문에 모델이 쉽게 혼동하게 됨.\n",
        "* 3과 5의 주요 차이는 위쪽 선과 아래쪽 호를 이어주는 작은 작은 직선의 위치.\n",
        "* 분류기는 이미지의 위치나 회전 방향에 매우 민감함. 3과 5의 에러를 줄이는 한가지 방법은 이미지를 중앙에 위치시키고 회전되에 있지 않도록 전처리하는 것.\n",
        "\n",
        "# 3.6 다중 레이블 분류\n",
        "* 다중 레이블 분류: 여러 개의 이진 꼬리표를 출력하는 분류 시스템"
      ],
      "metadata": {
        "id": "eTZ5E6H-vTPA"
      }
    },
    {
      "cell_type": "code",
      "source": [
        "from sklearn.neighbors import KNeighborsClassifier\n",
        "\n",
        "y_train_large = (y_train >= 7)\n",
        "y_train_odd = (y_train % 2 == 1)\n",
        "y_multilabel = np.c_[y_train_large, y_train_odd]\n",
        "\n",
        "knn_clf = KNeighborsClassifier()\n",
        "knn_clf.fit(X_train, y_multilabel)"
      ],
      "metadata": {
        "id": "XGhPLFLAweF3",
        "colab": {
          "base_uri": "https://localhost:8080/",
          "height": 74
        },
        "outputId": "bc27bc30-6ef9-455f-cad5-2476a828b5d6"
      },
      "execution_count": 56,
      "outputs": [
        {
          "output_type": "execute_result",
          "data": {
            "text/plain": [
              "KNeighborsClassifier()"
            ],
            "text/html": [
              "<style>#sk-container-id-2 {color: black;background-color: white;}#sk-container-id-2 pre{padding: 0;}#sk-container-id-2 div.sk-toggleable {background-color: white;}#sk-container-id-2 label.sk-toggleable__label {cursor: pointer;display: block;width: 100%;margin-bottom: 0;padding: 0.3em;box-sizing: border-box;text-align: center;}#sk-container-id-2 label.sk-toggleable__label-arrow:before {content: \"▸\";float: left;margin-right: 0.25em;color: #696969;}#sk-container-id-2 label.sk-toggleable__label-arrow:hover:before {color: black;}#sk-container-id-2 div.sk-estimator:hover label.sk-toggleable__label-arrow:before {color: black;}#sk-container-id-2 div.sk-toggleable__content {max-height: 0;max-width: 0;overflow: hidden;text-align: left;background-color: #f0f8ff;}#sk-container-id-2 div.sk-toggleable__content pre {margin: 0.2em;color: black;border-radius: 0.25em;background-color: #f0f8ff;}#sk-container-id-2 input.sk-toggleable__control:checked~div.sk-toggleable__content {max-height: 200px;max-width: 100%;overflow: auto;}#sk-container-id-2 input.sk-toggleable__control:checked~label.sk-toggleable__label-arrow:before {content: \"▾\";}#sk-container-id-2 div.sk-estimator input.sk-toggleable__control:checked~label.sk-toggleable__label {background-color: #d4ebff;}#sk-container-id-2 div.sk-label input.sk-toggleable__control:checked~label.sk-toggleable__label {background-color: #d4ebff;}#sk-container-id-2 input.sk-hidden--visually {border: 0;clip: rect(1px 1px 1px 1px);clip: rect(1px, 1px, 1px, 1px);height: 1px;margin: -1px;overflow: hidden;padding: 0;position: absolute;width: 1px;}#sk-container-id-2 div.sk-estimator {font-family: monospace;background-color: #f0f8ff;border: 1px dotted black;border-radius: 0.25em;box-sizing: border-box;margin-bottom: 0.5em;}#sk-container-id-2 div.sk-estimator:hover {background-color: #d4ebff;}#sk-container-id-2 div.sk-parallel-item::after {content: \"\";width: 100%;border-bottom: 1px solid gray;flex-grow: 1;}#sk-container-id-2 div.sk-label:hover label.sk-toggleable__label {background-color: #d4ebff;}#sk-container-id-2 div.sk-serial::before {content: \"\";position: absolute;border-left: 1px solid gray;box-sizing: border-box;top: 0;bottom: 0;left: 50%;z-index: 0;}#sk-container-id-2 div.sk-serial {display: flex;flex-direction: column;align-items: center;background-color: white;padding-right: 0.2em;padding-left: 0.2em;position: relative;}#sk-container-id-2 div.sk-item {position: relative;z-index: 1;}#sk-container-id-2 div.sk-parallel {display: flex;align-items: stretch;justify-content: center;background-color: white;position: relative;}#sk-container-id-2 div.sk-item::before, #sk-container-id-2 div.sk-parallel-item::before {content: \"\";position: absolute;border-left: 1px solid gray;box-sizing: border-box;top: 0;bottom: 0;left: 50%;z-index: -1;}#sk-container-id-2 div.sk-parallel-item {display: flex;flex-direction: column;z-index: 1;position: relative;background-color: white;}#sk-container-id-2 div.sk-parallel-item:first-child::after {align-self: flex-end;width: 50%;}#sk-container-id-2 div.sk-parallel-item:last-child::after {align-self: flex-start;width: 50%;}#sk-container-id-2 div.sk-parallel-item:only-child::after {width: 0;}#sk-container-id-2 div.sk-dashed-wrapped {border: 1px dashed gray;margin: 0 0.4em 0.5em 0.4em;box-sizing: border-box;padding-bottom: 0.4em;background-color: white;}#sk-container-id-2 div.sk-label label {font-family: monospace;font-weight: bold;display: inline-block;line-height: 1.2em;}#sk-container-id-2 div.sk-label-container {text-align: center;}#sk-container-id-2 div.sk-container {/* jupyter's `normalize.less` sets `[hidden] { display: none; }` but bootstrap.min.css set `[hidden] { display: none !important; }` so we also need the `!important` here to be able to override the default hidden behavior on the sphinx rendered scikit-learn.org. See: https://github.com/scikit-learn/scikit-learn/issues/21755 */display: inline-block !important;position: relative;}#sk-container-id-2 div.sk-text-repr-fallback {display: none;}</style><div id=\"sk-container-id-2\" class=\"sk-top-container\"><div class=\"sk-text-repr-fallback\"><pre>KNeighborsClassifier()</pre><b>In a Jupyter environment, please rerun this cell to show the HTML representation or trust the notebook. <br />On GitHub, the HTML representation is unable to render, please try loading this page with nbviewer.org.</b></div><div class=\"sk-container\" hidden><div class=\"sk-item\"><div class=\"sk-estimator sk-toggleable\"><input class=\"sk-toggleable__control sk-hidden--visually\" id=\"sk-estimator-id-2\" type=\"checkbox\" checked><label for=\"sk-estimator-id-2\" class=\"sk-toggleable__label sk-toggleable__label-arrow\">KNeighborsClassifier</label><div class=\"sk-toggleable__content\"><pre>KNeighborsClassifier()</pre></div></div></div></div></div>"
            ]
          },
          "metadata": {},
          "execution_count": 56
        }
      ]
    },
    {
      "cell_type": "code",
      "source": [
        "knn_clf.predict([some_digit])"
      ],
      "metadata": {
        "id": "V8vGxzf3w1kB",
        "colab": {
          "base_uri": "https://localhost:8080/"
        },
        "outputId": "6dc3a34a-2ced-4402-a965-82ac9740457f"
      },
      "execution_count": 57,
      "outputs": [
        {
          "output_type": "execute_result",
          "data": {
            "text/plain": [
              "array([[False,  True]])"
            ]
          },
          "metadata": {},
          "execution_count": 57
        }
      ]
    },
    {
      "cell_type": "code",
      "source": [
        "# 모든 레이블에 대한 F1 점수의 평균 계산\n",
        "y_train_knn_pred = cross_val_predict(knn_clf, X_train, y_multilabel, cv = 3)\n",
        "f1_score(y_multilabel, y_train_knn_pred, average = \"macro\")"
      ],
      "metadata": {
        "id": "1OPzvBlYw6_3",
        "colab": {
          "base_uri": "https://localhost:8080/"
        },
        "outputId": "d3b09a2b-7b0e-45c4-8464-8a2bb6e2edf3"
      },
      "execution_count": 58,
      "outputs": [
        {
          "output_type": "execute_result",
          "data": {
            "text/plain": [
              "0.976410265560605"
            ]
          },
          "metadata": {},
          "execution_count": 58
        }
      ]
    },
    {
      "cell_type": "markdown",
      "source": [
        "* 레이블에 클래스의 지지도(support)를 가중치로 주려면 average = \"weighted\"로 설정하면 됨.\n",
        "\n",
        "# 3.7 다중 출력 분류\n",
        "* 다중 출력 다중 클래스 분류: 다중 레이블 분류에서 한 레이블의 다중 클래스가 될 수 있도록 일반화한 것"
      ],
      "metadata": {
        "id": "V1IT1V6OxlqV"
      }
    },
    {
      "cell_type": "code",
      "source": [
        "noise = np.random.randint(0, 100, (len(X_train), 784))\n",
        "X_train_mod = X_train + noise\n",
        "noise = np.random.randint(0, 100, (len(X_test), 784))\n",
        "X_test_mod = X_test + noise\n",
        "y_train_mod = X_train\n",
        "y_test_mod = X_test"
      ],
      "metadata": {
        "id": "p8w1TbzcyPKu"
      },
      "execution_count": 61,
      "outputs": []
    },
    {
      "cell_type": "code",
      "source": [
        "def plot_digit(data):\n",
        "    image = data.reshape(28, 28)\n",
        "    plt.imshow(image, cmap = plt.cm.binary,\n",
        "               interpolation=\"nearest\")\n",
        "    plt.axis(\"off\")"
      ],
      "metadata": {
        "id": "AeFaefIRJT5C"
      },
      "execution_count": 63,
      "outputs": []
    },
    {
      "cell_type": "code",
      "source": [
        "some_index = 5501\n",
        "plt.subplot(121); plot_digit(X_test_mod[some_index])\n",
        "plt.subplot(122); plot_digit(y_test_mod[some_index])\n",
        "plt.show()"
      ],
      "metadata": {
        "colab": {
          "base_uri": "https://localhost:8080/",
          "height": 262
        },
        "id": "U84Bh2qWJVst",
        "outputId": "18efca97-7e92-44e7-8be7-e5a699762b2a"
      },
      "execution_count": 64,
      "outputs": [
        {
          "output_type": "display_data",
          "data": {
            "text/plain": [
              "<Figure size 640x480 with 2 Axes>"
            ],
            "image/png": "[encoded data removed]"
          },
          "metadata": {}
        }
      ]
    },
    {
      "cell_type": "code",
      "source": [
        "knn_clf.fit(X_train_mod, y_train_mod)\n",
        "clean_digit = knn_clf.predict([X_test_mod[some_index]])\n",
        "plot_digit(clean_digit)"
      ],
      "metadata": {
        "id": "vJnoAQYCyqnH",
        "colab": {
          "base_uri": "https://localhost:8080/",
          "height": 406
        },
        "outputId": "e183bc88-7565-459e-a3ed-5984aef25390"
      },
      "execution_count": 65,
      "outputs": [
        {
          "output_type": "display_data",
          "data": {
            "text/plain": [
              "<Figure size 640x480 with 1 Axes>"
            ],
            "image/png": "[encoded data removed]"
          },
          "metadata": {}
        }
      ]
    }
  ],
  "metadata": {
    "colab": {
      "provenance": [],
      "authorship_tag": "ABX9TyMisvbcVOwk9Oubr4ws8opH",
      "include_colab_link": true
    },
    "kernelspec": {
      "display_name": "Python 3",
      "name": "python3"
    },
    "language_info": {
      "name": "python"
    }
  },
  "nbformat": 4,
  "nbformat_minor": 0
}