{
  "nbformat": 4,
  "nbformat_minor": 0,
  "metadata": {
    "colab": {
      "provenance": [],
      "authorship_tag": "ABX9TyOGOW90RjqVwzdC8JYYjKKa",
      "include_colab_link": true
    },
    "kernelspec": {
      "name": "python3",
      "display_name": "Python 3"
    },
    "language_info": {
      "name": "python"
    }
  },
  "cells": [
    {
      "cell_type": "markdown",
      "metadata": {
        "id": "view-in-github",
        "colab_type": "text"
      },
      "source": [
        "<a href=\"https://colab.research.google.com/github/Ariara61/ESAA/blob/main/%ED%8C%8C%EC%9D%B4%EC%8D%AC_%EB%A8%B8%EC%8B%A0%EB%9F%AC%EB%8B%9D_%EC%99%84%EB%B2%BD%EA%B0%80%EC%9D%B4%EB%93%9C_497~512.ipynb\" target=\"_parent\"><img src=\"https://colab.research.google.com/assets/colab-badge.svg\" alt=\"Open In Colab\"/></a>"
      ]
    },
    {
      "cell_type": "markdown",
      "source": [
        "## 05. 감성 분석\n",
        "**감성 분석 소개**\n",
        "* 감성 분석: 문서의 주관적인 감성/의견/기분 등을 파악하기 위한 방법\n",
        "* 문서 내 텍스트가 나타내는 여러 가지 주관적인 단어와 문맥을 기반으로 감성 수치를 계산하는 방법을 이용\n",
        "* 감성 지수는 긍정 감성 지수와 부정 감성 지수로 구성되며 이들 지수를 합산해 긍정 감성 또는 부정 감성을 결정\n",
        "* 지도학습: 학습 데이터와 타깃 레이블 값을 기반으로 감성 분석 학습을 수행한 뒤 이를 기반으로 다른 데이터의 감성 분석을 예측하는 방법으로 일반적인 텍스트 기반의 분류와 거의 동일\n",
        "* 비지도 학습: \"Lexicon\"이라는 일종의 감성 어휘 사전을 이용. Lexicon은 감성 분석을 위한 용어와 문맥에 대한 다양한 정보를 가지고 있으며, 이를 이용해 문서의 긍정적, 부정적 감성 여부를 판단.\n",
        "\n",
        "**지도학습 기반 감성 분석 실습 - IMDB 영화평**\n"
      ],
      "metadata": {
        "id": "EWIwdAjBu9B2"
      }
    },
    {
      "cell_type": "code",
      "execution_count": 2,
      "metadata": {
        "colab": {
          "base_uri": "https://localhost:8080/",
          "height": 143
        },
        "id": "90M0BZLcusbu",
        "outputId": "39278a49-200e-46c3-decd-6b98906c0c2a"
      },
      "outputs": [
        {
          "output_type": "execute_result",
          "data": {
            "text/plain": [
              "         id  sentiment                                             review\n",
              "0  \"5814_8\"          1  \"With all this stuff going down at the moment ...\n",
              "1  \"2381_9\"          1  \"\\\"The Classic War of the Worlds\\\" by Timothy ...\n",
              "2  \"7759_3\"          0  \"The film starts with a manager (Nicholas Bell..."
            ],
            "text/html": [
              "\n",
              "  <div id=\"df-d5f83ffe-21c6-4c37-9e68-8a3dc6fafbd7\" class=\"colab-df-container\">\n",
              "    <div>\n",
              "<style scoped>\n",
              "    .dataframe tbody tr th:only-of-type {\n",
              "        vertical-align: middle;\n",
              "    }\n",
              "\n",
              "    .dataframe tbody tr th {\n",
              "        vertical-align: top;\n",
              "    }\n",
              "\n",
              "    .dataframe thead th {\n",
              "        text-align: right;\n",
              "    }\n",
              "</style>\n",
              "<table border=\"1\" class=\"dataframe\">\n",
              "  <thead>\n",
              "    <tr style=\"text-align: right;\">\n",
              "      <th></th>\n",
              "      <th>id</th>\n",
              "      <th>sentiment</th>\n",
              "      <th>review</th>\n",
              "    </tr>\n",
              "  </thead>\n",
              "  <tbody>\n",
              "    <tr>\n",
              "      <th>0</th>\n",
              "      <td>\"5814_8\"</td>\n",
              "      <td>1</td>\n",
              "      <td>\"With all this stuff going down at the moment ...</td>\n",
              "    </tr>\n",
              "    <tr>\n",
              "      <th>1</th>\n",
              "      <td>\"2381_9\"</td>\n",
              "      <td>1</td>\n",
              "      <td>\"\\\"The Classic War of the Worlds\\\" by Timothy ...</td>\n",
              "    </tr>\n",
              "    <tr>\n",
              "      <th>2</th>\n",
              "      <td>\"7759_3\"</td>\n",
              "      <td>0</td>\n",
              "      <td>\"The film starts with a manager (Nicholas Bell...</td>\n",
              "    </tr>\n",
              "  </tbody>\n",
              "</table>\n",
              "</div>\n",
              "    <div class=\"colab-df-buttons\">\n",
              "\n",
              "  <div class=\"colab-df-container\">\n",
              "    <button class=\"colab-df-convert\" onclick=\"convertToInteractive('df-d5f83ffe-21c6-4c37-9e68-8a3dc6fafbd7')\"\n",
              "            title=\"Convert this dataframe to an interactive table.\"\n",
              "            style=\"display:none;\">\n",
              "\n",
              "  <svg xmlns=\"http://www.w3.org/2000/svg\" height=\"24px\" viewBox=\"0 -960 960 960\">\n",
              "    <path d=\"M120-120v-720h720v720H120Zm60-500h600v-160H180v160Zm220 220h160v-160H400v160Zm0 220h160v-160H400v160ZM180-400h160v-160H180v160Zm440 0h160v-160H620v160ZM180-180h160v-160H180v160Zm440 0h160v-160H620v160Z\"/>\n",
              "  </svg>\n",
              "    </button>\n",
              "\n",
              "  <style>\n",
              "    .colab-df-container {\n",
              "      display:flex;\n",
              "      gap: 12px;\n",
              "    }\n",
              "\n",
              "    .colab-df-convert {\n",
              "      background-color: #E8F0FE;\n",
              "      border: none;\n",
              "      border-radius: 50%;\n",
              "      cursor: pointer;\n",
              "      display: none;\n",
              "      fill: #1967D2;\n",
              "      height: 32px;\n",
              "      padding: 0 0 0 0;\n",
              "      width: 32px;\n",
              "    }\n",
              "\n",
              "    .colab-df-convert:hover {\n",
              "      background-color: #E2EBFA;\n",
              "      box-shadow: 0px 1px 2px rgba(60, 64, 67, 0.3), 0px 1px 3px 1px rgba(60, 64, 67, 0.15);\n",
              "      fill: #174EA6;\n",
              "    }\n",
              "\n",
              "    .colab-df-buttons div {\n",
              "      margin-bottom: 4px;\n",
              "    }\n",
              "\n",
              "    [theme=dark] .colab-df-convert {\n",
              "      background-color: #3B4455;\n",
              "      fill: #D2E3FC;\n",
              "    }\n",
              "\n",
              "    [theme=dark] .colab-df-convert:hover {\n",
              "      background-color: #434B5C;\n",
              "      box-shadow: 0px 1px 3px 1px rgba(0, 0, 0, 0.15);\n",
              "      filter: drop-shadow(0px 1px 2px rgba(0, 0, 0, 0.3));\n",
              "      fill: #FFFFFF;\n",
              "    }\n",
              "  </style>\n",
              "\n",
              "    <script>\n",
              "      const buttonEl =\n",
              "        document.querySelector('#df-d5f83ffe-21c6-4c37-9e68-8a3dc6fafbd7 button.colab-df-convert');\n",
              "      buttonEl.style.display =\n",
              "        google.colab.kernel.accessAllowed ? 'block' : 'none';\n",
              "\n",
              "      async function convertToInteractive(key) {\n",
              "        const element = document.querySelector('#df-d5f83ffe-21c6-4c37-9e68-8a3dc6fafbd7');\n",
              "        const dataTable =\n",
              "          await google.colab.kernel.invokeFunction('convertToInteractive',\n",
              "                                                    [key], {});\n",
              "        if (!dataTable) return;\n",
              "\n",
              "        const docLinkHtml = 'Like what you see? Visit the ' +\n",
              "          '<a target=\"_blank\" href=https://colab.research.google.com/notebooks/data_table.ipynb>data table notebook</a>'\n",
              "          + ' to learn more about interactive tables.';\n",
              "        element.innerHTML = '';\n",
              "        dataTable['output_type'] = 'display_data';\n",
              "        await google.colab.output.renderOutput(dataTable, element);\n",
              "        const docLink = document.createElement('div');\n",
              "        docLink.innerHTML = docLinkHtml;\n",
              "        element.appendChild(docLink);\n",
              "      }\n",
              "    </script>\n",
              "  </div>\n",
              "\n",
              "\n",
              "<div id=\"df-7a6f7711-e3f6-49e5-92f4-3ddbacbfbcb6\">\n",
              "  <button class=\"colab-df-quickchart\" onclick=\"quickchart('df-7a6f7711-e3f6-49e5-92f4-3ddbacbfbcb6')\"\n",
              "            title=\"Suggest charts.\"\n",
              "            style=\"display:none;\">\n",
              "\n",
              "<svg xmlns=\"http://www.w3.org/2000/svg\" height=\"24px\"viewBox=\"0 0 24 24\"\n",
              "     width=\"24px\">\n",
              "    <g>\n",
              "        <path d=\"M19 3H5c-1.1 0-2 .9-2 2v14c0 1.1.9 2 2 2h14c1.1 0 2-.9 2-2V5c0-1.1-.9-2-2-2zM9 17H7v-7h2v7zm4 0h-2V7h2v10zm4 0h-2v-4h2v4z\"/>\n",
              "    </g>\n",
              "</svg>\n",
              "  </button>\n",
              "\n",
              "<style>\n",
              "  .colab-df-quickchart {\n",
              "      --bg-color: #E8F0FE;\n",
              "      --fill-color: #1967D2;\n",
              "      --hover-bg-color: #E2EBFA;\n",
              "      --hover-fill-color: #174EA6;\n",
              "      --disabled-fill-color: #AAA;\n",
              "      --disabled-bg-color: #DDD;\n",
              "  }\n",
              "\n",
              "  [theme=dark] .colab-df-quickchart {\n",
              "      --bg-color: #3B4455;\n",
              "      --fill-color: #D2E3FC;\n",
              "      --hover-bg-color: #434B5C;\n",
              "      --hover-fill-color: #FFFFFF;\n",
              "      --disabled-bg-color: #3B4455;\n",
              "      --disabled-fill-color: #666;\n",
              "  }\n",
              "\n",
              "  .colab-df-quickchart {\n",
              "    background-color: var(--bg-color);\n",
              "    border: none;\n",
              "    border-radius: 50%;\n",
              "    cursor: pointer;\n",
              "    display: none;\n",
              "    fill: var(--fill-color);\n",
              "    height: 32px;\n",
              "    padding: 0;\n",
              "    width: 32px;\n",
              "  }\n",
              "\n",
              "  .colab-df-quickchart:hover {\n",
              "    background-color: var(--hover-bg-color);\n",
              "    box-shadow: 0 1px 2px rgba(60, 64, 67, 0.3), 0 1px 3px 1px rgba(60, 64, 67, 0.15);\n",
              "    fill: var(--button-hover-fill-color);\n",
              "  }\n",
              "\n",
              "  .colab-df-quickchart-complete:disabled,\n",
              "  .colab-df-quickchart-complete:disabled:hover {\n",
              "    background-color: var(--disabled-bg-color);\n",
              "    fill: var(--disabled-fill-color);\n",
              "    box-shadow: none;\n",
              "  }\n",
              "\n",
              "  .colab-df-spinner {\n",
              "    border: 2px solid var(--fill-color);\n",
              "    border-color: transparent;\n",
              "    border-bottom-color: var(--fill-color);\n",
              "    animation:\n",
              "      spin 1s steps(1) infinite;\n",
              "  }\n",
              "\n",
              "  @keyframes spin {\n",
              "    0% {\n",
              "      border-color: transparent;\n",
              "      border-bottom-color: var(--fill-color);\n",
              "      border-left-color: var(--fill-color);\n",
              "    }\n",
              "    20% {\n",
              "      border-color: transparent;\n",
              "      border-left-color: var(--fill-color);\n",
              "      border-top-color: var(--fill-color);\n",
              "    }\n",
              "    30% {\n",
              "      border-color: transparent;\n",
              "      border-left-color: var(--fill-color);\n",
              "      border-top-color: var(--fill-color);\n",
              "      border-right-color: var(--fill-color);\n",
              "    }\n",
              "    40% {\n",
              "      border-color: transparent;\n",
              "      border-right-color: var(--fill-color);\n",
              "      border-top-color: var(--fill-color);\n",
              "    }\n",
              "    60% {\n",
              "      border-color: transparent;\n",
              "      border-right-color: var(--fill-color);\n",
              "    }\n",
              "    80% {\n",
              "      border-color: transparent;\n",
              "      border-right-color: var(--fill-color);\n",
              "      border-bottom-color: var(--fill-color);\n",
              "    }\n",
              "    90% {\n",
              "      border-color: transparent;\n",
              "      border-bottom-color: var(--fill-color);\n",
              "    }\n",
              "  }\n",
              "</style>\n",
              "\n",
              "  <script>\n",
              "    async function quickchart(key) {\n",
              "      const quickchartButtonEl =\n",
              "        document.querySelector('#' + key + ' button');\n",
              "      quickchartButtonEl.disabled = true;  // To prevent multiple clicks.\n",
              "      quickchartButtonEl.classList.add('colab-df-spinner');\n",
              "      try {\n",
              "        const charts = await google.colab.kernel.invokeFunction(\n",
              "            'suggestCharts', [key], {});\n",
              "      } catch (error) {\n",
              "        console.error('Error during call to suggestCharts:', error);\n",
              "      }\n",
              "      quickchartButtonEl.classList.remove('colab-df-spinner');\n",
              "      quickchartButtonEl.classList.add('colab-df-quickchart-complete');\n",
              "    }\n",
              "    (() => {\n",
              "      let quickchartButtonEl =\n",
              "        document.querySelector('#df-7a6f7711-e3f6-49e5-92f4-3ddbacbfbcb6 button');\n",
              "      quickchartButtonEl.style.display =\n",
              "        google.colab.kernel.accessAllowed ? 'block' : 'none';\n",
              "    })();\n",
              "  </script>\n",
              "</div>\n",
              "    </div>\n",
              "  </div>\n"
            ]
          },
          "metadata": {},
          "execution_count": 2
        }
      ],
      "source": [
        "import pandas as pd\n",
        "\n",
        "review_df = pd.read_csv(\"labeledTrainData.tsv\", header = 0, sep = \"\\t\", quoting = 3)\n",
        "review_df.head(3)"
      ]
    },
    {
      "cell_type": "markdown",
      "source": [
        "* Feature\n",
        " * id: 각 데이터의 id\n",
        " * sentiment: 영화평의 Sentiment 결과 값\n",
        " * review: 영화평의 텍스트"
      ],
      "metadata": {
        "id": "OZlLkiHwxxZb"
      }
    },
    {
      "cell_type": "code",
      "source": [
        "print(review_df[\"review\"][0])"
      ],
      "metadata": {
        "colab": {
          "base_uri": "https://localhost:8080/"
        },
        "id": "7nN5WabhxvQ2",
        "outputId": "ae737d58-2d32-4144-98c4-1d6ac8b26fb9"
      },
      "execution_count": 3,
      "outputs": [
        {
          "output_type": "stream",
          "name": "stdout",
          "text": [
            "\"With all this stuff going down at the moment with MJ i've started listening to his music, watching the odd documentary here and there, watched The Wiz and watched Moonwalker again. Maybe i just want to get a certain insight into this guy who i thought was really cool in the eighties just to maybe make up my mind whether he is guilty or innocent. Moonwalker is part biography, part feature film which i remember going to see at the cinema when it was originally released. Some of it has subtle messages about MJ's feeling towards the press and also the obvious message of drugs are bad m'kay.<br /><br />Visually impressive but of course this is all about Michael Jackson so unless you remotely like MJ in anyway then you are going to hate this and find it boring. Some may call MJ an egotist for consenting to the making of this movie BUT MJ and most of his fans would say that he made it for the fans which if true is really nice of him.<br /><br />The actual feature film bit when it finally starts is only on for 20 minutes or so excluding the Smooth Criminal sequence and Joe Pesci is convincing as a psychopathic all powerful drug lord. Why he wants MJ dead so bad is beyond me. Because MJ overheard his plans? Nah, Joe Pesci's character ranted that he wanted people to know it is he who is supplying drugs etc so i dunno, maybe he just hates MJ's music.<br /><br />Lots of cool things in this like MJ turning into a car and a robot and the whole Speed Demon sequence. Also, the director must have had the patience of a saint when it came to filming the kiddy Bad sequence as usually directors hate working with one kid let alone a whole bunch of them performing a complex dance scene.<br /><br />Bottom line, this movie is for people who like MJ on one level or another (which i think is most people). If not, then stay away. It does try and give off a wholesome message and ironically MJ's bestest buddy in this movie is a girl! Michael Jackson is truly one of the most talented people ever to grace this planet but is he guilty? Well, with all the attention i've gave this subject....hmmm well i don't know because people can be different behind closed doors, i know this for a fact. He is either an extremely nice but stupid guy or one of the most sickest liars. I hope he is not the latter.\"\n"
          ]
        }
      ]
    },
    {
      "cell_type": "markdown",
      "source": [
        "* <br /> 문자열은 피처로 만들 필요가 없으니 삭제\n",
        "* 판다스의 DataFrame/Series는 문자열 연산을 지원하기 위해 str 속성을 이용. str을 적용하면 다양한 문자열 연산을 수행할 수 있음.\n",
        "* replace()를 str에 적용해 <br /> 태그를 공백으로 대체\n",
        "* 영어가 아닌 숫자/특수문자 역시 Sentiment를 위한 피처로는 별 의미가 없어 보이므로 모두 공란으로 변경\n",
        "* 숫자/특수문자를 찾고 이를 변환하는 것은 정규 표현식을 이용\n",
        "* 파이썬의 re 모듈은 편리하게 정규 표현식을 지원\n",
        "* 정규 표현식 [^a-zA-Z]의 의미는 영어 대/소문자가 아닌 모든 문자를 찾는 것\n",
        "* re.sum(\"[^a-zA-Z]\", \" \", x)는 영어 대/소문자가 아닌 모든 문자를 찾아서 공란으로 변경"
      ],
      "metadata": {
        "id": "FwXrGTS5x8C1"
      }
    },
    {
      "cell_type": "code",
      "source": [
        "import re\n",
        "\n",
        "# <br> html 태그는 replace 함수로 공백으로 변환\n",
        "review_df[\"review\"] = review_df[\"review\"].str.replace(\"<br \\>\", \" \")\n",
        "\n",
        "# 파이썬의 정규 표현식 모듈인 re를 이용해 영어 문자열이 아닌 문자는 모두 공백으로 변환\n",
        "review_df[\"review\"] = review_df[\"review\"].apply(lambda x : re.sub(\"[^a-zA-Z]\", \" \", x))"
      ],
      "metadata": {
        "colab": {
          "base_uri": "https://localhost:8080/"
        },
        "id": "fsII8XVLyod1",
        "outputId": "18139378-2e10-4017-c3e6-598278a58644"
      },
      "execution_count": 4,
      "outputs": [
        {
          "output_type": "stream",
          "name": "stderr",
          "text": [
            "<ipython-input-4-762f79139cd9>:4: FutureWarning: The default value of regex will change from True to False in a future version.\n",
            "  review_df[\"review\"] = review_df[\"review\"].str.replace(\"<br \\>\", \" \")\n"
          ]
        }
      ]
    },
    {
      "cell_type": "markdown",
      "source": [
        "* 결정 값 클래스인 sentiment 칼럼을 별도로 추출해 결정 값 데이터 세트를 만들고, 원본 데이터 세트에서 id와 sentiment 칼럼을 삭제해 피처 데이트 세트를 생성\n",
        "* train_test_split()을 이용해 학습용과 테스트용 데이터 세트로 분리"
      ],
      "metadata": {
        "id": "kxNwcNsrzUvg"
      }
    },
    {
      "cell_type": "code",
      "source": [
        "from sklearn.model_selection import train_test_split\n",
        "\n",
        "class_df = review_df[\"sentiment\"]\n",
        "feature_df = review_df.drop([\"id\", \"sentiment\"], axis = 1, inplace = False)\n",
        "\n",
        "X_train, X_test, y_train, y_test = train_test_split(feature_df, class_df, test_size = 0.3,\n",
        "                                                    random_state = 156)\n",
        "X_train.shape, X_test.shape"
      ],
      "metadata": {
        "colab": {
          "base_uri": "https://localhost:8080/"
        },
        "id": "0cf4ycGEzRi7",
        "outputId": "11078b01-036b-49b3-dd28-0eae6a919c6a"
      },
      "execution_count": 5,
      "outputs": [
        {
          "output_type": "execute_result",
          "data": {
            "text/plain": [
              "((17500, 1), (7500, 1))"
            ]
          },
          "metadata": {},
          "execution_count": 5
        }
      ]
    },
    {
      "cell_type": "markdown",
      "source": [
        "* 감상평 텍스트를 피처 벡터화한 후에 ML 분류 알고리즘을 적용해 예측 성능을 측정\n",
        "* Count 벡터화를 적용해 예측 성능을 측정하고, TF-IDF 벡터화를 적용\n",
        "* Logistic Regression을 이용\n",
        "* 예측 성능 평가는 이진 분류임을 고려해 테스트 데이터 세트의 정확도와 ROC_AUC를 모두 측정"
      ],
      "metadata": {
        "id": "Sv3kcqHA0M2c"
      }
    },
    {
      "cell_type": "code",
      "source": [
        "from sklearn.feature_extraction.text import CountVectorizer, TfidfVectorizer\n",
        "from sklearn.pipeline import Pipeline\n",
        "from sklearn.linear_model import LogisticRegression\n",
        "from sklearn.metrics import accuracy_score, roc_auc_score\n",
        "\n",
        "# 스톱 워드는 English, filtering, ngram은 (1, 2)로 설정해 CountVectorization 수행.\n",
        "# LogisticRegression의 C는 10으로 설정.\n",
        "pipeline = Pipeline([\n",
        "    (\"cnt_vect\", CountVectorizer(stop_words = \"english\", ngram_range = (1, 2))),\n",
        "    (\"lr_clf\", LogisticRegression(C = 10))\n",
        "])\n",
        "\n",
        "# Pipeline 객체를 이용해 fit(), predict()로 학습/예측 수행. predict_proba()는 roc_auc 때문에 수행.\n",
        "pipeline.fit(X_train[\"review\"], y_train)\n",
        "pred = pipeline.predict(X_test[\"review\"])\n",
        "pred_probs = pipeline.predict_proba(X_test[\"review\"])[:, 1]\n",
        "\n",
        "print(\"예측 정확도는 {0:.4f}, ROC-AUC는 {1:.4f}\".format(accuracy_score(y_test, pred),\n",
        "                                                 roc_auc_score(y_test, pred_probs)))"
      ],
      "metadata": {
        "colab": {
          "base_uri": "https://localhost:8080/"
        },
        "id": "Pfu0utMZ0bZv",
        "outputId": "8bda9a9a-d1ae-46d7-d53b-094ceae7299c"
      },
      "execution_count": 6,
      "outputs": [
        {
          "output_type": "stream",
          "name": "stderr",
          "text": [
            "/usr/local/lib/python3.10/dist-packages/sklearn/linear_model/_logistic.py:458: ConvergenceWarning: lbfgs failed to converge (status=1):\n",
            "STOP: TOTAL NO. of ITERATIONS REACHED LIMIT.\n",
            "\n",
            "Increase the number of iterations (max_iter) or scale the data as shown in:\n",
            "    https://scikit-learn.org/stable/modules/preprocessing.html\n",
            "Please also refer to the documentation for alternative solver options:\n",
            "    https://scikit-learn.org/stable/modules/linear_model.html#logistic-regression\n",
            "  n_iter_i = _check_optimize_result(\n"
          ]
        },
        {
          "output_type": "stream",
          "name": "stdout",
          "text": [
            "예측 정확도는 0.8865, ROC-AUC는 0.9506\n"
          ]
        }
      ]
    },
    {
      "cell_type": "markdown",
      "source": [
        "* TF-IDF 벡터화를 적용해 다시 예측 성능을 측정"
      ],
      "metadata": {
        "id": "eagmRyIy1iA-"
      }
    },
    {
      "cell_type": "code",
      "source": [
        "# 스톱 워드는 english, filtering, ngram은 (1, 2)로 설정해 TF-IDF 벡터화 수행.\n",
        "# LogisticRegression의 C는 10으로 설정.\n",
        "pipeline = Pipeline([\n",
        "    (\"tfidf_vect\", TfidfVectorizer(stop_words = \"english\", ngram_range = (1, 2))),\n",
        "    (\"lr_clf\", LogisticRegression(C = 10))\n",
        "])\n",
        "\n",
        "pipeline.fit(X_train[\"review\"], y_train)\n",
        "pred = pipeline.predict(X_test[\"review\"])\n",
        "pred_probs = pipeline.predict_proba(X_test[\"review\"])[:, 1]\n",
        "\n",
        "print(\"예측 정확도는 {0:.4f}, ROC-AUC는 {1:.4f}\".format(accuracy_score(y_test, pred),\n",
        "                                                 roc_auc_score(y_test, pred_probs)))"
      ],
      "metadata": {
        "colab": {
          "base_uri": "https://localhost:8080/"
        },
        "id": "uQWsfjra1knA",
        "outputId": "26d26e00-7af1-45ca-dd31-e8cbe04c2358"
      },
      "execution_count": 7,
      "outputs": [
        {
          "output_type": "stream",
          "name": "stdout",
          "text": [
            "예측 정확도는 0.8932, ROC-AUC는 0.9600\n"
          ]
        }
      ]
    },
    {
      "cell_type": "markdown",
      "source": [
        "* TF-IDF 기반 피처 벡터화의 예측 성능이 조금 더 나아짐\n",
        "\n",
        "**비지도학습 기반 감성 분석 소개**\n",
        "* 비지도 감성 분석은 Lexicon을 기반으로 함\n",
        "* 많은 감성 분석용 데이터는 결정된 레이블 값을 가지고 있지 않음. 이러한 경우 Lexicon을 유용하게 사용.\n",
        "* Lexicon은 일반적으로 어휘집을 의미하지만, 여기서는 주로 감성만을 분석하기 위해 지원하는 감성 어휘 사전.\n",
        "* 감성 사전은 긍정 감성 또는 부정 감성의 정도를 의미하는 수치를 가지고 있으며 이를 감정 지수라고 함.감성 지수는 단어의 위치나 주변 단어, 문맥, POS 등을 참고해 결정됨.\n",
        "* NLTK 패키지가 감성 사전을 구현함. NLTK는 많은 서브 모듈을 가지고 있으며 그중에 감성 사전인 Lexicon 모듈도 포함되어 있음.\n",
        "*  WordNet: NLP에서 제공하는 방대한 영어 어휘 사전.\n",
        "* 시맨틱(semantic): \"문맥상 의미\". 언어학에서 시맨틱을 표현하기 위해서 여러 가지 규칙을 정해왔으며, NLP 패키지는 시맨틱 프로그램적으로 인터페이스 할 수 있는 다양한 방법을 제공\n",
        "* WordNet은 다양한 상황에서 같은 어휘라도 다르게 사용되는 어휘의 시맨틱 정보를 제공하며, 이를 위해 각각의 품사로 구성된 개별 단어를 Synset이라는 개념을 이용해 표현.\n",
        "* Synset: 단순한 하나의 단어가 아니라 그 단어가 가지는 문맥, 시맨틱 정보를 제공하는 WordNet의 핵심 개념\n",
        "* NLTK의 감성 사전은 감성에 대한 훌륭한 사전 역할을 제공하지만, 예측 성능은 그리 좋지 못함. 그 때문에 실제 업무의 적용은 NLTK 패키지가 아닌 다른 감성 사전을 적용하는 것이 일반적.\n",
        "* 대표적인 감성 사전\n",
        " * SentiWordNet: WordNet의 확장 버전으로, 단어의 긍정성, 부정성, 객관성 점수를 제공\n",
        " * VADER: 텍스트에 나타나는 감정을 평가하기 위한 규칙 기반 도구\n",
        " * Pattern: 웹 마이닝을 위한 파이썬 라이브러리\n",
        "\n",
        "**SentiWordNet을 이용한 감성 분석**\n",
        "\n",
        "<WordNet Synset과 SentiwordNet SentiSynset 클래스의 이해>\n",
        "* WordNet을 이용하기 위해서는 NLTK를 셋업한 후에 WordNet 서브패키지와 데이터 세트를 내려받아야 함."
      ],
      "metadata": {
        "id": "y1PYaAII2MDk"
      }
    },
    {
      "cell_type": "code",
      "source": [
        "import nltk\n",
        "nltk.download(\"all\")"
      ],
      "metadata": {
        "colab": {
          "base_uri": "https://localhost:8080/"
        },
        "id": "7tPD_77W4y8I",
        "outputId": "ba39a269-1c8a-4064-e1ac-ce951d565dc2"
      },
      "execution_count": 8,
      "outputs": [
        {
          "output_type": "stream",
          "name": "stderr",
          "text": [
            "[nltk_data] Downloading collection 'all'\n",
            "[nltk_data]    | \n",
            "[nltk_data]    | Downloading package abc to /root/nltk_data...\n",
            "[nltk_data]    |   Unzipping corpora/abc.zip.\n",
            "[nltk_data]    | Downloading package alpino to /root/nltk_data...\n",
            "[nltk_data]    |   Unzipping corpora/alpino.zip.\n",
            "[nltk_data]    | Downloading package averaged_perceptron_tagger to\n",
            "[nltk_data]    |     /root/nltk_data...\n",
            "[nltk_data]    |   Unzipping taggers/averaged_perceptron_tagger.zip.\n",
            "[nltk_data]    | Downloading package averaged_perceptron_tagger_ru to\n",
            "[nltk_data]    |     /root/nltk_data...\n",
            "[nltk_data]    |   Unzipping\n",
            "[nltk_data]    |       taggers/averaged_perceptron_tagger_ru.zip.\n",
            "[nltk_data]    | Downloading package basque_grammars to\n",
            "[nltk_data]    |     /root/nltk_data...\n",
            "[nltk_data]    |   Unzipping grammars/basque_grammars.zip.\n",
            "[nltk_data]    | Downloading package bcp47 to /root/nltk_data...\n",
            "[nltk_data]    | Downloading package biocreative_ppi to\n",
            "[nltk_data]    |     /root/nltk_data...\n",
            "[nltk_data]    |   Unzipping corpora/biocreative_ppi.zip.\n",
            "[nltk_data]    | Downloading package bllip_wsj_no_aux to\n",
            "[nltk_data]    |     /root/nltk_data...\n",
            "[nltk_data]    |   Unzipping models/bllip_wsj_no_aux.zip.\n",
            "[nltk_data]    | Downloading package book_grammars to\n",
            "[nltk_data]    |     /root/nltk_data...\n",
            "[nltk_data]    |   Unzipping grammars/book_grammars.zip.\n",
            "[nltk_data]    | Downloading package brown to /root/nltk_data...\n",
            "[nltk_data]    |   Unzipping corpora/brown.zip.\n",
            "[nltk_data]    | Downloading package brown_tei to /root/nltk_data...\n",
            "[nltk_data]    |   Unzipping corpora/brown_tei.zip.\n",
            "[nltk_data]    | Downloading package cess_cat to /root/nltk_data...\n",
            "[nltk_data]    |   Unzipping corpora/cess_cat.zip.\n",
            "[nltk_data]    | Downloading package cess_esp to /root/nltk_data...\n",
            "[nltk_data]    |   Unzipping corpora/cess_esp.zip.\n",
            "[nltk_data]    | Downloading package chat80 to /root/nltk_data...\n",
            "[nltk_data]    |   Unzipping corpora/chat80.zip.\n",
            "[nltk_data]    | Downloading package city_database to\n",
            "[nltk_data]    |     /root/nltk_data...\n",
            "[nltk_data]    |   Unzipping corpora/city_database.zip.\n",
            "[nltk_data]    | Downloading package cmudict to /root/nltk_data...\n",
            "[nltk_data]    |   Unzipping corpora/cmudict.zip.\n",
            "[nltk_data]    | Downloading package comparative_sentences to\n",
            "[nltk_data]    |     /root/nltk_data...\n",
            "[nltk_data]    |   Unzipping corpora/comparative_sentences.zip.\n",
            "[nltk_data]    | Downloading package comtrans to /root/nltk_data...\n",
            "[nltk_data]    | Downloading package conll2000 to /root/nltk_data...\n",
            "[nltk_data]    |   Unzipping corpora/conll2000.zip.\n",
            "[nltk_data]    | Downloading package conll2002 to /root/nltk_data...\n",
            "[nltk_data]    |   Unzipping corpora/conll2002.zip.\n",
            "[nltk_data]    | Downloading package conll2007 to /root/nltk_data...\n",
            "[nltk_data]    | Downloading package crubadan to /root/nltk_data...\n",
            "[nltk_data]    |   Unzipping corpora/crubadan.zip.\n",
            "[nltk_data]    | Downloading package dependency_treebank to\n",
            "[nltk_data]    |     /root/nltk_data...\n",
            "[nltk_data]    |   Unzipping corpora/dependency_treebank.zip.\n",
            "[nltk_data]    | Downloading package dolch to /root/nltk_data...\n",
            "[nltk_data]    |   Unzipping corpora/dolch.zip.\n",
            "[nltk_data]    | Downloading package europarl_raw to\n",
            "[nltk_data]    |     /root/nltk_data...\n",
            "[nltk_data]    |   Unzipping corpora/europarl_raw.zip.\n",
            "[nltk_data]    | Downloading package extended_omw to\n",
            "[nltk_data]    |     /root/nltk_data...\n",
            "[nltk_data]    | Downloading package floresta to /root/nltk_data...\n",
            "[nltk_data]    |   Unzipping corpora/floresta.zip.\n",
            "[nltk_data]    | Downloading package framenet_v15 to\n",
            "[nltk_data]    |     /root/nltk_data...\n",
            "[nltk_data]    |   Unzipping corpora/framenet_v15.zip.\n",
            "[nltk_data]    | Downloading package framenet_v17 to\n",
            "[nltk_data]    |     /root/nltk_data...\n",
            "[nltk_data]    |   Unzipping corpora/framenet_v17.zip.\n",
            "[nltk_data]    | Downloading package gazetteers to /root/nltk_data...\n",
            "[nltk_data]    |   Unzipping corpora/gazetteers.zip.\n",
            "[nltk_data]    | Downloading package genesis to /root/nltk_data...\n",
            "[nltk_data]    |   Unzipping corpora/genesis.zip.\n",
            "[nltk_data]    | Downloading package gutenberg to /root/nltk_data...\n",
            "[nltk_data]    |   Unzipping corpora/gutenberg.zip.\n",
            "[nltk_data]    | Downloading package ieer to /root/nltk_data...\n",
            "[nltk_data]    |   Unzipping corpora/ieer.zip.\n",
            "[nltk_data]    | Downloading package inaugural to /root/nltk_data...\n",
            "[nltk_data]    |   Unzipping corpora/inaugural.zip.\n",
            "[nltk_data]    | Downloading package indian to /root/nltk_data...\n",
            "[nltk_data]    |   Unzipping corpora/indian.zip.\n",
            "[nltk_data]    | Downloading package jeita to /root/nltk_data...\n",
            "[nltk_data]    | Downloading package kimmo to /root/nltk_data...\n",
            "[nltk_data]    |   Unzipping corpora/kimmo.zip.\n",
            "[nltk_data]    | Downloading package knbc to /root/nltk_data...\n",
            "[nltk_data]    | Downloading package large_grammars to\n",
            "[nltk_data]    |     /root/nltk_data...\n",
            "[nltk_data]    |   Unzipping grammars/large_grammars.zip.\n",
            "[nltk_data]    | Downloading package lin_thesaurus to\n",
            "[nltk_data]    |     /root/nltk_data...\n",
            "[nltk_data]    |   Unzipping corpora/lin_thesaurus.zip.\n",
            "[nltk_data]    | Downloading package mac_morpho to /root/nltk_data...\n",
            "[nltk_data]    |   Unzipping corpora/mac_morpho.zip.\n",
            "[nltk_data]    | Downloading package machado to /root/nltk_data...\n",
            "[nltk_data]    | Downloading package masc_tagged to /root/nltk_data...\n",
            "[nltk_data]    | Downloading package maxent_ne_chunker to\n",
            "[nltk_data]    |     /root/nltk_data...\n",
            "[nltk_data]    |   Unzipping chunkers/maxent_ne_chunker.zip.\n",
            "[nltk_data]    | Downloading package maxent_treebank_pos_tagger to\n",
            "[nltk_data]    |     /root/nltk_data...\n",
            "[nltk_data]    |   Unzipping taggers/maxent_treebank_pos_tagger.zip.\n",
            "[nltk_data]    | Downloading package moses_sample to\n",
            "[nltk_data]    |     /root/nltk_data...\n",
            "[nltk_data]    |   Unzipping models/moses_sample.zip.\n",
            "[nltk_data]    | Downloading package movie_reviews to\n",
            "[nltk_data]    |     /root/nltk_data...\n",
            "[nltk_data]    |   Unzipping corpora/movie_reviews.zip.\n",
            "[nltk_data]    | Downloading package mte_teip5 to /root/nltk_data...\n",
            "[nltk_data]    |   Unzipping corpora/mte_teip5.zip.\n",
            "[nltk_data]    | Downloading package mwa_ppdb to /root/nltk_data...\n",
            "[nltk_data]    |   Unzipping misc/mwa_ppdb.zip.\n",
            "[nltk_data]    | Downloading package names to /root/nltk_data...\n",
            "[nltk_data]    |   Unzipping corpora/names.zip.\n",
            "[nltk_data]    | Downloading package nombank.1.0 to /root/nltk_data...\n",
            "[nltk_data]    | Downloading package nonbreaking_prefixes to\n",
            "[nltk_data]    |     /root/nltk_data...\n",
            "[nltk_data]    |   Unzipping corpora/nonbreaking_prefixes.zip.\n",
            "[nltk_data]    | Downloading package nps_chat to /root/nltk_data...\n",
            "[nltk_data]    |   Unzipping corpora/nps_chat.zip.\n",
            "[nltk_data]    | Downloading package omw to /root/nltk_data...\n",
            "[nltk_data]    | Downloading package omw-1.4 to /root/nltk_data...\n",
            "[nltk_data]    | Downloading package opinion_lexicon to\n",
            "[nltk_data]    |     /root/nltk_data...\n",
            "[nltk_data]    |   Unzipping corpora/opinion_lexicon.zip.\n",
            "[nltk_data]    | Downloading package panlex_swadesh to\n",
            "[nltk_data]    |     /root/nltk_data...\n",
            "[nltk_data]    | Downloading package paradigms to /root/nltk_data...\n",
            "[nltk_data]    |   Unzipping corpora/paradigms.zip.\n",
            "[nltk_data]    | Downloading package pe08 to /root/nltk_data...\n",
            "[nltk_data]    |   Unzipping corpora/pe08.zip.\n",
            "[nltk_data]    | Downloading package perluniprops to\n",
            "[nltk_data]    |     /root/nltk_data...\n",
            "[nltk_data]    |   Unzipping misc/perluniprops.zip.\n",
            "[nltk_data]    | Downloading package pil to /root/nltk_data...\n",
            "[nltk_data]    |   Unzipping corpora/pil.zip.\n",
            "[nltk_data]    | Downloading package pl196x to /root/nltk_data...\n",
            "[nltk_data]    |   Unzipping corpora/pl196x.zip.\n",
            "[nltk_data]    | Downloading package porter_test to /root/nltk_data...\n",
            "[nltk_data]    |   Unzipping stemmers/porter_test.zip.\n",
            "[nltk_data]    | Downloading package ppattach to /root/nltk_data...\n",
            "[nltk_data]    |   Unzipping corpora/ppattach.zip.\n",
            "[nltk_data]    | Downloading package problem_reports to\n",
            "[nltk_data]    |     /root/nltk_data...\n",
            "[nltk_data]    |   Unzipping corpora/problem_reports.zip.\n",
            "[nltk_data]    | Downloading package product_reviews_1 to\n",
            "[nltk_data]    |     /root/nltk_data...\n",
            "[nltk_data]    |   Unzipping corpora/product_reviews_1.zip.\n",
            "[nltk_data]    | Downloading package product_reviews_2 to\n",
            "[nltk_data]    |     /root/nltk_data...\n",
            "[nltk_data]    |   Unzipping corpora/product_reviews_2.zip.\n",
            "[nltk_data]    | Downloading package propbank to /root/nltk_data...\n",
            "[nltk_data]    | Downloading package pros_cons to /root/nltk_data...\n",
            "[nltk_data]    |   Unzipping corpora/pros_cons.zip.\n",
            "[nltk_data]    | Downloading package ptb to /root/nltk_data...\n",
            "[nltk_data]    |   Unzipping corpora/ptb.zip.\n",
            "[nltk_data]    | Downloading package punkt to /root/nltk_data...\n",
            "[nltk_data]    |   Unzipping tokenizers/punkt.zip.\n",
            "[nltk_data]    | Downloading package qc to /root/nltk_data...\n",
            "[nltk_data]    |   Unzipping corpora/qc.zip.\n",
            "[nltk_data]    | Downloading package reuters to /root/nltk_data...\n",
            "[nltk_data]    | Downloading package rslp to /root/nltk_data...\n",
            "[nltk_data]    |   Unzipping stemmers/rslp.zip.\n",
            "[nltk_data]    | Downloading package rte to /root/nltk_data...\n",
            "[nltk_data]    |   Unzipping corpora/rte.zip.\n",
            "[nltk_data]    | Downloading package sample_grammars to\n",
            "[nltk_data]    |     /root/nltk_data...\n",
            "[nltk_data]    |   Unzipping grammars/sample_grammars.zip.\n",
            "[nltk_data]    | Downloading package semcor to /root/nltk_data...\n",
            "[nltk_data]    | Downloading package senseval to /root/nltk_data...\n",
            "[nltk_data]    |   Unzipping corpora/senseval.zip.\n",
            "[nltk_data]    | Downloading package sentence_polarity to\n",
            "[nltk_data]    |     /root/nltk_data...\n",
            "[nltk_data]    |   Unzipping corpora/sentence_polarity.zip.\n",
            "[nltk_data]    | Downloading package sentiwordnet to\n",
            "[nltk_data]    |     /root/nltk_data...\n",
            "[nltk_data]    |   Unzipping corpora/sentiwordnet.zip.\n",
            "[nltk_data]    | Downloading package shakespeare to /root/nltk_data...\n",
            "[nltk_data]    |   Unzipping corpora/shakespeare.zip.\n",
            "[nltk_data]    | Downloading package sinica_treebank to\n",
            "[nltk_data]    |     /root/nltk_data...\n",
            "[nltk_data]    |   Unzipping corpora/sinica_treebank.zip.\n",
            "[nltk_data]    | Downloading package smultron to /root/nltk_data...\n",
            "[nltk_data]    |   Unzipping corpora/smultron.zip.\n",
            "[nltk_data]    | Downloading package snowball_data to\n",
            "[nltk_data]    |     /root/nltk_data...\n",
            "[nltk_data]    | Downloading package spanish_grammars to\n",
            "[nltk_data]    |     /root/nltk_data...\n",
            "[nltk_data]    |   Unzipping grammars/spanish_grammars.zip.\n",
            "[nltk_data]    | Downloading package state_union to /root/nltk_data...\n",
            "[nltk_data]    |   Unzipping corpora/state_union.zip.\n",
            "[nltk_data]    | Downloading package stopwords to /root/nltk_data...\n",
            "[nltk_data]    |   Unzipping corpora/stopwords.zip.\n",
            "[nltk_data]    | Downloading package subjectivity to\n",
            "[nltk_data]    |     /root/nltk_data...\n",
            "[nltk_data]    |   Unzipping corpora/subjectivity.zip.\n",
            "[nltk_data]    | Downloading package swadesh to /root/nltk_data...\n",
            "[nltk_data]    |   Unzipping corpora/swadesh.zip.\n",
            "[nltk_data]    | Downloading package switchboard to /root/nltk_data...\n",
            "[nltk_data]    |   Unzipping corpora/switchboard.zip.\n",
            "[nltk_data]    | Downloading package tagsets to /root/nltk_data...\n",
            "[nltk_data]    |   Unzipping help/tagsets.zip.\n",
            "[nltk_data]    | Downloading package timit to /root/nltk_data...\n",
            "[nltk_data]    |   Unzipping corpora/timit.zip.\n",
            "[nltk_data]    | Downloading package toolbox to /root/nltk_data...\n",
            "[nltk_data]    |   Unzipping corpora/toolbox.zip.\n",
            "[nltk_data]    | Downloading package treebank to /root/nltk_data...\n",
            "[nltk_data]    |   Unzipping corpora/treebank.zip.\n",
            "[nltk_data]    | Downloading package twitter_samples to\n",
            "[nltk_data]    |     /root/nltk_data...\n",
            "[nltk_data]    |   Unzipping corpora/twitter_samples.zip.\n",
            "[nltk_data]    | Downloading package udhr to /root/nltk_data...\n",
            "[nltk_data]    |   Unzipping corpora/udhr.zip.\n",
            "[nltk_data]    | Downloading package udhr2 to /root/nltk_data...\n",
            "[nltk_data]    |   Unzipping corpora/udhr2.zip.\n",
            "[nltk_data]    | Downloading package unicode_samples to\n",
            "[nltk_data]    |     /root/nltk_data...\n",
            "[nltk_data]    |   Unzipping corpora/unicode_samples.zip.\n",
            "[nltk_data]    | Downloading package universal_tagset to\n",
            "[nltk_data]    |     /root/nltk_data...\n",
            "[nltk_data]    |   Unzipping taggers/universal_tagset.zip.\n",
            "[nltk_data]    | Downloading package universal_treebanks_v20 to\n",
            "[nltk_data]    |     /root/nltk_data...\n",
            "[nltk_data]    | Downloading package vader_lexicon to\n",
            "[nltk_data]    |     /root/nltk_data...\n",
            "[nltk_data]    | Downloading package verbnet to /root/nltk_data...\n",
            "[nltk_data]    |   Unzipping corpora/verbnet.zip.\n",
            "[nltk_data]    | Downloading package verbnet3 to /root/nltk_data...\n",
            "[nltk_data]    |   Unzipping corpora/verbnet3.zip.\n",
            "[nltk_data]    | Downloading package webtext to /root/nltk_data...\n",
            "[nltk_data]    |   Unzipping corpora/webtext.zip.\n",
            "[nltk_data]    | Downloading package wmt15_eval to /root/nltk_data...\n",
            "[nltk_data]    |   Unzipping models/wmt15_eval.zip.\n",
            "[nltk_data]    | Downloading package word2vec_sample to\n",
            "[nltk_data]    |     /root/nltk_data...\n",
            "[nltk_data]    |   Unzipping models/word2vec_sample.zip.\n",
            "[nltk_data]    | Downloading package wordnet to /root/nltk_data...\n",
            "[nltk_data]    | Downloading package wordnet2021 to /root/nltk_data...\n",
            "[nltk_data]    | Downloading package wordnet2022 to /root/nltk_data...\n",
            "[nltk_data]    |   Unzipping corpora/wordnet2022.zip.\n",
            "[nltk_data]    | Downloading package wordnet31 to /root/nltk_data...\n",
            "[nltk_data]    | Downloading package wordnet_ic to /root/nltk_data...\n",
            "[nltk_data]    |   Unzipping corpora/wordnet_ic.zip.\n",
            "[nltk_data]    | Downloading package words to /root/nltk_data...\n",
            "[nltk_data]    |   Unzipping corpora/words.zip.\n",
            "[nltk_data]    | Downloading package ycoe to /root/nltk_data...\n",
            "[nltk_data]    |   Unzipping corpora/ycoe.zip.\n",
            "[nltk_data]    | \n",
            "[nltk_data]  Done downloading collection all\n"
          ]
        },
        {
          "output_type": "execute_result",
          "data": {
            "text/plain": [
              "True"
            ]
          },
          "metadata": {},
          "execution_count": 8
        }
      ]
    },
    {
      "cell_type": "markdown",
      "source": [
        "* WordNet 모듈을 임포트해서 \"present\" 단어에 대한 Synset을 추출"
      ],
      "metadata": {
        "id": "t2VOiXfe44kI"
      }
    },
    {
      "cell_type": "code",
      "source": [
        "from nltk.corpus import wordnet as wn\n",
        "\n",
        "term = \"present\"\n",
        "\n",
        "# \"present\"라는 단어로 wordnet의 synsets 생성.\n",
        "synsets = wn.synsets(term)\n",
        "print(\"synsets() 변환 type: \", type(synsets))\n",
        "print(\"synsets() 변환 값 계수: \", len(synsets))\n",
        "print(\"synsets() 변환 값: \", synsets)"
      ],
      "metadata": {
        "colab": {
          "base_uri": "https://localhost:8080/"
        },
        "id": "CCDMccOv49tS",
        "outputId": "e669ac02-c612-4c52-f8cb-4f1ae49b1f11"
      },
      "execution_count": 9,
      "outputs": [
        {
          "output_type": "stream",
          "name": "stdout",
          "text": [
            "synsets() 변환 type:  <class 'list'>\n",
            "synsets() 변환 값 계수:  18\n",
            "synsets() 변환 값:  [Synset('present.n.01'), Synset('present.n.02'), Synset('present.n.03'), Synset('show.v.01'), Synset('present.v.02'), Synset('stage.v.01'), Synset('present.v.04'), Synset('present.v.05'), Synset('award.v.01'), Synset('give.v.08'), Synset('deliver.v.01'), Synset('introduce.v.01'), Synset('portray.v.04'), Synset('confront.v.03'), Synset('present.v.12'), Synset('salute.v.06'), Synset('present.a.01'), Synset('present.a.02')]\n"
          ]
        }
      ]
    },
    {
      "cell_type": "markdown",
      "source": [
        "* synsets() 호출 시 변환되는 것은 여러 개의 Synset 객체를 가지는 리스트.\n",
        "* Synset 객체의 파라미터 present.n.01은 POS 태그를 나타냄\n",
        "* present.n.01에서 present는 의미, n은 명사 품사, 01은 present가 명사로서 가지는 의미가 여러 가지 있어서 이를 구분하는 인덱스"
      ],
      "metadata": {
        "id": "F218RIqQ5TS8"
      }
    },
    {
      "cell_type": "code",
      "source": [
        "for synset in synsets:\n",
        "  print(\"#### Synset name: \", synset.name(), \"####\")\n",
        "  print(\"POS: \", synset.lexname())\n",
        "  print(\"Definition: \", synset.definition())\n",
        "  print(\"Lemmas: \", synset.lemma_names())"
      ],
      "metadata": {
        "colab": {
          "base_uri": "https://localhost:8080/"
        },
        "id": "o72h1hVT5i2o",
        "outputId": "56c1485c-30d3-4a00-b4af-620ce6e469e2"
      },
      "execution_count": 10,
      "outputs": [
        {
          "output_type": "stream",
          "name": "stdout",
          "text": [
            "#### Synset name:  present.n.01 ####\n",
            "POS:  noun.time\n",
            "Definition:  the period of time that is happening now; any continuous stretch of time including the moment of speech\n",
            "Lemmas:  ['present', 'nowadays']\n",
            "#### Synset name:  present.n.02 ####\n",
            "POS:  noun.possession\n",
            "Definition:  something presented as a gift\n",
            "Lemmas:  ['present']\n",
            "#### Synset name:  present.n.03 ####\n",
            "POS:  noun.communication\n",
            "Definition:  a verb tense that expresses actions or states at the time of speaking\n",
            "Lemmas:  ['present', 'present_tense']\n",
            "#### Synset name:  show.v.01 ####\n",
            "POS:  verb.perception\n",
            "Definition:  give an exhibition of to an interested audience\n",
            "Lemmas:  ['show', 'demo', 'exhibit', 'present', 'demonstrate']\n",
            "#### Synset name:  present.v.02 ####\n",
            "POS:  verb.communication\n",
            "Definition:  bring forward and present to the mind\n",
            "Lemmas:  ['present', 'represent', 'lay_out']\n",
            "#### Synset name:  stage.v.01 ####\n",
            "POS:  verb.creation\n",
            "Definition:  perform (a play), especially on a stage\n",
            "Lemmas:  ['stage', 'present', 'represent']\n",
            "#### Synset name:  present.v.04 ####\n",
            "POS:  verb.possession\n",
            "Definition:  hand over formally\n",
            "Lemmas:  ['present', 'submit']\n",
            "#### Synset name:  present.v.05 ####\n",
            "POS:  verb.stative\n",
            "Definition:  introduce\n",
            "Lemmas:  ['present', 'pose']\n",
            "#### Synset name:  award.v.01 ####\n",
            "POS:  verb.possession\n",
            "Definition:  give, especially as an honor or reward\n",
            "Lemmas:  ['award', 'present']\n",
            "#### Synset name:  give.v.08 ####\n",
            "POS:  verb.possession\n",
            "Definition:  give as a present; make a gift of\n",
            "Lemmas:  ['give', 'gift', 'present']\n",
            "#### Synset name:  deliver.v.01 ####\n",
            "POS:  verb.communication\n",
            "Definition:  deliver (a speech, oration, or idea)\n",
            "Lemmas:  ['deliver', 'present']\n",
            "#### Synset name:  introduce.v.01 ####\n",
            "POS:  verb.communication\n",
            "Definition:  cause to come to know personally\n",
            "Lemmas:  ['introduce', 'present', 'acquaint']\n",
            "#### Synset name:  portray.v.04 ####\n",
            "POS:  verb.creation\n",
            "Definition:  represent abstractly, for example in a painting, drawing, or sculpture\n",
            "Lemmas:  ['portray', 'present']\n",
            "#### Synset name:  confront.v.03 ####\n",
            "POS:  verb.communication\n",
            "Definition:  present somebody with something, usually to accuse or criticize\n",
            "Lemmas:  ['confront', 'face', 'present']\n",
            "#### Synset name:  present.v.12 ####\n",
            "POS:  verb.communication\n",
            "Definition:  formally present a debutante, a representative of a country, etc.\n",
            "Lemmas:  ['present']\n",
            "#### Synset name:  salute.v.06 ####\n",
            "POS:  verb.communication\n",
            "Definition:  recognize with a gesture prescribed by a military regulation; assume a prescribed position\n",
            "Lemmas:  ['salute', 'present']\n",
            "#### Synset name:  present.a.01 ####\n",
            "POS:  adj.all\n",
            "Definition:  temporal sense; intermediate between past and future; now existing or happening or in consideration\n",
            "Lemmas:  ['present']\n",
            "#### Synset name:  present.a.02 ####\n",
            "POS:  adj.all\n",
            "Definition:  being or existing in a specified place\n",
            "Lemmas:  ['present']\n"
          ]
        }
      ]
    },
    {
      "cell_type": "markdown",
      "source": [
        "* Synset(\"present.n.01\"): POS가 noun.time이며 \"시간적인 의미로 현재\"\n",
        "* Synset(\"present.n.02\"): POS가 noun.possession이며 \"선물\"\n",
        "* Synset(\"show.v.01\"): POS가 verb.perception이며 \"관객에게 전시물 등을 보여주다\"\n",
        "* synset은 하나의 단어가 가질 수 있는 여러 시맨틱 정보를 개별 클래스로 나타냄\n",
        "\n",
        "* synset 객체는 단어 간의 유사도를 나타내기 위해서 path_similarity() 메서드를 제공"
      ],
      "metadata": {
        "id": "WH1o_9eGoC5l"
      }
    },
    {
      "cell_type": "code",
      "source": [
        "# synset 객체를 단어별로 생성합니다.\n",
        "tree = wn.synset(\"tree.n.01\")\n",
        "lion = wn.synset(\"lion.n.01\")\n",
        "tiger = wn.synset(\"tiger.n.02\")\n",
        "cat = wn.synset(\"cat.n.01\")\n",
        "dog = wn.synset(\"dog.n.01\")\n",
        "\n",
        "entities = [tree, lion, tiger, cat, dog]\n",
        "similarities = []\n",
        "entity_names = [entity.name().split(\".\")[0] for entity in entities]\n",
        "\n",
        "# 단어별 synset을 반복하면서 다른 단어의 synset과 유사도를 측정합니다.\n",
        "for entity in entities:\n",
        "  similarity = [round(entity.path_similarity(compared_entity), 2)\n",
        "  for compared_entity in entities]\n",
        "  similarities.append(similarity)\n",
        "\n",
        "# 개별 단어별 synset과 다른 단어의 synset과의 유사도를 DataFrame 형태로 저장합니다.\n",
        "simiarity_df = pd.DataFrame(similarities, columns = entity_names, index = entity_names)\n",
        "simiarity_df"
      ],
      "metadata": {
        "colab": {
          "base_uri": "https://localhost:8080/",
          "height": 206
        },
        "id": "sCOmblaKooly",
        "outputId": "7c3a7a39-ee42-407d-d2c4-ec3d1386a5d2"
      },
      "execution_count": 13,
      "outputs": [
        {
          "output_type": "execute_result",
          "data": {
            "text/plain": [
              "       tree  lion  tiger   cat   dog\n",
              "tree   1.00  0.07   0.07  0.08  0.12\n",
              "lion   0.07  1.00   0.33  0.25  0.17\n",
              "tiger  0.07  0.33   1.00  0.25  0.17\n",
              "cat    0.08  0.25   0.25  1.00  0.20\n",
              "dog    0.12  0.17   0.17  0.20  1.00"
            ],
            "text/html": [
              "\n",
              "  <div id=\"df-68fe8b45-861e-4928-9cb4-5f64f8ad4543\" class=\"colab-df-container\">\n",
              "    <div>\n",
              "<style scoped>\n",
              "    .dataframe tbody tr th:only-of-type {\n",
              "        vertical-align: middle;\n",
              "    }\n",
              "\n",
              "    .dataframe tbody tr th {\n",
              "        vertical-align: top;\n",
              "    }\n",
              "\n",
              "    .dataframe thead th {\n",
              "        text-align: right;\n",
              "    }\n",
              "</style>\n",
              "<table border=\"1\" class=\"dataframe\">\n",
              "  <thead>\n",
              "    <tr style=\"text-align: right;\">\n",
              "      <th></th>\n",
              "      <th>tree</th>\n",
              "      <th>lion</th>\n",
              "      <th>tiger</th>\n",
              "      <th>cat</th>\n",
              "      <th>dog</th>\n",
              "    </tr>\n",
              "  </thead>\n",
              "  <tbody>\n",
              "    <tr>\n",
              "      <th>tree</th>\n",
              "      <td>1.00</td>\n",
              "      <td>0.07</td>\n",
              "      <td>0.07</td>\n",
              "      <td>0.08</td>\n",
              "      <td>0.12</td>\n",
              "    </tr>\n",
              "    <tr>\n",
              "      <th>lion</th>\n",
              "      <td>0.07</td>\n",
              "      <td>1.00</td>\n",
              "      <td>0.33</td>\n",
              "      <td>0.25</td>\n",
              "      <td>0.17</td>\n",
              "    </tr>\n",
              "    <tr>\n",
              "      <th>tiger</th>\n",
              "      <td>0.07</td>\n",
              "      <td>0.33</td>\n",
              "      <td>1.00</td>\n",
              "      <td>0.25</td>\n",
              "      <td>0.17</td>\n",
              "    </tr>\n",
              "    <tr>\n",
              "      <th>cat</th>\n",
              "      <td>0.08</td>\n",
              "      <td>0.25</td>\n",
              "      <td>0.25</td>\n",
              "      <td>1.00</td>\n",
              "      <td>0.20</td>\n",
              "    </tr>\n",
              "    <tr>\n",
              "      <th>dog</th>\n",
              "      <td>0.12</td>\n",
              "      <td>0.17</td>\n",
              "      <td>0.17</td>\n",
              "      <td>0.20</td>\n",
              "      <td>1.00</td>\n",
              "    </tr>\n",
              "  </tbody>\n",
              "</table>\n",
              "</div>\n",
              "    <div class=\"colab-df-buttons\">\n",
              "\n",
              "  <div class=\"colab-df-container\">\n",
              "    <button class=\"colab-df-convert\" onclick=\"convertToInteractive('df-68fe8b45-861e-4928-9cb4-5f64f8ad4543')\"\n",
              "            title=\"Convert this dataframe to an interactive table.\"\n",
              "            style=\"display:none;\">\n",
              "\n",
              "  <svg xmlns=\"http://www.w3.org/2000/svg\" height=\"24px\" viewBox=\"0 -960 960 960\">\n",
              "    <path d=\"M120-120v-720h720v720H120Zm60-500h600v-160H180v160Zm220 220h160v-160H400v160Zm0 220h160v-160H400v160ZM180-400h160v-160H180v160Zm440 0h160v-160H620v160ZM180-180h160v-160H180v160Zm440 0h160v-160H620v160Z\"/>\n",
              "  </svg>\n",
              "    </button>\n",
              "\n",
              "  <style>\n",
              "    .colab-df-container {\n",
              "      display:flex;\n",
              "      gap: 12px;\n",
              "    }\n",
              "\n",
              "    .colab-df-convert {\n",
              "      background-color: #E8F0FE;\n",
              "      border: none;\n",
              "      border-radius: 50%;\n",
              "      cursor: pointer;\n",
              "      display: none;\n",
              "      fill: #1967D2;\n",
              "      height: 32px;\n",
              "      padding: 0 0 0 0;\n",
              "      width: 32px;\n",
              "    }\n",
              "\n",
              "    .colab-df-convert:hover {\n",
              "      background-color: #E2EBFA;\n",
              "      box-shadow: 0px 1px 2px rgba(60, 64, 67, 0.3), 0px 1px 3px 1px rgba(60, 64, 67, 0.15);\n",
              "      fill: #174EA6;\n",
              "    }\n",
              "\n",
              "    .colab-df-buttons div {\n",
              "      margin-bottom: 4px;\n",
              "    }\n",
              "\n",
              "    [theme=dark] .colab-df-convert {\n",
              "      background-color: #3B4455;\n",
              "      fill: #D2E3FC;\n",
              "    }\n",
              "\n",
              "    [theme=dark] .colab-df-convert:hover {\n",
              "      background-color: #434B5C;\n",
              "      box-shadow: 0px 1px 3px 1px rgba(0, 0, 0, 0.15);\n",
              "      filter: drop-shadow(0px 1px 2px rgba(0, 0, 0, 0.3));\n",
              "      fill: #FFFFFF;\n",
              "    }\n",
              "  </style>\n",
              "\n",
              "    <script>\n",
              "      const buttonEl =\n",
              "        document.querySelector('#df-68fe8b45-861e-4928-9cb4-5f64f8ad4543 button.colab-df-convert');\n",
              "      buttonEl.style.display =\n",
              "        google.colab.kernel.accessAllowed ? 'block' : 'none';\n",
              "\n",
              "      async function convertToInteractive(key) {\n",
              "        const element = document.querySelector('#df-68fe8b45-861e-4928-9cb4-5f64f8ad4543');\n",
              "        const dataTable =\n",
              "          await google.colab.kernel.invokeFunction('convertToInteractive',\n",
              "                                                    [key], {});\n",
              "        if (!dataTable) return;\n",
              "\n",
              "        const docLinkHtml = 'Like what you see? Visit the ' +\n",
              "          '<a target=\"_blank\" href=https://colab.research.google.com/notebooks/data_table.ipynb>data table notebook</a>'\n",
              "          + ' to learn more about interactive tables.';\n",
              "        element.innerHTML = '';\n",
              "        dataTable['output_type'] = 'display_data';\n",
              "        await google.colab.output.renderOutput(dataTable, element);\n",
              "        const docLink = document.createElement('div');\n",
              "        docLink.innerHTML = docLinkHtml;\n",
              "        element.appendChild(docLink);\n",
              "      }\n",
              "    </script>\n",
              "  </div>\n",
              "\n",
              "\n",
              "<div id=\"df-b1c12e37-497c-4374-8b6e-1f101f3fe46f\">\n",
              "  <button class=\"colab-df-quickchart\" onclick=\"quickchart('df-b1c12e37-497c-4374-8b6e-1f101f3fe46f')\"\n",
              "            title=\"Suggest charts.\"\n",
              "            style=\"display:none;\">\n",
              "\n",
              "<svg xmlns=\"http://www.w3.org/2000/svg\" height=\"24px\"viewBox=\"0 0 24 24\"\n",
              "     width=\"24px\">\n",
              "    <g>\n",
              "        <path d=\"M19 3H5c-1.1 0-2 .9-2 2v14c0 1.1.9 2 2 2h14c1.1 0 2-.9 2-2V5c0-1.1-.9-2-2-2zM9 17H7v-7h2v7zm4 0h-2V7h2v10zm4 0h-2v-4h2v4z\"/>\n",
              "    </g>\n",
              "</svg>\n",
              "  </button>\n",
              "\n",
              "<style>\n",
              "  .colab-df-quickchart {\n",
              "      --bg-color: #E8F0FE;\n",
              "      --fill-color: #1967D2;\n",
              "      --hover-bg-color: #E2EBFA;\n",
              "      --hover-fill-color: #174EA6;\n",
              "      --disabled-fill-color: #AAA;\n",
              "      --disabled-bg-color: #DDD;\n",
              "  }\n",
              "\n",
              "  [theme=dark] .colab-df-quickchart {\n",
              "      --bg-color: #3B4455;\n",
              "      --fill-color: #D2E3FC;\n",
              "      --hover-bg-color: #434B5C;\n",
              "      --hover-fill-color: #FFFFFF;\n",
              "      --disabled-bg-color: #3B4455;\n",
              "      --disabled-fill-color: #666;\n",
              "  }\n",
              "\n",
              "  .colab-df-quickchart {\n",
              "    background-color: var(--bg-color);\n",
              "    border: none;\n",
              "    border-radius: 50%;\n",
              "    cursor: pointer;\n",
              "    display: none;\n",
              "    fill: var(--fill-color);\n",
              "    height: 32px;\n",
              "    padding: 0;\n",
              "    width: 32px;\n",
              "  }\n",
              "\n",
              "  .colab-df-quickchart:hover {\n",
              "    background-color: var(--hover-bg-color);\n",
              "    box-shadow: 0 1px 2px rgba(60, 64, 67, 0.3), 0 1px 3px 1px rgba(60, 64, 67, 0.15);\n",
              "    fill: var(--button-hover-fill-color);\n",
              "  }\n",
              "\n",
              "  .colab-df-quickchart-complete:disabled,\n",
              "  .colab-df-quickchart-complete:disabled:hover {\n",
              "    background-color: var(--disabled-bg-color);\n",
              "    fill: var(--disabled-fill-color);\n",
              "    box-shadow: none;\n",
              "  }\n",
              "\n",
              "  .colab-df-spinner {\n",
              "    border: 2px solid var(--fill-color);\n",
              "    border-color: transparent;\n",
              "    border-bottom-color: var(--fill-color);\n",
              "    animation:\n",
              "      spin 1s steps(1) infinite;\n",
              "  }\n",
              "\n",
              "  @keyframes spin {\n",
              "    0% {\n",
              "      border-color: transparent;\n",
              "      border-bottom-color: var(--fill-color);\n",
              "      border-left-color: var(--fill-color);\n",
              "    }\n",
              "    20% {\n",
              "      border-color: transparent;\n",
              "      border-left-color: var(--fill-color);\n",
              "      border-top-color: var(--fill-color);\n",
              "    }\n",
              "    30% {\n",
              "      border-color: transparent;\n",
              "      border-left-color: var(--fill-color);\n",
              "      border-top-color: var(--fill-color);\n",
              "      border-right-color: var(--fill-color);\n",
              "    }\n",
              "    40% {\n",
              "      border-color: transparent;\n",
              "      border-right-color: var(--fill-color);\n",
              "      border-top-color: var(--fill-color);\n",
              "    }\n",
              "    60% {\n",
              "      border-color: transparent;\n",
              "      border-right-color: var(--fill-color);\n",
              "    }\n",
              "    80% {\n",
              "      border-color: transparent;\n",
              "      border-right-color: var(--fill-color);\n",
              "      border-bottom-color: var(--fill-color);\n",
              "    }\n",
              "    90% {\n",
              "      border-color: transparent;\n",
              "      border-bottom-color: var(--fill-color);\n",
              "    }\n",
              "  }\n",
              "</style>\n",
              "\n",
              "  <script>\n",
              "    async function quickchart(key) {\n",
              "      const quickchartButtonEl =\n",
              "        document.querySelector('#' + key + ' button');\n",
              "      quickchartButtonEl.disabled = true;  // To prevent multiple clicks.\n",
              "      quickchartButtonEl.classList.add('colab-df-spinner');\n",
              "      try {\n",
              "        const charts = await google.colab.kernel.invokeFunction(\n",
              "            'suggestCharts', [key], {});\n",
              "      } catch (error) {\n",
              "        console.error('Error during call to suggestCharts:', error);\n",
              "      }\n",
              "      quickchartButtonEl.classList.remove('colab-df-spinner');\n",
              "      quickchartButtonEl.classList.add('colab-df-quickchart-complete');\n",
              "    }\n",
              "    (() => {\n",
              "      let quickchartButtonEl =\n",
              "        document.querySelector('#df-b1c12e37-497c-4374-8b6e-1f101f3fe46f button');\n",
              "      quickchartButtonEl.style.display =\n",
              "        google.colab.kernel.accessAllowed ? 'block' : 'none';\n",
              "    })();\n",
              "  </script>\n",
              "</div>\n",
              "    </div>\n",
              "  </div>\n"
            ]
          },
          "metadata": {},
          "execution_count": 13
        }
      ]
    },
    {
      "cell_type": "markdown",
      "source": [
        "* SentiWordNet은 WordNet과 유사한 Senti_Synset 클래스를 가지고 있음."
      ],
      "metadata": {
        "id": "yK6Txa1Upc3S"
      }
    },
    {
      "cell_type": "code",
      "source": [
        "import nltk\n",
        "from nltk.corpus import sentiwordnet as swn\n",
        "\n",
        "senti_synsets = list(swn.senti_synsets(\"slow\"))\n",
        "print(\"senti_synsets() 반환 type: \", type(senti_synsets))\n",
        "print(\"senti_synsets() 반환 값 개수: \", len(senti_synsets))\n",
        "print(\"senti_synsets() 반환 값: \", senti_synsets)"
      ],
      "metadata": {
        "colab": {
          "base_uri": "https://localhost:8080/"
        },
        "id": "IHO7vVC0pikW",
        "outputId": "ed5279ad-d181-4922-89ce-491eaa6326fc"
      },
      "execution_count": 15,
      "outputs": [
        {
          "output_type": "stream",
          "name": "stdout",
          "text": [
            "senti_synsets() 반환 type:  <class 'list'>\n",
            "senti_synsets() 반환 값 개수:  11\n",
            "senti_synsets() 반환 값:  [SentiSynset('decelerate.v.01'), SentiSynset('slow.v.02'), SentiSynset('slow.v.03'), SentiSynset('slow.a.01'), SentiSynset('slow.a.02'), SentiSynset('dense.s.04'), SentiSynset('slow.a.04'), SentiSynset('boring.s.01'), SentiSynset('dull.s.08'), SentiSynset('slowly.r.01'), SentiSynset('behind.r.03')]\n"
          ]
        }
      ]
    },
    {
      "cell_type": "markdown",
      "source": [
        "* SentiSynset 객체는 단어의 감성을 나타내는 감성 지수와 객관성을 나타내는 객관성 지수를 가지고 있음.\n",
        "* 감성 지수는 다시 긍정 지수와 부정 지수로 나뉨.\n",
        "* 어떤 단어가 전혀 감성적이지 않으면 객관성 지수는 1, 감성 지수는 0."
      ],
      "metadata": {
        "id": "u7_r6vorp3ND"
      }
    },
    {
      "cell_type": "code",
      "source": [
        "import nltk\n",
        "from nltk.corpus import sentiwordnet as swn\n",
        "\n",
        "father = swn.senti_synset(\"father.n.01\")\n",
        "print(\"father 긍정감성 지수: \", father.pos_score())\n",
        "print(\"father 부정감성 지수: \", father.neg_score())\n",
        "print(\"father 객관성 지수: \", father.obj_score())\n",
        "print(\"\\n\")\n",
        "fabulous = swn.senti_synset(\"fabulous.a.01\")\n",
        "print(\"fabulous 긍정감성 지수: \", fabulous.pos_score())\n",
        "print(\"fabulous 부정감성 지수: \", fabulous.neg_score())"
      ],
      "metadata": {
        "colab": {
          "base_uri": "https://localhost:8080/"
        },
        "id": "j1bZ1RkAqAOM",
        "outputId": "b6fd39a5-2d1b-4bf7-d032-8b0712aa5527"
      },
      "execution_count": 16,
      "outputs": [
        {
          "output_type": "stream",
          "name": "stdout",
          "text": [
            "father 긍정감성 지수:  0.0\n",
            "father 부정감성 지수:  0.0\n",
            "father 객관성 지수:  1.0\n",
            "\n",
            "\n",
            "fabulous 긍정감성 지수:  0.875\n",
            "fabulous 부정감성 지수:  0.125\n"
          ]
        }
      ]
    },
    {
      "cell_type": "markdown",
      "source": [
        "<SentiWordNet을 이용한 영화 감상평 감성 분석>\n",
        "\n",
        "* SentiWordNet을 이용해 감성 분석을 수행하는 개략적인 순서\n",
        "1. 문서를 문장 단위로 분해\n",
        "2. 다시 문장을 단어 단위로 토큰화하고 품사 태깅\n",
        "3. 품사 태깅된 단어 기반으로 synset 객체와 senti_synset 객체를 생성\n",
        "4. Senti_synset에서 긍정 감성/부정 감성 지수를 구하고 이를 모두 합산해 특정 임계치 값 이상일 때 긍정 감성으로, 그렇지 않을 때는 부정 감성으로 결정"
      ],
      "metadata": {
        "id": "EIe142LCqdPm"
      }
    },
    {
      "cell_type": "code",
      "source": [
        "# 품사 태깅을 수행하는 내부 함수\n",
        "from nltk.corpus import wordnet as wn\n",
        "\n",
        "# 간단한 NLTK PennTreebank Tag를 기반으로 WordNet 기반의 품사 Tag로 변환\n",
        "def penn_to_wn(tag):\n",
        "  if tag.startswith(\"J\"):\n",
        "    return wn.ADJ\n",
        "  elif tag.startswith(\"N\"):\n",
        "    return wn.NOUN\n",
        "  elif tag.startswith(\"R\"):\n",
        "    return wn.ADV\n",
        "  elif tag.startswith(\"V\"):\n",
        "    return wn.VERB"
      ],
      "metadata": {
        "id": "EqhoVRGRqxQb"
      },
      "execution_count": 17,
      "outputs": []
    },
    {
      "cell_type": "markdown",
      "source": [
        "* 문서를 문장 → 단어 토큰 → 품사 태깅 후에 SentiSynset 클래스를 생성하고 Polarity Score을 합산하는 함수를 생성\n",
        "* 각 단어에 긍정 감성 지수와 부정 감성 지수를 모두 합한 총 감성 지수가 0일 경우 긍정 감성, 그렇지 않으면 부정 감성으로 예측"
      ],
      "metadata": {
        "id": "E0-IA3HKrIx5"
      }
    },
    {
      "cell_type": "code",
      "source": [
        "def swn_polarity(text):\n",
        "    # 감성 지수 초기화\n",
        "    sentiment = 0.0\n",
        "    tokens_count = 0\n",
        "\n",
        "    lemmatizer = WordNetLemmatizer()\n",
        "    raw_sentences = sent_tokenize(text)\n",
        "    # 분해된 문장별로 단어 토큰 → 품사 태깅 후에 SentiSynset 생성 → 감성 지수 합산\n",
        "    for raw_sentence in raw_sentences:\n",
        "        # NLTK 기반의 품사 태깅 문장 추출\n",
        "        tagged_sentence = pos_tag(word_tokenize(raw_sentence))\n",
        "        for word, tag in tagged_sentence:\n",
        "\n",
        "            # WordNet 기반 품사 태깅과 어근 추출\n",
        "            wn_tag = penn_to_wn(tag)\n",
        "            if wn_tag not in (wn.NOUN , wn.ADJ, wn.ADV):\n",
        "                continue\n",
        "            lemma = lemmatizer.lemmatize(word, pos=wn_tag)\n",
        "            if not lemma:\n",
        "                continue\n",
        "            # 어근을 추출한 단어와 WordNet 기반 품사 태깅을 입력해 Synset 객체를 생성\n",
        "            synsets = wn.synsets(lemma , pos=wn_tag)\n",
        "            if not synsets:\n",
        "                continue\n",
        "            # sentiwordnet의 감성 단어 분석으로 감성 synset 추출\n",
        "            # 모든 단어에 대해 긍정 감성 지수는 +로 부정 감성 지수는 -로 합산해 감성 지수 계산\n",
        "            synset = synsets[0]\n",
        "            swn_synset = swn.senti_synset(synset.name())\n",
        "            sentiment += (swn_synset.pos_score()-swn_synset.neg_score())\n",
        "            tokens_count += 1\n",
        "\n",
        "    if not tokens_count:\n",
        "        return 0\n",
        "\n",
        "    # 총 score가 0 이상일 경우 긍정(Positive) 1, 그렇지 않을 경우 부정(Negative) 0 반환\n",
        "    if sentiment >= 0:\n",
        "        return 1\n",
        "\n",
        "    return 0"
      ],
      "metadata": {
        "id": "7oK3CKL-rWI_"
      },
      "execution_count": 26,
      "outputs": []
    },
    {
      "cell_type": "markdown",
      "source": [
        "* swn_polarity(text) 함수를 IMDB 감상평의 개별 문서에 적용해 긍정 및 부정 감성을 예측"
      ],
      "metadata": {
        "id": "MIBJipj5swRo"
      }
    },
    {
      "cell_type": "code",
      "source": [
        "review_df[\"preds\"] = review_df[\"review\"].apply(lambda x: swn_polarity(x))\n",
        "y_target = review_df[\"sentiment\"].values\n",
        "preds = review_df[\"preds\"].values"
      ],
      "metadata": {
        "id": "ynxeIjmQs3R1"
      },
      "execution_count": 27,
      "outputs": []
    },
    {
      "cell_type": "code",
      "source": [
        "from sklearn.metrics import accuracy_score, confusion_matrix, precision_score\n",
        "from sklearn.metrics import recall_score, f1_score, roc_auc_score\n",
        "import numpy as np\n",
        "\n",
        "print(confusion_matrix(y_target, preds))\n",
        "print(\"정확도: \", np.round(accuracy_score(y_target, preds), 4))\n",
        "print(\"정밀도: \", np.round(precision_score(y_target, preds), 4))\n",
        "print(\"재현율: \", np.round(recall_score(y_target, preds), 4))"
      ],
      "metadata": {
        "colab": {
          "base_uri": "https://localhost:8080/"
        },
        "id": "QzX9wRlftm8h",
        "outputId": "1bddb854-ece5-4f08-8219-345f01354d54"
      },
      "execution_count": 28,
      "outputs": [
        {
          "output_type": "stream",
          "name": "stdout",
          "text": [
            "[[7669 4831]\n",
            " [3644 8856]]\n",
            "정확도:  0.661\n",
            "정밀도:  0.647\n",
            "재현율:  0.7085\n"
          ]
        }
      ]
    },
    {
      "cell_type": "markdown",
      "source": [
        "**VADER를 이용한 감성 분석**\n",
        "* VADER: 소셜 미디어의 감성 분석 용도로 만들어진 룰 기반의 Lexicon\n",
        "* SentimentIntensityAnalyzer 클래스를 이용해 쉽게 감성 분석을 제공"
      ],
      "metadata": {
        "id": "Z1UPl5q6uDfy"
      }
    },
    {
      "cell_type": "code",
      "source": [
        "from nltk.sentiment.vader import SentimentIntensityAnalyzer\n",
        "\n",
        "senti_analyzer = SentimentIntensityAnalyzer()\n",
        "senti_scores = senti_analyzer.polarity_scores(review_df[\"review\"][0])\n",
        "print(senti_scores)"
      ],
      "metadata": {
        "colab": {
          "base_uri": "https://localhost:8080/"
        },
        "id": "Ino0XPbbuPyu",
        "outputId": "7408e216-f407-4f02-86c7-97d0a9193aa1"
      },
      "execution_count": 29,
      "outputs": [
        {
          "output_type": "stream",
          "name": "stdout",
          "text": [
            "{'neg': 0.127, 'neu': 0.747, 'pos': 0.125, 'compound': -0.7943}\n"
          ]
        }
      ]
    },
    {
      "cell_type": "markdown",
      "source": [
        "* SentimentIntensityAnalyzer 객체를 생성한 뒤에 문서별로 polarity_scores() 메서드를 호출해 감성 점수를 구한 뒤, 해당 문서의 감성 점수가 특정 임계값 이상이면 긍정, 그렇지 않으면 부정으로 판단.\n",
        "* \"neg\"는 부저 감성 지수, \"neu\"는 중립적인 감성 지수, \"pos\"는 긍정적인 감성 지수, 그리고 compound는 neg, neu, pos score을 적절히 조합해 -1에서 1 사이의 감성 지수를 표현한 값\n",
        "* vader_polarity(): 입력 파라미터로 영화 감상평 텍스트와 긍정/부정을 결정하는 임곗값을 가지고, SentimentIntensityAnalyzer 객체의 polarity_scores() 메서드를 호출해 감성 결과를 반환"
      ],
      "metadata": {
        "id": "bFt4X61-ud_S"
      }
    },
    {
      "cell_type": "code",
      "source": [
        "def vader_polarity(review, threshold = 0.1):\n",
        "  analyzer = SentimentIntensityAnalyzer()\n",
        "  scores = analyzer.polarity_scores(review)\n",
        "\n",
        "  # compound 값에 기반해 threshold 입력값보다 크면 1, 그렇지 않으면 0을 반환\n",
        "  agg_score = scores[\"compound\"]\n",
        "  final_sentiment = 1 if agg_score >= threshold else 0\n",
        "  return final_sentiment\n",
        "\n",
        "# apply lambda 식을 이용해 레코드별로 vader_polarity()를 수행하고 결과를 \"vader_preds\"에 저장\n",
        "review_df[\"vader_preds\"] = review_df[\"review\"].apply(lambda x: vader_polarity(x, 0.1))\n",
        "y_target = review_df[\"sentiment\"].values\n",
        "vader_preds = review_df[\"vader_preds\"].values\n",
        "\n",
        "print(confusion_matrix(y_target, vader_preds))\n",
        "print(\"정확도: \", np.round(accuracy_score(y_target, vader_preds), 4))\n",
        "print(\"정밀도: \", np.round(precision_score(y_target, vader_preds), 4))\n",
        "print(\"재현율: \", np.round(recall_score(y_target, vader_preds), 4))"
      ],
      "metadata": {
        "colab": {
          "base_uri": "https://localhost:8080/"
        },
        "id": "kkcPa4UHvBhw",
        "outputId": "e1bd8d95-620a-47b0-897a-a961d8bc6e53"
      },
      "execution_count": 31,
      "outputs": [
        {
          "output_type": "stream",
          "name": "stdout",
          "text": [
            "[[ 6749  5751]\n",
            " [ 1856 10644]]\n",
            "정확도:  0.6957\n",
            "정밀도:  0.6492\n",
            "재현율:  0.8515\n"
          ]
        }
      ]
    },
    {
      "cell_type": "markdown",
      "source": [
        "* 정확도가 SentiWordNet보다 향상됐고, 특히 재현율은 약 85.06%로 매우 크게 향상됨\n",
        "* 이외에도 뛰어난 감성 사전으로 patter 패키지가 있음\n",
        "\n",
        "![웹 캡처_29-10-2023_135015_.jpeg](data:image/jpeg;base64,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)"
      ],
      "metadata": {
        "id": "XC9n26nmw98e"
      }
    },
    {
      "cell_type": "markdown",
      "source": [
        "* 감성 사전을 이용한 감성 분석 예측 성능은 지도학습 분류 기반의 예측 성능에 비해 아직은 낮은 수준이지만 결정 클래스 값이 없는 상황을 고려한다면 예측 성능에 일정 수준 만족할 수 있음."
      ],
      "metadata": {
        "id": "b-d24JnUxV8w"
      }
    }
  ]
}