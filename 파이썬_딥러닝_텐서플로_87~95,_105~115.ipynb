{
  "nbformat": 4,
  "nbformat_minor": 0,
  "metadata": {
    "colab": {
      "provenance": [],
      "authorship_tag": "ABX9TyPUkgXboFmsXln9JwzthLbc",
      "include_colab_link": true
    },
    "kernelspec": {
      "name": "python3",
      "display_name": "Python 3"
    },
    "language_info": {
      "name": "python"
    }
  },
  "cells": [
    {
      "cell_type": "markdown",
      "metadata": {
        "id": "view-in-github",
        "colab_type": "text"
      },
      "source": [
        "<a href=\"https://colab.research.google.com/github/Ariara61/ESAA/blob/main/%ED%8C%8C%EC%9D%B4%EC%8D%AC_%EB%94%A5%EB%9F%AC%EB%8B%9D_%ED%85%90%EC%84%9C%ED%94%8C%EB%A1%9C_87~95%2C_105~115.ipynb\" target=\"_parent\"><img src=\"https://colab.research.google.com/assets/colab-badge.svg\" alt=\"Open In Colab\"/></a>"
      ]
    },
    {
      "cell_type": "markdown",
      "source": [
        "# 04. 모델 세부 설정"
      ],
      "metadata": {
        "id": "dF1Ubgun5kPE"
      }
    },
    {
      "cell_type": "code",
      "execution_count": 1,
      "metadata": {
        "colab": {
          "base_uri": "https://localhost:8080/"
        },
        "id": "RwhRJgVe5bG_",
        "outputId": "8d52bf70-4873-41c1-f62d-5d5ada38d042"
      },
      "outputs": [
        {
          "output_type": "stream",
          "name": "stdout",
          "text": [
            "Downloading data from https://storage.googleapis.com/tensorflow/tf-keras-datasets/mnist.npz\n",
            "11490434/11490434 [==============================] - 0s 0us/step\n",
            "train set:  (60000, 28, 28) (60000,)\n",
            "test setL  (10000, 28, 28) (10000,)\n"
          ]
        }
      ],
      "source": [
        "import tensorflow as tf\n",
        "\n",
        "# 케라스의 내장 데이터셋에서 mnist 데이터셋 로드\n",
        "mnist = tf.keras.datasets.mnist\n",
        "\n",
        "# load_data()로 데이터셋 로드\n",
        "(x_train, y_train),(x_test, y_test) = mnist.load_data()\n",
        "\n",
        "# 로드된 데이터셋 확인\n",
        "print(\"train set: \", x_train.shape, y_train.shape)\n",
        "print(\"test setL \", x_test.shape, y_test.shape)\n",
        "\n",
        "# 데이터 정규화\n",
        "x_train = x_train / x_train.max()   # max: 255\n",
        "x_test = x_test / x_test.max()    # max: 255"
      ]
    },
    {
      "cell_type": "markdown",
      "source": [
        "## 4-1 초기값 설정\n",
        "* Dense 레이어는 기본 초기화 방법으로 Glorot Uniform 초기화 방법이 설정되어 있음."
      ],
      "metadata": {
        "id": "0VhJD11P56NT"
      }
    },
    {
      "cell_type": "code",
      "source": [
        "dense = tf.keras.layers.Dense(256, activation = \"relu\")\n",
        "dense.get_config()[\"kernel_initializer\"]"
      ],
      "metadata": {
        "colab": {
          "base_uri": "https://localhost:8080/"
        },
        "id": "k5K0UyJT5_Kv",
        "outputId": "33efe882-73c3-488e-999d-fa96a98764e6"
      },
      "execution_count": 2,
      "outputs": [
        {
          "output_type": "execute_result",
          "data": {
            "text/plain": [
              "{'module': 'keras.initializers',\n",
              " 'class_name': 'GlorotUniform',\n",
              " 'config': {'seed': None},\n",
              " 'registered_name': None}"
            ]
          },
          "metadata": {},
          "execution_count": 2
        }
      ]
    },
    {
      "cell_type": "markdown",
      "source": [
        "* 기본값으로 설정된 Glorot Uniform 초기화 방법을 HeNormal로 변경하기 위해서는 kernel_initializer 매개변수에 설정하면 됨\n",
        "* 옵티마이저, 손실함수와 마찬가지로 문자열로 지정하는 방법과 클래스 인스턴스로 지정하는 방법이 있음."
      ],
      "metadata": {
        "id": "0HnWhnYx6FEN"
      }
    },
    {
      "cell_type": "code",
      "source": [
        "# 문자열 초기화\n",
        "dense = tf.keras.layers.Dense(256, kernel_initializer = \"he_normal\", activation = \"relu\")\n",
        "print(dense.get_config()[\"kernel_initializer\"])\n",
        "\n",
        "# 클래스 인스턴스 초기화\n",
        "he_normal = tf.keras.initializers.HeNormal()\n",
        "dense = tf.keras.layers.Dense(256, kernel_initializer = he_normal, activation = \"relu\")\n",
        "print(dense.get_config()[\"kernel_initializer\"])"
      ],
      "metadata": {
        "colab": {
          "base_uri": "https://localhost:8080/"
        },
        "id": "Ayl9ztb16Ouc",
        "outputId": "b8eb73d2-58f5-4801-d9cd-a6030d4afa73"
      },
      "execution_count": 3,
      "outputs": [
        {
          "output_type": "stream",
          "name": "stdout",
          "text": [
            "{'module': 'keras.initializers', 'class_name': 'HeNormal', 'config': {'seed': None}, 'registered_name': None}\n",
            "{'module': 'keras.initializers', 'class_name': 'HeNormal', 'config': {'seed': None}, 'registered_name': None}\n"
          ]
        }
      ]
    },
    {
      "cell_type": "markdown",
      "source": [
        "* 케라스에서 지원하는 자주 사용되는 초기화 목록\n",
        " * \"glorot_normal\", \"glorot_uniform\": 글로럿 초기화(Xavier 초기화)\n",
        " * \"lecun_normal\", \"lecun_uniform\": Yann Lecun 초기화\n",
        " * \"he_normal\", \"he_uniform\": HE 초기화\n",
        " * \"random_normal\", \"random_uniform\": 정규 분포, 연속균등 분포 초기화"
      ],
      "metadata": {
        "id": "5Kt8YVxV64Kh"
      }
    },
    {
      "cell_type": "markdown",
      "source": [
        "## 4-2 규제(Regularization)\n",
        "* 모델의 과대적합을 해소하기 위해 L1, L2 규제를 적용하기도 함.\n",
        "* 텐서플로 케라스 레이어는 기본값으로 규제를 적용하지 않고 있음. 따라서 레이어 규제를 적용하기 위해서는 별도로 설정해 주어야 함."
      ],
      "metadata": {
        "id": "lli5KqrF7JXc"
      }
    },
    {
      "cell_type": "code",
      "source": [
        "# 기본값\n",
        "desne = tf.keras.layers.Dense(256, activation = \"relu\")\n",
        "dense.get_config()"
      ],
      "metadata": {
        "colab": {
          "base_uri": "https://localhost:8080/"
        },
        "id": "8jKp-HQy7UJB",
        "outputId": "7fade4fa-376f-4cd8-a880-6e88443fa972"
      },
      "execution_count": 4,
      "outputs": [
        {
          "output_type": "execute_result",
          "data": {
            "text/plain": [
              "{'name': 'dense_2',\n",
              " 'trainable': True,\n",
              " 'dtype': 'float32',\n",
              " 'units': 256,\n",
              " 'activation': 'relu',\n",
              " 'use_bias': True,\n",
              " 'kernel_initializer': {'module': 'keras.initializers',\n",
              "  'class_name': 'HeNormal',\n",
              "  'config': {'seed': None},\n",
              "  'registered_name': None},\n",
              " 'bias_initializer': {'module': 'keras.initializers',\n",
              "  'class_name': 'Zeros',\n",
              "  'config': {},\n",
              "  'registered_name': None},\n",
              " 'kernel_regularizer': None,\n",
              " 'bias_regularizer': None,\n",
              " 'activity_regularizer': None,\n",
              " 'kernel_constraint': None,\n",
              " 'bias_constraint': None}"
            ]
          },
          "metadata": {},
          "execution_count": 4
        }
      ]
    },
    {
      "cell_type": "markdown",
      "source": [
        "* 모델이 과대적합하는 것을 방지해 주기 위해 모델을 구성하는 레이어마다 규제를 적용할 수 있음.\n",
        "* 케라스에서 지원하는 규제는 L1, L2 규제가 있음.\n",
        "* 규제를 적용하기 위해서는 kernel_regularizer에 규제를 지정"
      ],
      "metadata": {
        "id": "ZNJbY7P77aNm"
      }
    },
    {
      "cell_type": "code",
      "source": [
        "# l1 규제 적용\n",
        "dense = tf.keras.layers.Dense(256, kernel_regularizer = \"l1\", activation = \"relu\")\n",
        "print(dense.get_config()[\"kernel_regularizer\"])\n",
        "\n",
        "# 클래스 인스턴스 적용. alpha = 0.1 변경\n",
        "regularizer = tf.keras.regularizers.l1(l1 = 0.1)\n",
        "dense = tf.keras.layers.Dense(256, kernel_regularizer = regularizer, activation = \"relu\")\n",
        "print(dense.get_config()[\"kernel_regularizer\"])"
      ],
      "metadata": {
        "colab": {
          "base_uri": "https://localhost:8080/"
        },
        "id": "ZwaPXekx7jGh",
        "outputId": "8fd50e69-ce56-499d-fd1c-afb5b8d5a1a3"
      },
      "execution_count": 5,
      "outputs": [
        {
          "output_type": "stream",
          "name": "stdout",
          "text": [
            "{'module': 'keras.regularizers', 'class_name': 'L1', 'config': {'l1': 0.009999999776482582}, 'registered_name': None}\n",
            "{'module': 'keras.regularizers', 'class_name': 'L1', 'config': {'l1': 0.10000000149011612}, 'registered_name': None}\n"
          ]
        }
      ]
    },
    {
      "cell_type": "markdown",
      "source": [
        "## 4-3 드롭아웃(Dropout)\n",
        "* 딥러닝 모델의 가장 큰 난제가 바로 과대적합 문제\n",
        "* 딥러닝 모델의 층이 넓고 깊어질 때 모델은 훈련에 주어진 샘플에 과하게 적합하도록 학습하는 경향이 있음.\n",
        "* 따라서 훈련할 때 만나지 못한 새로운 데이터에 대해서는 좋지 않은 예측력을 보일 때가 많음.\n",
        "* 즉, 훈련 데이터셋에 너무 적응하여 검증 데이터셋이나 테스트 데이터셋에 대해 일반화된 성능을 갖지 못하는 문제가 자주 발생하는 편.\n",
        "* 드롭아웃은 모델의 과대적합 문제를 해결하기 위해 제안된 아이디어이며, 실무적으로 상당히 좋은 효과를 보이는 것으로 알려져 있음.\n",
        "\n",
        "![드롭아웃.jpeg](data:image/jpeg;base64,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)\n",
        "\n"
      ],
      "metadata": {
        "id": "dqCcTGWa7_6H"
      }
    },
    {
      "cell_type": "markdown",
      "source": [
        "* 왼쪽 그림을 보면 모든 노드들이 연결되어 있지만, 오른쪽 그림은 모든 노드가 연결되어 있지 않고 확률적으로 몇 개의 신호는 끊겨 있음.\n",
        "* 이렇게 노드의 일부 신호를 임의로 삭제하게 되면, 모델이 쉽게 과대적합 되는 것을 방지할 수 있음. 모델이 학습하는 가중치 파라미터의 개수가 현저하게 줄어들기 때문.\n",
        "* 중요한 점은 모델이 훈련할 때는 드롭아웃이 적용되어 노드 중 일부만 훈련하게 되지만, 예측 시점에는 모든 노드들이 활용됨.\n"
      ],
      "metadata": {
        "id": "OFpJyKod8mFq"
      }
    },
    {
      "cell_type": "code",
      "source": [
        "# Dropout 25% 비율 적용(25%의 노드가 삭제)\n",
        "tf.keras.layers.Dropout(0.25)"
      ],
      "metadata": {
        "colab": {
          "base_uri": "https://localhost:8080/"
        },
        "id": "x0HRKEBK83v3",
        "outputId": "d499f5c3-02ba-4efe-821d-52272544eef5"
      },
      "execution_count": 6,
      "outputs": [
        {
          "output_type": "execute_result",
          "data": {
            "text/plain": [
              "<keras.src.layers.regularization.dropout.Dropout at 0x79f689fd0520>"
            ]
          },
          "metadata": {},
          "execution_count": 6
        }
      ]
    },
    {
      "cell_type": "markdown",
      "source": [
        "## 4-4 배치 정규화(Batch Normalization)\n",
        "* 배치 정규화: 각 층에서 활성화 함수를 통과하기 전 미니 배치의 스케일을 정규화\n",
        "* 다음 층으로 데이터가 전달되기 전에 스케일을 조정하기 때문에 보다 안정적인 훈련이 가능하고 성능을 크게 향상시킬 수 있음.\n",
        "* 배치 정규화 층은 케라스에서 클래스 함수로 지원하기 때문에 별도로 코드를 구현할 필요가 없고, 클래스 인스턴스를 생성하여 추가해주면 됨."
      ],
      "metadata": {
        "id": "4S4wciOf88k1"
      }
    },
    {
      "cell_type": "code",
      "source": [
        "# model A: Dense + ReLU\n",
        "model_a = tf.keras.Sequential([\n",
        "    tf.keras.layers.Flatten(input_shape = (28, 28)),\n",
        "    tf.keras.layers.Dense(64, activation = \"relu\"),\n",
        "    tf.keras.layers.Dense(32, activation = \"relu\"),\n",
        "    tf.keras.layers.Dense(10, activation = \"softmax\"),\n",
        "])\n",
        "model_a.summary()"
      ],
      "metadata": {
        "colab": {
          "base_uri": "https://localhost:8080/"
        },
        "id": "6fx8oHki9NWY",
        "outputId": "36d04657-c4dd-4a59-bdb5-dd2187543bf5"
      },
      "execution_count": 7,
      "outputs": [
        {
          "output_type": "stream",
          "name": "stdout",
          "text": [
            "Model: \"sequential\"\n",
            "_________________________________________________________________\n",
            " Layer (type)                Output Shape              Param #   \n",
            "=================================================================\n",
            " flatten (Flatten)           (None, 784)               0         \n",
            "                                                                 \n",
            " dense_6 (Dense)             (None, 64)                50240     \n",
            "                                                                 \n",
            " dense_7 (Dense)             (None, 32)                2080      \n",
            "                                                                 \n",
            " dense_8 (Dense)             (None, 10)                330       \n",
            "                                                                 \n",
            "=================================================================\n",
            "Total params: 52650 (205.66 KB)\n",
            "Trainable params: 52650 (205.66 KB)\n",
            "Non-trainable params: 0 (0.00 Byte)\n",
            "_________________________________________________________________\n"
          ]
        }
      ]
    },
    {
      "cell_type": "code",
      "source": [
        "# Model B: Dense + BatchNorm + ReLU\n",
        "model_b = tf.keras.Sequential([\n",
        "    tf.keras.layers.Flatten(input_shape = (28, 28)),\n",
        "    tf.keras.layers.Dense(64),\n",
        "    # 배치 정규화 적용\n",
        "    tf.keras.layers.BatchNormalization(),\n",
        "    # 배치 정규화 후 활성화 함수 적용\n",
        "    tf.keras.layers.Activation(\"relu\"),\n",
        "\n",
        "    tf.keras.layers.Dense(32),\n",
        "    # 배치 정규화 적용\n",
        "    tf.keras.layers.BatchNormalization(),\n",
        "    # 배치 정규화 후 활성화 함수 적용\n",
        "    tf.keras.layers.Activation(\"relu\"),\n",
        "\n",
        "    tf.keras.layers.Dense(10, activation = \"softmax\")\n",
        "])\n",
        "model_b.summary()"
      ],
      "metadata": {
        "colab": {
          "base_uri": "https://localhost:8080/"
        },
        "id": "S-5fwsp39dhP",
        "outputId": "2d1b4fbf-0c79-4079-b4e6-38baadb4872c"
      },
      "execution_count": 8,
      "outputs": [
        {
          "output_type": "stream",
          "name": "stdout",
          "text": [
            "Model: \"sequential_1\"\n",
            "_________________________________________________________________\n",
            " Layer (type)                Output Shape              Param #   \n",
            "=================================================================\n",
            " flatten_1 (Flatten)         (None, 784)               0         \n",
            "                                                                 \n",
            " dense_9 (Dense)             (None, 64)                50240     \n",
            "                                                                 \n",
            " batch_normalization (Batch  (None, 64)                256       \n",
            " Normalization)                                                  \n",
            "                                                                 \n",
            " activation (Activation)     (None, 64)                0         \n",
            "                                                                 \n",
            " dense_10 (Dense)            (None, 32)                2080      \n",
            "                                                                 \n",
            " batch_normalization_1 (Bat  (None, 32)                128       \n",
            " chNormalization)                                                \n",
            "                                                                 \n",
            " activation_1 (Activation)   (None, 32)                0         \n",
            "                                                                 \n",
            " dense_11 (Dense)            (None, 10)                330       \n",
            "                                                                 \n",
            "=================================================================\n",
            "Total params: 53034 (207.16 KB)\n",
            "Trainable params: 52842 (206.41 KB)\n",
            "Non-trainable params: 192 (768.00 Byte)\n",
            "_________________________________________________________________\n"
          ]
        }
      ]
    },
    {
      "cell_type": "markdown",
      "source": [
        "* 동일한 조건에서 10번의 epoch동안 model_a, model_b 두 모델을 훈련한 결과는 다음과 같음.\n",
        "\n",
        "![훈련 결과 비교.jpeg](data:image/jpeg;base64,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)\n",
        "\n",
        "* 배치 정규화만 추가하였는데 손실은 이전 대비 더 안정적이고 빠르게 수렴하는 것을 확인할 수 있음.\n",
        "* 데이터 개수가 적은 편인 mnist 손글씨 데이터셋에서는 큰 차이를 보이지 않을 수 있지만, 더 크고 복잡한 데이터셋에 대해서는 배치 정규화 유무가 모델 성능에 크게 영향을 미치는 경우도 있으므로 배치 정규화를 적극 적용해 볼 필요가 있음."
      ],
      "metadata": {
        "id": "JX6pUYKL9-ln"
      }
    },
    {
      "cell_type": "markdown",
      "source": [
        "## 4-5 활성화(activation) 함수\n",
        "* 케라스가 지원하는 다른 활성화 함수를 적용해 볼 수 있음."
      ],
      "metadata": {
        "id": "Zap8GRkf-Tv2"
      }
    },
    {
      "cell_type": "code",
      "source": [
        "# LeakyReLU 기본 설정\n",
        "tf.keras.layers.LeakyReLU()\n",
        "\n",
        "# LeakyReLU, alpha = 0.2로 변경\n",
        "tf.keras.layers.LeakyReLU(alpha = 0.2)"
      ],
      "metadata": {
        "colab": {
          "base_uri": "https://localhost:8080/"
        },
        "id": "RwtMN668-ZVA",
        "outputId": "05a28a16-9667-459e-9633-bb3bab2894b7"
      },
      "execution_count": 9,
      "outputs": [
        {
          "output_type": "execute_result",
          "data": {
            "text/plain": [
              "<keras.src.layers.activation.leaky_relu.LeakyReLU at 0x79f7147609a0>"
            ]
          },
          "metadata": {},
          "execution_count": 9
        }
      ]
    },
    {
      "cell_type": "code",
      "source": [
        "# Model C: Dense + BatchNorm + LeakyReLU(0.2)\n",
        "model_c = tf.keras.Sequential([\n",
        "    tf.keras.layers.Flatten(input_shape = (28, 28)),\n",
        "    tf.keras.layers.Dense(64),\n",
        "    # 배치 정규화 적용\n",
        "    tf.keras.layers.BatchNormalization(),\n",
        "    # LeakyReLU, alpha = 0.2 적용\n",
        "    tf.keras.layers.LeakyReLU(alpha = 0.2),\n",
        "\n",
        "    tf.keras.layers.Dense(32),\n",
        "    # 배치 정규화 적용\n",
        "    tf.keras.layers.BatchNormalization(),\n",
        "    # LeakyReLU, alpha = 0.2 적용\n",
        "    tf.keras.layers.LeakyReLU(alpha = 0.2),\n",
        "\n",
        "    tf.keras.layers.Dense(10, activation = \"softmax\")\n",
        "])\n",
        "\n",
        "# 모델 요약\n",
        "model_c.summary()"
      ],
      "metadata": {
        "colab": {
          "base_uri": "https://localhost:8080/"
        },
        "id": "fp0AdDMf-gdG",
        "outputId": "09a46598-bfda-436f-f4cb-48fe0a32279d"
      },
      "execution_count": 10,
      "outputs": [
        {
          "output_type": "stream",
          "name": "stdout",
          "text": [
            "Model: \"sequential_2\"\n",
            "_________________________________________________________________\n",
            " Layer (type)                Output Shape              Param #   \n",
            "=================================================================\n",
            " flatten_2 (Flatten)         (None, 784)               0         \n",
            "                                                                 \n",
            " dense_12 (Dense)            (None, 64)                50240     \n",
            "                                                                 \n",
            " batch_normalization_2 (Bat  (None, 64)                256       \n",
            " chNormalization)                                                \n",
            "                                                                 \n",
            " leaky_re_lu_2 (LeakyReLU)   (None, 64)                0         \n",
            "                                                                 \n",
            " dense_13 (Dense)            (None, 32)                2080      \n",
            "                                                                 \n",
            " batch_normalization_3 (Bat  (None, 32)                128       \n",
            " chNormalization)                                                \n",
            "                                                                 \n",
            " leaky_re_lu_3 (LeakyReLU)   (None, 32)                0         \n",
            "                                                                 \n",
            " dense_14 (Dense)            (None, 10)                330       \n",
            "                                                                 \n",
            "=================================================================\n",
            "Total params: 53034 (207.16 KB)\n",
            "Trainable params: 52842 (206.41 KB)\n",
            "Non-trainable params: 192 (768.00 Byte)\n",
            "_________________________________________________________________\n"
          ]
        }
      ]
    },
    {
      "cell_type": "markdown",
      "source": [
        "* 앞에서 생성한 2개의 모델과 LeakyReLU 활성화 함수로 변경한 모델까지 더해서 총 3개의 모델을 동일한 조건으로 10번의 epoch 동안 훈련한 후에 수렴 속도를 확인\n",
        " * model_a: Dense 레이어 + ReLU 활성화 함수\n",
        " * model_b: Dense 레이어 + 배치 정규화\n",
        " * model_c: Dense 레이어 + 배치 정규화 + LeakyReLU(0, 2) 활성화 함수"
      ],
      "metadata": {
        "id": "_UVuMsJGf3hr"
      }
    },
    {
      "cell_type": "code",
      "source": [
        "model_a.compile(optimizer = \"adam\", loss = \"sparse_categorical_crossentropy\", metrics = [\"accuracy\"])\n",
        "model_b.compile(optimizer = \"adam\", loss = \"sparse_categorical_crossentropy\", metrics = [\"accuracy\"])\n",
        "model_c.compile(optimizer = \"adam\", loss = \"sparse_categorical_crossentropy\", metrics = [\"accuracy\"])\n",
        "\n",
        "# Mdoel A: Dense + ReLU\n",
        "history_a = model_a.fit(x_train, y_train,\n",
        "                        validation_data = (x_test, y_test),\n",
        "                        epochs = 10)\n",
        "\n",
        "# Model B: Dense + BatchNorm + ReLU\n",
        "history_b = model_b.fit(x_train, y_train,\n",
        "                        validation_data = (x_test, y_test),\n",
        "                        epochs = 10)\n",
        "\n",
        "# Model C: Dense + BatchNorm + LeakyReLU(0, 2)\n",
        "history_c = model_c.fit(x_train, y_train,\n",
        "                        validation_data = (x_test, y_test),\n",
        "                        epochs = 10)"
      ],
      "metadata": {
        "colab": {
          "base_uri": "https://localhost:8080/"
        },
        "id": "enodJ3vkgHGU",
        "outputId": "b9309b16-f726-4a77-a2a7-a7ae99f61ede"
      },
      "execution_count": 11,
      "outputs": [
        {
          "output_type": "stream",
          "name": "stdout",
          "text": [
            "Epoch 1/10\n",
            "1875/1875 [==============================] - 13s 6ms/step - loss: 0.2938 - accuracy: 0.9169 - val_loss: 0.1723 - val_accuracy: 0.9486\n",
            "Epoch 2/10\n",
            "1875/1875 [==============================] - 12s 6ms/step - loss: 0.1396 - accuracy: 0.9576 - val_loss: 0.1210 - val_accuracy: 0.9622\n",
            "Epoch 3/10\n",
            "1875/1875 [==============================] - 12s 6ms/step - loss: 0.1002 - accuracy: 0.9700 - val_loss: 0.1057 - val_accuracy: 0.9683\n",
            "Epoch 4/10\n",
            "1875/1875 [==============================] - 9s 5ms/step - loss: 0.0800 - accuracy: 0.9755 - val_loss: 0.0968 - val_accuracy: 0.9702\n",
            "Epoch 5/10\n",
            "1875/1875 [==============================] - 9s 5ms/step - loss: 0.0654 - accuracy: 0.9799 - val_loss: 0.1040 - val_accuracy: 0.9683\n",
            "Epoch 6/10\n",
            "1875/1875 [==============================] - 12s 7ms/step - loss: 0.0571 - accuracy: 0.9822 - val_loss: 0.0986 - val_accuracy: 0.9700\n",
            "Epoch 7/10\n",
            "1875/1875 [==============================] - 14s 7ms/step - loss: 0.0477 - accuracy: 0.9850 - val_loss: 0.0869 - val_accuracy: 0.9729\n",
            "Epoch 8/10\n",
            "1875/1875 [==============================] - 16s 8ms/step - loss: 0.0413 - accuracy: 0.9868 - val_loss: 0.0929 - val_accuracy: 0.9725\n",
            "Epoch 9/10\n",
            "1875/1875 [==============================] - 16s 9ms/step - loss: 0.0353 - accuracy: 0.9887 - val_loss: 0.1012 - val_accuracy: 0.9713\n",
            "Epoch 10/10\n",
            "1875/1875 [==============================] - 13s 7ms/step - loss: 0.0325 - accuracy: 0.9890 - val_loss: 0.1039 - val_accuracy: 0.9718\n",
            "Epoch 1/10\n",
            "1875/1875 [==============================] - 17s 7ms/step - loss: 0.3217 - accuracy: 0.9119 - val_loss: 0.1282 - val_accuracy: 0.9609\n",
            "Epoch 2/10\n",
            "1875/1875 [==============================] - 11s 6ms/step - loss: 0.1428 - accuracy: 0.9575 - val_loss: 0.1055 - val_accuracy: 0.9656\n",
            "Epoch 3/10\n",
            "1875/1875 [==============================] - 15s 8ms/step - loss: 0.1113 - accuracy: 0.9651 - val_loss: 0.0942 - val_accuracy: 0.9715\n",
            "Epoch 4/10\n",
            "1875/1875 [==============================] - 10s 5ms/step - loss: 0.0932 - accuracy: 0.9712 - val_loss: 0.0894 - val_accuracy: 0.9735\n",
            "Epoch 5/10\n",
            "1875/1875 [==============================] - 9s 5ms/step - loss: 0.0837 - accuracy: 0.9732 - val_loss: 0.0795 - val_accuracy: 0.9754\n",
            "Epoch 6/10\n",
            "1875/1875 [==============================] - 11s 6ms/step - loss: 0.0728 - accuracy: 0.9761 - val_loss: 0.0746 - val_accuracy: 0.9756\n",
            "Epoch 7/10\n",
            "1875/1875 [==============================] - 13s 7ms/step - loss: 0.0679 - accuracy: 0.9781 - val_loss: 0.0768 - val_accuracy: 0.9771\n",
            "Epoch 8/10\n",
            "1875/1875 [==============================] - 17s 9ms/step - loss: 0.0608 - accuracy: 0.9807 - val_loss: 0.0767 - val_accuracy: 0.9755\n",
            "Epoch 9/10\n",
            "1875/1875 [==============================] - 14s 7ms/step - loss: 0.0564 - accuracy: 0.9812 - val_loss: 0.0788 - val_accuracy: 0.9770\n",
            "Epoch 10/10\n",
            "1875/1875 [==============================] - 10s 5ms/step - loss: 0.0543 - accuracy: 0.9823 - val_loss: 0.0740 - val_accuracy: 0.9784\n",
            "Epoch 1/10\n",
            "1875/1875 [==============================] - 12s 5ms/step - loss: 0.3212 - accuracy: 0.9107 - val_loss: 0.1516 - val_accuracy: 0.9548\n",
            "Epoch 2/10\n",
            "1875/1875 [==============================] - 10s 5ms/step - loss: 0.1567 - accuracy: 0.9532 - val_loss: 0.1196 - val_accuracy: 0.9641\n",
            "Epoch 3/10\n",
            "1875/1875 [==============================] - 10s 5ms/step - loss: 0.1212 - accuracy: 0.9619 - val_loss: 0.0957 - val_accuracy: 0.9704\n",
            "Epoch 4/10\n",
            "1875/1875 [==============================] - 11s 6ms/step - loss: 0.1024 - accuracy: 0.9676 - val_loss: 0.1027 - val_accuracy: 0.9700\n",
            "Epoch 5/10\n",
            "1875/1875 [==============================] - 12s 6ms/step - loss: 0.0910 - accuracy: 0.9713 - val_loss: 0.0847 - val_accuracy: 0.9747\n",
            "Epoch 6/10\n",
            "1875/1875 [==============================] - 13s 7ms/step - loss: 0.0846 - accuracy: 0.9729 - val_loss: 0.0776 - val_accuracy: 0.9762\n",
            "Epoch 7/10\n",
            "1875/1875 [==============================] - 14s 7ms/step - loss: 0.0764 - accuracy: 0.9753 - val_loss: 0.0840 - val_accuracy: 0.9737\n",
            "Epoch 8/10\n",
            "1875/1875 [==============================] - 10s 5ms/step - loss: 0.0719 - accuracy: 0.9769 - val_loss: 0.0841 - val_accuracy: 0.9733\n",
            "Epoch 9/10\n",
            "1875/1875 [==============================] - 10s 5ms/step - loss: 0.0683 - accuracy: 0.9785 - val_loss: 0.0882 - val_accuracy: 0.9737\n",
            "Epoch 10/10\n",
            "1875/1875 [==============================] - 10s 5ms/step - loss: 0.0661 - accuracy: 0.9789 - val_loss: 0.0798 - val_accuracy: 0.9764\n"
          ]
        }
      ]
    },
    {
      "cell_type": "code",
      "source": [
        "import matplotlib.pyplot as plt\n",
        "import numpy as np\n",
        "\n",
        "plt.figure(figsize = (12, 9))\n",
        "plt.plot(np.arange(1, 11), history_a.history[\"val_loss\"], color = \"navy\", linestyle = \":\")\n",
        "plt.plot(np.arange(1, 11), history_b.history[\"val_loss\"], color = \"tomato\", linestyle = \"-.\")\n",
        "plt.plot(np.arange(1, 11), history_c.history[\"val_loss\"], color = \"green\", linestyle = \"-\")\n",
        "\n",
        "plt.title(\"Losses\", fontsize = 20)\n",
        "plt.xlabel(\"epochs\")\n",
        "plt.ylabel(\"Losses\")\n",
        "plt.legend([\"ReLU\", \"BatchNorm + ReLU\", \"BatchNorm + LeakyReLU\"], fontsize = 12)\n",
        "plt.show()"
      ],
      "metadata": {
        "colab": {
          "base_uri": "https://localhost:8080/",
          "height": 803
        },
        "id": "BXQ7nPdogpn6",
        "outputId": "e3ccd6ca-4992-4dd9-a393-30f1debbd107"
      },
      "execution_count": 12,
      "outputs": [
        {
          "output_type": "display_data",
          "data": {
            "text/plain": [
              "<Figure size 1200x900 with 1 Axes>"
            ],
            "image/png": "[encoded data removed]"
          },
          "metadata": {}
        }
      ]
    },
    {
      "cell_type": "markdown",
      "source": [
        "* mnist 데이터셋은 모델별 차이가 크지는 않으나, 좀 더 복잡한 데이터셋을 다룬다면 배치 정규화와 다른 활성화 함수를 적용해 보면서 모델의 훈련 추이를 관찰해 볼 필요가 있음."
      ],
      "metadata": {
        "id": "yblntxBwhMJY"
      }
    },
    {
      "cell_type": "markdown",
      "source": [
        "# 06. 모델 저장 및 불러오기"
      ],
      "metadata": {
        "id": "9m5gU5LGhZX0"
      }
    },
    {
      "cell_type": "markdown",
      "source": [
        "## 6-1 모델을 파일로 저장\n",
        "* 훈련을 종료하여 가중치가 업데이트된 모델 인스턴스를 저장할 수 있음.\n",
        "* save() 메소드를 사용하는데, save() 메소드를 호출할 때 저장할 파일의 디렉토리를 포함하는 파일명을 매개변수로 지정\n",
        "* 모델을 저장하는 형식은 HDF5 포맷과 SavedModel 포맷 두 가지가 있음.\n",
        "* 모델을 저장할 파일명이 .h5 확장자를 포함하는 경우는 모델이 HDF5 포맷으로 저장\n",
        "* HDF5 파일 형식은 대용량의 데이터를 저장하기 위한 파일 형식"
      ],
      "metadata": {
        "id": "Ug2FjeJDhkM6"
      }
    },
    {
      "cell_type": "code",
      "source": [
        "# 모델을 h5 포맷으로 저장\n",
        "model_b.save(\"h5-model.h5\")"
      ],
      "metadata": {
        "colab": {
          "base_uri": "https://localhost:8080/"
        },
        "id": "awtGe6Y1h42Y",
        "outputId": "ca7bad2f-3ab4-4b6f-c7aa-4659c19dde0f"
      },
      "execution_count": 13,
      "outputs": [
        {
          "output_type": "stream",
          "name": "stderr",
          "text": [
            "/usr/local/lib/python3.10/dist-packages/keras/src/engine/training.py:3079: UserWarning: You are saving your model as an HDF5 file via `model.save()`. This file format is considered legacy. We recommend using instead the native Keras format, e.g. `model.save('my_model.keras')`.\n",
            "  saving_api.save_model(\n"
          ]
        }
      ]
    },
    {
      "cell_type": "markdown",
      "source": [
        "## 6-2 저장된 모델 복원\n",
        "* tensorflow.keras.models.load_model() 메소드로 저장된 모델을 복원할 수 있음."
      ],
      "metadata": {
        "id": "4r-iHNBnh879"
      }
    },
    {
      "cell_type": "code",
      "source": [
        "# 모델 복원\n",
        "h5_model = tf.keras.models.load_model(\"h5-model.h5\")\n",
        "h5_model.summary()"
      ],
      "metadata": {
        "colab": {
          "base_uri": "https://localhost:8080/"
        },
        "id": "wYi1zlsei1Ay",
        "outputId": "5363d55d-763a-42f0-a23f-7aab9662d4fc"
      },
      "execution_count": 14,
      "outputs": [
        {
          "output_type": "stream",
          "name": "stdout",
          "text": [
            "Model: \"sequential_1\"\n",
            "_________________________________________________________________\n",
            " Layer (type)                Output Shape              Param #   \n",
            "=================================================================\n",
            " flatten_1 (Flatten)         (None, 784)               0         \n",
            "                                                                 \n",
            " dense_9 (Dense)             (None, 64)                50240     \n",
            "                                                                 \n",
            " batch_normalization (Batch  (None, 64)                256       \n",
            " Normalization)                                                  \n",
            "                                                                 \n",
            " activation (Activation)     (None, 64)                0         \n",
            "                                                                 \n",
            " dense_10 (Dense)            (None, 32)                2080      \n",
            "                                                                 \n",
            " batch_normalization_1 (Bat  (None, 32)                128       \n",
            " chNormalization)                                                \n",
            "                                                                 \n",
            " activation_1 (Activation)   (None, 32)                0         \n",
            "                                                                 \n",
            " dense_11 (Dense)            (None, 10)                330       \n",
            "                                                                 \n",
            "=================================================================\n",
            "Total params: 53034 (207.16 KB)\n",
            "Trainable params: 52842 (206.41 KB)\n",
            "Non-trainable params: 192 (768.00 Byte)\n",
            "_________________________________________________________________\n"
          ]
        }
      ]
    },
    {
      "cell_type": "markdown",
      "source": [
        "* 검증 셋을 evalueate 함수에 대입해, 손실 함수와 평가지표를 계산"
      ],
      "metadata": {
        "id": "xPLjkg9Bi6Yf"
      }
    },
    {
      "cell_type": "code",
      "source": [
        "# 모델 검증\n",
        "loss, acc = h5_model.evaluate(x_test, y_test, verbose = 0)\n",
        "print(f\"h5 model] loss: {loss:.5f}, acc: {acc:.5f}\")"
      ],
      "metadata": {
        "colab": {
          "base_uri": "https://localhost:8080/"
        },
        "id": "NHD-bGWCi9kl",
        "outputId": "e86e9fae-57cd-4ffa-8048-3b19e78a08b5"
      },
      "execution_count": 15,
      "outputs": [
        {
          "output_type": "stream",
          "name": "stdout",
          "text": [
            "h5 model] loss: 0.07396, acc: 0.97840\n"
          ]
        }
      ]
    },
    {
      "cell_type": "markdown",
      "source": [
        "* .h5 확장자를 생략하면 SavedModel 포맷으로 저장되며 텐서플로2에서 기본으로 지원하는 파일 포맷\n",
        "* SavedModel 포맷으로 저장된 모델을 복원할 때 HDF5와 같은 방식으로 복원하면 됨."
      ],
      "metadata": {
        "id": "3vfZexPUjIcP"
      }
    },
    {
      "cell_type": "code",
      "source": [
        "# 모델을 SavedModel 포맷으로 저장\n",
        "model_b.save(\"saved-model\")"
      ],
      "metadata": {
        "id": "1gzPWB_ajU3_"
      },
      "execution_count": 16,
      "outputs": []
    },
    {
      "cell_type": "markdown",
      "source": [
        "* SavedModel 포맷으로 저장된 모델을 복원하여 summary()를 확인"
      ],
      "metadata": {
        "id": "8FcRH-UjjaPI"
      }
    },
    {
      "cell_type": "code",
      "source": [
        "# 모델 복원\n",
        "saved_model = tf.keras.models.load_model(\"saved-model\")\n",
        "saved_model.summary()"
      ],
      "metadata": {
        "colab": {
          "base_uri": "https://localhost:8080/"
        },
        "id": "Ev264zfujdtW",
        "outputId": "c6c86138-3c49-44eb-958d-d70009a39704"
      },
      "execution_count": 17,
      "outputs": [
        {
          "output_type": "stream",
          "name": "stdout",
          "text": [
            "Model: \"sequential_1\"\n",
            "_________________________________________________________________\n",
            " Layer (type)                Output Shape              Param #   \n",
            "=================================================================\n",
            " flatten_1 (Flatten)         (None, 784)               0         \n",
            "                                                                 \n",
            " dense_9 (Dense)             (None, 64)                50240     \n",
            "                                                                 \n",
            " batch_normalization (Batch  (None, 64)                256       \n",
            " Normalization)                                                  \n",
            "                                                                 \n",
            " activation (Activation)     (None, 64)                0         \n",
            "                                                                 \n",
            " dense_10 (Dense)            (None, 32)                2080      \n",
            "                                                                 \n",
            " batch_normalization_1 (Bat  (None, 32)                128       \n",
            " chNormalization)                                                \n",
            "                                                                 \n",
            " activation_1 (Activation)   (None, 32)                0         \n",
            "                                                                 \n",
            " dense_11 (Dense)            (None, 10)                330       \n",
            "                                                                 \n",
            "=================================================================\n",
            "Total params: 53034 (207.16 KB)\n",
            "Trainable params: 52842 (206.41 KB)\n",
            "Non-trainable params: 192 (768.00 Byte)\n",
            "_________________________________________________________________\n"
          ]
        }
      ]
    },
    {
      "cell_type": "markdown",
      "source": [
        "* SavedModel 형식으로 저장 및 복원된 모델의 성능을 확인하면, HDF5 형식으로 저장 및 복원된 모델과 동일한 성능을 나타냄"
      ],
      "metadata": {
        "id": "3vljFG6Jjkft"
      }
    },
    {
      "cell_type": "code",
      "source": [
        "# 모델 검증(HDF5 포맷)\n",
        "loss, acc = h5_model.evaluate(x_test, y_test, verbose = 0)\n",
        "print(f\"5h model] loss: {loss:.5f}, acc: {acc:.5f}\")\n",
        "\n",
        "# 모델 검증(SavedModel 포맷)\n",
        "loss, acc = saved_model.evaluate(x_test, y_test, verbose = 0)\n",
        "print(f\"saved model] loss: {loss:.5f}, acc: {acc:.5f}\")"
      ],
      "metadata": {
        "colab": {
          "base_uri": "https://localhost:8080/"
        },
        "id": "5NN5U-ezjqpt",
        "outputId": "066ce79d-a94f-4552-a60a-b6a4bd603667"
      },
      "execution_count": 18,
      "outputs": [
        {
          "output_type": "stream",
          "name": "stdout",
          "text": [
            "5h model] loss: 0.07396, acc: 0.97840\n",
            "saved model] loss: 0.07396, acc: 0.97840\n"
          ]
        }
      ]
    },
    {
      "cell_type": "markdown",
      "source": [
        "# 07. 복잡한 모델 생성"
      ],
      "metadata": {
        "id": "ElGaxTpuj9G5"
      }
    },
    {
      "cell_type": "markdown",
      "source": [
        "## 7-1 함수형 API(Functional API)\n",
        "* 여러 층을 시퀀스 형태로 연결하는 Sequential API와 다르게, Functional API는 복잡한 구조의 모델을 정의할 수 있음.\n",
        "\n",
        "![Functioanl API.jpeg](data:image/jpeg;base64,/9j/4AAQSkZJRgABAQAAAQABAAD/4gHYSUNDX1BST0ZJTEUAAQEAAAHIAAAAAAQwAABtbnRyUkdCIFhZWiAH4AABAAEAAAAAAABhY3NwAAAAAAAAAAAAAAAAAAAAAAAAAAAAAAAAAAAAAQAA9tYAAQAAAADTLQAAAAAAAAAAAAAAAAAAAAAAAAAAAAAAAAAAAAAAAAAAAAAAAAAAAAAAAAAAAAAAAAAAAAlkZXNjAAAA8AAAACRyWFlaAAABFAAAABRnWFlaAAABKAAAABRiWFlaAAABPAAAABR3dHB0AAABUAAAABRyVFJDAAABZAAAAChnVFJDAAABZAAAAChiVFJDAAABZAAAAChjcHJ0AAABjAAAADxtbHVjAAAAAAAAAAEAAAAMZW5VUwAAAAgAAAAcAHMAUgBHAEJYWVogAAAAAAAAb6IAADj1AAADkFhZWiAAAAAAAABimQAAt4UAABjaWFlaIAAAAAAAACSgAAAPhAAAts9YWVogAAAAAAAA9tYAAQAAAADTLXBhcmEAAAAAAAQAAAACZmYAAPKnAAANWQAAE9AAAApbAAAAAAAAAABtbHVjAAAAAAAAAAEAAAAMZW5VUwAAACAAAAAcAEcAbwBvAGcAbABlACAASQBuAGMALgAgADIAMAAxADb/2wBDAAMCAgICAgMCAgIDAwMDBAYEBAQEBAgGBgUGCQgKCgkICQkKDA8MCgsOCwkJDRENDg8QEBEQCgwSExIQEw8QEBD/2wBDAQMDAwQDBAgEBAgQCwkLEBAQEBAQEBAQEBAQEBAQEBAQEBAQEBAQEBAQEBAQEBAQEBAQEBAQEBAQEBAQEBAQEBD/wAARCADsATYDASIAAhEBAxEB/8QAHAABAAMBAQEBAQAAAAAAAAAAAAUGBwEEAgMJ/8QASRAAAQMDAQMJBQYEBAUBCQAAAQIDBAAFEQYHEiETFRYxUVRVktEUIkFhkzI1U3GhsXN1gbMjNIORCEJFUoIXJCYzQ0RiY7Lx/8QAGgEBAAMBAQEAAAAAAAAAAAAAAAECBAMFBv/EADERAAICAAUCBQIGAgMBAAAAAAABAgMEERVRUhMhBRIUMZEyQSIzNHGBoULRI2HBsf/aAAwDAQACEQMRAD8A/qnSlKAUpSgFKUoBSlKAVwkDrNdrw3tSkWqUtCilSWlEEHiDipivM0isn5U2e3eSepQpkdorKucrlj/Pv4/iGnOdw7+/9Q16WmT5HlvxRcTVcjtFMjtFZVzncO/v/UNOc7h39/6hppk+Q1RcTVcjtFMjtFZVzncO/v8A1DXDc7gOu4P/AFDTTJ8hqi4mrZHaKZHaKyrnO4d/f+oac53Dv7/1DTTJ7jVFxNVyO0UyO0VlXOdw7+/9Q05zuHf3/qGmmT5DVFxNVyO0UyO0VlIudwPVcHz/AKhrvOdw8Qf+oaaZLkNUXE1XI7RTI7RWVc5XHv8AI85pzncO/v8A1DTTJ8hqi4mq5HaKZHaKyrnO4eIP/UNOc7h39/6hppkuQ1RcTVcjtFMjtFZVzlcO/v8AnNOcrj3+R5zTTJ7jVFxNVyO0UyO0VlXOdw7+/wDUNOc7h39/zmmmT3GqLiarkdopkdorKuc7h39/6hpzncO/v/UNNMnyGqLiarkdopvJ7RWVc53Dv7/1DTnK4d/f+oaaZPkNUXE1XeT2iu1SdGy5UiY+H5DjgS2CN9ROONXasN1Tpm4NnoUXK+HnSFKUrkdhSlKAUpSgFKUoBSlKAUpSgFeC+/c8v+Cr9q99eC+8bRL/AISv2q0PqRS36GZefs/1rld3T113CvlX1XZ/c+TybPmlfWFfKmFfKnbcZM+aqO1O481aTRLEKNKKrta2eTkJKkAOTWUb2AQd5O9kcesDr6quGFfKvBerHbdQwxbrvF5eOl9mSEbxT/iNOJcbPDB4LQk/0qskmuzLR7PNoyaLtG2ktWu36xuT9gctU69yrOLczCdS6hCXXm2nuWLpBVvNoKk7gGCcEHBqOkbWdpli2c2HaRe3dOy29R2h2U3BjQ3UeySPYHJTR5QunlEHkiFDCT73A8OOry9BadfsSLA3AS3HYkLmxxvKPJyFKUvlOvJ95ajjq41XdG7D9HaVstptkliRc12y2JtwEmU85GTvNBt5bUda1NtcoN7O6OpRGeJrg4T+zO3Ur+6/ohtturtSwYyNOaenRoKp1mfuSpSm1qcQpqXDQAjdWjAKX154/AfPOq8m8uJyLkgpdU3uqdaTu4VjipIOcceIzn+tU2LsU0BHDhegXCWtyA5a+UmXSVIcbiLUhRaQpayUJCm0EbuCCOFe5Vu2mtySiHftOCEleG0PW59bwbHUFL5birHWrHXxq8VJd5FH5ZJKJUdk1kfiw5kR/Wt4Wu26xu2VSZDSnLkMrHJvHcGQM7wCAnBQPgCK8uu9Tai03tIujumjDVNlW3T0FoTUrWwj2i4ymlLKUqBJCVZ4EdQrSY2iNLRpCJQszDj7VxeuzTjqStTUt0KS46gqzukhShwxwJFcuWitOXa5m83C3JdlkRAXN9Y/yzqnWeAOPdWtR+eeOajyPypEqxOXmZmM/aFtOtur4ezj2/T0i4y7uzEN0Vb3UNpiuwJEjIZ5Y5cSqMpI9/CgRwByandKa/1Q/tBd2d6g5tkPwEzS9NisKaS+EIhLZKUFatw7spYWMnJQCMA4qR1lsisOsNRWvUEhbkd6HOE2Uplx1t18oivsM7jiFAtKQX98KTx93Hzr0L2QaLMNiM3HuTL0eU5NE5m5yUTVPOJCXFLkhfKL3khKSCojCUjHujEeWafYnz1eX2Mc1vq/Vuprfqqe9do8eAxYr7FESO04MmLdVR23N7lMb+6hOTu/92MZ4bbtC1JL0zYWZEC4RIcqVLaiMrkRXZSiVZKg0w177zm6lRCQR1Ek4BrxjYzs8TaDY27G43DVHmRVIRLeBW1KdLrwUQrKsuHeBJyD1Yrr+yPS0rklSZeoXVx3A9Hccv01a47oBTvtku5QrdUtORg7qlDqJFFGazEp1vLIp+mdr+ojdXYupo7CLZb73zNMmvQHILo5aI09FdU0tZLYK1KaUD17zahu8RXhO2XW10lswoFsdgKetib03yenJlzUpiQ86IjbgZUOTPJNBSyT9pWEgbpq33/Ynpm5aauulbcj2aLqOZHk3t2Sp2U9LS3ugnfcXkOENoTvnOAM4yBiwX/Z/pzUklmbNamx5LEcxA9AnPxFqjk55JZaUkqRnjunIHHGKhRs9syXOv3yKjs213r7XWo56bra4VittqjQVvwXorvtxkPxg4ttRUoBsIUeHuEkEDAxk6hUVY9JWHTbkl2x25uH7WlhDqWyd0pZbDbYA6gAhIHDsqWII6yK6wTSyZym1J5pdjlK6EkV3CvlV+25TLM+aDrFfWFfKmD8adtyUmWTQ3+ckfwx+9XkdVUbQ4xMkfwh+9XkdVeBj/z2fQ+H/kI7SlKxm0UpSgFKUoBSlKAUpSgFKUoBXw60282pp1AUhQwQeoivulAeDmGz5yLewP8AwFOYrR4ex5BXvpV+pPdlOlDZHg5itHh7HkFOYrR4ex5BXvpTqT3Y6cNkRvMlp3Seb2Os/wDIKqmio0edcNTNTGUPIi3dxlkKSCENhtBCR8sk1Zr7eWLDapF3lodWxGTyjgbTvKCc4Jx8cddZzs31/YZuorxbIK3n37vdXZTAS0QAzyaPeUT1fZPzrfRXfbh7ZxTaWXfbuv8Aw8vGXYerFU1yaTbfbfs0v7NNFitBGeb2PIKcw2jw9jyCva0SUDNfdYOpPdnpqqGyI/mG0eHseQU5htA483seQVIUp1J7snpQ2XweDmG0eHseQVzmG0eHseQVIUp1J7jpw2RH8w2fw9jyCnMNn8PY8gqQpTqT3Y6UNl8EfzDaPD2PIKcw2jw9jyCpClPPLcdOGyI/mGz+HseQU5htHh7HkFSFKdSe7I6UOK+DwcxWjuDHkFVHaTAiQbZblw46GVOXWG0ooG6SlTgBScfAir7VK2qfdNq/nML+6K1YKcpYiCb+5j8RhGOFm0u+RY02O0b2Ob2Or/sFffMVo8PY8gr2JHvZr7rL1Z7s2KuGXsvg8HMVo8PY8gpzFaPD2PIK99KdSe7J6cNkeWNbIERRVGittlQwSlOOFeqlKq25d2WSUVkhSlKgkUpSgFKUoD5ChjJNN4fOvLPKkRXlJUQUtqxjh8Kzfni6jhzhI+qr1rTh8LLEZ+V+xkxGLjhslJZ5mpbw+dN4fOst55uviEj6qvWnPN18QkfVV61o02zkZtUr2ZqW8PnTeHzrLeebr4hI+qr1pzzdfEJH1VetNNs5DVK9malvD503h86y3nm6+ISPqq9ac83XxCR9VXrTTbOQ1SvZmpbw+dN4fOsuF3uuM84yPqq9ac8XXxGR9VXrTTZ8idThxZqO8PnTeHzrLud7r4jI+qr1pzvdvEJH1VetNNmveQ1OHFmizozU2G9EeTvNPoU2tJGcpIINZJsV0G9p7UF/nTmjvw3zAjqI6053iofmCj9aled7p4hIz/FV61wXW5oyROfG8ck8oeJ/3rZRTfRTZRGXaeWf8Hn4izD4nEVYmcXnXnl/JqScJGONd3h86y0Xi6/C4SPqq9a7zvdj1XCR9VXrWPTLORv1SHFmo7w+dN4fOsu53u3xuMgf6qvWnPF18RkfVV6002fInU4cWajvD503h86y43i6A8LjIP8Aqq9a5zzdfEJH1VetNNnyI1SC/wAWalvD503h86y3nm6+ISPqq9ac83XxCR9VXrTTbOQ1SvZmpbw+dN4fOst55uviEj6qvWnPN18QkfVV6002zkNUr2ZqW8PnTfGev+lZbzzdfEJH1VetTmjp02XdFtyJbriQ0VYWskZyO2qWYCdUHNv2L1+IQtmoJPuXeqXtU+6bV/OoX90VdEnOape1T7ptX86hf3RXPAfqa/3L+JfpLP2Lkn7VfdfCftV91kRtXsKUpUkilKUApSlAKUpQClKUB47h/lJH8NX7GsrPXWqXAf8Asb5//Gr9qywj5ivW8M9pHieKe8TlKY+Ypj5ivVPJzFKY+Ypj5igzFVvaFqWdpPSr92tcZl+c5JiQIiXyQ0H5MluO2peOO4lToUQOJAIGM1ZMfMVH6h0/atUWaVYb1H5eHLSEuJStSFAghSVJUkhSVJUAoKBBBAIORUNNrsWi0nmzDL9rrX2gto8+Lf59uulwm2i0woD8K3SBHSt+XKy4uIlxxZKA2rgleV4SMpqYRtP2mybra9HwYkFM65Xf2Fu8z7HMhx1xzBkyCtEZxYWXG1R91Sd/dUCninPu3BrYpogKnyJhus+dcWY7D0+Xc33JQSwsuMlDm9ltSFqJSU4OSe01KWzZvpu2SodyKp02fBmruDcubNceeL6o645KlKPEBpxSQnG6OsDPGuKrsX37Gh21v3XcoUnX+0xtpdtedtsd60z5kG6XmNZJE1gqbQytg+yoe5RpK0PK3lbywktkZ94EeB/bXrC4qnyNNswZaLJHjKdYh2adcG7tIcjNyFoZlNYQwgh1KEFSVnPFQA4HRbrst0zcpzt2YfultnvvPPOyrdcHY7i+VQ2laSUnBSQy3wxwKcjBya8q9jOh0pQzBYnwI3szMOTFhXF5lma00MID6Uq/xDjgVH3lDgokcKOFn2ZHnq2Liw4qZCbdCXI6n2goBQwtskfEH4jPx7KzvZpaLo0xcIz2trtIVbdVzy65JLK3J6CODTnuAJSN4EBsJxugdWc2Fbe1FMshh7SYhhzCElmRygazw6lY3sf0qQZ0XpluS3MXaWXXmri5dmnHffLUpxJStxBP2SUkjh8Cau1n3KpqKaKhe9K2LV21WXB1FBMxhjTsdbKS6tHJrVJeClJKSCCQB7w48Bxqk2nadqi3T3dnNouTqzapVxS3eJdolXdbkRl5LbTZQwpKlKClLQpxSv8A5P8AzKVkavqTZzY9T3YXqZPvUOX7KIa1226vw+UZCioJVySk5wVK+fHrr8ZWyvSDsS2RbaxKs6rM04xDftcpyM8204QXEFaTlYUQFK3s5UN77XGquEm+xaNkMsmUmHtA2taqVLZskOy2F21WVi5Shc7fIdW8+XZTZbS2VtqbbWI4WlasqSFDKTnh82razrK5z7VepybZY7NcjbzFjTYL60TGZDLS1qTOQrk23Q44pCWlIGSgcffBGk2nQ+m7Eh5u2w1oTIgM21zffW4pTDRcKASoklWXnCVE5JVkkmoKHsV0Pb1R2oKbmzb2Fx3jbU3J72N11gIDTjjW9hShyaCfgopBIJ40cZr7hWVfdFV0Vtd1dqW42G682rk2XUT5QmI1p+ay5b2FpUpp5ctZLLo91IWAlIG/7pIT72yYqqWfZnpmyXZu6wV3EIjPOyIsJye6uHFdd3gtTTJVupyFKwOpO8d0DNWzHzFXgpJfiOVkoSf4UcpTHzFMfMVc55ilMfMUx8xQZirFob73X/BP7iq7j5irFoc7t3X82T+4rPi/yJGrBv8A54l8T8fzqmbVPum1fzqF/dFXNPVVM2qfdNq/nUL+6K8bAfqK/wB0ez4l+ks/YuSftV918J+1X3WRG1ewpSlSSKUpQClKUApSlAKUpQH5Lb5RKkOJyFDBHyqP6O2XwxupWlSpSj7MpKuMvqRF9HbL4Y1XOjtl8MbqVpVupPdlejXsiK6O2Xwxuu9HbL4Y1UpSnUnux0a9kRfR2y+GNVzo7ZfDG6laU6k92OjXsiL6O2XwxqnR2y+GNVKUp1J7sdGvZEX0dsvhjVc6O2XwxupWlOpPdjo17IiTp+y44W1rrqr6OhxrlcNSNTYzbqIV2cjMApA3GwhBCRj5k9fbVqvl4i2O1v3afygjxhvulCCopT8TgfAZrOdnGutPSr/e7fDlqffu13dkRghpXFrk0e8SRwHunrrbh67rKLJxTaWXf+f9HnYq3D1YiquTSbb7fx/s0RGnrKRnm1o/kK70dsvhjdSTJJRxr7rF1J8n8no9GviiL6O2XwxqnR2y+GNVKUp1J7sdGvZEV0dsvhjdd6O2XwxqpSlOpPdjo17Ii+jtl8MarnR2y+GN1K0p1J7sdGvZEV0dsvhjdd6O2XwxqpSlOpPdjo17Ii+jtl8Mar9Ydnt0J4vRYaWl4xkfEV76VDnN9m2SqoJ5pHB+WKpe1T7ptX86hf3RV1qlbVPum1fzqF/dFacB+ph+5l8S/ST/AGLkn7VfdfCftV91jRtXsKUpUkilKUApSlAKUpQClKUBzI7aZHbXlmqKIjq0KwsNqII+BxWd8+3rxF7zVpw+GliM/K8sjLiMVHD5JrPM07I7aZHbWY8/XrxF7zU59vXiLvmrTps90ZtThxZp2R20yO2sx59vXiLvmpz9evEXvNTTZ7oanDizTsjtpkdtZjz9evEXvNTn29eIu+ammz3Q1OHFmnZHbTI7azHn29eIveanP168Re81NNnuhqcOLNOyO2mR21mPPt68Re81Ofb14i75qabPdDU4cWaFcojM+E/BfRvNSG1NLSR1hQwax/YloV6x6iv06c0d+A8qAwojr6ipQ/Mbv+5qdN/vQ4m4veavlF6uyCpSJrqSs7yiOGT2n9P9q10VYiiizDxksp5f0efiJ4fEYirEzi8688v5NQTgDGRXcjtrMefb14i95qc+3rxF3zVj02zdHoanDizTsjtpkdtZjz9evEXvNTn69eIveap02e6Gpw4s07I7aZHbWY8+3rxF3zU59vXiL3mpps90NThxZp2R20yO2sx5+vXiL3mpz7evEXfNTTZ7oanDizTsjtpkdtZjz7evEXfNTn69eIveammz3Q1OHFmnZHbTI7azHn69eIveapnSlzuE25LalS3HEBoqwo545Fc7MBOuLk2ux0qx8LZqCT7l2qlbVPum1fzqF/dFXNHViqZtU+6bV/OoX90VTAfqYfuT4l+ks/YuSftV918J+1X3WNG1ewpSlSSKUpQClKUApSlAKUrh6qA8lw/yb/8ADV+xrKz11qk/HsbxP4av/wBayzh2GvW8M9pHi+KLJxOUrvDsNOHYa9Q8ntucpXeHYacOw0Hbc5VT19qe8WR6w2LTkeIq66luJgRnpgUWIwQw6+44tKSFLwhlQCQRlShxAzVt4dhqF1VpO06vhMRLn7S05DkJlxJUV4tPxX0ggONrHUcKUkg5BSogggkVEk2skXg4p92Y2nafq3Smq79py9OROdJ98DKJbUGXNjMx2bdGWpxEZnLgKi4n3N7AKlEqPDM/aNpm0HVc616eslsttvlyUXJUmfcIUpDZbiuMJbeajr5NwhwPjKVKG6c+8rd96xtbGdJxm3XI0m8N3J6cLkq7Ce4ZvtXIpZLnKHIwptCUlGNwgfZ4DE1ZdC2GwyIc6ImW7LhtSWkyJMlbzjntDiHHlLUoneKlNoPyxgYHCuUYT9mzq51Zdl3MxTtl1s/CYnyIVnszDTTrbkmXGkPQ5k1mU8w8z7Qg4hoHIoUFuhWeVHXunP6xNutzuV3ck223qk25q+rspt7NlnOvqbbk+zuyRLSnkMJUla93H2E8VBRwLY9sT0etMlmHIvMCNcOVTcY8S4ONtzkOOuOqQ6OPDedc4o3VYVu5xgD3MbLdOQ7lzhb3blGjCUmeLY1MWiCZQIIdLQ/+4BRSDulXvFJPGnlnn3Leap+yJzVMNqdpy4w3707aWnI6w7NacCFsN4ytQWfs+7n3vh1/Csz0Hp7224XC76AfuGltJyfYfZCsb3OLrTq1PPIaeyUNuoKG98gKXgqA+ypVkvWmtdaytkjS+rmtOLslxTyM5MJ6U0+WSeIQrhg/p11JsbNtPpaEa4yLrdWEvMyG2bjPdkIadZWFtrSFHgQoA/0qzXmaeRzUlCOWZXte2WBqbalpGw3kyXIDlou8hTLMt1lKnELhhCjyakkkBasZPDJqoObS7hs+1LctmkO4vy20XXkrfOmRJVzMKP7G0+4ytLOXXlJU4kJyoYS4Mq93B1bU2g7Tqq5W+7ypl0hTba2+yw/b5i46w28UFxJKesEtI/LFeJWynSSLVHttvbnQHYktc9mfHmOe2iSsbq3VPLKlOKUk4Vv7wIAGMAYrKEs20WjZDJJlLse1HaFq++2/Sdjtlst0lyLcn5NwuVvlIbWmM9HQ26zHWW3ChwSBkKUN0hXFW7x/F7a9rQ2+Dc3otos0cwyp1+XEkPw5Mxt91p5gyWyBEQOSSQt1JyHR/wBpB0ix6A09YLhFu8NMx2dFiyYgkyZS3XHEyHW3XVLKj7ylLaQc/DGAAOFQ0zYzpOS25GjSrzBjSm1sTo8WetDc1pTjjhQ6OPDedc4p3VYVjOABU+Wzceev2yKlH25Xa4Xl122272i3s31Vm9gas09x9xpEn2dySJaUFgYUFL3OI3E8VBXAbRgYyDVPY2VaYh3T26C5c4sQyhPVa2JriIKpQIVypaHx3gFFIO4VcSknjVx/MGrwUo/Uc7JQb/CcpXeHYacOw1Y59tzlK7w7DTh2Gg7bnKsWhuN3cz+Cr9xVe4dhqwaIOLuv4f4Kv3FZ8X3okacH+fHIvqfjVM2qfdNq/nUL+6KubZynOKpm1T7ptX86hf3RXj4D9TX+6PZ8SWWEs/YuSftV918J+1X3WRG1ewpSlSSKUpQClKUApSlAKUpQHw4y26gtrGUqGCPlUZ0WsXcU/wC5qWpVozlH6XkUlXGf1LMiei1i7inzGnRaxdxT5jUtSrdWzkyvRr4oiei1i7inzGnRaxdxT5jUtSnVs5MdGviiJ6LWLuKfMadF7F3FPmNS1Kdazkx0a+KIrovYu4J8x9a50WsXcU+Y1LUp1rOTHQq4r4IrovYu4J8x9a50XsfcU+Y1LUp1rOTHQr4r4Ifo1ZME+wo6yOs+tVfR8CHdLhqJqdHQ4mDdVxmB1bjYQggcOviTVuvV3h2G2PXW4LUiMx7zi0pKt1J4ZwOOONZ3s61tp1+/3yBGuAfkXW8OPRkNoUd9vkke/wBXAcD11tpV1lFk45vLLvt37nnYueHqxNVbaWbfbft2/sv40vYz/wDQp8x9a70WsXcU+Y1JtklOTX3WLrWcn8no9GviiJ6LWLuKfMa70XsXcU+Y1K0p1rOTHQr4r4IrovY+4p8x9a50WsXcU+Y1LUp1rOTHRr4oiei1i7inzGnRaxdxT5jUtSnVs5MdGviiJ6LWLuKfMadFrF3FPmNS1KdWzkx0a+KInotYu4p8xr94djtkB0vRIwbWRu5BPVXvpUOybWTbJVUIvNJHAAOqqXtU+6bV/OoX90VcllYyRjGKzbapqiyIZh2p+5MNS4t0hPuNLVuqDYcBK+PWnHxrT4fGU8TDyrPJmLxScK8JPzPLsaSn7VfdRtkvVvv0UT7XKRIjkqSlxAO6og4OD8R8xUlWNxcXlLszfCSlHzReaFKUoWFKUoBSlKAUpSgFKUoBSlKAUpSgFKUoBXDwrteK8OuM2yQ80spWhtSgR8CBUpeZ5ESflWZ697sFN78qzTpHewPvBz9K50kvfiDn6Vv023dHmPxOvZmmb35U3vyrM+kl78Qc/Su9I7539z9KabbuhqcNmX65xGblAkQJCAtmS2ppYI6wQQax3YboZ6z6kvs+4M4XbnVW9gkdZ61KH/ju+arH0hvvX7c5n+lfDd8u7K1ralKQXFbyyEj3jgDJ/wBh/tW3D14nD0WYeLWU8v6MGJlhsTiasTOLzhnl/P8Ao01BIBBOePxr63vyrM+kl7HXcHP0p0kvfiDn6Vi023dG/U69maZvflTe/Ks06R3zv7n6U6R3zxBz9KnTbV90RqdezNL3vypvflWadI754g5+lOkl7P8A1Bz9KaZbuhqdezNL3vypvflWadJL3nHODn6VzpJe/EHP0pptu6Gp17M0ze/Km9+VZp0ivvf3P0p0jvnf3P0qNNt3ROpQ2Zpe9+VN78qzPpJe/EHP0ro1Hez/ANQc/Smm27ojU69maUob3xFYp/xB6PenrtN8gN77y3RBcCRxJWfcP++R/UVYekV8yQLg5w/Kvxk3e5zEpblSVOpQtLqQoA4Uk5SfzBArbgMPiMDiI3xa7GHxKynxHDSw80++X9F60rZmtO2GDZWcYisJQT1ZVjif6nJqX3vyrMxqS9+IOfpXTqO9j/qDn6VlngLrJOcms2bK/EKaoKEItJdjS978qFWONZn0kvfiDn6V3pJez/1Bz9Kpptu6L6nXszTAcjhXap2krpPuEt5MySt0IbBAPw41cB1VjtqlTPySN1Fyvh50dpSlczsKUpQClKUApSlAKUpQClKUArwX37nl/wAFX7V768F9+6Jf8JX7VaH1IpZ9DMvP2f61yu9af61zBr6lnyTaPh95Edlx904Q0grUewAZNZmNrGqIWlv/AFEvGiWk6Xft7lyYXFuHKTG2Q0XGS80pCUguDdSAhat1S0g8MkacttLiFNrQFJUClQPUQfhVAa2M2g24aduOo77P081FfhRrO8+2mOyy6gt7m82hLjgShRSgLUrd4EcQCKTUv8TpXKC+ohtS7X9XaIbEbVGibeu4zY7Um2MQLopxD2ZcaM40ta2k7i0mW0oEApUN7iMV6n9qWsbVdnNG3nSdrOpZLsMW1qJc3FRH25AkEKcdUylaNwRXioBCsgJx9rA972xy3XNaX9Tapvl7kMNsMxXpSmEqjNNSWZG6nk2kglbkdnfUoEkIABFSeptmtp1Ld16gcn3CFdA1ERGlRXEBUZcZx5ba0BSSkk+0OpUFApKTgiqeWz3OinUsiEvu0TWWnojLF9sGn7VMdkrY9snXsIgOIShKwpr3OXcUoqKdzkxgoWScbpVTY+366ty7hqy4wYjdii2ZtAiiaoZuHOT8PIUtpOG1LQPfVjCADu5yKvn/AKRgXePqVOutRc+spkNquCzGcUpp7kt5tLS2i02ByDeOTQk9ec7xrzRdhGlYsJ6BzpenW5DDzLy3ZKFuLWuWuWl7f3d4ONvuLUkgjGeIOBiGrWTGdKXcr42/zyvmiDZLLeLw5NgRo/Nt2WuGtMlxTeVuqaCkKQpOVJ3TlJBHXipWVtW1PbI9wt17s+nbbd7dcWoT78i9FFvDbjAeQ6lamw4pRHu8mEE7w68casKdmyZTjEnUGrL5eZEafEntOSVsoShUcqKEhtptCACVEqO7vHhxwAB+d62WW+56mOsIV8udsu/Kh1L8cMOBP+CGSkIdbWnBSlJzjIPUcEgz5bEs/uR56m8vsZsx/wAQF2dvjl+lQ4rdjs1mvBuMdiWpQflxpEdCFtFbScpVyqN0qKeDiiR7ozatObULzrefK0lbZ+n4d3XDTPizrbIVcozaEOoS606lSWileFgJ+BySPskV64mwXSjBmGTdb1NVck3BM1b8hBVIEwtKdJUEApIWyhaSjd3SMD3cATTOzhLsaVG1FrHUV6RJaZYHLy0x+SQ24Fjd9mS37xUlO8o5JAx1EgxGFmfcmU6pex5dob1yud901oeHdpVri3t2U7PkRHC1IWww1vci24OKCpSk5Un3glKsEE5EfNN02WusW2y3OXfk6jnMW6zW26zXHFRpRbdcdUqUvfc5HkmlK3SlRBRgfawLXqzR8HVjMIuzZcCdbJPtcCfDWlL0V7dUgqTvJUlQKFKSUqSpJCjkVAvbIbfMDk+6alvM2+mTHlMXlxTAkRlsBYbDSEthlKQHXQRuHeDit7ORi0oyzzSKRnFJZshZW1vVjF6jaIRo+3L1Q7dDbXW+c1iGhBhLlNyA5yW+UFKFJKdwKCkqAyME/ta9qOsb9claRtWkrUNRwFSedEv3JxMJlDK0ISW3Eslay5vgpBQnAC88QAqdteyy0wLxF1HMutxuV4jz3bi7NkKbC5Dq4qowSpKEJSEJaVhKUhPEZOSST+cvZVCF5f1JYtR3ey3aU/IcelReQWXG3uT32il1taSkFpCknG8DnBwSDGVhbzVbFd1Ztl1BpdlT07TlmtzsW3CfJgXC8p9sfUN/fbjtsIcKgAjgte6FbwGBxIhEbcrrZ7pd490XaAm5372exqnT1MssRUwGH1l1QaJH/wAROEp3iVuEZCRvVbF7DrYI91gxdYakjxL7GRGuqEyGluzN1rkiovrbLqSpIGdxSRnqCcmvUNjdnjyBPtd/u8Cc1JamRpTSmVLjupipjL3QtshSXGkJCkqChlIICSARDVjRKnUiAtm2vUGp5tpsWkdM2qZdJxuaJDzl0WmCyqGY2VocDRU6haZSCCEAg8CBxxybtuvLVtYki0aegSmm5SZka4XkpU7JjSHWHWYyW21OODeZUQ4pCRhSOBOQLva9AxLfdrZfpd5utyuNsYnMJkS3kkuiUtlbhUEpCRgsICUoCUgZ4VBp2L22LPuky0aovltF7LwuCI6mDyyXX3nlALW0Vt+9IcA3FA4xxyM1OVmRCnSUmHt8ubEu43iW1b0W29PWluwtzp5ZRH9ogmSsvqDR3AEpUTu75KsAYHEaTs32gta+h3FXJREyLVL9kechSC/Fey2lxK2XClJUkheCCkEKSofDJioWw7T9rixo9qvt5iOwW4AiSEONFyO7EZUwh0bzZCippRQtKgUkf8oPGrhp2wvWGK81Ivdxu0iS8X3pM5xJWpRAGEpQlKEJAAASlIHx4kklCM0/xEWzrkvwkrQdY/OmDXQCCK7HBNZll0N/nJH8IfvV5HVVG0NwmSf4Q/eryK8DH/ns+j8P/IR2lKVjNopSlAKUpQClKUApSlAKUpQCvylMNyWFsPDKFgpUM9YNfrSnsQ1msiCGkrIeuGrzq9a70SsfclfUV61OUrr17eT+Tl6eriiD6JWPuSvqK9adErH3JX1FetTlKde3k/kenq4r4IPolY+5K+or1p0SsfclfUV61OUp17eT+R6erivgg+iVj7kr6ivWnRKx9yV9RXrU5SnXt5P5Hp6uK+CD6JWPuSvqK9adErH3JX1FetTlKde3k/kenq4r4IPolY+5K+or1r5VpKxgf5NQ/wBRXrU6ajL5fbdY4Sp90fDEZCglbpBwnJwCcdQzwzUxtuk1GLbZWVVFacpRSSKhoi3wr1DuD1wY31MXSTFRhRGG0LwkcD2VZ+iVj7kr6ivWqXsq1VYZC5tnYuLbsuVdZkhttGVZb38hZI4AY+J7a1CtWOldTiJRza/oxeGKm/Cxmsm/v9yD6JWPuSvqK9adErH3JX1FetTlKyde3k/k3+nq4r4IPolY+5K+or1p0SsfclfUV61OUp17eT+R6erivgg+iVj7kr6ivWnRKx9yV9RXrU5SnXt5P5Hp6uK+CD6JWPuSvqK9adErH3JX1FetTlKde3k/kenq4r4IPolY+5K+or1p0RsfclfUVU5SnXt5P5Hp6uK+CMg2SBbXFOQo5QpY3SSonI/rUnSlUlJyecmdIxUFlFZClKVUsKUpQClKUApSlAKUpQClKUApSvHd3XWLbIfZVurbbUpJ7CBUpeZ5ESflWZ7KVmo1PfMY9tUf/FPpXek1874ryJ9K9DTbd0efqdWzNJpWbdJr53xXkT6U6TXzvivIn0pptu6Gp1bM0mlZt0mvnfFeRPpTpNfO+K8ifSmm27oanVszSaVm3Sa+d8V5E+lOk1874ryJ9KabbuhqdWzNJpWbdJr53xXkT6U6TXzvivIn0pptu6Gp1bM0mozU1oYv1gn2eQPclsKazjqJHA/0ODVJ6TXzvivIn0rh1PfMcZh8ifSpj4fdCSlFrNFLPEKLIuEk8n/0Vz/h80g/a3rvergyUPIeMBsEdW4ffx/XA/pW21mEa/XOMlSGH0tha1OEJQkZUo5J6usk1+3Sq+d+PkT6Vqx9V+PvlfPLNmLwy3D+G4aOGgnkv7zNJpWbdJr53xXkT6U6TXzvivIn0rJptu6PQ1OrZmk0rNuk1874ryJ9KdJr53xXkT6U023dDU6tmaTSs26TXzvivIn0p0mvnfFeRPpTTbd0NTq2ZpNKzbpNfO+K8ifSnSa+d8V5E+lNNt3Q1OrZmk0rNuk1874ryJ9KdJ74OJmK8ifSmm27oanVszSaVUdK3i43GU83MkFaUt5AwBg5+VW6sVtTpn5JGym2N8PPEUpSuZ1FKUoBSlKAUpSgFKUoBSlKAV4L79zy/wCCr9q99eC+45nl5/BV+1Wh9SKWfQzL/wDlzXK7x6vhTHz/AEr6lnyfucpXcfP9KY+f6UByldx8/wBKY+f6UB+ch9qNHckPK3UNIK1q7EgZP6VksvbferTpqNrq76MZZ09eYb8u0uIuBVJVux1yGUvtlAS3yrbaiClS904B661xxpt1tbTqApC0lKgRwIPWKzdjYda1w2LDd9S3e56dtzD8e22l7kktxUOtKaxyiUBxzcbWtCN4ndB45IBHOal/ida/I/qPz2wbQdQaYhc1aWhsc5SrY7cmpD75QhpLUmK2pP2F5JEjs+HzrzSdr2qo7epbz0IiGxaOnqh3WQbkeXcShptx12O3yWFhCXMkKUgnBAr0ubEFXJxyRqbaBqC7yBaX7PHecRGbLDLjjLgWEobCVOBTCCVKBzxyMcK8UHYreZUnVDF81lcGrPqO8rmS7bHDKkTGC0yjClqb3mivkyFpQQCMYwcmub6meZ0XTyy/2WJ3aSs6Vb1FGtKFuP6gNhbZVI3UlXOBhhwqCSQMgLwAez51RdN7ZdbtWCxsXm0WRy4ybYmep6ZdTFRcVKdcQGIq1MhtTwCAVJUUgcojrBKhbXNjaXLgP/fO9Is7V7TqBi0pSyGm5ftPtCsr3OUU2XN5QQVcN446hjzSdiClWVenIevr6xaZEZUKVEcZjPoXHK1qCUb7Z5JYS4Ub6RkgJJyoA1P433H/AB5NL/0v1rbvYkXB+6S47kd95K4DLbO4uO1yaApDit4hat8LORgYIHwyceiS9Raf2V2jayzrG+S5rbUaZcIUuTy8eY044lLjaUKB5NWFZQUEYIA4g4rXbHpy3afTKTb1y1CUttZQ/JW6lvcaQ2kICidwbqASBwJJPWTVOs2xpFvj2203bWt8u9ltDjbsS1Pojtx95tW81yhbaStwIUAQFKxkAkGrSTaRSEopkRbdv1tuV2jcgLEu1Trmq0x0N3pC7mF8qppDq4gTwbU4n/vKglQUUjiE/lF23arbstn1RednQat2pbc/KtLEOeZExTzcVUhLTrYbATvobcKShSyMAEZOBaLTss5kuKTbtW3dqyNynprVoSlkNoccKlKTyu5ypa3lqUEb2ASBndATXZ+yW0T9Oaa04LxdorelW9yFJjPJbf3vZVxwoqA6wlwq4ADIGcjINV5y2dSa7f8A0rqtt78Gxm4XNnTCnJUuNCt8qLf0GCp51K1KQ+4tCVsKbS2pSgUHIKQnKiUi1bOtoMfXSLnHVzeZlnkoYkLts0S4joWgLQtp0AZBBIIIBSpJB+BMMrYsiY9Ju151hc5d+cXGXGuiI0ZlcUxy4WyG0t7iyeWcCisHeCiOAq4aW09K0/DdbuF+m3eXJdLz0iSlCADgAJbbQAlCAB1AdpJJq0HPPuRN1+X8PuTJ6zSukZ//AJTHz/SupwOUruPn+lMfP9KA5QcSK7j5/pTHZQFl0N/nJH8MfvV5FUbQwPtsj+GP3q9V4GP/AD2fReH/AJCFKUrGbRSlKAUpSgFKUoBSlKAUpSgFflJjty2Fx3c7jgKVYOOBr9aU9g1n2ZBdDbH+Cv6hrvQ2yfgr85qcpXb1FvJnD01PFEH0Nsn4K/OadDbJ+CvzmpylPUW8mPTU8UQfQ2yfgr85p0Nsn4K/OanKU9RbyY9NTxRB9DbH+Av6hrh0ZY/wF/UNTtKeotX+THpqeKILoZY/wXPqGu9DbF3df1DU5SnqbuT+R6WngvggjoyxfgOfUNBoyx/gLP8AqGp2lPUXe3mfyPTU8V8EH0Nsf4C/Oa50MsX4Dn1DU7SnqLeTHpqeK+CC6GWLGOQc+oadDLH+Av6hqdpU+pu5P5HpqeC+CDGjbF+Av6hp0NsfwYX9Q1OUqPUW8n8j01PFEH0Nsn4K/OadDbJ+CvzmpylPUW8mPTU8UQfQ2yfgr85p0Nsn4K/OanKU9RbyY9NTxRB9DbJ+CvzmnQ2yfgr85qcpT1FvJj01PFEbb7Bb7Y4p2IhSVLG6cqJ4f1qSpSucpObzkzrCEYLKKyFKUqpYUpSgP//Z)\n",
        "\n",
        "* 함수의 입력 매개변수를 여러 개 갖는 다중 입력, 함수의 return 값을 여러 개 갖는 다중 출력, 같은 레벨에 여러 개의 층을 배치하여 입력과 출력을 공유하는 구조도 가능.\n",
        "* Sequential API를 사용하는 경우 단방향의 Sequential 모델만 구현할 수 있다는 제약이 있음. 데이터의 흐름이 특정 레이어를 건너뛰거나, 병합 및 분리하는 등의 구조의 모델을 구현할수는 없음.\n",
        "* 함수형 API를 사용하기 위해서는 Input 레이어에 입력 shape를 정의. 레이어마다 반환되는 출력 값을 변수에 저장한 뒤 다음 레이어의 입력으로 연결. 이렇게 여러 개의 레이어를 마치 체인 구조로 입출력을 계속 연결할 수 있음."
      ],
      "metadata": {
        "id": "rBorKiAMj_HL"
      }
    },
    {
      "cell_type": "code",
      "source": [
        "# 모델의 레이어를 체인 구조로 연결 Input 레이어 정의\n",
        "input_layer = tf.keras.Input(shape = (28, 28), name = \"InputLayer\")\n",
        "\n",
        "# 모델의 레이어를 체인 구조로 연결\n",
        "x1 = tf.keras.layers.Flatten(name = \"Flatten\")(input_layer)\n",
        "x2 = tf.keras.layers.Dense(256, activation = \"relu\", name = \"Dense1\")(x1)\n",
        "x3 = tf.keras.layers.Dense(64, activation = \"relu\", name = \"Dense2\")(x2)\n",
        "x4 = tf.keras.layers.Dense(10, activation = \"softmax\", name = \"OutputLayer\")(x3)"
      ],
      "metadata": {
        "id": "2ZoNTNakPcUm"
      },
      "execution_count": 19,
      "outputs": []
    },
    {
      "cell_type": "markdown",
      "source": [
        "* 레이어마다 name 매개변수로 이름을 부여할 수 있음. 모델 인스턴스에 대하여 summary()로 요약 출력할 때 이름이 함께 출력됨.\n",
        "* 첫 Input 레이어로 시작하여 x4 변수는 마지막 출력층을 나타냄.\n",
        "* 이렇게 체인 방식으로 연결한 후에 tf.keras.Model()에 입력 레이어와 출력 레이어를 정의해 모델을 생성"
      ],
      "metadata": {
        "id": "nGRyrbrpP0l2"
      }
    },
    {
      "cell_type": "code",
      "source": [
        "# 모델 생성\n",
        "func_model = tf.keras.Model(inputs = input_layer, outputs = x4, name = \"FunctionalModel\")\n",
        "\n",
        "# 모델 요약\n",
        "func_model.summary()"
      ],
      "metadata": {
        "colab": {
          "base_uri": "https://localhost:8080/"
        },
        "id": "0KUDfdWxQFSB",
        "outputId": "ac3b48bb-b009-4e13-aeba-5f5db09a4fc8"
      },
      "execution_count": 20,
      "outputs": [
        {
          "output_type": "stream",
          "name": "stdout",
          "text": [
            "Model: \"FunctionalModel\"\n",
            "_________________________________________________________________\n",
            " Layer (type)                Output Shape              Param #   \n",
            "=================================================================\n",
            " InputLayer (InputLayer)     [(None, 28, 28)]          0         \n",
            "                                                                 \n",
            " Flatten (Flatten)           (None, 784)               0         \n",
            "                                                                 \n",
            " Dense1 (Dense)              (None, 256)               200960    \n",
            "                                                                 \n",
            " Dense2 (Dense)              (None, 64)                16448     \n",
            "                                                                 \n",
            " OutputLayer (Dense)         (None, 10)                650       \n",
            "                                                                 \n",
            "=================================================================\n",
            "Total params: 218058 (851.79 KB)\n",
            "Trainable params: 218058 (851.79 KB)\n",
            "Non-trainable params: 0 (0.00 Byte)\n",
            "_________________________________________________________________\n"
          ]
        }
      ]
    },
    {
      "cell_type": "markdown",
      "source": [
        "* tf.keras.Model()에 inputs 매개변수로 입력층인 input_layer를 지정하고 outputs 매개변수에 출력층을 지정해주어 모델을 생성.\n",
        "* 모델 인스턴스 생성 시 name 매개변수에 이름을 저장하면 해당 이름이 summary()에 출력됨.\n",
        "* 지금까지는 summary()로 모델의 요약을 확인했지만, 복잡한 구조를 갖는 모델을 생성할 때 summary()로는 모델의 구조도를 시각화하기 어려움.\n",
        "* 케라스의 유틸 패키지에서 제공하는 plot_model 모듈을 활용하여 모델의 구조도를 시각화할 수 있음."
      ],
      "metadata": {
        "id": "M26FXFIMQM7K"
      }
    },
    {
      "cell_type": "code",
      "source": [
        "from tensorflow.keras.utils import plot_model\n",
        "\n",
        "# 구조도 시각화\n",
        "plot_model(func_model, show_shapes = True, show_layer_names = True, to_file = \"model.png\")"
      ],
      "metadata": {
        "colab": {
          "base_uri": "https://localhost:8080/",
          "height": 533
        },
        "id": "kgSuN-GaQghM",
        "outputId": "ac685487-658f-46a1-8628-842077bdbe6d"
      },
      "execution_count": 22,
      "outputs": [
        {
          "output_type": "execute_result",
          "data": {
            "image/png": "[encoded data removed]",
            "text/plain": [
              "<IPython.core.display.Image object>"
            ]
          },
          "metadata": {},
          "execution_count": 22
        }
      ]
    },
    {
      "cell_type": "markdown",
      "source": [
        "* plot_model()에 모델을 지정하면 구조도가 출력됨.\n",
        "* show_shapes = True로 지정하면 데이터의 입출력 shape를 출력하고, show_layer_names = True로 지정하면 레이어의 이름을 출력.\n",
        "* 시각화한 구조도를 to_file 매개변수에 파일명을 입력하면 이미지 파일 저장도 가능함.\n",
        "* 함수형 API로 생성한 모델도 Sequential API로 생성한 모델과 동일한 방식으로 훈련할 수 있음.\n",
        "* 생성된 모델 인스턴스에 compile() 메소드로 모델을 컴파일하고 fit() 메소드로 모델을 훈련.\n",
        "* 훈련이 완료된 뒤 evaluate() 메소드로 검증할 수 있음."
      ],
      "metadata": {
        "id": "Xjz7kHjWQtSF"
      }
    },
    {
      "cell_type": "code",
      "source": [
        "# 컴파일\n",
        "func_model.compile(optimizer = \"adam\", loss = \"sparse_categorical_crossentropy\",\n",
        "                   metrics = [\"accuracy\"])\n",
        "\n",
        "# 훈련\n",
        "func_model.fit(x_train, y_train, epochs = 3)\n",
        "\n",
        "# 검증\n",
        "loss, acc = func_model.evaluate(x_test, y_test, verbose = 0)\n",
        "print(f\"Functional Model] loss: {loss:.5f}, acc: {acc:.5f}\")"
      ],
      "metadata": {
        "colab": {
          "base_uri": "https://localhost:8080/"
        },
        "id": "D2W2tWzFRIlF",
        "outputId": "246a7326-be69-4374-f17c-62e4d9d31738"
      },
      "execution_count": 24,
      "outputs": [
        {
          "output_type": "stream",
          "name": "stdout",
          "text": [
            "Epoch 1/3\n",
            "1875/1875 [==============================] - 15s 7ms/step - loss: 0.2143 - accuracy: 0.9361\n",
            "Epoch 2/3\n",
            "1875/1875 [==============================] - 14s 7ms/step - loss: 0.0882 - accuracy: 0.9735\n",
            "Epoch 3/3\n",
            "1875/1875 [==============================] - 15s 8ms/step - loss: 0.0599 - accuracy: 0.9809\n",
            "Functional Model] loss: 0.07567, acc: 0.97670\n"
          ]
        }
      ]
    },
    {
      "cell_type": "markdown",
      "source": [
        "## 7-2 모델 서브클래싱 (Model Subclassing)\n",
        "* 텐서플로 케라스는 Model 클래스를 제공하고, 이를 기반으로 딥러닝 모델을 구현. 이 클래스를 직접 상속받아 사용자가 직접 서브클래스로 딥러닝 모델을 만들 수도 있음.\n",
        "\n",
        "![모델 서브클래싱.jpeg](data:image/jpeg;base64,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)\n",
        "\n",
        "* 객체지향이나 파이썬 클래스의 개념이 부족하다면 굳이 Model Subclassing으로 모델을 구현하지 않아도 좋음.\n",
        "* 함수형 API로 생성한 모델과의 성능 차이는 없으며, 따라서 Sequential API과 Functional API로 충분.\n",
        ">\n",
        "* Model Subclassing으로 모델 인스턴스를 생성하기 위해서는 tf.keras.Model를 상속받아 생성하고자 하는 모델 클래스를 구현"
      ],
      "metadata": {
        "id": "qAJJKerwRb_h"
      }
    },
    {
      "cell_type": "code",
      "source": [
        "class MyModel(tf.keras.Model):\n",
        "  def __init__(self):\n",
        "    super(MyModel, self).__init__()\n",
        "    # 초기값 설정\n",
        "    self.flatten = tf.keras.layers.Flatten()\n",
        "    self.dense1 = tf.keras.layers.Dense(256, activation = \"relu\")\n",
        "    self.dense2 = tf.keras.layers.Dense(64, activation = \"relu\")\n",
        "    self.dense3 = tf.keras.layers.Dense(10, activation = \"softmax\")\n",
        "\n",
        "  # method overiding\n",
        "  # 훈련용 함수 정의\n",
        "  # x는 input\n",
        "  def call(self, x):\n",
        "    x = self.flatten(x)\n",
        "    x = self.dense1(x)\n",
        "    x = self.dense2(x)\n",
        "    x = self.dense3(x)\n",
        "    return x"
      ],
      "metadata": {
        "id": "-qHJBHooR-M0"
      },
      "execution_count": 28,
      "outputs": []
    },
    {
      "cell_type": "markdown",
      "source": [
        "* call() 함수를 메소드 오버라이딩으로 구현\n",
        "* call() 메소드는 fit() 메소드가 호출되어 훈련하는 경우 호출될 함수.\n",
        "* call() 함수 내부에서는 모델의 입력부터 출력까지의 흐름, 즉 순전파를 정의하고 함수형 API와 같은 방식으로 모든 레이어를 체인처럼 연결함.\n",
        "* 마지막으로 최종 출력 값을 return"
      ],
      "metadata": {
        "id": "ZhcN9ckLSZYS"
      }
    },
    {
      "cell_type": "code",
      "source": [
        "# 모델 생성\n",
        "mymodel = MyModel()\n",
        "\n",
        "# 모델의 이름 설정\n",
        "mymodel._name = \"subclass_model\"\n",
        "\n",
        "# 모델의 input 정의\n",
        "mymodel(tf.keras.layers.Input(shape = (28, 28)))\n",
        "\n",
        "# 모델 요약\n",
        "mymodel.summary()"
      ],
      "metadata": {
        "colab": {
          "base_uri": "https://localhost:8080/"
        },
        "id": "a4JcrvHpSmQb",
        "outputId": "6b0560dd-43d1-413a-c3f4-20a0aa9d9c66"
      },
      "execution_count": 29,
      "outputs": [
        {
          "output_type": "stream",
          "name": "stdout",
          "text": [
            "Model: \"subclass_model\"\n",
            "_________________________________________________________________\n",
            " Layer (type)                Output Shape              Param #   \n",
            "=================================================================\n",
            " flatten_5 (Flatten)         multiple                  0         \n",
            "                                                                 \n",
            " dense_21 (Dense)            multiple                  200960    \n",
            "                                                                 \n",
            " dense_22 (Dense)            multiple                  16448     \n",
            "                                                                 \n",
            " dense_23 (Dense)            multiple                  650       \n",
            "                                                                 \n",
            "=================================================================\n",
            "Total params: 218058 (851.79 KB)\n",
            "Trainable params: 218058 (851.79 KB)\n",
            "Non-trainable params: 0 (0.00 Byte)\n",
            "_________________________________________________________________\n"
          ]
        }
      ]
    },
    {
      "cell_type": "markdown",
      "source": [
        "* tf.keras.Model을 상속받아 구현한 모델인 MyModel을 생성자로 인스턴스를 생성\n",
        "* 모델에 이름을 부여하고 싶다면 모델 인스턴스의 _name에 이름을 지정\n",
        "* 생성자로 객체를 생성해 저장한 mymodel 변수에 바로 summary()로 요약 출력하는 것은 불가함. input_shape이 정의되지 않았기 때문에 전체 모델의 구조를 생성해내지 못하기 때문.\n",
        "* mymodel에 Input 레이어와 함께 shape을 정의해주면 summary()로 모델의 요약을 확인할 수 있음."
      ],
      "metadata": {
        "id": "iwob-ddES5yR"
      }
    },
    {
      "cell_type": "code",
      "source": [
        "# 컴파일\n",
        "mymodel.compile(optimizer = \"adam\", loss = \"sparse_categorical_crossentropy\",\n",
        "                metrics = [\"accuracy\"])\n",
        "\n",
        "# 훈련\n",
        "mymodel.fit(x_train, y_train, epochs = 3)\n",
        "\n",
        "# 검증\n",
        "loss, acc = mymodel.evaluate(x_test, y_test, verbose = 0)\n",
        "print(f\"Subclassing Model] loss: {loss: .5f}, acc: {acc:.5f}\")"
      ],
      "metadata": {
        "colab": {
          "base_uri": "https://localhost:8080/"
        },
        "id": "XWRDWJKPTLmF",
        "outputId": "fb4aaf60-0e0c-4179-803b-28dd9c78bb3a"
      },
      "execution_count": 30,
      "outputs": [
        {
          "output_type": "stream",
          "name": "stdout",
          "text": [
            "Epoch 1/3\n",
            "1875/1875 [==============================] - 15s 7ms/step - loss: 0.2138 - accuracy: 0.9372\n",
            "Epoch 2/3\n",
            "1875/1875 [==============================] - 11s 6ms/step - loss: 0.0901 - accuracy: 0.9725\n",
            "Epoch 3/3\n",
            "1875/1875 [==============================] - 14s 7ms/step - loss: 0.0613 - accuracy: 0.9803\n",
            "Subclassing Model] loss:  0.08110, acc: 0.97730\n"
          ]
        }
      ]
    },
    {
      "cell_type": "markdown",
      "source": [
        "* Model Subclassing으로 생성된 모델의 훈련도 동일하게 compile() 메소드로 컴파일 후 fit() 메소드로 훈련\n",
        "* 함수형 API로 생성한 모델과 Model Subclassing으로 생성한 모델 모두 동일한 compile() 메소드와 fit() 메소드로 훈련할 수 있음\n",
        "* 물론 evaluate() 메소드로 모델 성능을 검증할 수도 있음. 단지 모델을 생성하는 방식에 차이가 있을 뿐."
      ],
      "metadata": {
        "id": "AIIGBXOGTcph"
      }
    },
    {
      "cell_type": "markdown",
      "source": [
        "## 7-3 서브클래싱 모델 파라미터를 활용한 생성\n",
        "* Model Subclassing으로 생성하는 장점은 생성자 파라미터로 모델 내부 레이어의 하이퍼파라미터를 지정할 수 있다는 점"
      ],
      "metadata": {
        "id": "nhLzxxlTTwY0"
      }
    },
    {
      "cell_type": "code",
      "source": [
        "class MyModel(tf.keras.Model):\n",
        "\n",
        "  # 생성자 파라미터 추가\n",
        "  def __init__(self, units, num_classes):\n",
        "    super(MyModel, self).__init__()\n",
        "    # 초기값 설정\n",
        "    self.flatten = tf.keras.layers.Flatten()\n",
        "    self.dense1 = tf.keras.layers.Dense(units, activation = \"relu\")\n",
        "    self.dense2 = tf.keras.layers.Dense(units/4, activation = \"relu\")\n",
        "    self.dense3 = tf.keras.layers.Dense(num_classes, activation = \"softmax\")\n",
        "\n",
        "  # class overiding\n",
        "  # 훈련용 함수 정의\n",
        "  # x는 input\n",
        "  def call(self, x):\n",
        "    x = self.flatten(x)\n",
        "    x = self.dense1(x)\n",
        "    x = self.dense2(x)\n",
        "    x = self.dense3(x)\n",
        "    return x"
      ],
      "metadata": {
        "id": "rgkpU_YGT3LB"
      },
      "execution_count": 42,
      "outputs": []
    },
    {
      "cell_type": "markdown",
      "source": [
        "* 모델의 생성자 파라미터로 기준이 되는 unit의 개수를 입력받아 Dense 레이어의 유닛 개수를 계산하여 설정"
      ],
      "metadata": {
        "id": "j9jjnVSlUaro"
      }
    },
    {
      "cell_type": "code",
      "source": [
        "# 모델 생성\n",
        "mymodel = MyModel(256, 10)\n",
        "\n",
        "# 모델 input 정의\n",
        "mymodel(tf.keras.layers.Input(shape = (28, 28)))\n",
        "\n",
        "# 모델 요약\n",
        "mymodel.summary()"
      ],
      "metadata": {
        "colab": {
          "base_uri": "https://localhost:8080/"
        },
        "id": "lKSX8LoLUfTB",
        "outputId": "03e4465a-253f-4e79-eab6-3f60ea975182"
      },
      "execution_count": 43,
      "outputs": [
        {
          "output_type": "stream",
          "name": "stdout",
          "text": [
            "Model: \"my_model_8\"\n",
            "_________________________________________________________________\n",
            " Layer (type)                Output Shape              Param #   \n",
            "=================================================================\n",
            " flatten_11 (Flatten)        multiple                  0         \n",
            "                                                                 \n",
            " dense_39 (Dense)            multiple                  200960    \n",
            "                                                                 \n",
            " dense_40 (Dense)            multiple                  16448     \n",
            "                                                                 \n",
            " dense_41 (Dense)            multiple                  650       \n",
            "                                                                 \n",
            "=================================================================\n",
            "Total params: 218058 (851.79 KB)\n",
            "Trainable params: 218058 (851.79 KB)\n",
            "Non-trainable params: 0 (0.00 Byte)\n",
            "_________________________________________________________________\n"
          ]
        }
      ]
    },
    {
      "cell_type": "markdown",
      "source": [
        "* 모델 생성자에 생성자 파라미터로 초기화하여 생성한 모델에 summary()로 요약한 결과를 확인해보면 동적으로 설정한 레이어의 파라미터가 초기화되었음을 알 수 있음."
      ],
      "metadata": {
        "id": "_gqIopEGVcIG"
      }
    },
    {
      "cell_type": "code",
      "source": [
        "# 컴파일\n",
        "mymodel.compile(optimizer = \"adam\", loss = \"sparse_categorical_crossentropy\",\n",
        "                metrics = [\"accuracy\"])\n",
        "\n",
        "# 훈련\n",
        "mymodel.fit(x_train, y_train, epochs = 3)\n",
        "\n",
        "# 검증\n",
        "loss, acc = mymodel.evaluate(x_test, y_test, verbose = 0)\n",
        "print(f\"Subclassing Model w.parameters] loss: {loss:.5f}, acc: {acc:.5f}\")"
      ],
      "metadata": {
        "colab": {
          "base_uri": "https://localhost:8080/"
        },
        "id": "FElQ99_CVjDw",
        "outputId": "c6b6ee01-ba6b-4413-aef2-3e467ff57cee"
      },
      "execution_count": 44,
      "outputs": [
        {
          "output_type": "stream",
          "name": "stdout",
          "text": [
            "Epoch 1/3\n",
            "1875/1875 [==============================] - 15s 7ms/step - loss: 0.2161 - accuracy: 0.9352\n",
            "Epoch 2/3\n",
            "1875/1875 [==============================] - 15s 8ms/step - loss: 0.0892 - accuracy: 0.9726\n",
            "Epoch 3/3\n",
            "1875/1875 [==============================] - 16s 8ms/step - loss: 0.0607 - accuracy: 0.9807\n",
            "Subclassing Model w.parameters] loss: 0.09362, acc: 0.97320\n"
          ]
        }
      ]
    },
    {
      "cell_type": "markdown",
      "source": [
        "* 이렇게 생성한 모델도 동일하게 compile() 메소드로 컴파일한 뒤 fit() 메소드로 훈련\n",
        "* 훈련이 완료된 뒤 모델 인스턴스의 evaluate() 메소드로 모델의 성능을 검증할 수 있음."
      ],
      "metadata": {
        "id": "WVs2vn_AV0jO"
      }
    }
  ]
}