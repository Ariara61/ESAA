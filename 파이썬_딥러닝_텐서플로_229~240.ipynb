{
  "nbformat": 4,
  "nbformat_minor": 0,
  "metadata": {
    "colab": {
      "provenance": [],
      "authorship_tag": "ABX9TyMGmt/fopc8QD+hcpDzE5+J",
      "include_colab_link": true
    },
    "kernelspec": {
      "name": "python3",
      "display_name": "Python 3"
    },
    "language_info": {
      "name": "python"
    },
    "widgets": {
      "application/vnd.jupyter.widget-state+json": {
        "ced048a6c7724e07b2a14501b88dc8a1": {
          "model_module": "@jupyter-widgets/controls",
          "model_name": "HBoxModel",
          "model_module_version": "1.5.0",
          "state": {
            "_dom_classes": [],
            "_model_module": "@jupyter-widgets/controls",
            "_model_module_version": "1.5.0",
            "_model_name": "HBoxModel",
            "_view_count": null,
            "_view_module": "@jupyter-widgets/controls",
            "_view_module_version": "1.5.0",
            "_view_name": "HBoxView",
            "box_style": "",
            "children": [
              "IPY_MODEL_605dd61ac3274d81804435c9e45e7ae4",
              "IPY_MODEL_278335e9deb749b5bf8640e55cf7b59f",
              "IPY_MODEL_a24b7578de634a1a8240e1e680ad43f4"
            ],
            "layout": "IPY_MODEL_8229dc146f724897ace45c36625efded"
          }
        },
        "605dd61ac3274d81804435c9e45e7ae4": {
          "model_module": "@jupyter-widgets/controls",
          "model_name": "HTMLModel",
          "model_module_version": "1.5.0",
          "state": {
            "_dom_classes": [],
            "_model_module": "@jupyter-widgets/controls",
            "_model_module_version": "1.5.0",
            "_model_name": "HTMLModel",
            "_view_count": null,
            "_view_module": "@jupyter-widgets/controls",
            "_view_module_version": "1.5.0",
            "_view_name": "HTMLView",
            "description": "",
            "description_tooltip": null,
            "layout": "IPY_MODEL_8201c45d2de440b9b38157d0e67da6da",
            "placeholder": "​",
            "style": "IPY_MODEL_3936702a1ba34f899ce0a6d1404b4063",
            "value": "Dl Completed...: 100%"
          }
        },
        "278335e9deb749b5bf8640e55cf7b59f": {
          "model_module": "@jupyter-widgets/controls",
          "model_name": "FloatProgressModel",
          "model_module_version": "1.5.0",
          "state": {
            "_dom_classes": [],
            "_model_module": "@jupyter-widgets/controls",
            "_model_module_version": "1.5.0",
            "_model_name": "FloatProgressModel",
            "_view_count": null,
            "_view_module": "@jupyter-widgets/controls",
            "_view_module_version": "1.5.0",
            "_view_name": "ProgressView",
            "bar_style": "success",
            "description": "",
            "description_tooltip": null,
            "layout": "IPY_MODEL_a74204fa4b5844fc86ae8320a3231aa8",
            "max": 1,
            "min": 0,
            "orientation": "horizontal",
            "style": "IPY_MODEL_9665186d936942c4b51ba91687991e7b",
            "value": 1
          }
        },
        "a24b7578de634a1a8240e1e680ad43f4": {
          "model_module": "@jupyter-widgets/controls",
          "model_name": "HTMLModel",
          "model_module_version": "1.5.0",
          "state": {
            "_dom_classes": [],
            "_model_module": "@jupyter-widgets/controls",
            "_model_module_version": "1.5.0",
            "_model_name": "HTMLModel",
            "_view_count": null,
            "_view_module": "@jupyter-widgets/controls",
            "_view_module_version": "1.5.0",
            "_view_name": "HTMLView",
            "description": "",
            "description_tooltip": null,
            "layout": "IPY_MODEL_e879a8812ef648ad903b76b64708ee34",
            "placeholder": "​",
            "style": "IPY_MODEL_02f4c8b5bca943468d7a873108a8b1dd",
            "value": " 2/2 [02:07&lt;00:00, 37.09s/ url]"
          }
        },
        "8229dc146f724897ace45c36625efded": {
          "model_module": "@jupyter-widgets/base",
          "model_name": "LayoutModel",
          "model_module_version": "1.2.0",
          "state": {
            "_model_module": "@jupyter-widgets/base",
            "_model_module_version": "1.2.0",
            "_model_name": "LayoutModel",
            "_view_count": null,
            "_view_module": "@jupyter-widgets/base",
            "_view_module_version": "1.2.0",
            "_view_name": "LayoutView",
            "align_content": null,
            "align_items": null,
            "align_self": null,
            "border": null,
            "bottom": null,
            "display": null,
            "flex": null,
            "flex_flow": null,
            "grid_area": null,
            "grid_auto_columns": null,
            "grid_auto_flow": null,
            "grid_auto_rows": null,
            "grid_column": null,
            "grid_gap": null,
            "grid_row": null,
            "grid_template_areas": null,
            "grid_template_columns": null,
            "grid_template_rows": null,
            "height": null,
            "justify_content": null,
            "justify_items": null,
            "left": null,
            "margin": null,
            "max_height": null,
            "max_width": null,
            "min_height": null,
            "min_width": null,
            "object_fit": null,
            "object_position": null,
            "order": null,
            "overflow": null,
            "overflow_x": null,
            "overflow_y": null,
            "padding": null,
            "right": null,
            "top": null,
            "visibility": null,
            "width": null
          }
        },
        "8201c45d2de440b9b38157d0e67da6da": {
          "model_module": "@jupyter-widgets/base",
          "model_name": "LayoutModel",
          "model_module_version": "1.2.0",
          "state": {
            "_model_module": "@jupyter-widgets/base",
            "_model_module_version": "1.2.0",
            "_model_name": "LayoutModel",
            "_view_count": null,
            "_view_module": "@jupyter-widgets/base",
            "_view_module_version": "1.2.0",
            "_view_name": "LayoutView",
            "align_content": null,
            "align_items": null,
            "align_self": null,
            "border": null,
            "bottom": null,
            "display": null,
            "flex": null,
            "flex_flow": null,
            "grid_area": null,
            "grid_auto_columns": null,
            "grid_auto_flow": null,
            "grid_auto_rows": null,
            "grid_column": null,
            "grid_gap": null,
            "grid_row": null,
            "grid_template_areas": null,
            "grid_template_columns": null,
            "grid_template_rows": null,
            "height": null,
            "justify_content": null,
            "justify_items": null,
            "left": null,
            "margin": null,
            "max_height": null,
            "max_width": null,
            "min_height": null,
            "min_width": null,
            "object_fit": null,
            "object_position": null,
            "order": null,
            "overflow": null,
            "overflow_x": null,
            "overflow_y": null,
            "padding": null,
            "right": null,
            "top": null,
            "visibility": null,
            "width": null
          }
        },
        "3936702a1ba34f899ce0a6d1404b4063": {
          "model_module": "@jupyter-widgets/controls",
          "model_name": "DescriptionStyleModel",
          "model_module_version": "1.5.0",
          "state": {
            "_model_module": "@jupyter-widgets/controls",
            "_model_module_version": "1.5.0",
            "_model_name": "DescriptionStyleModel",
            "_view_count": null,
            "_view_module": "@jupyter-widgets/base",
            "_view_module_version": "1.2.0",
            "_view_name": "StyleView",
            "description_width": ""
          }
        },
        "a74204fa4b5844fc86ae8320a3231aa8": {
          "model_module": "@jupyter-widgets/base",
          "model_name": "LayoutModel",
          "model_module_version": "1.2.0",
          "state": {
            "_model_module": "@jupyter-widgets/base",
            "_model_module_version": "1.2.0",
            "_model_name": "LayoutModel",
            "_view_count": null,
            "_view_module": "@jupyter-widgets/base",
            "_view_module_version": "1.2.0",
            "_view_name": "LayoutView",
            "align_content": null,
            "align_items": null,
            "align_self": null,
            "border": null,
            "bottom": null,
            "display": null,
            "flex": null,
            "flex_flow": null,
            "grid_area": null,
            "grid_auto_columns": null,
            "grid_auto_flow": null,
            "grid_auto_rows": null,
            "grid_column": null,
            "grid_gap": null,
            "grid_row": null,
            "grid_template_areas": null,
            "grid_template_columns": null,
            "grid_template_rows": null,
            "height": null,
            "justify_content": null,
            "justify_items": null,
            "left": null,
            "margin": null,
            "max_height": null,
            "max_width": null,
            "min_height": null,
            "min_width": null,
            "object_fit": null,
            "object_position": null,
            "order": null,
            "overflow": null,
            "overflow_x": null,
            "overflow_y": null,
            "padding": null,
            "right": null,
            "top": null,
            "visibility": null,
            "width": "20px"
          }
        },
        "9665186d936942c4b51ba91687991e7b": {
          "model_module": "@jupyter-widgets/controls",
          "model_name": "ProgressStyleModel",
          "model_module_version": "1.5.0",
          "state": {
            "_model_module": "@jupyter-widgets/controls",
            "_model_module_version": "1.5.0",
            "_model_name": "ProgressStyleModel",
            "_view_count": null,
            "_view_module": "@jupyter-widgets/base",
            "_view_module_version": "1.2.0",
            "_view_name": "StyleView",
            "bar_color": null,
            "description_width": ""
          }
        },
        "e879a8812ef648ad903b76b64708ee34": {
          "model_module": "@jupyter-widgets/base",
          "model_name": "LayoutModel",
          "model_module_version": "1.2.0",
          "state": {
            "_model_module": "@jupyter-widgets/base",
            "_model_module_version": "1.2.0",
            "_model_name": "LayoutModel",
            "_view_count": null,
            "_view_module": "@jupyter-widgets/base",
            "_view_module_version": "1.2.0",
            "_view_name": "LayoutView",
            "align_content": null,
            "align_items": null,
            "align_self": null,
            "border": null,
            "bottom": null,
            "display": null,
            "flex": null,
            "flex_flow": null,
            "grid_area": null,
            "grid_auto_columns": null,
            "grid_auto_flow": null,
            "grid_auto_rows": null,
            "grid_column": null,
            "grid_gap": null,
            "grid_row": null,
            "grid_template_areas": null,
            "grid_template_columns": null,
            "grid_template_rows": null,
            "height": null,
            "justify_content": null,
            "justify_items": null,
            "left": null,
            "margin": null,
            "max_height": null,
            "max_width": null,
            "min_height": null,
            "min_width": null,
            "object_fit": null,
            "object_position": null,
            "order": null,
            "overflow": null,
            "overflow_x": null,
            "overflow_y": null,
            "padding": null,
            "right": null,
            "top": null,
            "visibility": null,
            "width": null
          }
        },
        "02f4c8b5bca943468d7a873108a8b1dd": {
          "model_module": "@jupyter-widgets/controls",
          "model_name": "DescriptionStyleModel",
          "model_module_version": "1.5.0",
          "state": {
            "_model_module": "@jupyter-widgets/controls",
            "_model_module_version": "1.5.0",
            "_model_name": "DescriptionStyleModel",
            "_view_count": null,
            "_view_module": "@jupyter-widgets/base",
            "_view_module_version": "1.2.0",
            "_view_name": "StyleView",
            "description_width": ""
          }
        },
        "6caf738aa3144ee9aa841d999eba1538": {
          "model_module": "@jupyter-widgets/controls",
          "model_name": "HBoxModel",
          "model_module_version": "1.5.0",
          "state": {
            "_dom_classes": [],
            "_model_module": "@jupyter-widgets/controls",
            "_model_module_version": "1.5.0",
            "_model_name": "HBoxModel",
            "_view_count": null,
            "_view_module": "@jupyter-widgets/controls",
            "_view_module_version": "1.5.0",
            "_view_name": "HBoxView",
            "box_style": "",
            "children": [
              "IPY_MODEL_dba0cd1ccf1a4b5da4b80f8d5dfd97b7",
              "IPY_MODEL_a11f83262fbe4b3d9e5de24695020abd",
              "IPY_MODEL_15c02fc70ddb46208eb6a1da57b7e895"
            ],
            "layout": "IPY_MODEL_18ddc622fa094c82b3b99ec16e40e87f"
          }
        },
        "dba0cd1ccf1a4b5da4b80f8d5dfd97b7": {
          "model_module": "@jupyter-widgets/controls",
          "model_name": "HTMLModel",
          "model_module_version": "1.5.0",
          "state": {
            "_dom_classes": [],
            "_model_module": "@jupyter-widgets/controls",
            "_model_module_version": "1.5.0",
            "_model_name": "HTMLModel",
            "_view_count": null,
            "_view_module": "@jupyter-widgets/controls",
            "_view_module_version": "1.5.0",
            "_view_name": "HTMLView",
            "description": "",
            "description_tooltip": null,
            "layout": "IPY_MODEL_a3731151e4344a33915073c398931faf",
            "placeholder": "​",
            "style": "IPY_MODEL_c850f9cd700b4c0aa6d15fa79dd1ba03",
            "value": "Dl Size...: 100%"
          }
        },
        "a11f83262fbe4b3d9e5de24695020abd": {
          "model_module": "@jupyter-widgets/controls",
          "model_name": "FloatProgressModel",
          "model_module_version": "1.5.0",
          "state": {
            "_dom_classes": [],
            "_model_module": "@jupyter-widgets/controls",
            "_model_module_version": "1.5.0",
            "_model_name": "FloatProgressModel",
            "_view_count": null,
            "_view_module": "@jupyter-widgets/controls",
            "_view_module_version": "1.5.0",
            "_view_name": "ProgressView",
            "bar_style": "success",
            "description": "",
            "description_tooltip": null,
            "layout": "IPY_MODEL_f32c011d9fae4ba9aed277d880e25fa5",
            "max": 1,
            "min": 0,
            "orientation": "horizontal",
            "style": "IPY_MODEL_beaf18d47e114aad83a995220c17f0bc",
            "value": 1
          }
        },
        "15c02fc70ddb46208eb6a1da57b7e895": {
          "model_module": "@jupyter-widgets/controls",
          "model_name": "HTMLModel",
          "model_module_version": "1.5.0",
          "state": {
            "_dom_classes": [],
            "_model_module": "@jupyter-widgets/controls",
            "_model_module_version": "1.5.0",
            "_model_name": "HTMLModel",
            "_view_count": null,
            "_view_module": "@jupyter-widgets/controls",
            "_view_module_version": "1.5.0",
            "_view_name": "HTMLView",
            "description": "",
            "description_tooltip": null,
            "layout": "IPY_MODEL_2d4e3c72f4af45149f3570f7bd3776c0",
            "placeholder": "​",
            "style": "IPY_MODEL_b71bf5c4e6c44988ada51b3e34d08462",
            "value": " 773/773 [02:07&lt;00:00, 11.36 MiB/s]"
          }
        },
        "18ddc622fa094c82b3b99ec16e40e87f": {
          "model_module": "@jupyter-widgets/base",
          "model_name": "LayoutModel",
          "model_module_version": "1.2.0",
          "state": {
            "_model_module": "@jupyter-widgets/base",
            "_model_module_version": "1.2.0",
            "_model_name": "LayoutModel",
            "_view_count": null,
            "_view_module": "@jupyter-widgets/base",
            "_view_module_version": "1.2.0",
            "_view_name": "LayoutView",
            "align_content": null,
            "align_items": null,
            "align_self": null,
            "border": null,
            "bottom": null,
            "display": null,
            "flex": null,
            "flex_flow": null,
            "grid_area": null,
            "grid_auto_columns": null,
            "grid_auto_flow": null,
            "grid_auto_rows": null,
            "grid_column": null,
            "grid_gap": null,
            "grid_row": null,
            "grid_template_areas": null,
            "grid_template_columns": null,
            "grid_template_rows": null,
            "height": null,
            "justify_content": null,
            "justify_items": null,
            "left": null,
            "margin": null,
            "max_height": null,
            "max_width": null,
            "min_height": null,
            "min_width": null,
            "object_fit": null,
            "object_position": null,
            "order": null,
            "overflow": null,
            "overflow_x": null,
            "overflow_y": null,
            "padding": null,
            "right": null,
            "top": null,
            "visibility": null,
            "width": null
          }
        },
        "a3731151e4344a33915073c398931faf": {
          "model_module": "@jupyter-widgets/base",
          "model_name": "LayoutModel",
          "model_module_version": "1.2.0",
          "state": {
            "_model_module": "@jupyter-widgets/base",
            "_model_module_version": "1.2.0",
            "_model_name": "LayoutModel",
            "_view_count": null,
            "_view_module": "@jupyter-widgets/base",
            "_view_module_version": "1.2.0",
            "_view_name": "LayoutView",
            "align_content": null,
            "align_items": null,
            "align_self": null,
            "border": null,
            "bottom": null,
            "display": null,
            "flex": null,
            "flex_flow": null,
            "grid_area": null,
            "grid_auto_columns": null,
            "grid_auto_flow": null,
            "grid_auto_rows": null,
            "grid_column": null,
            "grid_gap": null,
            "grid_row": null,
            "grid_template_areas": null,
            "grid_template_columns": null,
            "grid_template_rows": null,
            "height": null,
            "justify_content": null,
            "justify_items": null,
            "left": null,
            "margin": null,
            "max_height": null,
            "max_width": null,
            "min_height": null,
            "min_width": null,
            "object_fit": null,
            "object_position": null,
            "order": null,
            "overflow": null,
            "overflow_x": null,
            "overflow_y": null,
            "padding": null,
            "right": null,
            "top": null,
            "visibility": null,
            "width": null
          }
        },
        "c850f9cd700b4c0aa6d15fa79dd1ba03": {
          "model_module": "@jupyter-widgets/controls",
          "model_name": "DescriptionStyleModel",
          "model_module_version": "1.5.0",
          "state": {
            "_model_module": "@jupyter-widgets/controls",
            "_model_module_version": "1.5.0",
            "_model_name": "DescriptionStyleModel",
            "_view_count": null,
            "_view_module": "@jupyter-widgets/base",
            "_view_module_version": "1.2.0",
            "_view_name": "StyleView",
            "description_width": ""
          }
        },
        "f32c011d9fae4ba9aed277d880e25fa5": {
          "model_module": "@jupyter-widgets/base",
          "model_name": "LayoutModel",
          "model_module_version": "1.2.0",
          "state": {
            "_model_module": "@jupyter-widgets/base",
            "_model_module_version": "1.2.0",
            "_model_name": "LayoutModel",
            "_view_count": null,
            "_view_module": "@jupyter-widgets/base",
            "_view_module_version": "1.2.0",
            "_view_name": "LayoutView",
            "align_content": null,
            "align_items": null,
            "align_self": null,
            "border": null,
            "bottom": null,
            "display": null,
            "flex": null,
            "flex_flow": null,
            "grid_area": null,
            "grid_auto_columns": null,
            "grid_auto_flow": null,
            "grid_auto_rows": null,
            "grid_column": null,
            "grid_gap": null,
            "grid_row": null,
            "grid_template_areas": null,
            "grid_template_columns": null,
            "grid_template_rows": null,
            "height": null,
            "justify_content": null,
            "justify_items": null,
            "left": null,
            "margin": null,
            "max_height": null,
            "max_width": null,
            "min_height": null,
            "min_width": null,
            "object_fit": null,
            "object_position": null,
            "order": null,
            "overflow": null,
            "overflow_x": null,
            "overflow_y": null,
            "padding": null,
            "right": null,
            "top": null,
            "visibility": null,
            "width": "20px"
          }
        },
        "beaf18d47e114aad83a995220c17f0bc": {
          "model_module": "@jupyter-widgets/controls",
          "model_name": "ProgressStyleModel",
          "model_module_version": "1.5.0",
          "state": {
            "_model_module": "@jupyter-widgets/controls",
            "_model_module_version": "1.5.0",
            "_model_name": "ProgressStyleModel",
            "_view_count": null,
            "_view_module": "@jupyter-widgets/base",
            "_view_module_version": "1.2.0",
            "_view_name": "StyleView",
            "bar_color": null,
            "description_width": ""
          }
        },
        "2d4e3c72f4af45149f3570f7bd3776c0": {
          "model_module": "@jupyter-widgets/base",
          "model_name": "LayoutModel",
          "model_module_version": "1.2.0",
          "state": {
            "_model_module": "@jupyter-widgets/base",
            "_model_module_version": "1.2.0",
            "_model_name": "LayoutModel",
            "_view_count": null,
            "_view_module": "@jupyter-widgets/base",
            "_view_module_version": "1.2.0",
            "_view_name": "LayoutView",
            "align_content": null,
            "align_items": null,
            "align_self": null,
            "border": null,
            "bottom": null,
            "display": null,
            "flex": null,
            "flex_flow": null,
            "grid_area": null,
            "grid_auto_columns": null,
            "grid_auto_flow": null,
            "grid_auto_rows": null,
            "grid_column": null,
            "grid_gap": null,
            "grid_row": null,
            "grid_template_areas": null,
            "grid_template_columns": null,
            "grid_template_rows": null,
            "height": null,
            "justify_content": null,
            "justify_items": null,
            "left": null,
            "margin": null,
            "max_height": null,
            "max_width": null,
            "min_height": null,
            "min_width": null,
            "object_fit": null,
            "object_position": null,
            "order": null,
            "overflow": null,
            "overflow_x": null,
            "overflow_y": null,
            "padding": null,
            "right": null,
            "top": null,
            "visibility": null,
            "width": null
          }
        },
        "b71bf5c4e6c44988ada51b3e34d08462": {
          "model_module": "@jupyter-widgets/controls",
          "model_name": "DescriptionStyleModel",
          "model_module_version": "1.5.0",
          "state": {
            "_model_module": "@jupyter-widgets/controls",
            "_model_module_version": "1.5.0",
            "_model_name": "DescriptionStyleModel",
            "_view_count": null,
            "_view_module": "@jupyter-widgets/base",
            "_view_module_version": "1.2.0",
            "_view_name": "StyleView",
            "description_width": ""
          }
        },
        "3bc922f71ad746d78cfaa43f717adcff": {
          "model_module": "@jupyter-widgets/controls",
          "model_name": "HBoxModel",
          "model_module_version": "1.5.0",
          "state": {
            "_dom_classes": [],
            "_model_module": "@jupyter-widgets/controls",
            "_model_module_version": "1.5.0",
            "_model_name": "HBoxModel",
            "_view_count": null,
            "_view_module": "@jupyter-widgets/controls",
            "_view_module_version": "1.5.0",
            "_view_name": "HBoxView",
            "box_style": "",
            "children": [
              "IPY_MODEL_4eb7776a58c14f1285933b889874ef06",
              "IPY_MODEL_d711dcb850ae4db19a3404c8a5124296",
              "IPY_MODEL_7a861fba5d55487f9f52442c8dd91b9b"
            ],
            "layout": "IPY_MODEL_1eec4c206eaa45eea3a2df4d2cb2834a"
          }
        },
        "4eb7776a58c14f1285933b889874ef06": {
          "model_module": "@jupyter-widgets/controls",
          "model_name": "HTMLModel",
          "model_module_version": "1.5.0",
          "state": {
            "_dom_classes": [],
            "_model_module": "@jupyter-widgets/controls",
            "_model_module_version": "1.5.0",
            "_model_name": "HTMLModel",
            "_view_count": null,
            "_view_module": "@jupyter-widgets/controls",
            "_view_module_version": "1.5.0",
            "_view_name": "HTMLView",
            "description": "",
            "description_tooltip": null,
            "layout": "IPY_MODEL_9c4f68cc8e5b47bcb69ab179f8844afc",
            "placeholder": "​",
            "style": "IPY_MODEL_d6958d8aa42e4a04b457b61b865e790d",
            "value": "Extraction completed...: 100%"
          }
        },
        "d711dcb850ae4db19a3404c8a5124296": {
          "model_module": "@jupyter-widgets/controls",
          "model_name": "FloatProgressModel",
          "model_module_version": "1.5.0",
          "state": {
            "_dom_classes": [],
            "_model_module": "@jupyter-widgets/controls",
            "_model_module_version": "1.5.0",
            "_model_name": "FloatProgressModel",
            "_view_count": null,
            "_view_module": "@jupyter-widgets/controls",
            "_view_module_version": "1.5.0",
            "_view_name": "ProgressView",
            "bar_style": "success",
            "description": "",
            "description_tooltip": null,
            "layout": "IPY_MODEL_bd60b73b77854e46bf7296b501089720",
            "max": 1,
            "min": 0,
            "orientation": "horizontal",
            "style": "IPY_MODEL_83d3f0c405474965abfe96500360437e",
            "value": 1
          }
        },
        "7a861fba5d55487f9f52442c8dd91b9b": {
          "model_module": "@jupyter-widgets/controls",
          "model_name": "HTMLModel",
          "model_module_version": "1.5.0",
          "state": {
            "_dom_classes": [],
            "_model_module": "@jupyter-widgets/controls",
            "_model_module_version": "1.5.0",
            "_model_name": "HTMLModel",
            "_view_count": null,
            "_view_module": "@jupyter-widgets/controls",
            "_view_module_version": "1.5.0",
            "_view_name": "HTMLView",
            "description": "",
            "description_tooltip": null,
            "layout": "IPY_MODEL_08c7c7293644452ba52b6a6c922f3b11",
            "placeholder": "​",
            "style": "IPY_MODEL_b7ca686134884ff58b18486fb2568c7b",
            "value": " 18473/18473 [02:07&lt;00:00, 523.07 file/s]"
          }
        },
        "1eec4c206eaa45eea3a2df4d2cb2834a": {
          "model_module": "@jupyter-widgets/base",
          "model_name": "LayoutModel",
          "model_module_version": "1.2.0",
          "state": {
            "_model_module": "@jupyter-widgets/base",
            "_model_module_version": "1.2.0",
            "_model_name": "LayoutModel",
            "_view_count": null,
            "_view_module": "@jupyter-widgets/base",
            "_view_module_version": "1.2.0",
            "_view_name": "LayoutView",
            "align_content": null,
            "align_items": null,
            "align_self": null,
            "border": null,
            "bottom": null,
            "display": null,
            "flex": null,
            "flex_flow": null,
            "grid_area": null,
            "grid_auto_columns": null,
            "grid_auto_flow": null,
            "grid_auto_rows": null,
            "grid_column": null,
            "grid_gap": null,
            "grid_row": null,
            "grid_template_areas": null,
            "grid_template_columns": null,
            "grid_template_rows": null,
            "height": null,
            "justify_content": null,
            "justify_items": null,
            "left": null,
            "margin": null,
            "max_height": null,
            "max_width": null,
            "min_height": null,
            "min_width": null,
            "object_fit": null,
            "object_position": null,
            "order": null,
            "overflow": null,
            "overflow_x": null,
            "overflow_y": null,
            "padding": null,
            "right": null,
            "top": null,
            "visibility": null,
            "width": null
          }
        },
        "9c4f68cc8e5b47bcb69ab179f8844afc": {
          "model_module": "@jupyter-widgets/base",
          "model_name": "LayoutModel",
          "model_module_version": "1.2.0",
          "state": {
            "_model_module": "@jupyter-widgets/base",
            "_model_module_version": "1.2.0",
            "_model_name": "LayoutModel",
            "_view_count": null,
            "_view_module": "@jupyter-widgets/base",
            "_view_module_version": "1.2.0",
            "_view_name": "LayoutView",
            "align_content": null,
            "align_items": null,
            "align_self": null,
            "border": null,
            "bottom": null,
            "display": null,
            "flex": null,
            "flex_flow": null,
            "grid_area": null,
            "grid_auto_columns": null,
            "grid_auto_flow": null,
            "grid_auto_rows": null,
            "grid_column": null,
            "grid_gap": null,
            "grid_row": null,
            "grid_template_areas": null,
            "grid_template_columns": null,
            "grid_template_rows": null,
            "height": null,
            "justify_content": null,
            "justify_items": null,
            "left": null,
            "margin": null,
            "max_height": null,
            "max_width": null,
            "min_height": null,
            "min_width": null,
            "object_fit": null,
            "object_position": null,
            "order": null,
            "overflow": null,
            "overflow_x": null,
            "overflow_y": null,
            "padding": null,
            "right": null,
            "top": null,
            "visibility": null,
            "width": null
          }
        },
        "d6958d8aa42e4a04b457b61b865e790d": {
          "model_module": "@jupyter-widgets/controls",
          "model_name": "DescriptionStyleModel",
          "model_module_version": "1.5.0",
          "state": {
            "_model_module": "@jupyter-widgets/controls",
            "_model_module_version": "1.5.0",
            "_model_name": "DescriptionStyleModel",
            "_view_count": null,
            "_view_module": "@jupyter-widgets/base",
            "_view_module_version": "1.2.0",
            "_view_name": "StyleView",
            "description_width": ""
          }
        },
        "bd60b73b77854e46bf7296b501089720": {
          "model_module": "@jupyter-widgets/base",
          "model_name": "LayoutModel",
          "model_module_version": "1.2.0",
          "state": {
            "_model_module": "@jupyter-widgets/base",
            "_model_module_version": "1.2.0",
            "_model_name": "LayoutModel",
            "_view_count": null,
            "_view_module": "@jupyter-widgets/base",
            "_view_module_version": "1.2.0",
            "_view_name": "LayoutView",
            "align_content": null,
            "align_items": null,
            "align_self": null,
            "border": null,
            "bottom": null,
            "display": null,
            "flex": null,
            "flex_flow": null,
            "grid_area": null,
            "grid_auto_columns": null,
            "grid_auto_flow": null,
            "grid_auto_rows": null,
            "grid_column": null,
            "grid_gap": null,
            "grid_row": null,
            "grid_template_areas": null,
            "grid_template_columns": null,
            "grid_template_rows": null,
            "height": null,
            "justify_content": null,
            "justify_items": null,
            "left": null,
            "margin": null,
            "max_height": null,
            "max_width": null,
            "min_height": null,
            "min_width": null,
            "object_fit": null,
            "object_position": null,
            "order": null,
            "overflow": null,
            "overflow_x": null,
            "overflow_y": null,
            "padding": null,
            "right": null,
            "top": null,
            "visibility": null,
            "width": "20px"
          }
        },
        "83d3f0c405474965abfe96500360437e": {
          "model_module": "@jupyter-widgets/controls",
          "model_name": "ProgressStyleModel",
          "model_module_version": "1.5.0",
          "state": {
            "_model_module": "@jupyter-widgets/controls",
            "_model_module_version": "1.5.0",
            "_model_name": "ProgressStyleModel",
            "_view_count": null,
            "_view_module": "@jupyter-widgets/base",
            "_view_module_version": "1.2.0",
            "_view_name": "StyleView",
            "bar_color": null,
            "description_width": ""
          }
        },
        "08c7c7293644452ba52b6a6c922f3b11": {
          "model_module": "@jupyter-widgets/base",
          "model_name": "LayoutModel",
          "model_module_version": "1.2.0",
          "state": {
            "_model_module": "@jupyter-widgets/base",
            "_model_module_version": "1.2.0",
            "_model_name": "LayoutModel",
            "_view_count": null,
            "_view_module": "@jupyter-widgets/base",
            "_view_module_version": "1.2.0",
            "_view_name": "LayoutView",
            "align_content": null,
            "align_items": null,
            "align_self": null,
            "border": null,
            "bottom": null,
            "display": null,
            "flex": null,
            "flex_flow": null,
            "grid_area": null,
            "grid_auto_columns": null,
            "grid_auto_flow": null,
            "grid_auto_rows": null,
            "grid_column": null,
            "grid_gap": null,
            "grid_row": null,
            "grid_template_areas": null,
            "grid_template_columns": null,
            "grid_template_rows": null,
            "height": null,
            "justify_content": null,
            "justify_items": null,
            "left": null,
            "margin": null,
            "max_height": null,
            "max_width": null,
            "min_height": null,
            "min_width": null,
            "object_fit": null,
            "object_position": null,
            "order": null,
            "overflow": null,
            "overflow_x": null,
            "overflow_y": null,
            "padding": null,
            "right": null,
            "top": null,
            "visibility": null,
            "width": null
          }
        },
        "b7ca686134884ff58b18486fb2568c7b": {
          "model_module": "@jupyter-widgets/controls",
          "model_name": "DescriptionStyleModel",
          "model_module_version": "1.5.0",
          "state": {
            "_model_module": "@jupyter-widgets/controls",
            "_model_module_version": "1.5.0",
            "_model_name": "DescriptionStyleModel",
            "_view_count": null,
            "_view_module": "@jupyter-widgets/base",
            "_view_module_version": "1.2.0",
            "_view_name": "StyleView",
            "description_width": ""
          }
        },
        "37bebfa97030454fab0275661d185bd8": {
          "model_module": "@jupyter-widgets/controls",
          "model_name": "HBoxModel",
          "model_module_version": "1.5.0",
          "state": {
            "_dom_classes": [],
            "_model_module": "@jupyter-widgets/controls",
            "_model_module_version": "1.5.0",
            "_model_name": "HBoxModel",
            "_view_count": null,
            "_view_module": "@jupyter-widgets/controls",
            "_view_module_version": "1.5.0",
            "_view_name": "HBoxView",
            "box_style": "",
            "children": [
              "IPY_MODEL_d0f63b88ca664c108bf89867b8da7e02",
              "IPY_MODEL_ce690588dc4e4617936754f5d10481c1",
              "IPY_MODEL_02be6f990e88490e978fe6f23dd864ae"
            ],
            "layout": "IPY_MODEL_d0cc551590f7408297c0bea98a2f8eed"
          }
        },
        "d0f63b88ca664c108bf89867b8da7e02": {
          "model_module": "@jupyter-widgets/controls",
          "model_name": "HTMLModel",
          "model_module_version": "1.5.0",
          "state": {
            "_dom_classes": [],
            "_model_module": "@jupyter-widgets/controls",
            "_model_module_version": "1.5.0",
            "_model_name": "HTMLModel",
            "_view_count": null,
            "_view_module": "@jupyter-widgets/controls",
            "_view_module_version": "1.5.0",
            "_view_name": "HTMLView",
            "description": "",
            "description_tooltip": null,
            "layout": "IPY_MODEL_5cccd0bcb7a54043860ae7c1c1ff381f",
            "placeholder": "​",
            "style": "IPY_MODEL_887a3690e89246669d0969e0e50c76d2",
            "value": "Generating splits...: 100%"
          }
        },
        "ce690588dc4e4617936754f5d10481c1": {
          "model_module": "@jupyter-widgets/controls",
          "model_name": "FloatProgressModel",
          "model_module_version": "1.5.0",
          "state": {
            "_dom_classes": [],
            "_model_module": "@jupyter-widgets/controls",
            "_model_module_version": "1.5.0",
            "_model_name": "FloatProgressModel",
            "_view_count": null,
            "_view_module": "@jupyter-widgets/controls",
            "_view_module_version": "1.5.0",
            "_view_name": "ProgressView",
            "bar_style": "",
            "description": "",
            "description_tooltip": null,
            "layout": "IPY_MODEL_fe491e0c66a843678aa5fe8b3166a3de",
            "max": 2,
            "min": 0,
            "orientation": "horizontal",
            "style": "IPY_MODEL_203c66171b37412a903a0ce92d183f36",
            "value": 2
          }
        },
        "02be6f990e88490e978fe6f23dd864ae": {
          "model_module": "@jupyter-widgets/controls",
          "model_name": "HTMLModel",
          "model_module_version": "1.5.0",
          "state": {
            "_dom_classes": [],
            "_model_module": "@jupyter-widgets/controls",
            "_model_module_version": "1.5.0",
            "_model_name": "HTMLModel",
            "_view_count": null,
            "_view_module": "@jupyter-widgets/controls",
            "_view_module_version": "1.5.0",
            "_view_name": "HTMLView",
            "description": "",
            "description_tooltip": null,
            "layout": "IPY_MODEL_c14e1832109a42fab0fcf4d551cb3a20",
            "placeholder": "​",
            "style": "IPY_MODEL_1808b26f4a194e478270aa45b92683e9",
            "value": " 2/2 [00:15&lt;00:00,  7.89s/ splits]"
          }
        },
        "d0cc551590f7408297c0bea98a2f8eed": {
          "model_module": "@jupyter-widgets/base",
          "model_name": "LayoutModel",
          "model_module_version": "1.2.0",
          "state": {
            "_model_module": "@jupyter-widgets/base",
            "_model_module_version": "1.2.0",
            "_model_name": "LayoutModel",
            "_view_count": null,
            "_view_module": "@jupyter-widgets/base",
            "_view_module_version": "1.2.0",
            "_view_name": "LayoutView",
            "align_content": null,
            "align_items": null,
            "align_self": null,
            "border": null,
            "bottom": null,
            "display": null,
            "flex": null,
            "flex_flow": null,
            "grid_area": null,
            "grid_auto_columns": null,
            "grid_auto_flow": null,
            "grid_auto_rows": null,
            "grid_column": null,
            "grid_gap": null,
            "grid_row": null,
            "grid_template_areas": null,
            "grid_template_columns": null,
            "grid_template_rows": null,
            "height": null,
            "justify_content": null,
            "justify_items": null,
            "left": null,
            "margin": null,
            "max_height": null,
            "max_width": null,
            "min_height": null,
            "min_width": null,
            "object_fit": null,
            "object_position": null,
            "order": null,
            "overflow": null,
            "overflow_x": null,
            "overflow_y": null,
            "padding": null,
            "right": null,
            "top": null,
            "visibility": "hidden",
            "width": null
          }
        },
        "5cccd0bcb7a54043860ae7c1c1ff381f": {
          "model_module": "@jupyter-widgets/base",
          "model_name": "LayoutModel",
          "model_module_version": "1.2.0",
          "state": {
            "_model_module": "@jupyter-widgets/base",
            "_model_module_version": "1.2.0",
            "_model_name": "LayoutModel",
            "_view_count": null,
            "_view_module": "@jupyter-widgets/base",
            "_view_module_version": "1.2.0",
            "_view_name": "LayoutView",
            "align_content": null,
            "align_items": null,
            "align_self": null,
            "border": null,
            "bottom": null,
            "display": null,
            "flex": null,
            "flex_flow": null,
            "grid_area": null,
            "grid_auto_columns": null,
            "grid_auto_flow": null,
            "grid_auto_rows": null,
            "grid_column": null,
            "grid_gap": null,
            "grid_row": null,
            "grid_template_areas": null,
            "grid_template_columns": null,
            "grid_template_rows": null,
            "height": null,
            "justify_content": null,
            "justify_items": null,
            "left": null,
            "margin": null,
            "max_height": null,
            "max_width": null,
            "min_height": null,
            "min_width": null,
            "object_fit": null,
            "object_position": null,
            "order": null,
            "overflow": null,
            "overflow_x": null,
            "overflow_y": null,
            "padding": null,
            "right": null,
            "top": null,
            "visibility": null,
            "width": null
          }
        },
        "887a3690e89246669d0969e0e50c76d2": {
          "model_module": "@jupyter-widgets/controls",
          "model_name": "DescriptionStyleModel",
          "model_module_version": "1.5.0",
          "state": {
            "_model_module": "@jupyter-widgets/controls",
            "_model_module_version": "1.5.0",
            "_model_name": "DescriptionStyleModel",
            "_view_count": null,
            "_view_module": "@jupyter-widgets/base",
            "_view_module_version": "1.2.0",
            "_view_name": "StyleView",
            "description_width": ""
          }
        },
        "fe491e0c66a843678aa5fe8b3166a3de": {
          "model_module": "@jupyter-widgets/base",
          "model_name": "LayoutModel",
          "model_module_version": "1.2.0",
          "state": {
            "_model_module": "@jupyter-widgets/base",
            "_model_module_version": "1.2.0",
            "_model_name": "LayoutModel",
            "_view_count": null,
            "_view_module": "@jupyter-widgets/base",
            "_view_module_version": "1.2.0",
            "_view_name": "LayoutView",
            "align_content": null,
            "align_items": null,
            "align_self": null,
            "border": null,
            "bottom": null,
            "display": null,
            "flex": null,
            "flex_flow": null,
            "grid_area": null,
            "grid_auto_columns": null,
            "grid_auto_flow": null,
            "grid_auto_rows": null,
            "grid_column": null,
            "grid_gap": null,
            "grid_row": null,
            "grid_template_areas": null,
            "grid_template_columns": null,
            "grid_template_rows": null,
            "height": null,
            "justify_content": null,
            "justify_items": null,
            "left": null,
            "margin": null,
            "max_height": null,
            "max_width": null,
            "min_height": null,
            "min_width": null,
            "object_fit": null,
            "object_position": null,
            "order": null,
            "overflow": null,
            "overflow_x": null,
            "overflow_y": null,
            "padding": null,
            "right": null,
            "top": null,
            "visibility": null,
            "width": null
          }
        },
        "203c66171b37412a903a0ce92d183f36": {
          "model_module": "@jupyter-widgets/controls",
          "model_name": "ProgressStyleModel",
          "model_module_version": "1.5.0",
          "state": {
            "_model_module": "@jupyter-widgets/controls",
            "_model_module_version": "1.5.0",
            "_model_name": "ProgressStyleModel",
            "_view_count": null,
            "_view_module": "@jupyter-widgets/base",
            "_view_module_version": "1.2.0",
            "_view_name": "StyleView",
            "bar_color": null,
            "description_width": ""
          }
        },
        "c14e1832109a42fab0fcf4d551cb3a20": {
          "model_module": "@jupyter-widgets/base",
          "model_name": "LayoutModel",
          "model_module_version": "1.2.0",
          "state": {
            "_model_module": "@jupyter-widgets/base",
            "_model_module_version": "1.2.0",
            "_model_name": "LayoutModel",
            "_view_count": null,
            "_view_module": "@jupyter-widgets/base",
            "_view_module_version": "1.2.0",
            "_view_name": "LayoutView",
            "align_content": null,
            "align_items": null,
            "align_self": null,
            "border": null,
            "bottom": null,
            "display": null,
            "flex": null,
            "flex_flow": null,
            "grid_area": null,
            "grid_auto_columns": null,
            "grid_auto_flow": null,
            "grid_auto_rows": null,
            "grid_column": null,
            "grid_gap": null,
            "grid_row": null,
            "grid_template_areas": null,
            "grid_template_columns": null,
            "grid_template_rows": null,
            "height": null,
            "justify_content": null,
            "justify_items": null,
            "left": null,
            "margin": null,
            "max_height": null,
            "max_width": null,
            "min_height": null,
            "min_width": null,
            "object_fit": null,
            "object_position": null,
            "order": null,
            "overflow": null,
            "overflow_x": null,
            "overflow_y": null,
            "padding": null,
            "right": null,
            "top": null,
            "visibility": null,
            "width": null
          }
        },
        "1808b26f4a194e478270aa45b92683e9": {
          "model_module": "@jupyter-widgets/controls",
          "model_name": "DescriptionStyleModel",
          "model_module_version": "1.5.0",
          "state": {
            "_model_module": "@jupyter-widgets/controls",
            "_model_module_version": "1.5.0",
            "_model_name": "DescriptionStyleModel",
            "_view_count": null,
            "_view_module": "@jupyter-widgets/base",
            "_view_module_version": "1.2.0",
            "_view_name": "StyleView",
            "description_width": ""
          }
        },
        "1a3f4e63975b4eacb514794ed59c3936": {
          "model_module": "@jupyter-widgets/controls",
          "model_name": "HBoxModel",
          "model_module_version": "1.5.0",
          "state": {
            "_dom_classes": [],
            "_model_module": "@jupyter-widgets/controls",
            "_model_module_version": "1.5.0",
            "_model_name": "HBoxModel",
            "_view_count": null,
            "_view_module": "@jupyter-widgets/controls",
            "_view_module_version": "1.5.0",
            "_view_name": "HBoxView",
            "box_style": "",
            "children": [
              "IPY_MODEL_89421f34e97947738b588e4e4da1efc1",
              "IPY_MODEL_ecabb15b22b74eab957bd5e02f28ccea",
              "IPY_MODEL_2749bcc4f5cb4e2891ce07e1d7e02333"
            ],
            "layout": "IPY_MODEL_f806ab628e274db9972c8bc2031a5f83"
          }
        },
        "89421f34e97947738b588e4e4da1efc1": {
          "model_module": "@jupyter-widgets/controls",
          "model_name": "HTMLModel",
          "model_module_version": "1.5.0",
          "state": {
            "_dom_classes": [],
            "_model_module": "@jupyter-widgets/controls",
            "_model_module_version": "1.5.0",
            "_model_name": "HTMLModel",
            "_view_count": null,
            "_view_module": "@jupyter-widgets/controls",
            "_view_module_version": "1.5.0",
            "_view_name": "HTMLView",
            "description": "",
            "description_tooltip": null,
            "layout": "IPY_MODEL_7bbddfa8ffad45399d334178e2dbb257",
            "placeholder": "​",
            "style": "IPY_MODEL_3537e749299f49bb849fa762973cef6b",
            "value": "Generating train examples...:  85%"
          }
        },
        "ecabb15b22b74eab957bd5e02f28ccea": {
          "model_module": "@jupyter-widgets/controls",
          "model_name": "FloatProgressModel",
          "model_module_version": "1.5.0",
          "state": {
            "_dom_classes": [],
            "_model_module": "@jupyter-widgets/controls",
            "_model_module_version": "1.5.0",
            "_model_name": "FloatProgressModel",
            "_view_count": null,
            "_view_module": "@jupyter-widgets/controls",
            "_view_module_version": "1.5.0",
            "_view_name": "ProgressView",
            "bar_style": "",
            "description": "",
            "description_tooltip": null,
            "layout": "IPY_MODEL_e6e5661cedf74dab969e852600fd588e",
            "max": 3680,
            "min": 0,
            "orientation": "horizontal",
            "style": "IPY_MODEL_18f4121c67374608858cdab36f12eafa",
            "value": 3680
          }
        },
        "2749bcc4f5cb4e2891ce07e1d7e02333": {
          "model_module": "@jupyter-widgets/controls",
          "model_name": "HTMLModel",
          "model_module_version": "1.5.0",
          "state": {
            "_dom_classes": [],
            "_model_module": "@jupyter-widgets/controls",
            "_model_module_version": "1.5.0",
            "_model_name": "HTMLModel",
            "_view_count": null,
            "_view_module": "@jupyter-widgets/controls",
            "_view_module_version": "1.5.0",
            "_view_name": "HTMLView",
            "description": "",
            "description_tooltip": null,
            "layout": "IPY_MODEL_f3103e7502f84441879b65292334bfeb",
            "placeholder": "​",
            "style": "IPY_MODEL_02c9f6048b664ac19dc4846b787b7bf5",
            "value": " 3145/3680 [00:04&lt;00:00, 734.60 examples/s]"
          }
        },
        "f806ab628e274db9972c8bc2031a5f83": {
          "model_module": "@jupyter-widgets/base",
          "model_name": "LayoutModel",
          "model_module_version": "1.2.0",
          "state": {
            "_model_module": "@jupyter-widgets/base",
            "_model_module_version": "1.2.0",
            "_model_name": "LayoutModel",
            "_view_count": null,
            "_view_module": "@jupyter-widgets/base",
            "_view_module_version": "1.2.0",
            "_view_name": "LayoutView",
            "align_content": null,
            "align_items": null,
            "align_self": null,
            "border": null,
            "bottom": null,
            "display": null,
            "flex": null,
            "flex_flow": null,
            "grid_area": null,
            "grid_auto_columns": null,
            "grid_auto_flow": null,
            "grid_auto_rows": null,
            "grid_column": null,
            "grid_gap": null,
            "grid_row": null,
            "grid_template_areas": null,
            "grid_template_columns": null,
            "grid_template_rows": null,
            "height": null,
            "justify_content": null,
            "justify_items": null,
            "left": null,
            "margin": null,
            "max_height": null,
            "max_width": null,
            "min_height": null,
            "min_width": null,
            "object_fit": null,
            "object_position": null,
            "order": null,
            "overflow": null,
            "overflow_x": null,
            "overflow_y": null,
            "padding": null,
            "right": null,
            "top": null,
            "visibility": "hidden",
            "width": null
          }
        },
        "7bbddfa8ffad45399d334178e2dbb257": {
          "model_module": "@jupyter-widgets/base",
          "model_name": "LayoutModel",
          "model_module_version": "1.2.0",
          "state": {
            "_model_module": "@jupyter-widgets/base",
            "_model_module_version": "1.2.0",
            "_model_name": "LayoutModel",
            "_view_count": null,
            "_view_module": "@jupyter-widgets/base",
            "_view_module_version": "1.2.0",
            "_view_name": "LayoutView",
            "align_content": null,
            "align_items": null,
            "align_self": null,
            "border": null,
            "bottom": null,
            "display": null,
            "flex": null,
            "flex_flow": null,
            "grid_area": null,
            "grid_auto_columns": null,
            "grid_auto_flow": null,
            "grid_auto_rows": null,
            "grid_column": null,
            "grid_gap": null,
            "grid_row": null,
            "grid_template_areas": null,
            "grid_template_columns": null,
            "grid_template_rows": null,
            "height": null,
            "justify_content": null,
            "justify_items": null,
            "left": null,
            "margin": null,
            "max_height": null,
            "max_width": null,
            "min_height": null,
            "min_width": null,
            "object_fit": null,
            "object_position": null,
            "order": null,
            "overflow": null,
            "overflow_x": null,
            "overflow_y": null,
            "padding": null,
            "right": null,
            "top": null,
            "visibility": null,
            "width": null
          }
        },
        "3537e749299f49bb849fa762973cef6b": {
          "model_module": "@jupyter-widgets/controls",
          "model_name": "DescriptionStyleModel",
          "model_module_version": "1.5.0",
          "state": {
            "_model_module": "@jupyter-widgets/controls",
            "_model_module_version": "1.5.0",
            "_model_name": "DescriptionStyleModel",
            "_view_count": null,
            "_view_module": "@jupyter-widgets/base",
            "_view_module_version": "1.2.0",
            "_view_name": "StyleView",
            "description_width": ""
          }
        },
        "e6e5661cedf74dab969e852600fd588e": {
          "model_module": "@jupyter-widgets/base",
          "model_name": "LayoutModel",
          "model_module_version": "1.2.0",
          "state": {
            "_model_module": "@jupyter-widgets/base",
            "_model_module_version": "1.2.0",
            "_model_name": "LayoutModel",
            "_view_count": null,
            "_view_module": "@jupyter-widgets/base",
            "_view_module_version": "1.2.0",
            "_view_name": "LayoutView",
            "align_content": null,
            "align_items": null,
            "align_self": null,
            "border": null,
            "bottom": null,
            "display": null,
            "flex": null,
            "flex_flow": null,
            "grid_area": null,
            "grid_auto_columns": null,
            "grid_auto_flow": null,
            "grid_auto_rows": null,
            "grid_column": null,
            "grid_gap": null,
            "grid_row": null,
            "grid_template_areas": null,
            "grid_template_columns": null,
            "grid_template_rows": null,
            "height": null,
            "justify_content": null,
            "justify_items": null,
            "left": null,
            "margin": null,
            "max_height": null,
            "max_width": null,
            "min_height": null,
            "min_width": null,
            "object_fit": null,
            "object_position": null,
            "order": null,
            "overflow": null,
            "overflow_x": null,
            "overflow_y": null,
            "padding": null,
            "right": null,
            "top": null,
            "visibility": null,
            "width": null
          }
        },
        "18f4121c67374608858cdab36f12eafa": {
          "model_module": "@jupyter-widgets/controls",
          "model_name": "ProgressStyleModel",
          "model_module_version": "1.5.0",
          "state": {
            "_model_module": "@jupyter-widgets/controls",
            "_model_module_version": "1.5.0",
            "_model_name": "ProgressStyleModel",
            "_view_count": null,
            "_view_module": "@jupyter-widgets/base",
            "_view_module_version": "1.2.0",
            "_view_name": "StyleView",
            "bar_color": null,
            "description_width": ""
          }
        },
        "f3103e7502f84441879b65292334bfeb": {
          "model_module": "@jupyter-widgets/base",
          "model_name": "LayoutModel",
          "model_module_version": "1.2.0",
          "state": {
            "_model_module": "@jupyter-widgets/base",
            "_model_module_version": "1.2.0",
            "_model_name": "LayoutModel",
            "_view_count": null,
            "_view_module": "@jupyter-widgets/base",
            "_view_module_version": "1.2.0",
            "_view_name": "LayoutView",
            "align_content": null,
            "align_items": null,
            "align_self": null,
            "border": null,
            "bottom": null,
            "display": null,
            "flex": null,
            "flex_flow": null,
            "grid_area": null,
            "grid_auto_columns": null,
            "grid_auto_flow": null,
            "grid_auto_rows": null,
            "grid_column": null,
            "grid_gap": null,
            "grid_row": null,
            "grid_template_areas": null,
            "grid_template_columns": null,
            "grid_template_rows": null,
            "height": null,
            "justify_content": null,
            "justify_items": null,
            "left": null,
            "margin": null,
            "max_height": null,
            "max_width": null,
            "min_height": null,
            "min_width": null,
            "object_fit": null,
            "object_position": null,
            "order": null,
            "overflow": null,
            "overflow_x": null,
            "overflow_y": null,
            "padding": null,
            "right": null,
            "top": null,
            "visibility": null,
            "width": null
          }
        },
        "02c9f6048b664ac19dc4846b787b7bf5": {
          "model_module": "@jupyter-widgets/controls",
          "model_name": "DescriptionStyleModel",
          "model_module_version": "1.5.0",
          "state": {
            "_model_module": "@jupyter-widgets/controls",
            "_model_module_version": "1.5.0",
            "_model_name": "DescriptionStyleModel",
            "_view_count": null,
            "_view_module": "@jupyter-widgets/base",
            "_view_module_version": "1.2.0",
            "_view_name": "StyleView",
            "description_width": ""
          }
        },
        "1e638ee00e0344bd94371cd00312a210": {
          "model_module": "@jupyter-widgets/controls",
          "model_name": "HBoxModel",
          "model_module_version": "1.5.0",
          "state": {
            "_dom_classes": [],
            "_model_module": "@jupyter-widgets/controls",
            "_model_module_version": "1.5.0",
            "_model_name": "HBoxModel",
            "_view_count": null,
            "_view_module": "@jupyter-widgets/controls",
            "_view_module_version": "1.5.0",
            "_view_name": "HBoxView",
            "box_style": "",
            "children": [
              "IPY_MODEL_5274ce5878454a9380f52a026175b6e3",
              "IPY_MODEL_7fca0ba2adc347c0b5d5a421d332e622",
              "IPY_MODEL_8fac14f1059f4a1697cbc975d64947fa"
            ],
            "layout": "IPY_MODEL_b8533f1a770343ef9c7576eaae34f4bf"
          }
        },
        "5274ce5878454a9380f52a026175b6e3": {
          "model_module": "@jupyter-widgets/controls",
          "model_name": "HTMLModel",
          "model_module_version": "1.5.0",
          "state": {
            "_dom_classes": [],
            "_model_module": "@jupyter-widgets/controls",
            "_model_module_version": "1.5.0",
            "_model_name": "HTMLModel",
            "_view_count": null,
            "_view_module": "@jupyter-widgets/controls",
            "_view_module_version": "1.5.0",
            "_view_name": "HTMLView",
            "description": "",
            "description_tooltip": null,
            "layout": "IPY_MODEL_fd60c08c572e4865bb0db18094f86a53",
            "placeholder": "​",
            "style": "IPY_MODEL_7fed93104cb7412f85a8ba171e1ab949",
            "value": "Shuffling /root/tensorflow_datasets/oxford_iiit_pet/3.2.0.incomplete5H33ZF/oxford_iiit_pet-train.tfrecord*...:  97%"
          }
        },
        "7fca0ba2adc347c0b5d5a421d332e622": {
          "model_module": "@jupyter-widgets/controls",
          "model_name": "FloatProgressModel",
          "model_module_version": "1.5.0",
          "state": {
            "_dom_classes": [],
            "_model_module": "@jupyter-widgets/controls",
            "_model_module_version": "1.5.0",
            "_model_name": "FloatProgressModel",
            "_view_count": null,
            "_view_module": "@jupyter-widgets/controls",
            "_view_module_version": "1.5.0",
            "_view_name": "ProgressView",
            "bar_style": "",
            "description": "",
            "description_tooltip": null,
            "layout": "IPY_MODEL_0c6b6220289f4fe19f45abf4d8d746a4",
            "max": 3680,
            "min": 0,
            "orientation": "horizontal",
            "style": "IPY_MODEL_3c591a6dda524fe98690ea9717186d5f",
            "value": 3680
          }
        },
        "8fac14f1059f4a1697cbc975d64947fa": {
          "model_module": "@jupyter-widgets/controls",
          "model_name": "HTMLModel",
          "model_module_version": "1.5.0",
          "state": {
            "_dom_classes": [],
            "_model_module": "@jupyter-widgets/controls",
            "_model_module_version": "1.5.0",
            "_model_name": "HTMLModel",
            "_view_count": null,
            "_view_module": "@jupyter-widgets/controls",
            "_view_module_version": "1.5.0",
            "_view_name": "HTMLView",
            "description": "",
            "description_tooltip": null,
            "layout": "IPY_MODEL_ffc5e9eabdff4951a074a2f2c3994c40",
            "placeholder": "​",
            "style": "IPY_MODEL_c389ee44d77e4a1e9c6bacfe27c56735",
            "value": " 3578/3680 [00:02&lt;00:00, 634.36 examples/s]"
          }
        },
        "b8533f1a770343ef9c7576eaae34f4bf": {
          "model_module": "@jupyter-widgets/base",
          "model_name": "LayoutModel",
          "model_module_version": "1.2.0",
          "state": {
            "_model_module": "@jupyter-widgets/base",
            "_model_module_version": "1.2.0",
            "_model_name": "LayoutModel",
            "_view_count": null,
            "_view_module": "@jupyter-widgets/base",
            "_view_module_version": "1.2.0",
            "_view_name": "LayoutView",
            "align_content": null,
            "align_items": null,
            "align_self": null,
            "border": null,
            "bottom": null,
            "display": null,
            "flex": null,
            "flex_flow": null,
            "grid_area": null,
            "grid_auto_columns": null,
            "grid_auto_flow": null,
            "grid_auto_rows": null,
            "grid_column": null,
            "grid_gap": null,
            "grid_row": null,
            "grid_template_areas": null,
            "grid_template_columns": null,
            "grid_template_rows": null,
            "height": null,
            "justify_content": null,
            "justify_items": null,
            "left": null,
            "margin": null,
            "max_height": null,
            "max_width": null,
            "min_height": null,
            "min_width": null,
            "object_fit": null,
            "object_position": null,
            "order": null,
            "overflow": null,
            "overflow_x": null,
            "overflow_y": null,
            "padding": null,
            "right": null,
            "top": null,
            "visibility": "hidden",
            "width": null
          }
        },
        "fd60c08c572e4865bb0db18094f86a53": {
          "model_module": "@jupyter-widgets/base",
          "model_name": "LayoutModel",
          "model_module_version": "1.2.0",
          "state": {
            "_model_module": "@jupyter-widgets/base",
            "_model_module_version": "1.2.0",
            "_model_name": "LayoutModel",
            "_view_count": null,
            "_view_module": "@jupyter-widgets/base",
            "_view_module_version": "1.2.0",
            "_view_name": "LayoutView",
            "align_content": null,
            "align_items": null,
            "align_self": null,
            "border": null,
            "bottom": null,
            "display": null,
            "flex": null,
            "flex_flow": null,
            "grid_area": null,
            "grid_auto_columns": null,
            "grid_auto_flow": null,
            "grid_auto_rows": null,
            "grid_column": null,
            "grid_gap": null,
            "grid_row": null,
            "grid_template_areas": null,
            "grid_template_columns": null,
            "grid_template_rows": null,
            "height": null,
            "justify_content": null,
            "justify_items": null,
            "left": null,
            "margin": null,
            "max_height": null,
            "max_width": null,
            "min_height": null,
            "min_width": null,
            "object_fit": null,
            "object_position": null,
            "order": null,
            "overflow": null,
            "overflow_x": null,
            "overflow_y": null,
            "padding": null,
            "right": null,
            "top": null,
            "visibility": null,
            "width": null
          }
        },
        "7fed93104cb7412f85a8ba171e1ab949": {
          "model_module": "@jupyter-widgets/controls",
          "model_name": "DescriptionStyleModel",
          "model_module_version": "1.5.0",
          "state": {
            "_model_module": "@jupyter-widgets/controls",
            "_model_module_version": "1.5.0",
            "_model_name": "DescriptionStyleModel",
            "_view_count": null,
            "_view_module": "@jupyter-widgets/base",
            "_view_module_version": "1.2.0",
            "_view_name": "StyleView",
            "description_width": ""
          }
        },
        "0c6b6220289f4fe19f45abf4d8d746a4": {
          "model_module": "@jupyter-widgets/base",
          "model_name": "LayoutModel",
          "model_module_version": "1.2.0",
          "state": {
            "_model_module": "@jupyter-widgets/base",
            "_model_module_version": "1.2.0",
            "_model_name": "LayoutModel",
            "_view_count": null,
            "_view_module": "@jupyter-widgets/base",
            "_view_module_version": "1.2.0",
            "_view_name": "LayoutView",
            "align_content": null,
            "align_items": null,
            "align_self": null,
            "border": null,
            "bottom": null,
            "display": null,
            "flex": null,
            "flex_flow": null,
            "grid_area": null,
            "grid_auto_columns": null,
            "grid_auto_flow": null,
            "grid_auto_rows": null,
            "grid_column": null,
            "grid_gap": null,
            "grid_row": null,
            "grid_template_areas": null,
            "grid_template_columns": null,
            "grid_template_rows": null,
            "height": null,
            "justify_content": null,
            "justify_items": null,
            "left": null,
            "margin": null,
            "max_height": null,
            "max_width": null,
            "min_height": null,
            "min_width": null,
            "object_fit": null,
            "object_position": null,
            "order": null,
            "overflow": null,
            "overflow_x": null,
            "overflow_y": null,
            "padding": null,
            "right": null,
            "top": null,
            "visibility": null,
            "width": null
          }
        },
        "3c591a6dda524fe98690ea9717186d5f": {
          "model_module": "@jupyter-widgets/controls",
          "model_name": "ProgressStyleModel",
          "model_module_version": "1.5.0",
          "state": {
            "_model_module": "@jupyter-widgets/controls",
            "_model_module_version": "1.5.0",
            "_model_name": "ProgressStyleModel",
            "_view_count": null,
            "_view_module": "@jupyter-widgets/base",
            "_view_module_version": "1.2.0",
            "_view_name": "StyleView",
            "bar_color": null,
            "description_width": ""
          }
        },
        "ffc5e9eabdff4951a074a2f2c3994c40": {
          "model_module": "@jupyter-widgets/base",
          "model_name": "LayoutModel",
          "model_module_version": "1.2.0",
          "state": {
            "_model_module": "@jupyter-widgets/base",
            "_model_module_version": "1.2.0",
            "_model_name": "LayoutModel",
            "_view_count": null,
            "_view_module": "@jupyter-widgets/base",
            "_view_module_version": "1.2.0",
            "_view_name": "LayoutView",
            "align_content": null,
            "align_items": null,
            "align_self": null,
            "border": null,
            "bottom": null,
            "display": null,
            "flex": null,
            "flex_flow": null,
            "grid_area": null,
            "grid_auto_columns": null,
            "grid_auto_flow": null,
            "grid_auto_rows": null,
            "grid_column": null,
            "grid_gap": null,
            "grid_row": null,
            "grid_template_areas": null,
            "grid_template_columns": null,
            "grid_template_rows": null,
            "height": null,
            "justify_content": null,
            "justify_items": null,
            "left": null,
            "margin": null,
            "max_height": null,
            "max_width": null,
            "min_height": null,
            "min_width": null,
            "object_fit": null,
            "object_position": null,
            "order": null,
            "overflow": null,
            "overflow_x": null,
            "overflow_y": null,
            "padding": null,
            "right": null,
            "top": null,
            "visibility": null,
            "width": null
          }
        },
        "c389ee44d77e4a1e9c6bacfe27c56735": {
          "model_module": "@jupyter-widgets/controls",
          "model_name": "DescriptionStyleModel",
          "model_module_version": "1.5.0",
          "state": {
            "_model_module": "@jupyter-widgets/controls",
            "_model_module_version": "1.5.0",
            "_model_name": "DescriptionStyleModel",
            "_view_count": null,
            "_view_module": "@jupyter-widgets/base",
            "_view_module_version": "1.2.0",
            "_view_name": "StyleView",
            "description_width": ""
          }
        },
        "9e862099909f46d690a54cb191c0ad21": {
          "model_module": "@jupyter-widgets/controls",
          "model_name": "HBoxModel",
          "model_module_version": "1.5.0",
          "state": {
            "_dom_classes": [],
            "_model_module": "@jupyter-widgets/controls",
            "_model_module_version": "1.5.0",
            "_model_name": "HBoxModel",
            "_view_count": null,
            "_view_module": "@jupyter-widgets/controls",
            "_view_module_version": "1.5.0",
            "_view_name": "HBoxView",
            "box_style": "",
            "children": [
              "IPY_MODEL_375694d1f12346b086851c547e5f8a48",
              "IPY_MODEL_68bcfce01e7b447892f31e2c51fd0eff",
              "IPY_MODEL_862c1df06ba540d2af03f0ca2fa89f9e"
            ],
            "layout": "IPY_MODEL_ae6987f8e65b4eb791ea130482afbb3a"
          }
        },
        "375694d1f12346b086851c547e5f8a48": {
          "model_module": "@jupyter-widgets/controls",
          "model_name": "HTMLModel",
          "model_module_version": "1.5.0",
          "state": {
            "_dom_classes": [],
            "_model_module": "@jupyter-widgets/controls",
            "_model_module_version": "1.5.0",
            "_model_name": "HTMLModel",
            "_view_count": null,
            "_view_module": "@jupyter-widgets/controls",
            "_view_module_version": "1.5.0",
            "_view_name": "HTMLView",
            "description": "",
            "description_tooltip": null,
            "layout": "IPY_MODEL_74f9363696924302a8ced54a5117b86d",
            "placeholder": "​",
            "style": "IPY_MODEL_1534924b6ca54e3fa8935199c3716181",
            "value": "Generating test examples...:  83%"
          }
        },
        "68bcfce01e7b447892f31e2c51fd0eff": {
          "model_module": "@jupyter-widgets/controls",
          "model_name": "FloatProgressModel",
          "model_module_version": "1.5.0",
          "state": {
            "_dom_classes": [],
            "_model_module": "@jupyter-widgets/controls",
            "_model_module_version": "1.5.0",
            "_model_name": "FloatProgressModel",
            "_view_count": null,
            "_view_module": "@jupyter-widgets/controls",
            "_view_module_version": "1.5.0",
            "_view_name": "ProgressView",
            "bar_style": "",
            "description": "",
            "description_tooltip": null,
            "layout": "IPY_MODEL_ddf52be639be4a10b26c61ba815edad5",
            "max": 3669,
            "min": 0,
            "orientation": "horizontal",
            "style": "IPY_MODEL_b82b96890b8b4541b70cc7e420b98a50",
            "value": 3669
          }
        },
        "862c1df06ba540d2af03f0ca2fa89f9e": {
          "model_module": "@jupyter-widgets/controls",
          "model_name": "HTMLModel",
          "model_module_version": "1.5.0",
          "state": {
            "_dom_classes": [],
            "_model_module": "@jupyter-widgets/controls",
            "_model_module_version": "1.5.0",
            "_model_name": "HTMLModel",
            "_view_count": null,
            "_view_module": "@jupyter-widgets/controls",
            "_view_module_version": "1.5.0",
            "_view_name": "HTMLView",
            "description": "",
            "description_tooltip": null,
            "layout": "IPY_MODEL_11145c634bab445ea882476d350dd26d",
            "placeholder": "​",
            "style": "IPY_MODEL_804eff963edd47fea30bbf33cdc56e3e",
            "value": " 3052/3669 [00:04&lt;00:00, 692.24 examples/s]"
          }
        },
        "ae6987f8e65b4eb791ea130482afbb3a": {
          "model_module": "@jupyter-widgets/base",
          "model_name": "LayoutModel",
          "model_module_version": "1.2.0",
          "state": {
            "_model_module": "@jupyter-widgets/base",
            "_model_module_version": "1.2.0",
            "_model_name": "LayoutModel",
            "_view_count": null,
            "_view_module": "@jupyter-widgets/base",
            "_view_module_version": "1.2.0",
            "_view_name": "LayoutView",
            "align_content": null,
            "align_items": null,
            "align_self": null,
            "border": null,
            "bottom": null,
            "display": null,
            "flex": null,
            "flex_flow": null,
            "grid_area": null,
            "grid_auto_columns": null,
            "grid_auto_flow": null,
            "grid_auto_rows": null,
            "grid_column": null,
            "grid_gap": null,
            "grid_row": null,
            "grid_template_areas": null,
            "grid_template_columns": null,
            "grid_template_rows": null,
            "height": null,
            "justify_content": null,
            "justify_items": null,
            "left": null,
            "margin": null,
            "max_height": null,
            "max_width": null,
            "min_height": null,
            "min_width": null,
            "object_fit": null,
            "object_position": null,
            "order": null,
            "overflow": null,
            "overflow_x": null,
            "overflow_y": null,
            "padding": null,
            "right": null,
            "top": null,
            "visibility": "hidden",
            "width": null
          }
        },
        "74f9363696924302a8ced54a5117b86d": {
          "model_module": "@jupyter-widgets/base",
          "model_name": "LayoutModel",
          "model_module_version": "1.2.0",
          "state": {
            "_model_module": "@jupyter-widgets/base",
            "_model_module_version": "1.2.0",
            "_model_name": "LayoutModel",
            "_view_count": null,
            "_view_module": "@jupyter-widgets/base",
            "_view_module_version": "1.2.0",
            "_view_name": "LayoutView",
            "align_content": null,
            "align_items": null,
            "align_self": null,
            "border": null,
            "bottom": null,
            "display": null,
            "flex": null,
            "flex_flow": null,
            "grid_area": null,
            "grid_auto_columns": null,
            "grid_auto_flow": null,
            "grid_auto_rows": null,
            "grid_column": null,
            "grid_gap": null,
            "grid_row": null,
            "grid_template_areas": null,
            "grid_template_columns": null,
            "grid_template_rows": null,
            "height": null,
            "justify_content": null,
            "justify_items": null,
            "left": null,
            "margin": null,
            "max_height": null,
            "max_width": null,
            "min_height": null,
            "min_width": null,
            "object_fit": null,
            "object_position": null,
            "order": null,
            "overflow": null,
            "overflow_x": null,
            "overflow_y": null,
            "padding": null,
            "right": null,
            "top": null,
            "visibility": null,
            "width": null
          }
        },
        "1534924b6ca54e3fa8935199c3716181": {
          "model_module": "@jupyter-widgets/controls",
          "model_name": "DescriptionStyleModel",
          "model_module_version": "1.5.0",
          "state": {
            "_model_module": "@jupyter-widgets/controls",
            "_model_module_version": "1.5.0",
            "_model_name": "DescriptionStyleModel",
            "_view_count": null,
            "_view_module": "@jupyter-widgets/base",
            "_view_module_version": "1.2.0",
            "_view_name": "StyleView",
            "description_width": ""
          }
        },
        "ddf52be639be4a10b26c61ba815edad5": {
          "model_module": "@jupyter-widgets/base",
          "model_name": "LayoutModel",
          "model_module_version": "1.2.0",
          "state": {
            "_model_module": "@jupyter-widgets/base",
            "_model_module_version": "1.2.0",
            "_model_name": "LayoutModel",
            "_view_count": null,
            "_view_module": "@jupyter-widgets/base",
            "_view_module_version": "1.2.0",
            "_view_name": "LayoutView",
            "align_content": null,
            "align_items": null,
            "align_self": null,
            "border": null,
            "bottom": null,
            "display": null,
            "flex": null,
            "flex_flow": null,
            "grid_area": null,
            "grid_auto_columns": null,
            "grid_auto_flow": null,
            "grid_auto_rows": null,
            "grid_column": null,
            "grid_gap": null,
            "grid_row": null,
            "grid_template_areas": null,
            "grid_template_columns": null,
            "grid_template_rows": null,
            "height": null,
            "justify_content": null,
            "justify_items": null,
            "left": null,
            "margin": null,
            "max_height": null,
            "max_width": null,
            "min_height": null,
            "min_width": null,
            "object_fit": null,
            "object_position": null,
            "order": null,
            "overflow": null,
            "overflow_x": null,
            "overflow_y": null,
            "padding": null,
            "right": null,
            "top": null,
            "visibility": null,
            "width": null
          }
        },
        "b82b96890b8b4541b70cc7e420b98a50": {
          "model_module": "@jupyter-widgets/controls",
          "model_name": "ProgressStyleModel",
          "model_module_version": "1.5.0",
          "state": {
            "_model_module": "@jupyter-widgets/controls",
            "_model_module_version": "1.5.0",
            "_model_name": "ProgressStyleModel",
            "_view_count": null,
            "_view_module": "@jupyter-widgets/base",
            "_view_module_version": "1.2.0",
            "_view_name": "StyleView",
            "bar_color": null,
            "description_width": ""
          }
        },
        "11145c634bab445ea882476d350dd26d": {
          "model_module": "@jupyter-widgets/base",
          "model_name": "LayoutModel",
          "model_module_version": "1.2.0",
          "state": {
            "_model_module": "@jupyter-widgets/base",
            "_model_module_version": "1.2.0",
            "_model_name": "LayoutModel",
            "_view_count": null,
            "_view_module": "@jupyter-widgets/base",
            "_view_module_version": "1.2.0",
            "_view_name": "LayoutView",
            "align_content": null,
            "align_items": null,
            "align_self": null,
            "border": null,
            "bottom": null,
            "display": null,
            "flex": null,
            "flex_flow": null,
            "grid_area": null,
            "grid_auto_columns": null,
            "grid_auto_flow": null,
            "grid_auto_rows": null,
            "grid_column": null,
            "grid_gap": null,
            "grid_row": null,
            "grid_template_areas": null,
            "grid_template_columns": null,
            "grid_template_rows": null,
            "height": null,
            "justify_content": null,
            "justify_items": null,
            "left": null,
            "margin": null,
            "max_height": null,
            "max_width": null,
            "min_height": null,
            "min_width": null,
            "object_fit": null,
            "object_position": null,
            "order": null,
            "overflow": null,
            "overflow_x": null,
            "overflow_y": null,
            "padding": null,
            "right": null,
            "top": null,
            "visibility": null,
            "width": null
          }
        },
        "804eff963edd47fea30bbf33cdc56e3e": {
          "model_module": "@jupyter-widgets/controls",
          "model_name": "DescriptionStyleModel",
          "model_module_version": "1.5.0",
          "state": {
            "_model_module": "@jupyter-widgets/controls",
            "_model_module_version": "1.5.0",
            "_model_name": "DescriptionStyleModel",
            "_view_count": null,
            "_view_module": "@jupyter-widgets/base",
            "_view_module_version": "1.2.0",
            "_view_name": "StyleView",
            "description_width": ""
          }
        },
        "02877a89d5674752990153b369f733d3": {
          "model_module": "@jupyter-widgets/controls",
          "model_name": "HBoxModel",
          "model_module_version": "1.5.0",
          "state": {
            "_dom_classes": [],
            "_model_module": "@jupyter-widgets/controls",
            "_model_module_version": "1.5.0",
            "_model_name": "HBoxModel",
            "_view_count": null,
            "_view_module": "@jupyter-widgets/controls",
            "_view_module_version": "1.5.0",
            "_view_name": "HBoxView",
            "box_style": "",
            "children": [
              "IPY_MODEL_707afc2d1d8340b8a7f0c031fb1e335b",
              "IPY_MODEL_ea494a81a6324f9eb10be5bda0f1f09a",
              "IPY_MODEL_84bd3f2e76014db0bec019d1fdc0bf11"
            ],
            "layout": "IPY_MODEL_b5e44cd24ce54146ae35dc9f6bcdf946"
          }
        },
        "707afc2d1d8340b8a7f0c031fb1e335b": {
          "model_module": "@jupyter-widgets/controls",
          "model_name": "HTMLModel",
          "model_module_version": "1.5.0",
          "state": {
            "_dom_classes": [],
            "_model_module": "@jupyter-widgets/controls",
            "_model_module_version": "1.5.0",
            "_model_name": "HTMLModel",
            "_view_count": null,
            "_view_module": "@jupyter-widgets/controls",
            "_view_module_version": "1.5.0",
            "_view_name": "HTMLView",
            "description": "",
            "description_tooltip": null,
            "layout": "IPY_MODEL_330c8ef798064e7fbd8e4bbee33f7f5d",
            "placeholder": "​",
            "style": "IPY_MODEL_7e3ae890a2ab46acb36a1dad8483f7bb",
            "value": "Shuffling /root/tensorflow_datasets/oxford_iiit_pet/3.2.0.incomplete5H33ZF/oxford_iiit_pet-test.tfrecord*...:  96%"
          }
        },
        "ea494a81a6324f9eb10be5bda0f1f09a": {
          "model_module": "@jupyter-widgets/controls",
          "model_name": "FloatProgressModel",
          "model_module_version": "1.5.0",
          "state": {
            "_dom_classes": [],
            "_model_module": "@jupyter-widgets/controls",
            "_model_module_version": "1.5.0",
            "_model_name": "FloatProgressModel",
            "_view_count": null,
            "_view_module": "@jupyter-widgets/controls",
            "_view_module_version": "1.5.0",
            "_view_name": "ProgressView",
            "bar_style": "",
            "description": "",
            "description_tooltip": null,
            "layout": "IPY_MODEL_587171b181724dbbb7c234675964c72c",
            "max": 3669,
            "min": 0,
            "orientation": "horizontal",
            "style": "IPY_MODEL_6cdea69d1c4d415488ad2e90059ac610",
            "value": 3669
          }
        },
        "84bd3f2e76014db0bec019d1fdc0bf11": {
          "model_module": "@jupyter-widgets/controls",
          "model_name": "HTMLModel",
          "model_module_version": "1.5.0",
          "state": {
            "_dom_classes": [],
            "_model_module": "@jupyter-widgets/controls",
            "_model_module_version": "1.5.0",
            "_model_name": "HTMLModel",
            "_view_count": null,
            "_view_module": "@jupyter-widgets/controls",
            "_view_module_version": "1.5.0",
            "_view_name": "HTMLView",
            "description": "",
            "description_tooltip": null,
            "layout": "IPY_MODEL_89c002c80f144aa0959650d11d603cbe",
            "placeholder": "​",
            "style": "IPY_MODEL_6b8aebd436744145a05f38fdcab1479a",
            "value": " 3534/3669 [00:02&lt;00:00, 1417.21 examples/s]"
          }
        },
        "b5e44cd24ce54146ae35dc9f6bcdf946": {
          "model_module": "@jupyter-widgets/base",
          "model_name": "LayoutModel",
          "model_module_version": "1.2.0",
          "state": {
            "_model_module": "@jupyter-widgets/base",
            "_model_module_version": "1.2.0",
            "_model_name": "LayoutModel",
            "_view_count": null,
            "_view_module": "@jupyter-widgets/base",
            "_view_module_version": "1.2.0",
            "_view_name": "LayoutView",
            "align_content": null,
            "align_items": null,
            "align_self": null,
            "border": null,
            "bottom": null,
            "display": null,
            "flex": null,
            "flex_flow": null,
            "grid_area": null,
            "grid_auto_columns": null,
            "grid_auto_flow": null,
            "grid_auto_rows": null,
            "grid_column": null,
            "grid_gap": null,
            "grid_row": null,
            "grid_template_areas": null,
            "grid_template_columns": null,
            "grid_template_rows": null,
            "height": null,
            "justify_content": null,
            "justify_items": null,
            "left": null,
            "margin": null,
            "max_height": null,
            "max_width": null,
            "min_height": null,
            "min_width": null,
            "object_fit": null,
            "object_position": null,
            "order": null,
            "overflow": null,
            "overflow_x": null,
            "overflow_y": null,
            "padding": null,
            "right": null,
            "top": null,
            "visibility": "hidden",
            "width": null
          }
        },
        "330c8ef798064e7fbd8e4bbee33f7f5d": {
          "model_module": "@jupyter-widgets/base",
          "model_name": "LayoutModel",
          "model_module_version": "1.2.0",
          "state": {
            "_model_module": "@jupyter-widgets/base",
            "_model_module_version": "1.2.0",
            "_model_name": "LayoutModel",
            "_view_count": null,
            "_view_module": "@jupyter-widgets/base",
            "_view_module_version": "1.2.0",
            "_view_name": "LayoutView",
            "align_content": null,
            "align_items": null,
            "align_self": null,
            "border": null,
            "bottom": null,
            "display": null,
            "flex": null,
            "flex_flow": null,
            "grid_area": null,
            "grid_auto_columns": null,
            "grid_auto_flow": null,
            "grid_auto_rows": null,
            "grid_column": null,
            "grid_gap": null,
            "grid_row": null,
            "grid_template_areas": null,
            "grid_template_columns": null,
            "grid_template_rows": null,
            "height": null,
            "justify_content": null,
            "justify_items": null,
            "left": null,
            "margin": null,
            "max_height": null,
            "max_width": null,
            "min_height": null,
            "min_width": null,
            "object_fit": null,
            "object_position": null,
            "order": null,
            "overflow": null,
            "overflow_x": null,
            "overflow_y": null,
            "padding": null,
            "right": null,
            "top": null,
            "visibility": null,
            "width": null
          }
        },
        "7e3ae890a2ab46acb36a1dad8483f7bb": {
          "model_module": "@jupyter-widgets/controls",
          "model_name": "DescriptionStyleModel",
          "model_module_version": "1.5.0",
          "state": {
            "_model_module": "@jupyter-widgets/controls",
            "_model_module_version": "1.5.0",
            "_model_name": "DescriptionStyleModel",
            "_view_count": null,
            "_view_module": "@jupyter-widgets/base",
            "_view_module_version": "1.2.0",
            "_view_name": "StyleView",
            "description_width": ""
          }
        },
        "587171b181724dbbb7c234675964c72c": {
          "model_module": "@jupyter-widgets/base",
          "model_name": "LayoutModel",
          "model_module_version": "1.2.0",
          "state": {
            "_model_module": "@jupyter-widgets/base",
            "_model_module_version": "1.2.0",
            "_model_name": "LayoutModel",
            "_view_count": null,
            "_view_module": "@jupyter-widgets/base",
            "_view_module_version": "1.2.0",
            "_view_name": "LayoutView",
            "align_content": null,
            "align_items": null,
            "align_self": null,
            "border": null,
            "bottom": null,
            "display": null,
            "flex": null,
            "flex_flow": null,
            "grid_area": null,
            "grid_auto_columns": null,
            "grid_auto_flow": null,
            "grid_auto_rows": null,
            "grid_column": null,
            "grid_gap": null,
            "grid_row": null,
            "grid_template_areas": null,
            "grid_template_columns": null,
            "grid_template_rows": null,
            "height": null,
            "justify_content": null,
            "justify_items": null,
            "left": null,
            "margin": null,
            "max_height": null,
            "max_width": null,
            "min_height": null,
            "min_width": null,
            "object_fit": null,
            "object_position": null,
            "order": null,
            "overflow": null,
            "overflow_x": null,
            "overflow_y": null,
            "padding": null,
            "right": null,
            "top": null,
            "visibility": null,
            "width": null
          }
        },
        "6cdea69d1c4d415488ad2e90059ac610": {
          "model_module": "@jupyter-widgets/controls",
          "model_name": "ProgressStyleModel",
          "model_module_version": "1.5.0",
          "state": {
            "_model_module": "@jupyter-widgets/controls",
            "_model_module_version": "1.5.0",
            "_model_name": "ProgressStyleModel",
            "_view_count": null,
            "_view_module": "@jupyter-widgets/base",
            "_view_module_version": "1.2.0",
            "_view_name": "StyleView",
            "bar_color": null,
            "description_width": ""
          }
        },
        "89c002c80f144aa0959650d11d603cbe": {
          "model_module": "@jupyter-widgets/base",
          "model_name": "LayoutModel",
          "model_module_version": "1.2.0",
          "state": {
            "_model_module": "@jupyter-widgets/base",
            "_model_module_version": "1.2.0",
            "_model_name": "LayoutModel",
            "_view_count": null,
            "_view_module": "@jupyter-widgets/base",
            "_view_module_version": "1.2.0",
            "_view_name": "LayoutView",
            "align_content": null,
            "align_items": null,
            "align_self": null,
            "border": null,
            "bottom": null,
            "display": null,
            "flex": null,
            "flex_flow": null,
            "grid_area": null,
            "grid_auto_columns": null,
            "grid_auto_flow": null,
            "grid_auto_rows": null,
            "grid_column": null,
            "grid_gap": null,
            "grid_row": null,
            "grid_template_areas": null,
            "grid_template_columns": null,
            "grid_template_rows": null,
            "height": null,
            "justify_content": null,
            "justify_items": null,
            "left": null,
            "margin": null,
            "max_height": null,
            "max_width": null,
            "min_height": null,
            "min_width": null,
            "object_fit": null,
            "object_position": null,
            "order": null,
            "overflow": null,
            "overflow_x": null,
            "overflow_y": null,
            "padding": null,
            "right": null,
            "top": null,
            "visibility": null,
            "width": null
          }
        },
        "6b8aebd436744145a05f38fdcab1479a": {
          "model_module": "@jupyter-widgets/controls",
          "model_name": "DescriptionStyleModel",
          "model_module_version": "1.5.0",
          "state": {
            "_model_module": "@jupyter-widgets/controls",
            "_model_module_version": "1.5.0",
            "_model_name": "DescriptionStyleModel",
            "_view_count": null,
            "_view_module": "@jupyter-widgets/base",
            "_view_module_version": "1.2.0",
            "_view_name": "StyleView",
            "description_width": ""
          }
        }
      }
    }
  },
  "cells": [
    {
      "cell_type": "markdown",
      "metadata": {
        "id": "view-in-github",
        "colab_type": "text"
      },
      "source": [
        "<a href=\"https://colab.research.google.com/github/Ariara61/ESAA/blob/main/%ED%8C%8C%EC%9D%B4%EC%8D%AC_%EB%94%A5%EB%9F%AC%EB%8B%9D_%ED%85%90%EC%84%9C%ED%94%8C%EB%A1%9C_229~240.ipynb\" target=\"_parent\"><img src=\"https://colab.research.google.com/assets/colab-badge.svg\" alt=\"Open In Colab\"/></a>"
      ]
    },
    {
      "cell_type": "markdown",
      "source": [
        "# 07 이미지 분할(Segmentation)\n",
        "* 이미지 분할/세그멘테이션: 이미지를 구성하는 모든 픽셀에 대해 픽셀 단위로 분류하는 것. 즉, 모든 픽셀은 어떤 클래스에 속함.\n",
        "* 예를 들어 배경 클래스와 객체 클래스로 구성된 이미지가 있다면, 모든 픽셀은 배경 또는 객체 중 하나로 분류됨\n",
        "* 이렇게 모든 픽셀에 대한 정답 클래스를 레이블 처리한 데이터셋을 가지고, 딥러닝 모델을 훈련시키면 정답 클래스를 알지 못하는 새로운 이미지에 대해서도 배경과 객체를 분리할 수 있음.\n",
        ">\n",
        "* 이미지 분할은 의미 분할과 인스턴스 분할로 구분됨.\n",
        "* 의미 분할은 같은 범주의 여러 객체를 하나의 범주로 묶어서 구분\n",
        "* 인스턴스 분할은 같은 범주에 속하더라도 서로 다른 객체를 구분\n",
        "\n",
        "![Oxford III.jpeg](data:image/jpeg;base64,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)\n"
      ],
      "metadata": {
        "id": "cpz8ymPe_yxg"
      }
    },
    {
      "cell_type": "markdown",
      "source": [
        "## 7-1 데이터셋 준비\n",
        "* 이미지 분할 예제에 사용할 데이터셋은 Oxfort-IIIT Pet Dataset. 이 데이터셋은 반려동물의 이미지 및 분류 레이블, 각 이미지를 구성하는 픽셀 단위의 마스크로 구성되어 있음.\n",
        "* 마스크는 각 픽셀에 대한 범주 레이블을 나타냄\n",
        "* 각 픽셀은 다음 세 가지 범주 중 하나에 속함\n",
        " * class1: 반려동물이 속한 픽셀 (다음 그림의 노란색 영역)\n",
        " * class2: 반려동물과 인접한 픽셀 (빨간색 영역)\n",
        " * class3: 위에 속하지 않는 경우/주변 픽셀 (파란색 영역)\n",
        "\n",
        "\n"
      ],
      "metadata": {
        "id": "7xk1FiVuBTGN"
      }
    },
    {
      "cell_type": "code",
      "execution_count": 2,
      "metadata": {
        "id": "PtSVfYgy_nE8"
      },
      "outputs": [],
      "source": [
        "import numpy as np\n",
        "import tensorflow as tf\n",
        "import matplotlib.pylab as plt\n",
        "import cv2\n",
        "from tqdm.notebook import tqdm\n",
        "import tensorflow_datasets as tfds\n",
        "from google.colab.patches import cv2_imshow"
      ]
    },
    {
      "cell_type": "code",
      "source": [
        "# 이미지 크기\n",
        "img_w = 128\n",
        "img_h = 128\n",
        "img_c = 3\n",
        "img_shape = (img_w, img_h, img_c)\n",
        "\n",
        "# 모델 학습\n",
        "epoch_num = 5\n",
        "learning_rate = 0.0001\n",
        "buffer_size = 1000\n",
        "batch_size = 16"
      ],
      "metadata": {
        "id": "JeIJ1lWDB70X"
      },
      "execution_count": 3,
      "outputs": []
    },
    {
      "cell_type": "code",
      "source": [
        "# 텐서플로 데이터셋 로드\n",
        "ds_str = \"oxford_iiit_pet\"\n",
        "ds, info = tfds.load(name = ds_str, with_info = True)"
      ],
      "metadata": {
        "colab": {
          "base_uri": "https://localhost:8080/",
          "height": 149,
          "referenced_widgets": [
            "ced048a6c7724e07b2a14501b88dc8a1",
            "605dd61ac3274d81804435c9e45e7ae4",
            "278335e9deb749b5bf8640e55cf7b59f",
            "a24b7578de634a1a8240e1e680ad43f4",
            "8229dc146f724897ace45c36625efded",
            "8201c45d2de440b9b38157d0e67da6da",
            "3936702a1ba34f899ce0a6d1404b4063",
            "a74204fa4b5844fc86ae8320a3231aa8",
            "9665186d936942c4b51ba91687991e7b",
            "e879a8812ef648ad903b76b64708ee34",
            "02f4c8b5bca943468d7a873108a8b1dd",
            "6caf738aa3144ee9aa841d999eba1538",
            "dba0cd1ccf1a4b5da4b80f8d5dfd97b7",
            "a11f83262fbe4b3d9e5de24695020abd",
            "15c02fc70ddb46208eb6a1da57b7e895",
            "18ddc622fa094c82b3b99ec16e40e87f",
            "a3731151e4344a33915073c398931faf",
            "c850f9cd700b4c0aa6d15fa79dd1ba03",
            "f32c011d9fae4ba9aed277d880e25fa5",
            "beaf18d47e114aad83a995220c17f0bc",
            "2d4e3c72f4af45149f3570f7bd3776c0",
            "b71bf5c4e6c44988ada51b3e34d08462",
            "3bc922f71ad746d78cfaa43f717adcff",
            "4eb7776a58c14f1285933b889874ef06",
            "d711dcb850ae4db19a3404c8a5124296",
            "7a861fba5d55487f9f52442c8dd91b9b",
            "1eec4c206eaa45eea3a2df4d2cb2834a",
            "9c4f68cc8e5b47bcb69ab179f8844afc",
            "d6958d8aa42e4a04b457b61b865e790d",
            "bd60b73b77854e46bf7296b501089720",
            "83d3f0c405474965abfe96500360437e",
            "08c7c7293644452ba52b6a6c922f3b11",
            "b7ca686134884ff58b18486fb2568c7b",
            "37bebfa97030454fab0275661d185bd8",
            "d0f63b88ca664c108bf89867b8da7e02",
            "ce690588dc4e4617936754f5d10481c1",
            "02be6f990e88490e978fe6f23dd864ae",
            "d0cc551590f7408297c0bea98a2f8eed",
            "5cccd0bcb7a54043860ae7c1c1ff381f",
            "887a3690e89246669d0969e0e50c76d2",
            "fe491e0c66a843678aa5fe8b3166a3de",
            "203c66171b37412a903a0ce92d183f36",
            "c14e1832109a42fab0fcf4d551cb3a20",
            "1808b26f4a194e478270aa45b92683e9",
            "1a3f4e63975b4eacb514794ed59c3936",
            "89421f34e97947738b588e4e4da1efc1",
            "ecabb15b22b74eab957bd5e02f28ccea",
            "2749bcc4f5cb4e2891ce07e1d7e02333",
            "f806ab628e274db9972c8bc2031a5f83",
            "7bbddfa8ffad45399d334178e2dbb257",
            "3537e749299f49bb849fa762973cef6b",
            "e6e5661cedf74dab969e852600fd588e",
            "18f4121c67374608858cdab36f12eafa",
            "f3103e7502f84441879b65292334bfeb",
            "02c9f6048b664ac19dc4846b787b7bf5",
            "1e638ee00e0344bd94371cd00312a210",
            "5274ce5878454a9380f52a026175b6e3",
            "7fca0ba2adc347c0b5d5a421d332e622",
            "8fac14f1059f4a1697cbc975d64947fa",
            "b8533f1a770343ef9c7576eaae34f4bf",
            "fd60c08c572e4865bb0db18094f86a53",
            "7fed93104cb7412f85a8ba171e1ab949",
            "0c6b6220289f4fe19f45abf4d8d746a4",
            "3c591a6dda524fe98690ea9717186d5f",
            "ffc5e9eabdff4951a074a2f2c3994c40",
            "c389ee44d77e4a1e9c6bacfe27c56735",
            "9e862099909f46d690a54cb191c0ad21",
            "375694d1f12346b086851c547e5f8a48",
            "68bcfce01e7b447892f31e2c51fd0eff",
            "862c1df06ba540d2af03f0ca2fa89f9e",
            "ae6987f8e65b4eb791ea130482afbb3a",
            "74f9363696924302a8ced54a5117b86d",
            "1534924b6ca54e3fa8935199c3716181",
            "ddf52be639be4a10b26c61ba815edad5",
            "b82b96890b8b4541b70cc7e420b98a50",
            "11145c634bab445ea882476d350dd26d",
            "804eff963edd47fea30bbf33cdc56e3e",
            "02877a89d5674752990153b369f733d3",
            "707afc2d1d8340b8a7f0c031fb1e335b",
            "ea494a81a6324f9eb10be5bda0f1f09a",
            "84bd3f2e76014db0bec019d1fdc0bf11",
            "b5e44cd24ce54146ae35dc9f6bcdf946",
            "330c8ef798064e7fbd8e4bbee33f7f5d",
            "7e3ae890a2ab46acb36a1dad8483f7bb",
            "587171b181724dbbb7c234675964c72c",
            "6cdea69d1c4d415488ad2e90059ac610",
            "89c002c80f144aa0959650d11d603cbe",
            "6b8aebd436744145a05f38fdcab1479a"
          ]
        },
        "id": "P26x7cfoCJDu",
        "outputId": "2702b16d-d7c8-48b3-8f93-b62a0d455a92"
      },
      "execution_count": 6,
      "outputs": [
        {
          "output_type": "stream",
          "name": "stdout",
          "text": [
            "Downloading and preparing dataset 773.52 MiB (download: 773.52 MiB, generated: 774.69 MiB, total: 1.51 GiB) to /root/tensorflow_datasets/oxford_iiit_pet/3.2.0...\n"
          ]
        },
        {
          "output_type": "display_data",
          "data": {
            "text/plain": [
              "Dl Completed...: 0 url [00:00, ? url/s]"
            ],
            "application/vnd.jupyter.widget-view+json": {
              "version_major": 2,
              "version_minor": 0,
              "model_id": "ced048a6c7724e07b2a14501b88dc8a1"
            }
          },
          "metadata": {}
        },
        {
          "output_type": "display_data",
          "data": {
            "text/plain": [
              "Dl Size...: 0 MiB [00:00, ? MiB/s]"
            ],
            "application/vnd.jupyter.widget-view+json": {
              "version_major": 2,
              "version_minor": 0,
              "model_id": "6caf738aa3144ee9aa841d999eba1538"
            }
          },
          "metadata": {}
        },
        {
          "output_type": "display_data",
          "data": {
            "text/plain": [
              "Extraction completed...: 0 file [00:00, ? file/s]"
            ],
            "application/vnd.jupyter.widget-view+json": {
              "version_major": 2,
              "version_minor": 0,
              "model_id": "3bc922f71ad746d78cfaa43f717adcff"
            }
          },
          "metadata": {}
        },
        {
          "output_type": "display_data",
          "data": {
            "text/plain": [
              "Generating splits...:   0%|          | 0/2 [00:00<?, ? splits/s]"
            ],
            "application/vnd.jupyter.widget-view+json": {
              "version_major": 2,
              "version_minor": 0,
              "model_id": "37bebfa97030454fab0275661d185bd8"
            }
          },
          "metadata": {}
        },
        {
          "output_type": "display_data",
          "data": {
            "text/plain": [
              "Generating train examples...:   0%|          | 0/3680 [00:00<?, ? examples/s]"
            ],
            "application/vnd.jupyter.widget-view+json": {
              "version_major": 2,
              "version_minor": 0,
              "model_id": "1a3f4e63975b4eacb514794ed59c3936"
            }
          },
          "metadata": {}
        },
        {
          "output_type": "display_data",
          "data": {
            "text/plain": [
              "Shuffling /root/tensorflow_datasets/oxford_iiit_pet/3.2.0.incomplete5H33ZF/oxford_iiit_pet-train.tfrecord*...:…"
            ],
            "application/vnd.jupyter.widget-view+json": {
              "version_major": 2,
              "version_minor": 0,
              "model_id": "1e638ee00e0344bd94371cd00312a210"
            }
          },
          "metadata": {}
        },
        {
          "output_type": "display_data",
          "data": {
            "text/plain": [
              "Generating test examples...:   0%|          | 0/3669 [00:00<?, ? examples/s]"
            ],
            "application/vnd.jupyter.widget-view+json": {
              "version_major": 2,
              "version_minor": 0,
              "model_id": "9e862099909f46d690a54cb191c0ad21"
            }
          },
          "metadata": {}
        },
        {
          "output_type": "display_data",
          "data": {
            "text/plain": [
              "Shuffling /root/tensorflow_datasets/oxford_iiit_pet/3.2.0.incomplete5H33ZF/oxford_iiit_pet-test.tfrecord*...: …"
            ],
            "application/vnd.jupyter.widget-view+json": {
              "version_major": 2,
              "version_minor": 0,
              "model_id": "02877a89d5674752990153b369f733d3"
            }
          },
          "metadata": {}
        },
        {
          "output_type": "stream",
          "name": "stdout",
          "text": [
            "Dataset oxford_iiit_pet downloaded and prepared to /root/tensorflow_datasets/oxford_iiit_pet/3.2.0. Subsequent calls will reuse this data.\n"
          ]
        }
      ]
    },
    {
      "cell_type": "markdown",
      "source": [
        "* 이미지 크기를 사전에 정의한 (128, 128) 크기로 변경하고 자료형을 변환\n",
        "* 원본 이미지의 픽셀을 255로 나눠서 0~1 범위로 정규화\n",
        "* 마스크는 0, 1, 2의 정수형 값을 갖도록 1을 차감"
      ],
      "metadata": {
        "id": "oQU18erUCYts"
      }
    },
    {
      "cell_type": "code",
      "source": [
        "# 이미지 전처리 함수\n",
        "def preprocess_image(ds):\n",
        "  # 원본 이미지\n",
        "  img = tf.image.resize(ds[\"image\"], (img_w, img_h))\n",
        "  img = tf.cast(img, tf.float32) / 255.0\n",
        "  # 분할 마스크\n",
        "  mask = tf.image.resize(ds[\"segmentation_mask\"], (img_w, img_h))\n",
        "  mask = tf.cast(mask, tf.int32)\n",
        "  mask = mask - 1\n",
        "  return img, mask"
      ],
      "metadata": {
        "id": "YrXGO4l8CgWr"
      },
      "execution_count": 22,
      "outputs": []
    },
    {
      "cell_type": "markdown",
      "source": [
        "* 앞에서 정의한 전처리 함수를 훈련 셋, 테스트 셋에 매핑해주고 미니배치로 분할"
      ],
      "metadata": {
        "id": "9quNy2JnCxl7"
      }
    },
    {
      "cell_type": "code",
      "source": [
        "# 데이터 전처리 파이프라인\n",
        "train_ds = ds[\"train\"].map(preprocess_image).shuffle(buffer_size).batch(batch_size).prefetch(2)\n",
        "test_ds = ds[\"test\"].map(preprocess_image).shuffle(buffer_size).batch(batch_size).prefetch(2)\n",
        "\n",
        "print(train_ds)"
      ],
      "metadata": {
        "colab": {
          "base_uri": "https://localhost:8080/"
        },
        "id": "3OQrjgj3C2Oi",
        "outputId": "416de0ce-aaa1-4a87-d253-5d477f519266"
      },
      "execution_count": 23,
      "outputs": [
        {
          "output_type": "stream",
          "name": "stdout",
          "text": [
            "<_PrefetchDataset element_spec=(TensorSpec(shape=(None, 128, 128, 3), dtype=tf.float32, name=None), TensorSpec(shape=(None, 128, 128, 1), dtype=tf.int32, name=None))>\n"
          ]
        }
      ]
    },
    {
      "cell_type": "markdown",
      "source": [
        "* 샘플 배치를 한 개 선택"
      ],
      "metadata": {
        "id": "19faPPeRDETC"
      }
    },
    {
      "cell_type": "code",
      "source": [
        "# 샘플 배치 선택\n",
        "img, mask = next(iter(train_ds))\n",
        "len(img)"
      ],
      "metadata": {
        "colab": {
          "base_uri": "https://localhost:8080/"
        },
        "id": "_fqzW_6FDF3a",
        "outputId": "960d4431-d06f-4ef9-9a80-5fbc53412de8"
      },
      "execution_count": 24,
      "outputs": [
        {
          "output_type": "execute_result",
          "data": {
            "text/plain": [
              "16"
            ]
          },
          "metadata": {},
          "execution_count": 24
        }
      ]
    },
    {
      "cell_type": "markdown",
      "source": [
        "* 배치에서 첫 번째 이미지를 출력\n",
        "* 0 ~ 1 사이의 값이므로 255를 곱해서 정규화 이전의 원래 값으로 복원"
      ],
      "metadata": {
        "id": "WKlchZi-DJ7I"
      }
    },
    {
      "cell_type": "code",
      "source": [
        "# 샘플 이미지 출력\n",
        "img = np.array(img[0]) * 255.0\n",
        "img = cv2.cvtColor(img, cv2.COLOR_RGB2BGR)\n",
        "cv2_imshow(img)"
      ],
      "metadata": {
        "colab": {
          "base_uri": "https://localhost:8080/",
          "height": 145
        },
        "id": "hMIZlhmqDOGj",
        "outputId": "5bf7c19e-69c4-491c-e7a9-aad0df3d61d5"
      },
      "execution_count": 25,
      "outputs": [
        {
          "output_type": "display_data",
          "data": {
            "text/plain": [
              "<PIL.Image.Image image mode=RGB size=128x128>"
            ],
            "image/png": "[encoded data removed]"
          },
          "metadata": {}
        }
      ]
    },
    {
      "cell_type": "code",
      "source": [
        "# 샘플 마스크 출력\n",
        "mask = (np.array(mask[0]) / 2) * 255.0\n",
        "cv2_imshow(mask)"
      ],
      "metadata": {
        "colab": {
          "base_uri": "https://localhost:8080/",
          "height": 145
        },
        "id": "_sdGJ9ZrDXkC",
        "outputId": "273c0801-912b-45ed-99b1-1b255bb7884e"
      },
      "execution_count": 26,
      "outputs": [
        {
          "output_type": "display_data",
          "data": {
            "text/plain": [
              "<PIL.Image.Image image mode=RGB size=128x128>"
            ],
            "image/png": "[encoded data removed]"
          },
          "metadata": {}
        }
      ]
    },
    {
      "cell_type": "markdown",
      "source": [
        "## 7-2 U-Net 모델 (인코더-디코더)\n",
        "* 사전 학습된 VGG16 모델을 인코더로 활용하는 U-Net 모델을 생성\n",
        "* VGG16은 이미지넷 경진 대회를 통해 성능이 검증된 모델\n",
        "* 데이터 개수가 충분하고, 시간이 충분하다는 전제에서는 사전 학습된 모델 없이 U-Net을 구성하여 학습을 진행해도 됨\n",
        "* 구글 코랩 환경에서 제한된 자원으로 양호한 성능을 갖는 모델을 만들기 위해서 사전 학습된 모델을 베이스모델로 활용하는 전이 학습 방법을 사용"
      ],
      "metadata": {
        "id": "tfvtZOW5D-fH"
      }
    },
    {
      "cell_type": "code",
      "source": [
        "# VGG16 모델\n",
        "base_model = tf.keras.applications.VGG16(input_shape = img_shape, include_top = False)"
      ],
      "metadata": {
        "colab": {
          "base_uri": "https://localhost:8080/"
        },
        "id": "2rNriXhyERmM",
        "outputId": "4139cd81-1bdf-41d4-9b6d-aabfef070cf1"
      },
      "execution_count": 27,
      "outputs": [
        {
          "output_type": "stream",
          "name": "stdout",
          "text": [
            "Downloading data from https://storage.googleapis.com/tensorflow/keras-applications/vgg16/vgg16_weights_tf_dim_ordering_tf_kernels_notop.h5\n",
            "58889256/58889256 [==============================] - 0s 0us/step\n"
          ]
        }
      ]
    },
    {
      "cell_type": "markdown",
      "source": [
        "* VGG16 모델은 합성곱 층과 풀링 층을 직렬로 연결한 구조를 가짐\n",
        "* 다음 코드의 실행 결과에서 모델 구조를 보면 (128, 128) 크기의 텐서가 마지막 레이어에서는 (4, 4) 크기로 축소되는 것을 확인할 수 있음.\n",
        "* 인코더는 원본 이미지 중에서 같은 범주에 속하는 픽셀을 결합하면서 점진적으로 이미지를 더 작은 크기로 축소. 마스크 정답을 활용하여 각 픽셀의 마스크 범주를 0, 1, 2 중에서 하나로 분류하는 역할"
      ],
      "metadata": {
        "id": "2by3fn6_EYFI"
      }
    },
    {
      "cell_type": "code",
      "source": [
        "# 모델 구조\n",
        "tf.keras.utils.plot_model(base_model, show_shapes = True)"
      ],
      "metadata": {
        "colab": {
          "base_uri": "https://localhost:8080/",
          "height": 1000
        },
        "id": "6mYzFnAAEp2D",
        "outputId": "34d6d356-c8d5-4567-8597-60e3606088de"
      },
      "execution_count": 28,
      "outputs": [
        {
          "output_type": "execute_result",
          "data": {
            "image/png": "[encoded data removed]",
            "text/plain": [
              "<IPython.core.display.Image object>"
            ]
          },
          "metadata": {},
          "execution_count": 28
        }
      ]
    },
    {
      "cell_type": "markdown",
      "source": [
        "* 만들고자 하는 U-net의 모양을 미리 정하고, 사전 학습된 모델에서 어느 부분의 어떤 shape의 출력을 가져올지 먼저 정함\n",
        "* VGG16 모델의 중간 레이어 중에서 필요한 출력 텐서를 지정하여, 다양한 피처를 추출하는 인코더 모델의 정의\n",
        "* 여기서 VGG16 모델로부터 5개의 출력을 가져와 사용\n",
        "* 다음과 같이 새로운 Feature Extractor 모델을 정의하고, f_model 변수에 저장"
      ],
      "metadata": {
        "id": "stWdfRdYEvlz"
      }
    },
    {
      "cell_type": "code",
      "source": [
        "# VGG16 중간 레이어 출력 텐서를 지정\n",
        "f_model = tf.keras.Model(inputs = [base_model.input],\n",
        "                         outputs = [\n",
        "                             base_model.get_layer(name = \"block5_conv3\").output,\n",
        "                             base_model.get_layer(name = \"block4_conv3\").output,\n",
        "                             base_model.get_layer(name = \"block3_conv3\").output,\n",
        "                             base_model.get_layer(name = \"block2_conv2\").output,\n",
        "                             base_model.get_layer(name = \"block1_conv2\").output,\n",
        "                         ])"
      ],
      "metadata": {
        "id": "MQ-HWkU0E995"
      },
      "execution_count": 29,
      "outputs": []
    },
    {
      "cell_type": "markdown",
      "source": [
        "* 사전 학습된 파라미터를 인코더에 그대로 사용하기 위해서 업데이트되지 않도록 고정"
      ],
      "metadata": {
        "id": "e4gQFQJqFRJ8"
      }
    },
    {
      "cell_type": "code",
      "source": [
        "# 파라미터 고정\n",
        "f_model.trainable = False"
      ],
      "metadata": {
        "id": "tqkQheOOFUd7"
      },
      "execution_count": 30,
      "outputs": []
    },
    {
      "cell_type": "markdown",
      "source": [
        "* 인코더 부분에서 5개의 출력을 가져와서 디코더의 입력으로 전달하면서 업샘플링\n",
        "* 업샘플링은 축소된 이미지를 원래 이미지 크기로 복원하는 과정을 의미함\n",
        "* 제일 작은 (8, 8, 512) 텐서에서 시작해서 조금씩 크기를 키워 나가며 중간 출력과 합침"
      ],
      "metadata": {
        "id": "IZcJrnD9FW6A"
      }
    },
    {
      "cell_type": "code",
      "source": [
        "# U-Net 구조로 모델 정의\n",
        "\n",
        "i = tf.keras.Input(shape = img_shape)\n",
        "\n",
        "out_8_8_512, out_16_16_512, out_32_32_256, out_64_64_128, out_128_128_64 = f_model(i)\n",
        "\n",
        "out = tf.keras.layers.Conv2DTranspose(512, 3, strides = 2, padding = \"same\")(out_8_8_512)\n",
        "out = tf.keras.layers.Add()([out, out_16_16_512])\n",
        "\n",
        "out = tf.keras.layers.Conv2DTranspose(256, 3, strides = 2, padding = \"same\")(out)\n",
        "out = tf.keras.layers.Add()([out, out_32_32_256])\n",
        "\n",
        "out = tf.keras.layers.Conv2DTranspose(128, 3, strides = 2, padding = \"same\")(out)\n",
        "out = tf.keras.layers.Add()([out, out_64_64_128])\n",
        "\n",
        "out = tf.keras.layers.Conv2DTranspose(64, 3, strides = 2, padding = \"same\")(out)\n",
        "out = tf.keras.layers.Add()([out, out_128_128_64])\n",
        "\n",
        "out = tf.keras.layers.Conv2DTranspose(3, 3, activation = \"elu\", padding = \"same\")(out)\n",
        "out = tf.keras.layers.Dense(3, activation = \"softmax\")(out)\n",
        "\n",
        "unet_model = tf.keras.Model(inputs = [i], outputs = [out])"
      ],
      "metadata": {
        "id": "iNweNEU2FhPy"
      },
      "execution_count": 31,
      "outputs": []
    },
    {
      "cell_type": "markdown",
      "source": [
        "* U-Net 모델을 시각화하면, 인코더의 중간 출력이 업샘플링 과정에서 디코더의 중간 출력과 합쳐지는 것을 확인할 수 있음."
      ],
      "metadata": {
        "id": "YCoG9OiDGSnd"
      }
    },
    {
      "cell_type": "code",
      "source": [
        "# 모델 구조 시각화\n",
        "tf.keras.utils.plot_model(unet_model, show_shapes = True)"
      ],
      "metadata": {
        "colab": {
          "base_uri": "https://localhost:8080/",
          "height": 1000
        },
        "id": "lR0tQOYqGZZc",
        "outputId": "cda2837b-1296-40b9-eee4-0edd19561b91"
      },
      "execution_count": 32,
      "outputs": [
        {
          "output_type": "execute_result",
          "data": {
            "image/png": "[encoded data removed]",
            "text/plain": [
              "<IPython.core.display.Image object>"
            ]
          },
          "metadata": {},
          "execution_count": 32
        }
      ]
    },
    {
      "cell_type": "markdown",
      "source": [
        "* 인코더 출력에 사용하기 위해 f_model로부터 유래하는 5개 레이어의 14,714,688개의 파라미터는 학습되지 않도로 고정돼 있음."
      ],
      "metadata": {
        "id": "ZwASh7nkGeDj"
      }
    },
    {
      "cell_type": "code",
      "source": [
        "# 모델 요약\n",
        "unet_model.summary()"
      ],
      "metadata": {
        "colab": {
          "base_uri": "https://localhost:8080/"
        },
        "id": "GdqrN9UWGkzQ",
        "outputId": "27166e85-efa1-424f-c965-6755f1c3429b"
      },
      "execution_count": 33,
      "outputs": [
        {
          "output_type": "stream",
          "name": "stdout",
          "text": [
            "Model: \"model_1\"\n",
            "__________________________________________________________________________________________________\n",
            " Layer (type)                Output Shape                 Param #   Connected to                  \n",
            "==================================================================================================\n",
            " input_2 (InputLayer)        [(None, 128, 128, 3)]        0         []                            \n",
            "                                                                                                  \n",
            " model (Functional)          [(None, 8, 8, 512),          1471468   ['input_2[0][0]']             \n",
            "                              (None, 16, 16, 512),        8                                       \n",
            "                              (None, 32, 32, 256),                                                \n",
            "                              (None, 64, 64, 128),                                                \n",
            "                              (None, 128, 128, 64)]                                               \n",
            "                                                                                                  \n",
            " conv2d_transpose (Conv2DTr  (None, 16, 16, 512)          2359808   ['model[0][0]']               \n",
            " anspose)                                                                                         \n",
            "                                                                                                  \n",
            " add (Add)                   (None, 16, 16, 512)          0         ['conv2d_transpose[0][0]',    \n",
            "                                                                     'model[0][1]']               \n",
            "                                                                                                  \n",
            " conv2d_transpose_1 (Conv2D  (None, 32, 32, 256)          1179904   ['add[0][0]']                 \n",
            " Transpose)                                                                                       \n",
            "                                                                                                  \n",
            " add_1 (Add)                 (None, 32, 32, 256)          0         ['conv2d_transpose_1[0][0]',  \n",
            "                                                                     'model[0][2]']               \n",
            "                                                                                                  \n",
            " conv2d_transpose_2 (Conv2D  (None, 64, 64, 128)          295040    ['add_1[0][0]']               \n",
            " Transpose)                                                                                       \n",
            "                                                                                                  \n",
            " add_2 (Add)                 (None, 64, 64, 128)          0         ['conv2d_transpose_2[0][0]',  \n",
            "                                                                     'model[0][3]']               \n",
            "                                                                                                  \n",
            " conv2d_transpose_3 (Conv2D  (None, 128, 128, 64)         73792     ['add_2[0][0]']               \n",
            " Transpose)                                                                                       \n",
            "                                                                                                  \n",
            " add_3 (Add)                 (None, 128, 128, 64)         0         ['conv2d_transpose_3[0][0]',  \n",
            "                                                                     'model[0][4]']               \n",
            "                                                                                                  \n",
            " conv2d_transpose_4 (Conv2D  (None, 128, 128, 3)          1731      ['add_3[0][0]']               \n",
            " Transpose)                                                                                       \n",
            "                                                                                                  \n",
            " dense (Dense)               (None, 128, 128, 3)          12        ['conv2d_transpose_4[0][0]']  \n",
            "                                                                                                  \n",
            "==================================================================================================\n",
            "Total params: 18624975 (71.05 MB)\n",
            "Trainable params: 3910287 (14.92 MB)\n",
            "Non-trainable params: 14714688 (56.13 MB)\n",
            "__________________________________________________________________________________________________\n"
          ]
        }
      ]
    },
    {
      "cell_type": "markdown",
      "source": [
        "* 예측 클래스 개수가 3개인 다중 분류 문제에 맞도록 SparseCategoricalCrossentropy 손실함수를 설정하고, Adam 옵티마이저를 적용"
      ],
      "metadata": {
        "id": "Thi6f4zmGm8h"
      }
    },
    {
      "cell_type": "code",
      "source": [
        "# 모델 컴파일 및 훈련\n",
        "loss_f = tf.losses.SparseCategoricalCrossentropy()\n",
        "opt = tf.optimizers.Adam(learning_rate)\n",
        "\n",
        "unet_model.compile(optimizer = opt, loss = loss_f, metrics = [\"accuracy\"])\n",
        "unet_model.fit(train_ds, batch_size = batch_size, epochs = epoch_num)"
      ],
      "metadata": {
        "colab": {
          "base_uri": "https://localhost:8080/"
        },
        "id": "zEOYMJLbGt0s",
        "outputId": "3439f484-4829-4bec-81c5-eb8eeebee8be"
      },
      "execution_count": 35,
      "outputs": [
        {
          "output_type": "stream",
          "name": "stdout",
          "text": [
            "Epoch 1/5\n",
            "230/230 [==============================] - 1349s 6s/step - loss: 0.7597 - accuracy: 0.6824\n",
            "Epoch 2/5\n",
            "230/230 [==============================] - 1320s 6s/step - loss: 0.4749 - accuracy: 0.8155\n",
            "Epoch 3/5\n",
            "230/230 [==============================] - 1309s 6s/step - loss: 0.4342 - accuracy: 0.8323\n",
            "Epoch 4/5\n",
            "230/230 [==============================] - 1304s 6s/step - loss: 0.4114 - accuracy: 0.8419\n",
            "Epoch 5/5\n",
            "230/230 [==============================] - 1298s 6s/step - loss: 0.4007 - accuracy: 0.8462\n"
          ]
        },
        {
          "output_type": "execute_result",
          "data": {
            "text/plain": [
              "<keras.src.callbacks.History at 0x7a92783827d0>"
            ]
          },
          "metadata": {},
          "execution_count": 35
        }
      ]
    },
    {
      "cell_type": "markdown",
      "source": [
        "* 검증 셋의 배치를 하나 선택하고 predict() 메소드로 이미지 분할 클래스를 예측"
      ],
      "metadata": {
        "id": "lKct-ipEHBk4"
      }
    },
    {
      "cell_type": "code",
      "source": [
        "# 1개 배치(16개 이미지)를 선택\n",
        "img, mask = next(iter(test_ds))\n",
        "\n",
        "# 모델 예측\n",
        "pred = unet_model.predict(img)\n",
        "\n",
        "# 첫 번째 이미지 분할 결과를 출력\n",
        "pred_img = np.argmax(pred[0], -1)\n",
        "plt.imshow(pred_img)"
      ],
      "metadata": {
        "colab": {
          "base_uri": "https://localhost:8080/",
          "height": 470
        },
        "id": "p8OnWbwoHFzB",
        "outputId": "ef8fb2be-80c6-4c73-c9d2-f36f0140628c"
      },
      "execution_count": 36,
      "outputs": [
        {
          "output_type": "stream",
          "name": "stdout",
          "text": [
            "1/1 [==============================] - 6s 6s/step\n"
          ]
        },
        {
          "output_type": "execute_result",
          "data": {
            "text/plain": [
              "<matplotlib.image.AxesImage at 0x7a927a9df880>"
            ]
          },
          "metadata": {},
          "execution_count": 36
        },
        {
          "output_type": "display_data",
          "data": {
            "text/plain": [
              "<Figure size 640x480 with 1 Axes>"
            ],
            "image/png": "[encoded data removed]"
          },
          "metadata": {}
        }
      ]
    },
    {
      "cell_type": "markdown",
      "source": [
        "* 정답 마스크 이미지를 출력하고, 앞서 예측한 분할 이미지와 비교"
      ],
      "metadata": {
        "id": "fHuCpn_sHRZV"
      }
    },
    {
      "cell_type": "code",
      "source": [
        "# 첫 번째 이미지의 정답 마스크 출력\n",
        "plt.imshow(np.reshape(mask[0], (128, 128)))"
      ],
      "metadata": {
        "colab": {
          "base_uri": "https://localhost:8080/",
          "height": 452
        },
        "id": "lig08YpeHVMx",
        "outputId": "a3f5d82b-fbc2-4a7f-c3c3-37c4d2a8d2d2"
      },
      "execution_count": 37,
      "outputs": [
        {
          "output_type": "execute_result",
          "data": {
            "text/plain": [
              "<matplotlib.image.AxesImage at 0x7a9278548a00>"
            ]
          },
          "metadata": {},
          "execution_count": 37
        },
        {
          "output_type": "display_data",
          "data": {
            "text/plain": [
              "<Figure size 640x480 with 1 Axes>"
            ],
            "image/png": "[encoded data removed]"
          },
          "metadata": {}
        }
      ]
    }
  ]
}